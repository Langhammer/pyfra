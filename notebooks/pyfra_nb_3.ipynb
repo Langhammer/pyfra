{
 "cells": [
  {
   "cell_type": "markdown",
   "id": "74a798b2",
   "metadata": {
    "papermill": {
     "duration": 0.033996,
     "end_time": "2023-02-08T10:20:17.437012",
     "exception": false,
     "start_time": "2023-02-08T10:20:17.403016",
     "status": "completed"
    },
    "tags": []
   },
   "source": [
    "Notebook 3\n",
    "==============\n",
    "Modelling"
   ]
  },
  {
   "cell_type": "markdown",
   "id": "f575d177",
   "metadata": {
    "papermill": {
     "duration": 0.026576,
     "end_time": "2023-02-08T10:20:17.493599",
     "exception": false,
     "start_time": "2023-02-08T10:20:17.467023",
     "status": "completed"
    },
    "tags": []
   },
   "source": [
    "# Importing Packages and Data"
   ]
  },
  {
   "cell_type": "code",
   "execution_count": 1,
   "id": "ca7d0d84",
   "metadata": {
    "execution": {
     "iopub.execute_input": "2023-02-08T10:20:17.556882Z",
     "iopub.status.busy": "2023-02-08T10:20:17.555910Z",
     "iopub.status.idle": "2023-02-08T10:20:24.372057Z",
     "shell.execute_reply": "2023-02-08T10:20:24.368049Z"
    },
    "lines_to_next_cell": 2,
    "papermill": {
     "duration": 6.855516,
     "end_time": "2023-02-08T10:20:24.378128",
     "exception": false,
     "start_time": "2023-02-08T10:20:17.522612",
     "status": "completed"
    },
    "tags": []
   },
   "outputs": [],
   "source": [
    "import pyfra\n",
    "import pandas as pd\n",
    "import numpy as np\n",
    "from matplotlib import pyplot as plt\n",
    "%matplotlib inline\n",
    "import seaborn as sns\n",
    "from sklearn.model_selection import train_test_split, GridSearchCV, RepeatedStratifiedKFold\n",
    "from sklearn.feature_selection import SelectKBest\n",
    "from sklearn.model_selection import RepeatedKFold\n",
    "from sklearn.linear_model import LogisticRegression\n",
    "from sklearn.ensemble import RandomForestClassifier, StackingClassifier \n",
    "from sklearn import svm\n",
    "from sklearn.tree import DecisionTreeClassifier, plot_tree\n",
    "from sklearn import preprocessing\n",
    "from sklearn.metrics import f1_score, accuracy_score, recall_score, make_scorer\n",
    "from imblearn import under_sampling\n",
    "from imblearn.under_sampling import RandomUnderSampler\n",
    "from time import sleep\n",
    "from sklearn.ensemble import AdaBoostClassifier"
   ]
  },
  {
   "cell_type": "code",
   "execution_count": 2,
   "id": "156d2479",
   "metadata": {
    "execution": {
     "iopub.execute_input": "2023-02-08T10:20:24.446653Z",
     "iopub.status.busy": "2023-02-08T10:20:24.444651Z",
     "iopub.status.idle": "2023-02-08T10:20:25.460147Z",
     "shell.execute_reply": "2023-02-08T10:20:25.457147Z"
    },
    "papermill": {
     "duration": 1.057491,
     "end_time": "2023-02-08T10:20:25.466146",
     "exception": false,
     "start_time": "2023-02-08T10:20:24.408655",
     "status": "completed"
    },
    "tags": []
   },
   "outputs": [],
   "source": [
    "df = pd.read_pickle('../data/df.p')\n",
    "n_rows_complete = len(df)"
   ]
  },
  {
   "cell_type": "code",
   "execution_count": 3,
   "id": "e858a032",
   "metadata": {
    "execution": {
     "iopub.execute_input": "2023-02-08T10:20:25.513720Z",
     "iopub.status.busy": "2023-02-08T10:20:25.511712Z",
     "iopub.status.idle": "2023-02-08T10:20:54.048613Z",
     "shell.execute_reply": "2023-02-08T10:20:54.046548Z"
    },
    "papermill": {
     "duration": 28.565426,
     "end_time": "2023-02-08T10:20:54.054596",
     "exception": false,
     "start_time": "2023-02-08T10:20:25.489170",
     "status": "completed"
    },
    "tags": []
   },
   "outputs": [],
   "source": [
    "# Check whether or not the data is up-to-date (file can't be tracked on github because of it's file size)\n",
    "pd.testing.assert_frame_equal(left=(pd.read_csv('../data/df_check_info.csv', index_col=0)), \\\n",
    "                         right=pyfra.df_testing_info(df),\\\n",
    "                         check_dtype=False, check_exact=False)"
   ]
  },
  {
   "cell_type": "code",
   "execution_count": 4,
   "id": "46701a2f",
   "metadata": {
    "execution": {
     "iopub.execute_input": "2023-02-08T10:20:54.119142Z",
     "iopub.status.busy": "2023-02-08T10:20:54.117157Z",
     "iopub.status.idle": "2023-02-08T10:20:54.145169Z",
     "shell.execute_reply": "2023-02-08T10:20:54.142174Z"
    },
    "papermill": {
     "duration": 0.064581,
     "end_time": "2023-02-08T10:20:54.150185",
     "exception": false,
     "start_time": "2023-02-08T10:20:54.085604",
     "status": "completed"
    },
    "tags": []
   },
   "outputs": [],
   "source": [
    "rus = RandomUnderSampler(random_state=23)"
   ]
  },
  {
   "cell_type": "code",
   "execution_count": 5,
   "id": "8a95d8d1",
   "metadata": {
    "execution": {
     "iopub.execute_input": "2023-02-08T10:20:54.239771Z",
     "iopub.status.busy": "2023-02-08T10:20:54.236773Z",
     "iopub.status.idle": "2023-02-08T10:20:56.810404Z",
     "shell.execute_reply": "2023-02-08T10:20:56.803395Z"
    },
    "papermill": {
     "duration": 2.620212,
     "end_time": "2023-02-08T10:20:56.815396",
     "exception": false,
     "start_time": "2023-02-08T10:20:54.195184",
     "status": "completed"
    },
    "tags": []
   },
   "outputs": [],
   "source": [
    "# Create a sample of the data, because the whole dataset is too big for us to work with\n",
    "relative_sample_size = 0.1\n",
    "df = df.sample(frac=relative_sample_size, random_state=23)"
   ]
  },
  {
   "cell_type": "code",
   "execution_count": 6,
   "id": "4dbad5e7",
   "metadata": {
    "execution": {
     "iopub.execute_input": "2023-02-08T10:20:56.890933Z",
     "iopub.status.busy": "2023-02-08T10:20:56.888930Z",
     "iopub.status.idle": "2023-02-08T10:20:59.768459Z",
     "shell.execute_reply": "2023-02-08T10:20:59.766444Z"
    },
    "papermill": {
     "duration": 2.92352,
     "end_time": "2023-02-08T10:20:59.773446",
     "exception": false,
     "start_time": "2023-02-08T10:20:56.849926",
     "status": "completed"
    },
    "tags": []
   },
   "outputs": [],
   "source": [
    "data = df.drop(columns='Severity',axis=1).select_dtypes(include=np.number).dropna(axis=1)\n",
    "target = df['Severity']\n",
    "data, target = rus.fit_resample(X=data, y=target)"
   ]
  },
  {
   "cell_type": "code",
   "execution_count": 7,
   "id": "49a061d5",
   "metadata": {
    "execution": {
     "iopub.execute_input": "2023-02-08T10:20:59.839862Z",
     "iopub.status.busy": "2023-02-08T10:20:59.838868Z",
     "iopub.status.idle": "2023-02-08T10:20:59.861873Z",
     "shell.execute_reply": "2023-02-08T10:20:59.860869Z"
    },
    "papermill": {
     "duration": 0.065567,
     "end_time": "2023-02-08T10:20:59.868862",
     "exception": false,
     "start_time": "2023-02-08T10:20:59.803295",
     "status": "completed"
    },
    "tags": []
   },
   "outputs": [
    {
     "data": {
      "text/plain": [
       "1    631\n",
       "2    631\n",
       "3    631\n",
       "4    631\n",
       "Name: Severity, dtype: int64"
      ]
     },
     "execution_count": 7,
     "metadata": {},
     "output_type": "execute_result"
    }
   ],
   "source": [
    "target.value_counts()"
   ]
  },
  {
   "cell_type": "code",
   "execution_count": 8,
   "id": "fabe7475",
   "metadata": {
    "execution": {
     "iopub.execute_input": "2023-02-08T10:20:59.970442Z",
     "iopub.status.busy": "2023-02-08T10:20:59.969444Z",
     "iopub.status.idle": "2023-02-08T10:21:00.005506Z",
     "shell.execute_reply": "2023-02-08T10:21:00.002444Z"
    },
    "papermill": {
     "duration": 0.094066,
     "end_time": "2023-02-08T10:21:00.012485",
     "exception": false,
     "start_time": "2023-02-08T10:20:59.918419",
     "status": "completed"
    },
    "tags": []
   },
   "outputs": [
    {
     "name": "stdout",
     "output_type": "stream",
     "text": [
      "We are working on 2524 data points, which represent 1.0057% of the original data,\n"
     ]
    }
   ],
   "source": [
    "print(f'We are working on {len(target)} data points, which represent {len(target)/n_rows_complete*100:.04f}% of the original data,')"
   ]
  },
  {
   "cell_type": "code",
   "execution_count": 9,
   "id": "5b4f178f",
   "metadata": {
    "execution": {
     "iopub.execute_input": "2023-02-08T10:21:00.083074Z",
     "iopub.status.busy": "2023-02-08T10:21:00.081062Z",
     "iopub.status.idle": "2023-02-08T10:21:00.289203Z",
     "shell.execute_reply": "2023-02-08T10:21:00.286202Z"
    },
    "papermill": {
     "duration": 0.25912,
     "end_time": "2023-02-08T10:21:00.294207",
     "exception": false,
     "start_time": "2023-02-08T10:21:00.035087",
     "status": "completed"
    },
    "tags": []
   },
   "outputs": [],
   "source": [
    "X_train, X_test, y_train, y_test  = train_test_split(data, target, test_size=0.2 ,random_state=23)"
   ]
  },
  {
   "cell_type": "markdown",
   "id": "bbf2b2dd",
   "metadata": {
    "papermill": {
     "duration": 0.030987,
     "end_time": "2023-02-08T10:21:00.351804",
     "exception": false,
     "start_time": "2023-02-08T10:21:00.320817",
     "status": "completed"
    },
    "tags": []
   },
   "source": [
    "# Scaling the Data and Selecting Features"
   ]
  },
  {
   "cell_type": "code",
   "execution_count": 10,
   "id": "95041aee",
   "metadata": {
    "execution": {
     "iopub.execute_input": "2023-02-08T10:21:00.397615Z",
     "iopub.status.busy": "2023-02-08T10:21:00.395641Z",
     "iopub.status.idle": "2023-02-08T10:21:01.314826Z",
     "shell.execute_reply": "2023-02-08T10:21:01.312829Z"
    },
    "papermill": {
     "duration": 0.949761,
     "end_time": "2023-02-08T10:21:01.321388",
     "exception": false,
     "start_time": "2023-02-08T10:21:00.371627",
     "status": "completed"
    },
    "tags": []
   },
   "outputs": [],
   "source": [
    "from sklearn.feature_selection import VarianceThreshold\n",
    "constant_filter = VarianceThreshold(threshold=0.01).fit(X_train)\n",
    "X_train = constant_filter.fit_transform(X_train)\n",
    "X_test = constant_filter.transform(X_test)"
   ]
  },
  {
   "cell_type": "code",
   "execution_count": 11,
   "id": "eaf8e3c0",
   "metadata": {
    "execution": {
     "iopub.execute_input": "2023-02-08T10:21:01.380380Z",
     "iopub.status.busy": "2023-02-08T10:21:01.379388Z",
     "iopub.status.idle": "2023-02-08T10:21:01.422966Z",
     "shell.execute_reply": "2023-02-08T10:21:01.420978Z"
    },
    "papermill": {
     "duration": 0.075578,
     "end_time": "2023-02-08T10:21:01.426964",
     "exception": false,
     "start_time": "2023-02-08T10:21:01.351386",
     "status": "completed"
    },
    "tags": []
   },
   "outputs": [],
   "source": [
    "std_scaler = preprocessing.StandardScaler().fit(X_train)\n",
    "X_train_scaled = std_scaler.transform(X_train)\n",
    "X_test_scaled = std_scaler.transform(X_test)"
   ]
  },
  {
   "cell_type": "code",
   "execution_count": 12,
   "id": "b100322d",
   "metadata": {
    "execution": {
     "iopub.execute_input": "2023-02-08T10:21:01.485969Z",
     "iopub.status.busy": "2023-02-08T10:21:01.483966Z",
     "iopub.status.idle": "2023-02-08T10:21:01.535545Z",
     "shell.execute_reply": "2023-02-08T10:21:01.532541Z"
    },
    "papermill": {
     "duration": 0.088584,
     "end_time": "2023-02-08T10:21:01.539556",
     "exception": false,
     "start_time": "2023-02-08T10:21:01.450972",
     "status": "completed"
    },
    "tags": []
   },
   "outputs": [
    {
     "name": "stdout",
     "output_type": "stream",
     "text": [
      "We use 60 of the original 3648 features\n"
     ]
    }
   ],
   "source": [
    "k_features = 60\n",
    "kbest_selector = SelectKBest(k=k_features)\n",
    "kbest_selector.fit(X_train_scaled,y_train);\n",
    "X_train_scaled_selection = kbest_selector.transform(X_train_scaled)\n",
    "X_test_scaled_selection = kbest_selector.transform(X_test_scaled)\n",
    "print(f'We use {k_features} of the original {df.shape[1]} features')"
   ]
  },
  {
   "cell_type": "code",
   "execution_count": 13,
   "id": "ba286e11",
   "metadata": {
    "execution": {
     "iopub.execute_input": "2023-02-08T10:21:01.597557Z",
     "iopub.status.busy": "2023-02-08T10:21:01.596549Z",
     "iopub.status.idle": "2023-02-08T10:21:01.617589Z",
     "shell.execute_reply": "2023-02-08T10:21:01.612593Z"
    },
    "papermill": {
     "duration": 0.05659,
     "end_time": "2023-02-08T10:21:01.623144",
     "exception": false,
     "start_time": "2023-02-08T10:21:01.566554",
     "status": "completed"
    },
    "tags": []
   },
   "outputs": [],
   "source": [
    "k_best_feature_names = data.columns[kbest_selector.get_support(indices=True)]"
   ]
  },
  {
   "cell_type": "markdown",
   "id": "86b8af64",
   "metadata": {
    "papermill": {
     "duration": 0.03099,
     "end_time": "2023-02-08T10:21:01.683141",
     "exception": false,
     "start_time": "2023-02-08T10:21:01.652151",
     "status": "completed"
    },
    "tags": []
   },
   "source": [
    "# Application of Machine Learning Models\n",
    "## Setup of Metrics Table"
   ]
  },
  {
   "cell_type": "code",
   "execution_count": 14,
   "id": "c3424ca2",
   "metadata": {
    "execution": {
     "iopub.execute_input": "2023-02-08T10:21:01.747344Z",
     "iopub.status.busy": "2023-02-08T10:21:01.746340Z",
     "iopub.status.idle": "2023-02-08T10:21:01.788349Z",
     "shell.execute_reply": "2023-02-08T10:21:01.785347Z"
    },
    "papermill": {
     "duration": 0.079162,
     "end_time": "2023-02-08T10:21:01.793339",
     "exception": false,
     "start_time": "2023-02-08T10:21:01.714177",
     "status": "completed"
    },
    "tags": []
   },
   "outputs": [
    {
     "data": {
      "text/html": [
       "<div>\n",
       "<style scoped>\n",
       "    .dataframe tbody tr th:only-of-type {\n",
       "        vertical-align: middle;\n",
       "    }\n",
       "\n",
       "    .dataframe tbody tr th {\n",
       "        vertical-align: top;\n",
       "    }\n",
       "\n",
       "    .dataframe thead th {\n",
       "        text-align: right;\n",
       "    }\n",
       "</style>\n",
       "<table border=\"1\" class=\"dataframe\">\n",
       "  <thead>\n",
       "    <tr style=\"text-align: right;\">\n",
       "      <th></th>\n",
       "      <th>model</th>\n",
       "      <th>f1</th>\n",
       "      <th>accuracy</th>\n",
       "      <th>recall</th>\n",
       "    </tr>\n",
       "  </thead>\n",
       "  <tbody>\n",
       "  </tbody>\n",
       "</table>\n",
       "</div>"
      ],
      "text/plain": [
       "Empty DataFrame\n",
       "Columns: [model, f1, accuracy, recall]\n",
       "Index: []"
      ]
     },
     "execution_count": 14,
     "metadata": {},
     "output_type": "execute_result"
    }
   ],
   "source": [
    "# Creating a matrix to store the results\n",
    "result_metrics = pd.DataFrame(columns=['model', 'f1', 'accuracy', 'recall'])\n",
    "result_metrics"
   ]
  },
  {
   "cell_type": "code",
   "execution_count": 15,
   "id": "871080f6",
   "metadata": {
    "execution": {
     "iopub.execute_input": "2023-02-08T10:21:01.857926Z",
     "iopub.status.busy": "2023-02-08T10:21:01.856923Z",
     "iopub.status.idle": "2023-02-08T10:21:01.883921Z",
     "shell.execute_reply": "2023-02-08T10:21:01.880921Z"
    },
    "papermill": {
     "duration": 0.065009,
     "end_time": "2023-02-08T10:21:01.890927",
     "exception": false,
     "start_time": "2023-02-08T10:21:01.825918",
     "status": "completed"
    },
    "tags": []
   },
   "outputs": [],
   "source": [
    "# Creating a function to compute and store the results for the respective model\n",
    "def store_metrics(model_name, model, y_test, y_pred, result_df):\n",
    "    result_df.loc[model_name, 'model'] = model\n",
    "    result_df.loc[model_name, 'f1'] = f1_score(y_true=y_test, y_pred=y_pred, average='weighted')\n",
    "    result_df.loc[model_name, 'accuracy'] = accuracy_score(y_true=y_test, y_pred=y_pred)\n",
    "    result_df.loc[model_name, 'recall'] = recall_score(y_true=y_test, y_pred=y_pred, average='weighted')\n",
    "    return result_df"
   ]
  },
  {
   "cell_type": "markdown",
   "id": "473cf26f",
   "metadata": {
    "papermill": {
     "duration": 0.027024,
     "end_time": "2023-02-08T10:21:01.947493",
     "exception": false,
     "start_time": "2023-02-08T10:21:01.920469",
     "status": "completed"
    },
    "tags": []
   },
   "source": [
    "## Setup of the Cross-Validator\n",
    "We will use a repeated stratified cross-validation to make sure to pick the best parameters.\n",
    "The stratification will be used to ensure an equal distribution of the different categories in every bin.\n",
    "The repetition will be used in order ensure that the result is not an outlier. We will set a lower the number of repetitions, however, to save execution time (default would be 10 repetitions)."
   ]
  },
  {
   "cell_type": "code",
   "execution_count": 16,
   "id": "871f21e5",
   "metadata": {
    "execution": {
     "iopub.execute_input": "2023-02-08T10:21:02.025078Z",
     "iopub.status.busy": "2023-02-08T10:21:02.024086Z",
     "iopub.status.idle": "2023-02-08T10:21:02.041081Z",
     "shell.execute_reply": "2023-02-08T10:21:02.038083Z"
    },
    "papermill": {
     "duration": 0.057585,
     "end_time": "2023-02-08T10:21:02.048085",
     "exception": false,
     "start_time": "2023-02-08T10:21:01.990500",
     "status": "completed"
    },
    "tags": []
   },
   "outputs": [],
   "source": [
    "cv = RepeatedStratifiedKFold(n_splits=5, n_repeats=2, random_state=23)"
   ]
  },
  {
   "cell_type": "markdown",
   "id": "00b813ae",
   "metadata": {
    "papermill": {
     "duration": 0.031003,
     "end_time": "2023-02-08T10:21:02.114109",
     "exception": false,
     "start_time": "2023-02-08T10:21:02.083106",
     "status": "completed"
    },
    "tags": []
   },
   "source": [
    "## Support Vector Machine (SVM)\n",
    "\n",
    "A support vector machine classifier will be used with parameter optimization via grid search.\n",
    "\n",
    "### Setup of the SVM and the Grid Search"
   ]
  },
  {
   "cell_type": "code",
   "execution_count": 17,
   "id": "edd4ff88",
   "metadata": {
    "execution": {
     "iopub.execute_input": "2023-02-08T10:21:02.182656Z",
     "iopub.status.busy": "2023-02-08T10:21:02.180656Z",
     "iopub.status.idle": "2023-02-08T10:21:02.200653Z",
     "shell.execute_reply": "2023-02-08T10:21:02.197649Z"
    },
    "papermill": {
     "duration": 0.060027,
     "end_time": "2023-02-08T10:21:02.206684",
     "exception": false,
     "start_time": "2023-02-08T10:21:02.146657",
     "status": "completed"
    },
    "tags": []
   },
   "outputs": [],
   "source": [
    "# Instantiation of the SVM Classifier\n",
    "# We set the cache size to 1600 MB (default: 200 MB) to reduce the computing time.\n",
    "# The other parameters will be set via grid search.\n",
    "svc = svm.SVC(cache_size=4000)\n",
    "\n",
    "# Choosing the parameters for the grid search\n",
    "svc_params = {\n",
    "    'kernel': ['rbf'],\n",
    "    'gamma': ['scale'],\n",
    "    'C': [0.5]\n",
    "}\n",
    "\n",
    "# Setup of the scoring. \n",
    "# We have to define the parameter 'average', because we are not dealing with a binary classification.\n",
    "# Our sample is balanced, hence we can use a simple approach, using 'micro', which uses the global values of \n",
    "# true positives, false negatives and false positives.\n",
    "f1_scoring = make_scorer(score_func=f1_score, average='micro')\n",
    "\n",
    "# Instantiation of the GridSearchCv\n",
    "# verbose is set to 1000 to get as much output as possible, because computation\n",
    "# can take a long time\n",
    "# n_jobs is set to -1 to use all available threads for computation.\n",
    "svc_grid = GridSearchCV(svc, \n",
    "                        param_grid=svc_params, \n",
    "                        scoring=f1_scoring, \n",
    "                        cv=cv,\n",
    "                        verbose=1000, \n",
    "                        n_jobs=-1)"
   ]
  },
  {
   "cell_type": "markdown",
   "id": "cf55ed3a",
   "metadata": {
    "papermill": {
     "duration": 0.050985,
     "end_time": "2023-02-08T10:21:02.286235",
     "exception": false,
     "start_time": "2023-02-08T10:21:02.235250",
     "status": "completed"
    },
    "tags": []
   },
   "source": [
    "### SVM Parameter Optimization, Training and Prediction"
   ]
  },
  {
   "cell_type": "code",
   "execution_count": 18,
   "id": "aef7e3d5",
   "metadata": {
    "execution": {
     "iopub.execute_input": "2023-02-08T10:21:02.355829Z",
     "iopub.status.busy": "2023-02-08T10:21:02.353828Z",
     "iopub.status.idle": "2023-02-08T10:21:13.698237Z",
     "shell.execute_reply": "2023-02-08T10:21:13.696234Z"
    },
    "papermill": {
     "duration": 11.388952,
     "end_time": "2023-02-08T10:21:13.708234",
     "exception": false,
     "start_time": "2023-02-08T10:21:02.319282",
     "status": "completed"
    },
    "tags": []
   },
   "outputs": [
    {
     "name": "stdout",
     "output_type": "stream",
     "text": [
      "Fitting 10 folds for each of 1 candidates, totalling 10 fits\n"
     ]
    },
    {
     "name": "stdout",
     "output_type": "stream",
     "text": [
      "Best parameter combination:  {'C': 0.5, 'gamma': 'scale', 'kernel': 'rbf'}\n"
     ]
    }
   ],
   "source": [
    "# Fitting the grid search to find the best parameter combination\n",
    "svc_grid.fit(X_train_scaled_selection, y_train)\n",
    "\n",
    "# Print result of parameter optimization\n",
    "print('Best parameter combination: ',svc_grid.best_params_)\n",
    "\n",
    "# Predict target variable for the test set\n",
    "svc = svc_grid.best_estimator_\n",
    "y_svc = svc.predict(X_test_scaled_selection)\n"
   ]
  },
  {
   "cell_type": "markdown",
   "id": "255a8b88",
   "metadata": {
    "papermill": {
     "duration": 0.03101,
     "end_time": "2023-02-08T10:21:13.773810",
     "exception": false,
     "start_time": "2023-02-08T10:21:13.742800",
     "status": "completed"
    },
    "tags": []
   },
   "source": [
    "### Metrics of SVM"
   ]
  },
  {
   "cell_type": "code",
   "execution_count": 19,
   "id": "f7caa28b",
   "metadata": {
    "execution": {
     "iopub.execute_input": "2023-02-08T10:21:13.834450Z",
     "iopub.status.busy": "2023-02-08T10:21:13.832451Z",
     "iopub.status.idle": "2023-02-08T10:21:13.887448Z",
     "shell.execute_reply": "2023-02-08T10:21:13.884443Z"
    },
    "papermill": {
     "duration": 0.089627,
     "end_time": "2023-02-08T10:21:13.893445",
     "exception": false,
     "start_time": "2023-02-08T10:21:13.803818",
     "status": "completed"
    },
    "tags": []
   },
   "outputs": [
    {
     "data": {
      "text/html": [
       "<div>\n",
       "<style scoped>\n",
       "    .dataframe tbody tr th:only-of-type {\n",
       "        vertical-align: middle;\n",
       "    }\n",
       "\n",
       "    .dataframe tbody tr th {\n",
       "        vertical-align: top;\n",
       "    }\n",
       "\n",
       "    .dataframe thead th {\n",
       "        text-align: right;\n",
       "    }\n",
       "</style>\n",
       "<table border=\"1\" class=\"dataframe\">\n",
       "  <thead>\n",
       "    <tr style=\"text-align: right;\">\n",
       "      <th></th>\n",
       "      <th>model</th>\n",
       "      <th>f1</th>\n",
       "      <th>accuracy</th>\n",
       "      <th>recall</th>\n",
       "    </tr>\n",
       "  </thead>\n",
       "  <tbody>\n",
       "    <tr>\n",
       "      <th>Support Vector Machine</th>\n",
       "      <td>SVC(C=0.5, cache_size=4000)</td>\n",
       "      <td>0.395307</td>\n",
       "      <td>0.40198</td>\n",
       "      <td>0.40198</td>\n",
       "    </tr>\n",
       "  </tbody>\n",
       "</table>\n",
       "</div>"
      ],
      "text/plain": [
       "                                              model        f1 accuracy  \\\n",
       "Support Vector Machine  SVC(C=0.5, cache_size=4000)  0.395307  0.40198   \n",
       "\n",
       "                         recall  \n",
       "Support Vector Machine  0.40198  "
      ]
     },
     "execution_count": 19,
     "metadata": {},
     "output_type": "execute_result"
    }
   ],
   "source": [
    "# Calculate the metrics for the optimal svm model and store them in the result_metrics DataFrame \n",
    "# The model will be stored as well in the DataFrame\n",
    "result_metrics = store_metrics(model=svc, model_name='Support Vector Machine',\n",
    "                               y_test=y_test, y_pred=y_svc,\n",
    "                               result_df=result_metrics)\n",
    "# Show the interim result                               \n",
    "result_metrics"
   ]
  },
  {
   "cell_type": "markdown",
   "id": "eb63406c",
   "metadata": {
    "papermill": {
     "duration": 0.034549,
     "end_time": "2023-02-08T10:21:13.956016",
     "exception": false,
     "start_time": "2023-02-08T10:21:13.921467",
     "status": "completed"
    },
    "tags": []
   },
   "source": [
    "## Random Forest\n",
    "### Setup and GridSearch"
   ]
  },
  {
   "cell_type": "code",
   "execution_count": 20,
   "id": "49181ef7",
   "metadata": {
    "execution": {
     "iopub.execute_input": "2023-02-08T10:21:14.054585Z",
     "iopub.status.busy": "2023-02-08T10:21:14.053587Z",
     "iopub.status.idle": "2023-02-08T10:21:47.602350Z",
     "shell.execute_reply": "2023-02-08T10:21:47.601349Z"
    },
    "papermill": {
     "duration": 33.615317,
     "end_time": "2023-02-08T10:21:47.624336",
     "exception": false,
     "start_time": "2023-02-08T10:21:14.009019",
     "status": "completed"
    },
    "tags": []
   },
   "outputs": [
    {
     "name": "stdout",
     "output_type": "stream",
     "text": [
      "Best Params are: {'criterion': 'gini', 'max_depth': 5, 'min_samples_leaf': 7, 'n_estimators': 50}\n",
      "Best Score is: 0.4150486450630174\n"
     ]
    }
   ],
   "source": [
    "params = {\n",
    "    'criterion': ['gini'],\n",
    "    'max_depth': [5,10],\n",
    "    'min_samples_leaf':[3,7],\n",
    "    'n_estimators': [50,100]\n",
    "    }\n",
    "\n",
    "RFCLF = GridSearchCV(RandomForestClassifier(),param_grid = params, cv = cv)\n",
    "RFCLF.fit(X_train_scaled_selection,y_train)\n",
    "\n",
    "print('Best Params are:',RFCLF.best_params_)\n",
    "print('Best Score is:',RFCLF.best_score_)"
   ]
  },
  {
   "cell_type": "markdown",
   "id": "6aa49bf0",
   "metadata": {
    "papermill": {
     "duration": 0.022178,
     "end_time": "2023-02-08T10:21:47.666563",
     "exception": false,
     "start_time": "2023-02-08T10:21:47.644385",
     "status": "completed"
    },
    "tags": []
   },
   "source": [
    "### Optimized Model and Metrics"
   ]
  },
  {
   "cell_type": "code",
   "execution_count": 21,
   "id": "664af609",
   "metadata": {
    "execution": {
     "iopub.execute_input": "2023-02-08T10:21:47.710589Z",
     "iopub.status.busy": "2023-02-08T10:21:47.709568Z",
     "iopub.status.idle": "2023-02-08T10:21:47.888369Z",
     "shell.execute_reply": "2023-02-08T10:21:47.886369Z"
    },
    "papermill": {
     "duration": 0.205799,
     "end_time": "2023-02-08T10:21:47.894365",
     "exception": false,
     "start_time": "2023-02-08T10:21:47.688566",
     "status": "completed"
    },
    "tags": []
   },
   "outputs": [
    {
     "name": "stdout",
     "output_type": "stream",
     "text": [
      "Prediction   1   2   3   4\n",
      "Real                      \n",
      "1           80  25   5  12\n",
      "2           31  78  22   2\n",
      "3           51  38  19  14\n",
      "4           72  22  12  22\n"
     ]
    },
    {
     "data": {
      "text/html": [
       "<div>\n",
       "<style scoped>\n",
       "    .dataframe tbody tr th:only-of-type {\n",
       "        vertical-align: middle;\n",
       "    }\n",
       "\n",
       "    .dataframe tbody tr th {\n",
       "        vertical-align: top;\n",
       "    }\n",
       "\n",
       "    .dataframe thead th {\n",
       "        text-align: right;\n",
       "    }\n",
       "</style>\n",
       "<table border=\"1\" class=\"dataframe\">\n",
       "  <thead>\n",
       "    <tr style=\"text-align: right;\">\n",
       "      <th></th>\n",
       "      <th>model</th>\n",
       "      <th>f1</th>\n",
       "      <th>accuracy</th>\n",
       "      <th>recall</th>\n",
       "    </tr>\n",
       "  </thead>\n",
       "  <tbody>\n",
       "    <tr>\n",
       "      <th>Support Vector Machine</th>\n",
       "      <td>SVC(C=0.5, cache_size=4000)</td>\n",
       "      <td>0.395307</td>\n",
       "      <td>0.40198</td>\n",
       "      <td>0.40198</td>\n",
       "    </tr>\n",
       "    <tr>\n",
       "      <th>Random Forest</th>\n",
       "      <td>(DecisionTreeClassifier(max_depth=5, max_featu...</td>\n",
       "      <td>0.361034</td>\n",
       "      <td>0.394059</td>\n",
       "      <td>0.394059</td>\n",
       "    </tr>\n",
       "  </tbody>\n",
       "</table>\n",
       "</div>"
      ],
      "text/plain": [
       "                                                                    model  \\\n",
       "Support Vector Machine                        SVC(C=0.5, cache_size=4000)   \n",
       "Random Forest           (DecisionTreeClassifier(max_depth=5, max_featu...   \n",
       "\n",
       "                              f1  accuracy    recall  \n",
       "Support Vector Machine  0.395307   0.40198   0.40198  \n",
       "Random Forest           0.361034  0.394059  0.394059  "
      ]
     },
     "execution_count": 21,
     "metadata": {},
     "output_type": "execute_result"
    }
   ],
   "source": [
    "rf = RFCLF.best_estimator_\n",
    "y_rf = rf.predict(X_test_scaled_selection)\n",
    "\n",
    "cm = pd.crosstab(y_test,y_rf, rownames=['Real'], colnames=['Prediction'])\n",
    "print(cm)\n",
    "\n",
    "result_metrics = store_metrics(model=rf, model_name='Random Forest',\n",
    "                               y_test=y_test, y_pred=y_rf,\n",
    "                               result_df=result_metrics)\n",
    "                              \n",
    "result_metrics"
   ]
  },
  {
   "cell_type": "markdown",
   "id": "98ffc7b5",
   "metadata": {
    "papermill": {
     "duration": 0.026367,
     "end_time": "2023-02-08T10:21:47.957723",
     "exception": false,
     "start_time": "2023-02-08T10:21:47.931356",
     "status": "completed"
    },
    "tags": []
   },
   "source": [
    "# Logistic Regression"
   ]
  },
  {
   "cell_type": "code",
   "execution_count": 22,
   "id": "2417dfbd",
   "metadata": {
    "execution": {
     "iopub.execute_input": "2023-02-08T10:21:48.012716Z",
     "iopub.status.busy": "2023-02-08T10:21:48.011717Z",
     "iopub.status.idle": "2023-02-08T10:21:48.031721Z",
     "shell.execute_reply": "2023-02-08T10:21:48.028719Z"
    },
    "papermill": {
     "duration": 0.051994,
     "end_time": "2023-02-08T10:21:48.035716",
     "exception": false,
     "start_time": "2023-02-08T10:21:47.983722",
     "status": "completed"
    },
    "tags": []
   },
   "outputs": [],
   "source": [
    "#We use and define logistic Regression with n_jobs=-1 to use all cores\n",
    "LR = LogisticRegression()\n",
    "#for parameters we use 3 type of solver and 6 for C\n",
    "LR_params = {\n",
    "    'solver': ['liblinear', 'lbfgs', 'saga'], \n",
    "    'C': [10**(i) for i in range(-5, 5)]\n",
    "}\n",
    "\n",
    "f1_scoring = make_scorer(score_func=f1_score, average='micro')\n",
    "\n",
    "# Instantiation of the GridSearchCv\n",
    "LR_grid = GridSearchCV(LR, param_grid=LR_params, scoring=f1_scoring, cv=cv, n_jobs=-1)\n"
   ]
  },
  {
   "cell_type": "markdown",
   "id": "5677f865",
   "metadata": {
    "papermill": {
     "duration": 0.021546,
     "end_time": "2023-02-08T10:21:48.077279",
     "exception": false,
     "start_time": "2023-02-08T10:21:48.055733",
     "status": "completed"
    },
    "tags": []
   },
   "source": [
    "# LR Parameter Optimization, Training and Prediction"
   ]
  },
  {
   "cell_type": "code",
   "execution_count": 23,
   "id": "1dc95782",
   "metadata": {
    "execution": {
     "iopub.execute_input": "2023-02-08T10:21:48.135281Z",
     "iopub.status.busy": "2023-02-08T10:21:48.134278Z",
     "iopub.status.idle": "2023-02-08T10:22:01.312252Z",
     "shell.execute_reply": "2023-02-08T10:22:01.310253Z"
    },
    "papermill": {
     "duration": 13.213967,
     "end_time": "2023-02-08T10:22:01.318248",
     "exception": false,
     "start_time": "2023-02-08T10:21:48.104281",
     "status": "completed"
    },
    "tags": []
   },
   "outputs": [
    {
     "name": "stdout",
     "output_type": "stream",
     "text": [
      "Best parameter combination:  {'C': 0.01, 'solver': 'liblinear'}\n"
     ]
    }
   ],
   "source": [
    "# Fitting the grid search to find the best parameter combination\n",
    "LR_grid.fit(X_train_scaled_selection, y_train)\n",
    "\n",
    "# Print result of parameter optimization\n",
    "print('Best parameter combination: ',LR_grid.best_params_)\n",
    "\n",
    "# Predict target variable for the test set\n",
    "LR = LR_grid.best_estimator_\n",
    "y_LR = LR.predict(X_test_scaled_selection)"
   ]
  },
  {
   "cell_type": "markdown",
   "id": "ef7a53e4",
   "metadata": {
    "papermill": {
     "duration": 0.02554,
     "end_time": "2023-02-08T10:22:01.370788",
     "exception": false,
     "start_time": "2023-02-08T10:22:01.345248",
     "status": "completed"
    },
    "tags": []
   },
   "source": [
    "## Metrics of LR"
   ]
  },
  {
   "cell_type": "code",
   "execution_count": 24,
   "id": "d3ee1bb2",
   "metadata": {
    "execution": {
     "iopub.execute_input": "2023-02-08T10:22:01.430789Z",
     "iopub.status.busy": "2023-02-08T10:22:01.428789Z",
     "iopub.status.idle": "2023-02-08T10:22:01.564871Z",
     "shell.execute_reply": "2023-02-08T10:22:01.562873Z"
    },
    "papermill": {
     "duration": 0.169645,
     "end_time": "2023-02-08T10:22:01.570434",
     "exception": false,
     "start_time": "2023-02-08T10:22:01.400789",
     "status": "completed"
    },
    "tags": []
   },
   "outputs": [
    {
     "data": {
      "text/html": [
       "<div>\n",
       "<style scoped>\n",
       "    .dataframe tbody tr th:only-of-type {\n",
       "        vertical-align: middle;\n",
       "    }\n",
       "\n",
       "    .dataframe tbody tr th {\n",
       "        vertical-align: top;\n",
       "    }\n",
       "\n",
       "    .dataframe thead th {\n",
       "        text-align: right;\n",
       "    }\n",
       "</style>\n",
       "<table border=\"1\" class=\"dataframe\">\n",
       "  <thead>\n",
       "    <tr style=\"text-align: right;\">\n",
       "      <th></th>\n",
       "      <th>model</th>\n",
       "      <th>f1</th>\n",
       "      <th>accuracy</th>\n",
       "      <th>recall</th>\n",
       "    </tr>\n",
       "  </thead>\n",
       "  <tbody>\n",
       "    <tr>\n",
       "      <th>Support Vector Machine</th>\n",
       "      <td>SVC(C=0.5, cache_size=4000)</td>\n",
       "      <td>0.395307</td>\n",
       "      <td>0.40198</td>\n",
       "      <td>0.40198</td>\n",
       "    </tr>\n",
       "    <tr>\n",
       "      <th>Random Forest</th>\n",
       "      <td>(DecisionTreeClassifier(max_depth=5, max_featu...</td>\n",
       "      <td>0.361034</td>\n",
       "      <td>0.394059</td>\n",
       "      <td>0.394059</td>\n",
       "    </tr>\n",
       "    <tr>\n",
       "      <th>Logistic Regression</th>\n",
       "      <td>LogisticRegression(C=0.01, solver='liblinear')</td>\n",
       "      <td>0.389068</td>\n",
       "      <td>0.405941</td>\n",
       "      <td>0.405941</td>\n",
       "    </tr>\n",
       "  </tbody>\n",
       "</table>\n",
       "</div>"
      ],
      "text/plain": [
       "                                                                    model  \\\n",
       "Support Vector Machine                        SVC(C=0.5, cache_size=4000)   \n",
       "Random Forest           (DecisionTreeClassifier(max_depth=5, max_featu...   \n",
       "Logistic Regression        LogisticRegression(C=0.01, solver='liblinear')   \n",
       "\n",
       "                              f1  accuracy    recall  \n",
       "Support Vector Machine  0.395307   0.40198   0.40198  \n",
       "Random Forest           0.361034  0.394059  0.394059  \n",
       "Logistic Regression     0.389068  0.405941  0.405941  "
      ]
     },
     "execution_count": 24,
     "metadata": {},
     "output_type": "execute_result"
    }
   ],
   "source": [
    "# Calculate the metrics for the optimal LR model and store them in the result_metrics DataFrame \n",
    "# The model will be stored as well in the DataFrame\n",
    "result_metrics = store_metrics(model=LR, model_name='Logistic Regression',\n",
    "                               y_test=y_test, y_pred=y_LR,\n",
    "                               result_df=result_metrics)\n",
    "# Show the interim result                               \n",
    "result_metrics"
   ]
  },
  {
   "cell_type": "markdown",
   "id": "85204aa6",
   "metadata": {
    "papermill": {
     "duration": 0.029001,
     "end_time": "2023-02-08T10:22:01.627429",
     "exception": false,
     "start_time": "2023-02-08T10:22:01.598428",
     "status": "completed"
    },
    "tags": []
   },
   "source": [
    "# Decision Tree"
   ]
  },
  {
   "cell_type": "markdown",
   "id": "9803571d",
   "metadata": {
    "papermill": {
     "duration": 0.026533,
     "end_time": "2023-02-08T10:22:01.679315",
     "exception": false,
     "start_time": "2023-02-08T10:22:01.652782",
     "status": "completed"
    },
    "tags": []
   },
   "source": [
    "## Setup of the DT and the Grid Search"
   ]
  },
  {
   "cell_type": "code",
   "execution_count": 25,
   "id": "17a0d8ce",
   "metadata": {
    "execution": {
     "iopub.execute_input": "2023-02-08T10:22:01.737311Z",
     "iopub.status.busy": "2023-02-08T10:22:01.736311Z",
     "iopub.status.idle": "2023-02-08T10:22:02.438841Z",
     "shell.execute_reply": "2023-02-08T10:22:02.436843Z"
    },
    "papermill": {
     "duration": 0.736531,
     "end_time": "2023-02-08T10:22:02.443842",
     "exception": false,
     "start_time": "2023-02-08T10:22:01.707311",
     "status": "completed"
    },
    "tags": []
   },
   "outputs": [
    {
     "name": "stdout",
     "output_type": "stream",
     "text": [
      "Best Criterion: {'ccp_alpha': 0.0, 'class_weight': None, 'criterion': 'entropy', 'max_depth': 4, 'max_features': None, 'max_leaf_nodes': None, 'min_impurity_decrease': 0.0, 'min_samples_leaf': 1, 'min_samples_split': 2, 'min_weight_fraction_leaf': 0.0, 'random_state': None, 'splitter': 'best'}\n",
      "Best max_depth: {'ccp_alpha': 0.0, 'class_weight': None, 'criterion': 'entropy', 'max_depth': 4, 'max_features': None, 'max_leaf_nodes': None, 'min_impurity_decrease': 0.0, 'min_samples_leaf': 1, 'min_samples_split': 2, 'min_weight_fraction_leaf': 0.0, 'random_state': None, 'splitter': 'best'}\n",
      "\n",
      "{'ccp_alpha': 0.0, 'class_weight': None, 'criterion': 'entropy', 'max_depth': 4, 'max_features': None, 'max_leaf_nodes': None, 'min_impurity_decrease': 0.0, 'min_samples_leaf': 1, 'min_samples_split': 2, 'min_weight_fraction_leaf': 0.0, 'random_state': None, 'splitter': 'best'}\n"
     ]
    }
   ],
   "source": [
    "from sklearn import tree\n",
    "from sklearn.pipeline import Pipeline\n",
    "\n",
    "# Grid\n",
    "criterion = ['gini', 'entropy']\n",
    "max_depth = [2,4,6,8,10,12]\n",
    "parameters = dict(criterion=criterion, max_depth=max_depth)\n",
    "\n",
    "DT = GridSearchCV(DecisionTreeClassifier(),param_grid = parameters, cv = RepeatedKFold(n_splits=4, n_repeats=1, random_state=23))\n",
    "# \n",
    "DT.fit(X_train_scaled_selection,y_train)\n",
    "\n",
    "# \n",
    "print('Best Criterion:', DT.best_estimator_.get_params())\n",
    "print('Best max_depth:', DT.best_estimator_.get_params())\n",
    "print(); print(DT.best_estimator_.get_params())"
   ]
  },
  {
   "cell_type": "markdown",
   "id": "1926b272",
   "metadata": {
    "papermill": {
     "duration": 0.032018,
     "end_time": "2023-02-08T10:22:02.508428",
     "exception": false,
     "start_time": "2023-02-08T10:22:02.476410",
     "status": "completed"
    },
    "tags": []
   },
   "source": [
    "## Metrics of Decision Tree"
   ]
  },
  {
   "cell_type": "code",
   "execution_count": 26,
   "id": "169d7675",
   "metadata": {
    "execution": {
     "iopub.execute_input": "2023-02-08T10:22:02.568905Z",
     "iopub.status.busy": "2023-02-08T10:22:02.567447Z",
     "iopub.status.idle": "2023-02-08T10:22:02.724472Z",
     "shell.execute_reply": "2023-02-08T10:22:02.722469Z"
    },
    "papermill": {
     "duration": 0.194056,
     "end_time": "2023-02-08T10:22:02.729469",
     "exception": false,
     "start_time": "2023-02-08T10:22:02.535413",
     "status": "completed"
    },
    "tags": []
   },
   "outputs": [
    {
     "name": "stdout",
     "output_type": "stream",
     "text": [
      "Prediction   1   2   3   4\n",
      "Real                      \n",
      "1           31  20   3  68\n",
      "2           12  58  31  32\n",
      "3           15  33  23  51\n",
      "4           27  13  20  68\n"
     ]
    },
    {
     "data": {
      "text/html": [
       "<div>\n",
       "<style scoped>\n",
       "    .dataframe tbody tr th:only-of-type {\n",
       "        vertical-align: middle;\n",
       "    }\n",
       "\n",
       "    .dataframe tbody tr th {\n",
       "        vertical-align: top;\n",
       "    }\n",
       "\n",
       "    .dataframe thead th {\n",
       "        text-align: right;\n",
       "    }\n",
       "</style>\n",
       "<table border=\"1\" class=\"dataframe\">\n",
       "  <thead>\n",
       "    <tr style=\"text-align: right;\">\n",
       "      <th></th>\n",
       "      <th>model</th>\n",
       "      <th>f1</th>\n",
       "      <th>accuracy</th>\n",
       "      <th>recall</th>\n",
       "    </tr>\n",
       "  </thead>\n",
       "  <tbody>\n",
       "    <tr>\n",
       "      <th>Support Vector Machine</th>\n",
       "      <td>SVC(C=0.5, cache_size=4000)</td>\n",
       "      <td>0.395307</td>\n",
       "      <td>0.40198</td>\n",
       "      <td>0.40198</td>\n",
       "    </tr>\n",
       "    <tr>\n",
       "      <th>Random Forest</th>\n",
       "      <td>(DecisionTreeClassifier(max_depth=5, max_featu...</td>\n",
       "      <td>0.361034</td>\n",
       "      <td>0.394059</td>\n",
       "      <td>0.394059</td>\n",
       "    </tr>\n",
       "    <tr>\n",
       "      <th>Logistic Regression</th>\n",
       "      <td>LogisticRegression(C=0.01, solver='liblinear')</td>\n",
       "      <td>0.389068</td>\n",
       "      <td>0.405941</td>\n",
       "      <td>0.405941</td>\n",
       "    </tr>\n",
       "    <tr>\n",
       "      <th>Decision Tree</th>\n",
       "      <td>DecisionTreeClassifier(criterion='entropy', ma...</td>\n",
       "      <td>0.346417</td>\n",
       "      <td>0.356436</td>\n",
       "      <td>0.356436</td>\n",
       "    </tr>\n",
       "  </tbody>\n",
       "</table>\n",
       "</div>"
      ],
      "text/plain": [
       "                                                                    model  \\\n",
       "Support Vector Machine                        SVC(C=0.5, cache_size=4000)   \n",
       "Random Forest           (DecisionTreeClassifier(max_depth=5, max_featu...   \n",
       "Logistic Regression        LogisticRegression(C=0.01, solver='liblinear')   \n",
       "Decision Tree           DecisionTreeClassifier(criterion='entropy', ma...   \n",
       "\n",
       "                              f1  accuracy    recall  \n",
       "Support Vector Machine  0.395307   0.40198   0.40198  \n",
       "Random Forest           0.361034  0.394059  0.394059  \n",
       "Logistic Regression     0.389068  0.405941  0.405941  \n",
       "Decision Tree           0.346417  0.356436  0.356436  "
      ]
     },
     "execution_count": 26,
     "metadata": {},
     "output_type": "execute_result"
    }
   ],
   "source": [
    "dt = DT.best_estimator_\n",
    "y_dt = dt.predict(X_test_scaled_selection)\n",
    "cm = pd.crosstab(y_test,y_dt, rownames=['Real'], colnames=['Prediction'])\n",
    "print(cm)\n",
    "result_metrics = store_metrics(model=dt, model_name='Decision Tree',\n",
    "                               y_test=y_test, y_pred=y_dt,\n",
    "                               result_df=result_metrics)\n",
    "                              \n",
    "result_metrics"
   ]
  },
  {
   "cell_type": "code",
   "execution_count": 27,
   "id": "9d9195ad",
   "metadata": {
    "execution": {
     "iopub.execute_input": "2023-02-08T10:22:02.779000Z",
     "iopub.status.busy": "2023-02-08T10:22:02.779000Z",
     "iopub.status.idle": "2023-02-08T10:22:04.748490Z",
     "shell.execute_reply": "2023-02-08T10:22:04.745493Z"
    },
    "papermill": {
     "duration": 2.001013,
     "end_time": "2023-02-08T10:22:04.754488",
     "exception": false,
     "start_time": "2023-02-08T10:22:02.753475",
     "status": "completed"
    },
    "tags": []
   },
   "outputs": [
    {
     "data": {
      "image/png": "[encoded data removed]",
      "text/plain": [
       "<Figure size 1200x600 with 1 Axes>"
      ]
     },
     "metadata": {},
     "output_type": "display_data"
    }
   ],
   "source": [
    "# ## Interpretation of the Decision Tree\n",
    "# Decision trees are known to have a high interpretability compared to other machine learning models. The performance of the applied model is worse than the ones of the other models, but we can easily plot the tree and gain insights.\n",
    "from sklearn.tree import plot_tree\n",
    "fig = plt.figure(figsize=(12,6));\n",
    "plot_tree(dt,max_depth=2, fontsize=8, feature_names=k_best_feature_names);\n",
    "\n",
    "# The plot shows that the most important feature (according to the decision tree) is built-up_area. This binary variable cointains the information, whether the accident happened in a built-up area. We already showed in the first notebook that there seems to be a positive relation between the density of an area and it's **number** of accident. The decision tree here suggests that the **severity** is also affected by a dense population."
   ]
  },
  {
   "cell_type": "markdown",
   "id": "5d1da022",
   "metadata": {
    "lines_to_next_cell": 2,
    "papermill": {
     "duration": 0.03101,
     "end_time": "2023-02-08T10:22:04.833624",
     "exception": false,
     "start_time": "2023-02-08T10:22:04.802614",
     "status": "completed"
    },
    "tags": []
   },
   "source": [
    "# Application of Advanced Models"
   ]
  },
  {
   "cell_type": "markdown",
   "id": "c9d7e3d6",
   "metadata": {
    "papermill": {
     "duration": 0.031534,
     "end_time": "2023-02-08T10:22:04.888166",
     "exception": false,
     "start_time": "2023-02-08T10:22:04.856632",
     "status": "completed"
    },
    "tags": []
   },
   "source": [
    "## Stacking Classifier"
   ]
  },
  {
   "cell_type": "code",
   "execution_count": 28,
   "id": "94da2ade",
   "metadata": {
    "execution": {
     "iopub.execute_input": "2023-02-08T10:22:04.950170Z",
     "iopub.status.busy": "2023-02-08T10:22:04.948173Z",
     "iopub.status.idle": "2023-02-08T10:22:07.475262Z",
     "shell.execute_reply": "2023-02-08T10:22:07.473256Z"
    },
    "lines_to_next_cell": 0,
    "papermill": {
     "duration": 2.566122,
     "end_time": "2023-02-08T10:22:07.482282",
     "exception": false,
     "start_time": "2023-02-08T10:22:04.916160",
     "status": "completed"
    },
    "tags": []
   },
   "outputs": [
    {
     "data": {
      "text/html": [
       "<div>\n",
       "<style scoped>\n",
       "    .dataframe tbody tr th:only-of-type {\n",
       "        vertical-align: middle;\n",
       "    }\n",
       "\n",
       "    .dataframe tbody tr th {\n",
       "        vertical-align: top;\n",
       "    }\n",
       "\n",
       "    .dataframe thead th {\n",
       "        text-align: right;\n",
       "    }\n",
       "</style>\n",
       "<table border=\"1\" class=\"dataframe\">\n",
       "  <thead>\n",
       "    <tr style=\"text-align: right;\">\n",
       "      <th></th>\n",
       "      <th>model</th>\n",
       "      <th>f1</th>\n",
       "      <th>accuracy</th>\n",
       "      <th>recall</th>\n",
       "    </tr>\n",
       "  </thead>\n",
       "  <tbody>\n",
       "    <tr>\n",
       "      <th>Support Vector Machine</th>\n",
       "      <td>SVC(C=0.5, cache_size=4000)</td>\n",
       "      <td>0.395307</td>\n",
       "      <td>0.40198</td>\n",
       "      <td>0.40198</td>\n",
       "    </tr>\n",
       "    <tr>\n",
       "      <th>Random Forest</th>\n",
       "      <td>(DecisionTreeClassifier(max_depth=5, max_featu...</td>\n",
       "      <td>0.361034</td>\n",
       "      <td>0.394059</td>\n",
       "      <td>0.394059</td>\n",
       "    </tr>\n",
       "    <tr>\n",
       "      <th>Logistic Regression</th>\n",
       "      <td>LogisticRegression(C=0.01, solver='liblinear')</td>\n",
       "      <td>0.389068</td>\n",
       "      <td>0.405941</td>\n",
       "      <td>0.405941</td>\n",
       "    </tr>\n",
       "    <tr>\n",
       "      <th>Decision Tree</th>\n",
       "      <td>DecisionTreeClassifier(criterion='entropy', ma...</td>\n",
       "      <td>0.346417</td>\n",
       "      <td>0.356436</td>\n",
       "      <td>0.356436</td>\n",
       "    </tr>\n",
       "    <tr>\n",
       "      <th>Stacking</th>\n",
       "      <td>StackingClassifier(cv='prefit',\\n             ...</td>\n",
       "      <td>0.393389</td>\n",
       "      <td>0.4</td>\n",
       "      <td>0.4</td>\n",
       "    </tr>\n",
       "  </tbody>\n",
       "</table>\n",
       "</div>"
      ],
      "text/plain": [
       "                                                                    model  \\\n",
       "Support Vector Machine                        SVC(C=0.5, cache_size=4000)   \n",
       "Random Forest           (DecisionTreeClassifier(max_depth=5, max_featu...   \n",
       "Logistic Regression        LogisticRegression(C=0.01, solver='liblinear')   \n",
       "Decision Tree           DecisionTreeClassifier(criterion='entropy', ma...   \n",
       "Stacking                StackingClassifier(cv='prefit',\\n             ...   \n",
       "\n",
       "                              f1  accuracy    recall  \n",
       "Support Vector Machine  0.395307   0.40198   0.40198  \n",
       "Random Forest           0.361034  0.394059  0.394059  \n",
       "Logistic Regression     0.389068  0.405941  0.405941  \n",
       "Decision Tree           0.346417  0.356436  0.356436  \n",
       "Stacking                0.393389       0.4       0.4  "
      ]
     },
     "execution_count": 28,
     "metadata": {},
     "output_type": "execute_result"
    }
   ],
   "source": [
    "estimators = [('lr', LR), ('svc', svc), ('rf', rf)]\n",
    "stacking_clf = StackingClassifier(estimators=estimators, final_estimator=svc, cv='prefit', n_jobs=-1)\n",
    "\n",
    "stacking_clf.fit(X_train_scaled_selection, y_train)\n",
    "y_stacking = stacking_clf.predict(X_test_scaled_selection)\n",
    "result_metrics = store_metrics(model=stacking_clf, model_name='Stacking',\n",
    "                               y_test=y_test, y_pred=y_stacking,\n",
    "                               result_df=result_metrics)\n",
    "result_metrics"
   ]
  },
  {
   "cell_type": "markdown",
   "id": "8c5c0444",
   "metadata": {
    "papermill": {
     "duration": 0.042028,
     "end_time": "2023-02-08T10:22:07.569288",
     "exception": false,
     "start_time": "2023-02-08T10:22:07.527260",
     "status": "completed"
    },
    "tags": []
   },
   "source": [
    "# ADA Boosting"
   ]
  },
  {
   "cell_type": "code",
   "execution_count": 29,
   "id": "45d078ee",
   "metadata": {
    "execution": {
     "iopub.execute_input": "2023-02-08T10:22:07.671751Z",
     "iopub.status.busy": "2023-02-08T10:22:07.670229Z",
     "iopub.status.idle": "2023-02-08T10:22:34.777015Z",
     "shell.execute_reply": "2023-02-08T10:22:34.775006Z"
    },
    "papermill": {
     "duration": 27.175952,
     "end_time": "2023-02-08T10:22:34.783991",
     "exception": false,
     "start_time": "2023-02-08T10:22:07.608039",
     "status": "completed"
    },
    "tags": []
   },
   "outputs": [],
   "source": [
    "#Trying ADA boosting on LogisticRegresiion\n",
    "ADA_Boost = AdaBoostClassifier(estimator = LR , n_estimators = 1000)\n",
    "ADA_Boost.fit(X_train_scaled_selection, y_train)\n",
    "y_ada = ADA_Boost.predict(X_test_scaled_selection)"
   ]
  },
  {
   "cell_type": "code",
   "execution_count": 30,
   "id": "1167230a",
   "metadata": {
    "execution": {
     "iopub.execute_input": "2023-02-08T10:22:34.868567Z",
     "iopub.status.busy": "2023-02-08T10:22:34.867568Z",
     "iopub.status.idle": "2023-02-08T10:22:35.159255Z",
     "shell.execute_reply": "2023-02-08T10:22:35.157250Z"
    },
    "papermill": {
     "duration": 0.335637,
     "end_time": "2023-02-08T10:22:35.164221",
     "exception": false,
     "start_time": "2023-02-08T10:22:34.828584",
     "status": "completed"
    },
    "tags": []
   },
   "outputs": [
    {
     "data": {
      "text/html": [
       "<div>\n",
       "<style scoped>\n",
       "    .dataframe tbody tr th:only-of-type {\n",
       "        vertical-align: middle;\n",
       "    }\n",
       "\n",
       "    .dataframe tbody tr th {\n",
       "        vertical-align: top;\n",
       "    }\n",
       "\n",
       "    .dataframe thead th {\n",
       "        text-align: right;\n",
       "    }\n",
       "</style>\n",
       "<table border=\"1\" class=\"dataframe\">\n",
       "  <thead>\n",
       "    <tr style=\"text-align: right;\">\n",
       "      <th></th>\n",
       "      <th>model</th>\n",
       "      <th>f1</th>\n",
       "      <th>accuracy</th>\n",
       "      <th>recall</th>\n",
       "    </tr>\n",
       "  </thead>\n",
       "  <tbody>\n",
       "    <tr>\n",
       "      <th>Support Vector Machine</th>\n",
       "      <td>SVC(C=0.5, cache_size=4000)</td>\n",
       "      <td>0.395307</td>\n",
       "      <td>0.40198</td>\n",
       "      <td>0.40198</td>\n",
       "    </tr>\n",
       "    <tr>\n",
       "      <th>Random Forest</th>\n",
       "      <td>(DecisionTreeClassifier(max_depth=5, max_featu...</td>\n",
       "      <td>0.361034</td>\n",
       "      <td>0.394059</td>\n",
       "      <td>0.394059</td>\n",
       "    </tr>\n",
       "    <tr>\n",
       "      <th>Logistic Regression</th>\n",
       "      <td>LogisticRegression(C=0.01, solver='liblinear')</td>\n",
       "      <td>0.389068</td>\n",
       "      <td>0.405941</td>\n",
       "      <td>0.405941</td>\n",
       "    </tr>\n",
       "    <tr>\n",
       "      <th>Decision Tree</th>\n",
       "      <td>DecisionTreeClassifier(criterion='entropy', ma...</td>\n",
       "      <td>0.346417</td>\n",
       "      <td>0.356436</td>\n",
       "      <td>0.356436</td>\n",
       "    </tr>\n",
       "    <tr>\n",
       "      <th>Stacking</th>\n",
       "      <td>StackingClassifier(cv='prefit',\\n             ...</td>\n",
       "      <td>0.393389</td>\n",
       "      <td>0.4</td>\n",
       "      <td>0.4</td>\n",
       "    </tr>\n",
       "    <tr>\n",
       "      <th>ADA Boost</th>\n",
       "      <td>(LogisticRegression(C=0.01, random_state=15532...</td>\n",
       "      <td>0.369117</td>\n",
       "      <td>0.4</td>\n",
       "      <td>0.4</td>\n",
       "    </tr>\n",
       "  </tbody>\n",
       "</table>\n",
       "</div>"
      ],
      "text/plain": [
       "                                                                    model  \\\n",
       "Support Vector Machine                        SVC(C=0.5, cache_size=4000)   \n",
       "Random Forest           (DecisionTreeClassifier(max_depth=5, max_featu...   \n",
       "Logistic Regression        LogisticRegression(C=0.01, solver='liblinear')   \n",
       "Decision Tree           DecisionTreeClassifier(criterion='entropy', ma...   \n",
       "Stacking                StackingClassifier(cv='prefit',\\n             ...   \n",
       "ADA Boost               (LogisticRegression(C=0.01, random_state=15532...   \n",
       "\n",
       "                              f1  accuracy    recall  \n",
       "Support Vector Machine  0.395307   0.40198   0.40198  \n",
       "Random Forest           0.361034  0.394059  0.394059  \n",
       "Logistic Regression     0.389068  0.405941  0.405941  \n",
       "Decision Tree           0.346417  0.356436  0.356436  \n",
       "Stacking                0.393389       0.4       0.4  \n",
       "ADA Boost               0.369117       0.4       0.4  "
      ]
     },
     "execution_count": 30,
     "metadata": {},
     "output_type": "execute_result"
    }
   ],
   "source": [
    "result_metrics = store_metrics(model=ADA_Boost, model_name='ADA Boost',\n",
    "                               y_test=y_test, y_pred=y_ada,\n",
    "                               result_df=result_metrics)\n",
    "# Show the interim result                               \n",
    "result_metrics"
   ]
  },
  {
   "cell_type": "markdown",
   "id": "14f0a686",
   "metadata": {
    "papermill": {
     "duration": 0.036003,
     "end_time": "2023-02-08T10:22:35.244768",
     "exception": false,
     "start_time": "2023-02-08T10:22:35.208765",
     "status": "completed"
    },
    "tags": []
   },
   "source": [
    "\n",
    "# Results and Conclusion"
   ]
  },
  {
   "cell_type": "markdown",
   "id": "33a4ae8c",
   "metadata": {
    "papermill": {
     "duration": 0.021015,
     "end_time": "2023-02-08T10:22:35.297774",
     "exception": false,
     "start_time": "2023-02-08T10:22:35.276759",
     "status": "completed"
    },
    "tags": []
   },
   "source": [
    "## Comparison of the Performances"
   ]
  },
  {
   "cell_type": "code",
   "execution_count": 31,
   "id": "0f41a2cb",
   "metadata": {
    "execution": {
     "iopub.execute_input": "2023-02-08T10:22:35.346302Z",
     "iopub.status.busy": "2023-02-08T10:22:35.345303Z",
     "iopub.status.idle": "2023-02-08T10:22:36.043463Z",
     "shell.execute_reply": "2023-02-08T10:22:36.041625Z"
    },
    "papermill": {
     "duration": 0.727162,
     "end_time": "2023-02-08T10:22:36.049458",
     "exception": false,
     "start_time": "2023-02-08T10:22:35.322296",
     "status": "completed"
    },
    "tags": []
   },
   "outputs": [
    {
     "data": {
      "image/png": "[encoded data removed]",
      "text/plain": [
       "<Figure size 640x480 with 1 Axes>"
      ]
     },
     "metadata": {},
     "output_type": "display_data"
    }
   ],
   "source": [
    "plt.barh(y=result_metrics.index.values, width=result_metrics['f1']);\n",
    "plt.title('$F_1$ Score of different ML models');"
   ]
  },
  {
   "cell_type": "markdown",
   "id": "12929fe1",
   "metadata": {
    "papermill": {
     "duration": 0.046201,
     "end_time": "2023-02-08T10:22:36.144688",
     "exception": false,
     "start_time": "2023-02-08T10:22:36.098487",
     "status": "completed"
    },
    "tags": []
   },
   "source": [
    "The results show a comparable performance for all machine learning models, with the advanced stacking classifier giving the best score (f_1) and the decision tree giving the worst score. \n",
    "\n",
    "There are a few things to consider when analyzing these results.\n",
    "1. We worked on a very small partition of the dataset in order to achieve acceptable execution times. We expect to reach higher performances when working with more data.\n",
    "2. The classifiers based on logistic regression and decision trees have low scores, are not necessarily unfit for the dataset, as they offer more interpretability than the advanced models. This interpretability could help e.g. policy makers to take measures in order to reduce the severity of road accidents.\n",
    "3. A strong correlation between severity and safety measurements (e.g. safety belt) is expected. Unfortunately, this feature could not be used because useful is only available for the last years (2018--)."
   ]
  },
  {
   "cell_type": "markdown",
   "id": "f1708807",
   "metadata": {
    "papermill": {
     "duration": 0.036527,
     "end_time": "2023-02-08T10:22:36.227241",
     "exception": false,
     "start_time": "2023-02-08T10:22:36.190714",
     "status": "completed"
    },
    "tags": []
   },
   "source": [
    "## Analysis of the Correlation Matrix"
   ]
  },
  {
   "cell_type": "code",
   "execution_count": 32,
   "id": "e37607de",
   "metadata": {
    "execution": {
     "iopub.execute_input": "2023-02-08T10:22:36.335789Z",
     "iopub.status.busy": "2023-02-08T10:22:36.334800Z",
     "iopub.status.idle": "2023-02-08T10:22:37.009062Z",
     "shell.execute_reply": "2023-02-08T10:22:37.006082Z"
    },
    "papermill": {
     "duration": 0.736808,
     "end_time": "2023-02-08T10:22:37.015055",
     "exception": false,
     "start_time": "2023-02-08T10:22:36.278247",
     "status": "completed"
    },
    "tags": []
   },
   "outputs": [
    {
     "data": {
      "image/png": "[encoded data removed]",
      "text/plain": [
       "<Figure size 400x400 with 2 Axes>"
      ]
     },
     "metadata": {},
     "output_type": "display_data"
    }
   ],
   "source": [
    "cm = pd.crosstab(y_test, y_stacking, rownames=['observations'], colnames=['predictions']);\n",
    "severity_categories = (\"Unscathed\",\"Killed\", \"Hospitalized\\nwounded\", \"Light injury\")\n",
    "plt.figure(figsize=(4,4))\n",
    "plt.title('Correlation Matrix of the Stacking Classifier');\n",
    "sns.heatmap(cm, cmap='RdYlGn', annot=True);\n",
    "plt.xticks(np.array(range(4))+0.5, labels=severity_categories, rotation=45);\n",
    "plt.yticks(np.array(range(4))+0.5, labels=severity_categories, rotation=0);"
   ]
  },
  {
   "cell_type": "markdown",
   "id": "731821cc",
   "metadata": {
    "papermill": {
     "duration": 0.037028,
     "end_time": "2023-02-08T10:22:37.100081",
     "exception": false,
     "start_time": "2023-02-08T10:22:37.063053",
     "status": "completed"
    },
    "tags": []
   },
   "source": [
    "The correlation matrix of the stacking classifier shows that some categories are more difficult to predict than others. The category \"Hospitalized wounded\" seems to be the most difficult to predict, as the predictions seem to be quite evenly distributed between the different classes. We can quantify these difficulties by looking at the scores for accuracy and recall for each category."
   ]
  },
  {
   "cell_type": "code",
   "execution_count": 33,
   "id": "6164f192",
   "metadata": {
    "execution": {
     "iopub.execute_input": "2023-02-08T10:22:37.154606Z",
     "iopub.status.busy": "2023-02-08T10:22:37.153608Z",
     "iopub.status.idle": "2023-02-08T10:22:37.198792Z",
     "shell.execute_reply": "2023-02-08T10:22:37.196788Z"
    },
    "papermill": {
     "duration": 0.077737,
     "end_time": "2023-02-08T10:22:37.205346",
     "exception": false,
     "start_time": "2023-02-08T10:22:37.127609",
     "status": "completed"
    },
    "tags": []
   },
   "outputs": [
    {
     "name": "stdout",
     "output_type": "stream",
     "text": [
      "                      precision    recall  f1-score   support\n",
      "\n",
      "           Unscathed       0.36      0.52      0.43       122\n",
      "              Killed       0.53      0.53      0.53       133\n",
      "Hospitalized wounded       0.30      0.25      0.28       122\n",
      "        Light injury       0.40      0.28      0.33       128\n",
      "\n",
      "            accuracy                           0.40       505\n",
      "           macro avg       0.40      0.40      0.39       505\n",
      "        weighted avg       0.40      0.40      0.39       505\n",
      "\n"
     ]
    }
   ],
   "source": [
    "from sklearn.metrics import classification_report\n",
    "severity_categories = (\"Unscathed\",\"Killed\", \"Hospitalized wounded\", \"Light injury\")\n",
    "print(classification_report(y_true=y_test, y_pred=y_stacking, target_names=severity_categories))"
   ]
  },
  {
   "cell_type": "markdown",
   "id": "9b691385",
   "metadata": {
    "papermill": {
     "duration": 0.033008,
     "end_time": "2023-02-08T10:22:37.289381",
     "exception": false,
     "start_time": "2023-02-08T10:22:37.256373",
     "status": "completed"
    },
    "tags": []
   },
   "source": [
    "The classification report reflects our observations from the correlation matrix. It is satisfying that the categorie \"Killed\" is predicted with the highest accuracy; we consider this category as particularly important."
   ]
  },
  {
   "cell_type": "code",
   "execution_count": 34,
   "id": "8435595c",
   "metadata": {
    "execution": {
     "iopub.execute_input": "2023-02-08T10:22:37.365929Z",
     "iopub.status.busy": "2023-02-08T10:22:37.362945Z",
     "iopub.status.idle": "2023-02-08T10:22:37.480537Z",
     "shell.execute_reply": "2023-02-08T10:22:37.478528Z"
    },
    "papermill": {
     "duration": 0.161599,
     "end_time": "2023-02-08T10:22:37.484539",
     "exception": false,
     "start_time": "2023-02-08T10:22:37.322940",
     "status": "completed"
    },
    "tags": []
   },
   "outputs": [
    {
     "data": {
      "text/plain": [
       "['../models/stacking_clf.joblib']"
      ]
     },
     "execution_count": 34,
     "metadata": {},
     "output_type": "execute_result"
    }
   ],
   "source": [
    "# Saving the models for further use and investigation\n",
    "from joblib import dump, load\n",
    "\n",
    "\n",
    "dump(stacking_clf, '../models/stacking_clf.joblib')"
   ]
  },
  {
   "cell_type": "code",
   "execution_count": 35,
   "id": "ff1b2ea1",
   "metadata": {
    "execution": {
     "iopub.execute_input": "2023-02-08T10:22:37.595149Z",
     "iopub.status.busy": "2023-02-08T10:22:37.593133Z",
     "iopub.status.idle": "2023-02-08T10:22:38.320205Z",
     "shell.execute_reply": "2023-02-08T10:22:38.317202Z"
    },
    "lines_to_next_cell": 2,
    "papermill": {
     "duration": 0.791104,
     "end_time": "2023-02-08T10:22:38.323209",
     "exception": false,
     "start_time": "2023-02-08T10:22:37.532105",
     "status": "completed"
    },
    "tags": []
   },
   "outputs": [],
   "source": [
    "loaded_model = load('../models/stacking_clf.joblib')\n",
    "y_test_loaded = loaded_model.predict(X_test_scaled_selection)"
   ]
  }
 ],
 "metadata": {
  "jupytext": {
   "cell_metadata_filter": "-LanguageId",
   "formats": "ipynb,py:light",
   "main_language": "python",
   "notebook_metadata_filter": "-kernelspec"
  },
  "language_info": {
   "codemirror_mode": {
    "name": "ipython",
    "version": 3
   },
   "file_extension": ".py",
   "mimetype": "text/x-python",
   "name": "python",
   "nbconvert_exporter": "python",
   "pygments_lexer": "ipython3",
   "version": "3.10.9"
  },
  "papermill": {
   "default_parameters": {},
   "duration": 147.245252,
   "end_time": "2023-02-08T10:22:39.699639",
   "environment_variables": {},
   "exception": null,
   "input_path": "pyfra_nb_3.ipynb",
   "output_path": "pyfra_nb_3.ipynb",
   "parameters": {},
   "start_time": "2023-02-08T10:20:12.454387",
   "version": "2.4.0"
  }
 },
 "nbformat": 4,
 "nbformat_minor": 5
}