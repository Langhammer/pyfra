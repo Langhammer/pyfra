{
 "cells": [
  {
   "cell_type": "markdown",
   "id": "a1976247",
   "metadata": {
    "papermill": {
     "duration": 0.013984,
     "end_time": "2023-02-03T11:35:08.111953",
     "exception": false,
     "start_time": "2023-02-03T11:35:08.097969",
     "status": "completed"
    },
    "tags": []
   },
   "source": [
    "Notebook 3\n",
    "==============\n",
    "Modelling"
   ]
  },
  {
   "cell_type": "markdown",
   "id": "0347c0cc",
   "metadata": {
    "papermill": {
     "duration": 0.01401,
     "end_time": "2023-02-03T11:35:08.138961",
     "exception": false,
     "start_time": "2023-02-03T11:35:08.124951",
     "status": "completed"
    },
    "tags": []
   },
   "source": [
    "# Importing Packages and Data"
   ]
  },
  {
   "cell_type": "code",
   "execution_count": 1,
   "id": "693104e0",
   "metadata": {
    "execution": {
     "iopub.execute_input": "2023-02-03T11:35:08.169965Z",
     "iopub.status.busy": "2023-02-03T11:35:08.168967Z",
     "iopub.status.idle": "2023-02-03T11:35:12.888756Z",
     "shell.execute_reply": "2023-02-03T11:35:12.887742Z"
    },
    "lines_to_next_cell": 2,
    "papermill": {
     "duration": 4.739789,
     "end_time": "2023-02-03T11:35:12.891750",
     "exception": false,
     "start_time": "2023-02-03T11:35:08.151961",
     "status": "completed"
    },
    "tags": []
   },
   "outputs": [],
   "source": [
    "import pyfra\n",
    "import pandas as pd\n",
    "import numpy as np\n",
    "from matplotlib import pyplot as plt\n",
    "%matplotlib inline\n",
    "import seaborn as sns\n",
    "from sklearn.model_selection import train_test_split, GridSearchCV, RepeatedStratifiedKFold\n",
    "from sklearn.feature_selection import SelectKBest\n",
    "from sklearn.model_selection import RepeatedKFold\n",
    "from sklearn.linear_model import LogisticRegression\n",
    "from sklearn.ensemble import RandomForestClassifier, StackingClassifier \n",
    "from sklearn import svm\n",
    "from sklearn.tree import DecisionTreeClassifier, plot_tree\n",
    "from sklearn import preprocessing\n",
    "from sklearn.metrics import f1_score, accuracy_score, recall_score, make_scorer\n",
    "from imblearn import under_sampling\n",
    "from imblearn.under_sampling import RandomUnderSampler\n",
    "from time import sleep\n",
    "from sklearn.ensemble import AdaBoostClassifier"
   ]
  },
  {
   "cell_type": "code",
   "execution_count": 2,
   "id": "bc792e1f",
   "metadata": {
    "execution": {
     "iopub.execute_input": "2023-02-03T11:35:12.928751Z",
     "iopub.status.busy": "2023-02-03T11:35:12.925771Z",
     "iopub.status.idle": "2023-02-03T11:35:15.839148Z",
     "shell.execute_reply": "2023-02-03T11:35:15.838137Z"
    },
    "papermill": {
     "duration": 2.935401,
     "end_time": "2023-02-03T11:35:15.842147",
     "exception": false,
     "start_time": "2023-02-03T11:35:12.906746",
     "status": "completed"
    },
    "tags": []
   },
   "outputs": [],
   "source": [
    "df = pd.read_pickle('../data/df.p')\n",
    "n_rows_complete = len(df)"
   ]
  },
  {
   "cell_type": "code",
   "execution_count": 3,
   "id": "d971529f",
   "metadata": {
    "execution": {
     "iopub.execute_input": "2023-02-03T11:35:15.872156Z",
     "iopub.status.busy": "2023-02-03T11:35:15.871145Z",
     "iopub.status.idle": "2023-02-03T11:35:26.500271Z",
     "shell.execute_reply": "2023-02-03T11:35:26.496268Z"
    },
    "papermill": {
     "duration": 10.648116,
     "end_time": "2023-02-03T11:35:26.504266",
     "exception": false,
     "start_time": "2023-02-03T11:35:15.856150",
     "status": "completed"
    },
    "tags": []
   },
   "outputs": [],
   "source": [
    "# Check whether or not the data is up-to-date (file can't be tracked on github because of it's file size)\n",
    "pd.testing.assert_frame_equal(left=(pd.read_csv('../data/df_check_info.csv', index_col=0)), \\\n",
    "                         right=pyfra.df_testing_info(df),\\\n",
    "                         check_dtype=False, check_exact=False)"
   ]
  },
  {
   "cell_type": "code",
   "execution_count": 4,
   "id": "90a3c601",
   "metadata": {
    "execution": {
     "iopub.execute_input": "2023-02-03T11:35:26.539275Z",
     "iopub.status.busy": "2023-02-03T11:35:26.539275Z",
     "iopub.status.idle": "2023-02-03T11:35:26.560276Z",
     "shell.execute_reply": "2023-02-03T11:35:26.559275Z"
    },
    "papermill": {
     "duration": 0.040991,
     "end_time": "2023-02-03T11:35:26.563276",
     "exception": false,
     "start_time": "2023-02-03T11:35:26.522285",
     "status": "completed"
    },
    "tags": []
   },
   "outputs": [],
   "source": [
    "rus = RandomUnderSampler(random_state=23)"
   ]
  },
  {
   "cell_type": "code",
   "execution_count": 5,
   "id": "ab07776f",
   "metadata": {
    "execution": {
     "iopub.execute_input": "2023-02-03T11:35:26.593806Z",
     "iopub.status.busy": "2023-02-03T11:35:26.592289Z",
     "iopub.status.idle": "2023-02-03T11:35:28.666159Z",
     "shell.execute_reply": "2023-02-03T11:35:28.664150Z"
    },
    "papermill": {
     "duration": 2.091879,
     "end_time": "2023-02-03T11:35:28.669157",
     "exception": false,
     "start_time": "2023-02-03T11:35:26.577278",
     "status": "completed"
    },
    "tags": []
   },
   "outputs": [],
   "source": [
    "# Create a sample of the data, because the whole dataset is too big for us to work with\n",
    "relative_sample_size = 0.01\n",
    "df = df.sample(frac=relative_sample_size, random_state=23)"
   ]
  },
  {
   "cell_type": "code",
   "execution_count": 6,
   "id": "f3ad8edd",
   "metadata": {
    "execution": {
     "iopub.execute_input": "2023-02-03T11:35:28.703705Z",
     "iopub.status.busy": "2023-02-03T11:35:28.702703Z",
     "iopub.status.idle": "2023-02-03T11:35:28.802169Z",
     "shell.execute_reply": "2023-02-03T11:35:28.801157Z"
    },
    "papermill": {
     "duration": 0.119983,
     "end_time": "2023-02-03T11:35:28.806159",
     "exception": false,
     "start_time": "2023-02-03T11:35:28.686176",
     "status": "completed"
    },
    "tags": []
   },
   "outputs": [],
   "source": [
    "data = df.drop(columns='Severity',axis=1).select_dtypes(include=np.number).dropna(axis=1)\n",
    "target = df['Severity']\n",
    "data, target = rus.fit_resample(X=data, y=target)"
   ]
  },
  {
   "cell_type": "code",
   "execution_count": 7,
   "id": "c0462347",
   "metadata": {
    "execution": {
     "iopub.execute_input": "2023-02-03T11:35:28.845163Z",
     "iopub.status.busy": "2023-02-03T11:35:28.843172Z",
     "iopub.status.idle": "2023-02-03T11:35:28.866169Z",
     "shell.execute_reply": "2023-02-03T11:35:28.865160Z"
    },
    "papermill": {
     "duration": 0.042984,
     "end_time": "2023-02-03T11:35:28.870154",
     "exception": false,
     "start_time": "2023-02-03T11:35:28.827170",
     "status": "completed"
    },
    "tags": []
   },
   "outputs": [
    {
     "data": {
      "text/plain": [
       "1    1129\n",
       "2    1129\n",
       "3    1129\n",
       "4    1129\n",
       "Name: Severity, dtype: int64"
      ]
     },
     "execution_count": 7,
     "metadata": {},
     "output_type": "execute_result"
    }
   ],
   "source": [
    "target.value_counts()"
   ]
  },
  {
   "cell_type": "code",
   "execution_count": 8,
   "id": "aa7d7f74",
   "metadata": {
    "execution": {
     "iopub.execute_input": "2023-02-03T11:35:28.902702Z",
     "iopub.status.busy": "2023-02-03T11:35:28.902702Z",
     "iopub.status.idle": "2023-02-03T11:35:28.928714Z",
     "shell.execute_reply": "2023-02-03T11:35:28.927700Z"
    },
    "papermill": {
     "duration": 0.046521,
     "end_time": "2023-02-03T11:35:28.932699",
     "exception": false,
     "start_time": "2023-02-03T11:35:28.886178",
     "status": "completed"
    },
    "tags": []
   },
   "outputs": [
    {
     "name": "stdout",
     "output_type": "stream",
     "text": [
      "We are working on 4516 data points, which represent 0.0948% of the original data,\n"
     ]
    }
   ],
   "source": [
    "print(f'We are working on {len(target)} data points, which represent {len(target)/n_rows_complete*100:.04f}% of the original data,')"
   ]
  },
  {
   "cell_type": "code",
   "execution_count": 9,
   "id": "79ee7a18",
   "metadata": {
    "execution": {
     "iopub.execute_input": "2023-02-03T11:35:28.962717Z",
     "iopub.status.busy": "2023-02-03T11:35:28.961713Z",
     "iopub.status.idle": "2023-02-03T11:35:28.991723Z",
     "shell.execute_reply": "2023-02-03T11:35:28.990715Z"
    },
    "papermill": {
     "duration": 0.048506,
     "end_time": "2023-02-03T11:35:28.995225",
     "exception": false,
     "start_time": "2023-02-03T11:35:28.946719",
     "status": "completed"
    },
    "tags": []
   },
   "outputs": [],
   "source": [
    "X_train, X_test, y_train, y_test  = train_test_split(data, target, test_size=0.2 ,random_state=23)"
   ]
  },
  {
   "cell_type": "markdown",
   "id": "519c742c",
   "metadata": {
    "papermill": {
     "duration": 0.014028,
     "end_time": "2023-02-03T11:35:29.023270",
     "exception": false,
     "start_time": "2023-02-03T11:35:29.009242",
     "status": "completed"
    },
    "tags": []
   },
   "source": [
    "# Scaling the Data and Selecting Features"
   ]
  },
  {
   "cell_type": "code",
   "execution_count": 10,
   "id": "16ad75bf",
   "metadata": {
    "execution": {
     "iopub.execute_input": "2023-02-03T11:35:29.067244Z",
     "iopub.status.busy": "2023-02-03T11:35:29.066246Z",
     "iopub.status.idle": "2023-02-03T11:35:29.100509Z",
     "shell.execute_reply": "2023-02-03T11:35:29.098506Z"
    },
    "papermill": {
     "duration": 0.065261,
     "end_time": "2023-02-03T11:35:29.103504",
     "exception": false,
     "start_time": "2023-02-03T11:35:29.038243",
     "status": "completed"
    },
    "tags": []
   },
   "outputs": [],
   "source": [
    "std_scaler = preprocessing.StandardScaler().fit(X_train)\n",
    "X_train_scaled = std_scaler.transform(X_train)\n",
    "X_test_scaled = std_scaler.transform(X_test)"
   ]
  },
  {
   "cell_type": "code",
   "execution_count": 11,
   "id": "6daf404b",
   "metadata": {
    "execution": {
     "iopub.execute_input": "2023-02-03T11:35:29.140504Z",
     "iopub.status.busy": "2023-02-03T11:35:29.140504Z",
     "iopub.status.idle": "2023-02-03T11:35:29.163152Z",
     "shell.execute_reply": "2023-02-03T11:35:29.162147Z"
    },
    "papermill": {
     "duration": 0.047641,
     "end_time": "2023-02-03T11:35:29.166145",
     "exception": false,
     "start_time": "2023-02-03T11:35:29.118504",
     "status": "completed"
    },
    "tags": []
   },
   "outputs": [
    {
     "name": "stdout",
     "output_type": "stream",
     "text": [
      "We use 25 of the original 50 features\n"
     ]
    }
   ],
   "source": [
    "k_features = 25\n",
    "kbest_selector = SelectKBest(k=k_features)\n",
    "kbest_selector.fit(X_train_scaled,y_train);\n",
    "X_train_scaled_selection = kbest_selector.transform(X_train_scaled)\n",
    "X_test_scaled_selection = kbest_selector.transform(X_test_scaled)\n",
    "print(f'We use {k_features} of the original {df.shape[1]} features')"
   ]
  },
  {
   "cell_type": "code",
   "execution_count": 12,
   "id": "f1e886e2",
   "metadata": {
    "execution": {
     "iopub.execute_input": "2023-02-03T11:35:29.200677Z",
     "iopub.status.busy": "2023-02-03T11:35:29.199675Z",
     "iopub.status.idle": "2023-02-03T11:35:29.209682Z",
     "shell.execute_reply": "2023-02-03T11:35:29.208672Z"
    },
    "papermill": {
     "duration": 0.030517,
     "end_time": "2023-02-03T11:35:29.212675",
     "exception": false,
     "start_time": "2023-02-03T11:35:29.182158",
     "status": "completed"
    },
    "tags": []
   },
   "outputs": [],
   "source": [
    "k_best_feature_names = data.columns[kbest_selector.get_support(indices=True)]"
   ]
  },
  {
   "cell_type": "markdown",
   "id": "071135f6",
   "metadata": {
    "papermill": {
     "duration": 0.013997,
     "end_time": "2023-02-03T11:35:29.241684",
     "exception": false,
     "start_time": "2023-02-03T11:35:29.227687",
     "status": "completed"
    },
    "tags": []
   },
   "source": [
    "# Application of Machine Learning Models\n",
    "## Setup of Metrics Table"
   ]
  },
  {
   "cell_type": "code",
   "execution_count": 13,
   "id": "0c411233",
   "metadata": {
    "execution": {
     "iopub.execute_input": "2023-02-03T11:35:29.281708Z",
     "iopub.status.busy": "2023-02-03T11:35:29.280697Z",
     "iopub.status.idle": "2023-02-03T11:35:29.318276Z",
     "shell.execute_reply": "2023-02-03T11:35:29.317272Z"
    },
    "papermill": {
     "duration": 0.062575,
     "end_time": "2023-02-03T11:35:29.322271",
     "exception": false,
     "start_time": "2023-02-03T11:35:29.259696",
     "status": "completed"
    },
    "tags": []
   },
   "outputs": [
    {
     "data": {
      "text/html": [
       "<div>\n",
       "<style scoped>\n",
       "    .dataframe tbody tr th:only-of-type {\n",
       "        vertical-align: middle;\n",
       "    }\n",
       "\n",
       "    .dataframe tbody tr th {\n",
       "        vertical-align: top;\n",
       "    }\n",
       "\n",
       "    .dataframe thead th {\n",
       "        text-align: right;\n",
       "    }\n",
       "</style>\n",
       "<table border=\"1\" class=\"dataframe\">\n",
       "  <thead>\n",
       "    <tr style=\"text-align: right;\">\n",
       "      <th></th>\n",
       "      <th>model</th>\n",
       "      <th>f1</th>\n",
       "      <th>accuracy</th>\n",
       "      <th>recall</th>\n",
       "    </tr>\n",
       "  </thead>\n",
       "  <tbody>\n",
       "  </tbody>\n",
       "</table>\n",
       "</div>"
      ],
      "text/plain": [
       "Empty DataFrame\n",
       "Columns: [model, f1, accuracy, recall]\n",
       "Index: []"
      ]
     },
     "execution_count": 13,
     "metadata": {},
     "output_type": "execute_result"
    }
   ],
   "source": [
    "# Creating a matrix to store the results\n",
    "result_metrics = pd.DataFrame(columns=['model', 'f1', 'accuracy', 'recall'])\n",
    "result_metrics"
   ]
  },
  {
   "cell_type": "code",
   "execution_count": 14,
   "id": "6db01787",
   "metadata": {
    "execution": {
     "iopub.execute_input": "2023-02-03T11:35:29.358277Z",
     "iopub.status.busy": "2023-02-03T11:35:29.357281Z",
     "iopub.status.idle": "2023-02-03T11:35:29.382938Z",
     "shell.execute_reply": "2023-02-03T11:35:29.380956Z"
    },
    "papermill": {
     "duration": 0.046656,
     "end_time": "2023-02-03T11:35:29.384937",
     "exception": false,
     "start_time": "2023-02-03T11:35:29.338281",
     "status": "completed"
    },
    "tags": []
   },
   "outputs": [],
   "source": [
    "# Creating a function to compute and store the results for the respective model\n",
    "def store_metrics(model_name, model, y_test, y_pred, result_df):\n",
    "    result_df.loc[model_name, 'model'] = model\n",
    "    result_df.loc[model_name, 'f1'] = f1_score(y_true=y_test, y_pred=y_pred, average='weighted')\n",
    "    result_df.loc[model_name, 'accuracy'] = accuracy_score(y_true=y_test, y_pred=y_pred)\n",
    "    result_df.loc[model_name, 'recall'] = recall_score(y_true=y_test, y_pred=y_pred, average='weighted')\n",
    "    return result_df"
   ]
  },
  {
   "cell_type": "markdown",
   "id": "c74e4fe3",
   "metadata": {
    "papermill": {
     "duration": 0.01701,
     "end_time": "2023-02-03T11:35:29.422463",
     "exception": false,
     "start_time": "2023-02-03T11:35:29.405453",
     "status": "completed"
    },
    "tags": []
   },
   "source": [
    "## Setup of the Cross-Validator\n",
    "We will use a repeated stratified cross-validation to make sure to pick the best parameters.\n",
    "The stratification will be used to ensure an equal distribution of the different categories in every bin.\n",
    "The repetition will be used in order ensure that the result is not an outlier. We will set a lower the number of repetitions, however, to save execution time (default would be 10 repetitions)."
   ]
  },
  {
   "cell_type": "code",
   "execution_count": 15,
   "id": "264c9280",
   "metadata": {
    "execution": {
     "iopub.execute_input": "2023-02-03T11:35:29.456460Z",
     "iopub.status.busy": "2023-02-03T11:35:29.455467Z",
     "iopub.status.idle": "2023-02-03T11:35:29.476578Z",
     "shell.execute_reply": "2023-02-03T11:35:29.474567Z"
    },
    "papermill": {
     "duration": 0.042122,
     "end_time": "2023-02-03T11:35:29.480580",
     "exception": false,
     "start_time": "2023-02-03T11:35:29.438458",
     "status": "completed"
    },
    "tags": []
   },
   "outputs": [],
   "source": [
    "cv = RepeatedStratifiedKFold(n_splits=5, n_repeats=2, random_state=23)"
   ]
  },
  {
   "cell_type": "markdown",
   "id": "37c5a781",
   "metadata": {
    "papermill": {
     "duration": 0.015008,
     "end_time": "2023-02-03T11:35:29.512159",
     "exception": false,
     "start_time": "2023-02-03T11:35:29.497151",
     "status": "completed"
    },
    "tags": []
   },
   "source": [
    "## Support Vector Machine (SVM)\n",
    "\n",
    "A support vector machine classifier will be used with parameter optimization via grid search.\n",
    "\n",
    "### Setup of the SVM and the Grid Search"
   ]
  },
  {
   "cell_type": "code",
   "execution_count": 16,
   "id": "59f9dd26",
   "metadata": {
    "execution": {
     "iopub.execute_input": "2023-02-03T11:35:29.546144Z",
     "iopub.status.busy": "2023-02-03T11:35:29.546144Z",
     "iopub.status.idle": "2023-02-03T11:35:29.568184Z",
     "shell.execute_reply": "2023-02-03T11:35:29.566182Z"
    },
    "papermill": {
     "duration": 0.04404,
     "end_time": "2023-02-03T11:35:29.570186",
     "exception": false,
     "start_time": "2023-02-03T11:35:29.526146",
     "status": "completed"
    },
    "tags": []
   },
   "outputs": [],
   "source": [
    "# Instantiation of the SVM Classifier\n",
    "# We set the cache size to 1600 MB (default: 200 MB) to reduce the computing time.\n",
    "# The other parameters will be set via grid search.\n",
    "svc = svm.SVC(cache_size=1600)\n",
    "\n",
    "# Choosing the parameters for the grid search\n",
    "svc_params = {\n",
    "    'kernel': ['poly', 'rbf', 'sigmoid'],\n",
    "    'gamma': [0.1, 0.5, 'scale'],\n",
    "    'C': [0.1, 0.5, 1, 2]\n",
    "}\n",
    "\n",
    "# Setup of the scoring. \n",
    "# We have to define the parameter 'average', because we are not dealing with a binary classification.\n",
    "# Our sample is balanced, hence we can use a simple approach, using 'micro', which uses the global values of \n",
    "# true positives, false negatives and false positives.\n",
    "f1_scoring = make_scorer(score_func=f1_score, average='micro')\n",
    "\n",
    "# Instantiation of the GridSearchCv\n",
    "# n_jobs is set to -1 to use all available threads for computation.\n",
    "svc_grid = GridSearchCV(svc, param_grid=svc_params, scoring=f1_scoring, cv=cv, n_jobs=-1)"
   ]
  },
  {
   "cell_type": "markdown",
   "id": "dd5bb4a4",
   "metadata": {
    "papermill": {
     "duration": 0.018524,
     "end_time": "2023-02-03T11:35:29.602726",
     "exception": false,
     "start_time": "2023-02-03T11:35:29.584202",
     "status": "completed"
    },
    "tags": []
   },
   "source": [
    "### SVM Parameter Optimization, Training and Prediction"
   ]
  },
  {
   "cell_type": "code",
   "execution_count": 17,
   "id": "b6ac3b90",
   "metadata": {
    "execution": {
     "iopub.execute_input": "2023-02-03T11:35:29.640718Z",
     "iopub.status.busy": "2023-02-03T11:35:29.639717Z",
     "iopub.status.idle": "2023-02-03T11:37:18.880548Z",
     "shell.execute_reply": "2023-02-03T11:37:18.879514Z"
    },
    "papermill": {
     "duration": 109.264827,
     "end_time": "2023-02-03T11:37:18.883542",
     "exception": false,
     "start_time": "2023-02-03T11:35:29.618715",
     "status": "completed"
    },
    "tags": []
   },
   "outputs": [
    {
     "name": "stdout",
     "output_type": "stream",
     "text": [
      "Best parameter combination:  {'C': 0.5, 'gamma': 'scale', 'kernel': 'rbf'}\n"
     ]
    }
   ],
   "source": [
    "# Fitting the grid search to find the best parameter combination\n",
    "svc_grid.fit(X_train_scaled_selection, y_train)\n",
    "\n",
    "# Print result of parameter optimization\n",
    "print('Best parameter combination: ',svc_grid.best_params_)\n",
    "\n",
    "# Predict target variable for the test set\n",
    "svc = svc_grid.best_estimator_\n",
    "y_svc = svc.predict(X_test_scaled_selection)\n"
   ]
  },
  {
   "cell_type": "markdown",
   "id": "670ea099",
   "metadata": {
    "papermill": {
     "duration": 0.015007,
     "end_time": "2023-02-03T11:37:18.917548",
     "exception": false,
     "start_time": "2023-02-03T11:37:18.902541",
     "status": "completed"
    },
    "tags": []
   },
   "source": [
    "### Metrics of SVM"
   ]
  },
  {
   "cell_type": "code",
   "execution_count": 18,
   "id": "058ee755",
   "metadata": {
    "execution": {
     "iopub.execute_input": "2023-02-03T11:37:18.953546Z",
     "iopub.status.busy": "2023-02-03T11:37:18.952547Z",
     "iopub.status.idle": "2023-02-03T11:37:18.991443Z",
     "shell.execute_reply": "2023-02-03T11:37:18.989441Z"
    },
    "papermill": {
     "duration": 0.060889,
     "end_time": "2023-02-03T11:37:18.994442",
     "exception": false,
     "start_time": "2023-02-03T11:37:18.933553",
     "status": "completed"
    },
    "tags": []
   },
   "outputs": [
    {
     "data": {
      "text/html": [
       "<div>\n",
       "<style scoped>\n",
       "    .dataframe tbody tr th:only-of-type {\n",
       "        vertical-align: middle;\n",
       "    }\n",
       "\n",
       "    .dataframe tbody tr th {\n",
       "        vertical-align: top;\n",
       "    }\n",
       "\n",
       "    .dataframe thead th {\n",
       "        text-align: right;\n",
       "    }\n",
       "</style>\n",
       "<table border=\"1\" class=\"dataframe\">\n",
       "  <thead>\n",
       "    <tr style=\"text-align: right;\">\n",
       "      <th></th>\n",
       "      <th>model</th>\n",
       "      <th>f1</th>\n",
       "      <th>accuracy</th>\n",
       "      <th>recall</th>\n",
       "    </tr>\n",
       "  </thead>\n",
       "  <tbody>\n",
       "    <tr>\n",
       "      <th>Support Vector Machine</th>\n",
       "      <td>SVC(C=0.5, cache_size=1600)</td>\n",
       "      <td>0.399442</td>\n",
       "      <td>0.418142</td>\n",
       "      <td>0.418142</td>\n",
       "    </tr>\n",
       "  </tbody>\n",
       "</table>\n",
       "</div>"
      ],
      "text/plain": [
       "                                              model        f1  accuracy  \\\n",
       "Support Vector Machine  SVC(C=0.5, cache_size=1600)  0.399442  0.418142   \n",
       "\n",
       "                          recall  \n",
       "Support Vector Machine  0.418142  "
      ]
     },
     "execution_count": 18,
     "metadata": {},
     "output_type": "execute_result"
    }
   ],
   "source": [
    "# Calculate the metrics for the optimal svm model and store them in the result_metrics DataFrame \n",
    "# The model will be stored as well in the DataFrame\n",
    "result_metrics = store_metrics(model=svc, model_name='Support Vector Machine',\n",
    "                               y_test=y_test, y_pred=y_svc,\n",
    "                               result_df=result_metrics)\n",
    "# Show the interim result                               \n",
    "result_metrics"
   ]
  },
  {
   "cell_type": "markdown",
   "id": "7fd29716",
   "metadata": {
    "papermill": {
     "duration": 0.016005,
     "end_time": "2023-02-03T11:37:19.026457",
     "exception": false,
     "start_time": "2023-02-03T11:37:19.010452",
     "status": "completed"
    },
    "tags": []
   },
   "source": [
    "## Random Forest\n",
    "### Setup and GridSearch"
   ]
  },
  {
   "cell_type": "code",
   "execution_count": 19,
   "id": "4624d2cc",
   "metadata": {
    "execution": {
     "iopub.execute_input": "2023-02-03T11:37:19.061474Z",
     "iopub.status.busy": "2023-02-03T11:37:19.060480Z",
     "iopub.status.idle": "2023-02-03T11:38:29.703676Z",
     "shell.execute_reply": "2023-02-03T11:38:29.702675Z"
    },
    "papermill": {
     "duration": 70.671783,
     "end_time": "2023-02-03T11:38:29.714224",
     "exception": false,
     "start_time": "2023-02-03T11:37:19.042441",
     "status": "completed"
    },
    "tags": []
   },
   "outputs": [
    {
     "name": "stdout",
     "output_type": "stream",
     "text": [
      "Best Params are: {'criterion': 'gini', 'max_depth': 20, 'min_samples_leaf': 15, 'n_estimators': 50}\n",
      "Best Score is: 0.4352153040386509\n"
     ]
    }
   ],
   "source": [
    "params = {\n",
    "    'criterion': ['gini'],\n",
    "    'max_depth': [5,10,20],\n",
    "    'min_samples_leaf':[3,7,15],\n",
    "    'n_estimators': [50,100]\n",
    "    }\n",
    "\n",
    "RFCLF = GridSearchCV(RandomForestClassifier(),param_grid = params, cv = cv)\n",
    "RFCLF.fit(X_train_scaled_selection,y_train)\n",
    "\n",
    "print('Best Params are:',RFCLF.best_params_)\n",
    "print('Best Score is:',RFCLF.best_score_)"
   ]
  },
  {
   "cell_type": "markdown",
   "id": "20108837",
   "metadata": {
    "papermill": {
     "duration": 0.015003,
     "end_time": "2023-02-03T11:38:29.745223",
     "exception": false,
     "start_time": "2023-02-03T11:38:29.730220",
     "status": "completed"
    },
    "tags": []
   },
   "source": [
    "### Optimized Model and Metrics"
   ]
  },
  {
   "cell_type": "code",
   "execution_count": 20,
   "id": "cc04f7bb",
   "metadata": {
    "execution": {
     "iopub.execute_input": "2023-02-03T11:38:29.781227Z",
     "iopub.status.busy": "2023-02-03T11:38:29.781227Z",
     "iopub.status.idle": "2023-02-03T11:38:29.941023Z",
     "shell.execute_reply": "2023-02-03T11:38:29.939020Z"
    },
    "papermill": {
     "duration": 0.183809,
     "end_time": "2023-02-03T11:38:29.944032",
     "exception": false,
     "start_time": "2023-02-03T11:38:29.760223",
     "status": "completed"
    },
    "tags": []
   },
   "outputs": [
    {
     "name": "stdout",
     "output_type": "stream",
     "text": [
      "Prediction    1    2   3   4\n",
      "Real                        \n",
      "1           112   40  20  56\n",
      "2            21  153  35  24\n",
      "3            50   78  45  56\n",
      "4            74   33  21  86\n"
     ]
    },
    {
     "data": {
      "text/html": [
       "<div>\n",
       "<style scoped>\n",
       "    .dataframe tbody tr th:only-of-type {\n",
       "        vertical-align: middle;\n",
       "    }\n",
       "\n",
       "    .dataframe tbody tr th {\n",
       "        vertical-align: top;\n",
       "    }\n",
       "\n",
       "    .dataframe thead th {\n",
       "        text-align: right;\n",
       "    }\n",
       "</style>\n",
       "<table border=\"1\" class=\"dataframe\">\n",
       "  <thead>\n",
       "    <tr style=\"text-align: right;\">\n",
       "      <th></th>\n",
       "      <th>model</th>\n",
       "      <th>f1</th>\n",
       "      <th>accuracy</th>\n",
       "      <th>recall</th>\n",
       "    </tr>\n",
       "  </thead>\n",
       "  <tbody>\n",
       "    <tr>\n",
       "      <th>Support Vector Machine</th>\n",
       "      <td>SVC(C=0.5, cache_size=1600)</td>\n",
       "      <td>0.399442</td>\n",
       "      <td>0.418142</td>\n",
       "      <td>0.418142</td>\n",
       "    </tr>\n",
       "    <tr>\n",
       "      <th>Random Forest</th>\n",
       "      <td>(DecisionTreeClassifier(max_depth=20, max_feat...</td>\n",
       "      <td>0.421882</td>\n",
       "      <td>0.438053</td>\n",
       "      <td>0.438053</td>\n",
       "    </tr>\n",
       "  </tbody>\n",
       "</table>\n",
       "</div>"
      ],
      "text/plain": [
       "                                                                    model  \\\n",
       "Support Vector Machine                        SVC(C=0.5, cache_size=1600)   \n",
       "Random Forest           (DecisionTreeClassifier(max_depth=20, max_feat...   \n",
       "\n",
       "                              f1  accuracy    recall  \n",
       "Support Vector Machine  0.399442  0.418142  0.418142  \n",
       "Random Forest           0.421882  0.438053  0.438053  "
      ]
     },
     "execution_count": 20,
     "metadata": {},
     "output_type": "execute_result"
    }
   ],
   "source": [
    "rf = RFCLF.best_estimator_\n",
    "y_rf = rf.predict(X_test_scaled_selection)\n",
    "\n",
    "cm = pd.crosstab(y_test,y_rf, rownames=['Real'], colnames=['Prediction'])\n",
    "print(cm)\n",
    "\n",
    "result_metrics = store_metrics(model=rf, model_name='Random Forest',\n",
    "                               y_test=y_test, y_pred=y_rf,\n",
    "                               result_df=result_metrics)\n",
    "                              \n",
    "result_metrics"
   ]
  },
  {
   "cell_type": "markdown",
   "id": "e7b54e00",
   "metadata": {
    "papermill": {
     "duration": 0.019999,
     "end_time": "2023-02-03T11:38:29.984026",
     "exception": false,
     "start_time": "2023-02-03T11:38:29.964027",
     "status": "completed"
    },
    "tags": []
   },
   "source": [
    "# Logistic Regression"
   ]
  },
  {
   "cell_type": "code",
   "execution_count": 21,
   "id": "e8fdf301",
   "metadata": {
    "execution": {
     "iopub.execute_input": "2023-02-03T11:38:30.036603Z",
     "iopub.status.busy": "2023-02-03T11:38:30.036603Z",
     "iopub.status.idle": "2023-02-03T11:38:30.053594Z",
     "shell.execute_reply": "2023-02-03T11:38:30.050589Z"
    },
    "papermill": {
     "duration": 0.051542,
     "end_time": "2023-02-03T11:38:30.060587",
     "exception": false,
     "start_time": "2023-02-03T11:38:30.009045",
     "status": "completed"
    },
    "tags": []
   },
   "outputs": [],
   "source": [
    "#We use and define logistic Regression with n_jobs=-1 to use all cores\n",
    "LR = LogisticRegression()\n",
    "#for parameters we use 3 type of solver and 6 for C\n",
    "LR_params = {\n",
    "    'solver': ['liblinear', 'lbfgs', 'saga'], \n",
    "    'C': [10**(i) for i in range(-5, 5)]\n",
    "}\n",
    "\n",
    "f1_scoring = make_scorer(score_func=f1_score, average='micro')\n",
    "\n",
    "# Instantiation of the GridSearchCv\n",
    "LR_grid = GridSearchCV(LR, param_grid=LR_params, scoring=f1_scoring, cv=cv, n_jobs=-1)\n"
   ]
  },
  {
   "cell_type": "markdown",
   "id": "f9f7d8dc",
   "metadata": {
    "papermill": {
     "duration": 0.018017,
     "end_time": "2023-02-03T11:38:30.103604",
     "exception": false,
     "start_time": "2023-02-03T11:38:30.085587",
     "status": "completed"
    },
    "tags": []
   },
   "source": [
    "# LR Parameter Optimization, Training and Prediction"
   ]
  },
  {
   "cell_type": "code",
   "execution_count": 22,
   "id": "c25c2e81",
   "metadata": {
    "execution": {
     "iopub.execute_input": "2023-02-03T11:38:30.153718Z",
     "iopub.status.busy": "2023-02-03T11:38:30.152714Z",
     "iopub.status.idle": "2023-02-03T11:38:37.378015Z",
     "shell.execute_reply": "2023-02-03T11:38:37.376966Z"
    },
    "papermill": {
     "duration": 7.254295,
     "end_time": "2023-02-03T11:38:37.381007",
     "exception": false,
     "start_time": "2023-02-03T11:38:30.126712",
     "status": "completed"
    },
    "tags": []
   },
   "outputs": [
    {
     "name": "stdout",
     "output_type": "stream",
     "text": [
      "Best parameter combination:  {'C': 0.1, 'solver': 'lbfgs'}\n"
     ]
    }
   ],
   "source": [
    "# Fitting the grid search to find the best parameter combination\n",
    "LR_grid.fit(X_train_scaled_selection, y_train)\n",
    "\n",
    "# Print result of parameter optimization\n",
    "print('Best parameter combination: ',LR_grid.best_params_)\n",
    "\n",
    "# Predict target variable for the test set\n",
    "LR = LR_grid.best_estimator_\n",
    "y_LR = LR.predict(X_test_scaled_selection)"
   ]
  },
  {
   "cell_type": "markdown",
   "id": "85036b82",
   "metadata": {
    "papermill": {
     "duration": 0.016025,
     "end_time": "2023-02-03T11:38:37.413035",
     "exception": false,
     "start_time": "2023-02-03T11:38:37.397010",
     "status": "completed"
    },
    "tags": []
   },
   "source": [
    "## Metrics of LR"
   ]
  },
  {
   "cell_type": "code",
   "execution_count": 23,
   "id": "ecd7ecdd",
   "metadata": {
    "execution": {
     "iopub.execute_input": "2023-02-03T11:38:37.460571Z",
     "iopub.status.busy": "2023-02-03T11:38:37.459567Z",
     "iopub.status.idle": "2023-02-03T11:38:37.550131Z",
     "shell.execute_reply": "2023-02-03T11:38:37.549115Z"
    },
    "papermill": {
     "duration": 0.119571,
     "end_time": "2023-02-03T11:38:37.553133",
     "exception": false,
     "start_time": "2023-02-03T11:38:37.433562",
     "status": "completed"
    },
    "tags": []
   },
   "outputs": [
    {
     "data": {
      "text/html": [
       "<div>\n",
       "<style scoped>\n",
       "    .dataframe tbody tr th:only-of-type {\n",
       "        vertical-align: middle;\n",
       "    }\n",
       "\n",
       "    .dataframe tbody tr th {\n",
       "        vertical-align: top;\n",
       "    }\n",
       "\n",
       "    .dataframe thead th {\n",
       "        text-align: right;\n",
       "    }\n",
       "</style>\n",
       "<table border=\"1\" class=\"dataframe\">\n",
       "  <thead>\n",
       "    <tr style=\"text-align: right;\">\n",
       "      <th></th>\n",
       "      <th>model</th>\n",
       "      <th>f1</th>\n",
       "      <th>accuracy</th>\n",
       "      <th>recall</th>\n",
       "    </tr>\n",
       "  </thead>\n",
       "  <tbody>\n",
       "    <tr>\n",
       "      <th>Support Vector Machine</th>\n",
       "      <td>SVC(C=0.5, cache_size=1600)</td>\n",
       "      <td>0.399442</td>\n",
       "      <td>0.418142</td>\n",
       "      <td>0.418142</td>\n",
       "    </tr>\n",
       "    <tr>\n",
       "      <th>Random Forest</th>\n",
       "      <td>(DecisionTreeClassifier(max_depth=20, max_feat...</td>\n",
       "      <td>0.421882</td>\n",
       "      <td>0.438053</td>\n",
       "      <td>0.438053</td>\n",
       "    </tr>\n",
       "    <tr>\n",
       "      <th>Logistic Regression</th>\n",
       "      <td>LogisticRegression(C=0.1)</td>\n",
       "      <td>0.388846</td>\n",
       "      <td>0.399336</td>\n",
       "      <td>0.399336</td>\n",
       "    </tr>\n",
       "  </tbody>\n",
       "</table>\n",
       "</div>"
      ],
      "text/plain": [
       "                                                                    model  \\\n",
       "Support Vector Machine                        SVC(C=0.5, cache_size=1600)   \n",
       "Random Forest           (DecisionTreeClassifier(max_depth=20, max_feat...   \n",
       "Logistic Regression                             LogisticRegression(C=0.1)   \n",
       "\n",
       "                              f1  accuracy    recall  \n",
       "Support Vector Machine  0.399442  0.418142  0.418142  \n",
       "Random Forest           0.421882  0.438053  0.438053  \n",
       "Logistic Regression     0.388846  0.399336  0.399336  "
      ]
     },
     "execution_count": 23,
     "metadata": {},
     "output_type": "execute_result"
    }
   ],
   "source": [
    "# Calculate the metrics for the optimal LR model and store them in the result_metrics DataFrame \n",
    "# The model will be stored as well in the DataFrame\n",
    "result_metrics = store_metrics(model=LR, model_name='Logistic Regression',\n",
    "                               y_test=y_test, y_pred=y_LR,\n",
    "                               result_df=result_metrics)\n",
    "# Show the interim result                               \n",
    "result_metrics"
   ]
  },
  {
   "cell_type": "markdown",
   "id": "cff42873",
   "metadata": {
    "papermill": {
     "duration": 0.015003,
     "end_time": "2023-02-03T11:38:37.583130",
     "exception": false,
     "start_time": "2023-02-03T11:38:37.568127",
     "status": "completed"
    },
    "tags": []
   },
   "source": [
    "# Decision Tree"
   ]
  },
  {
   "cell_type": "markdown",
   "id": "e8320a0b",
   "metadata": {
    "papermill": {
     "duration": 0.016034,
     "end_time": "2023-02-03T11:38:37.615170",
     "exception": false,
     "start_time": "2023-02-03T11:38:37.599136",
     "status": "completed"
    },
    "tags": []
   },
   "source": [
    "## Setup of the DT and the Grid Search"
   ]
  },
  {
   "cell_type": "code",
   "execution_count": 24,
   "id": "883ea0a7",
   "metadata": {
    "execution": {
     "iopub.execute_input": "2023-02-03T11:38:37.649675Z",
     "iopub.status.busy": "2023-02-03T11:38:37.648674Z",
     "iopub.status.idle": "2023-02-03T11:38:38.439257Z",
     "shell.execute_reply": "2023-02-03T11:38:38.438250Z"
    },
    "papermill": {
     "duration": 0.812581,
     "end_time": "2023-02-03T11:38:38.443250",
     "exception": false,
     "start_time": "2023-02-03T11:38:37.630669",
     "status": "completed"
    },
    "tags": []
   },
   "outputs": [
    {
     "name": "stdout",
     "output_type": "stream",
     "text": [
      "Best Criterion: {'ccp_alpha': 0.0, 'class_weight': None, 'criterion': 'entropy', 'max_depth': 4, 'max_features': None, 'max_leaf_nodes': None, 'min_impurity_decrease': 0.0, 'min_samples_leaf': 1, 'min_samples_split': 2, 'min_weight_fraction_leaf': 0.0, 'random_state': None, 'splitter': 'best'}\n",
      "Best max_depth: {'ccp_alpha': 0.0, 'class_weight': None, 'criterion': 'entropy', 'max_depth': 4, 'max_features': None, 'max_leaf_nodes': None, 'min_impurity_decrease': 0.0, 'min_samples_leaf': 1, 'min_samples_split': 2, 'min_weight_fraction_leaf': 0.0, 'random_state': None, 'splitter': 'best'}\n",
      "\n",
      "{'ccp_alpha': 0.0, 'class_weight': None, 'criterion': 'entropy', 'max_depth': 4, 'max_features': None, 'max_leaf_nodes': None, 'min_impurity_decrease': 0.0, 'min_samples_leaf': 1, 'min_samples_split': 2, 'min_weight_fraction_leaf': 0.0, 'random_state': None, 'splitter': 'best'}\n"
     ]
    }
   ],
   "source": [
    "from sklearn import tree\n",
    "from sklearn.pipeline import Pipeline\n",
    "\n",
    "# Grid\n",
    "criterion = ['gini', 'entropy']\n",
    "max_depth = [2,4,6,8,10,12]\n",
    "parameters = dict(criterion=criterion, max_depth=max_depth)\n",
    "\n",
    "DT = GridSearchCV(DecisionTreeClassifier(),param_grid = parameters, cv = RepeatedKFold(n_splits=4, n_repeats=1, random_state=23))\n",
    "# \n",
    "DT.fit(X_train_scaled_selection,y_train)\n",
    "\n",
    "# \n",
    "print('Best Criterion:', DT.best_estimator_.get_params())\n",
    "print('Best max_depth:', DT.best_estimator_.get_params())\n",
    "print(); print(DT.best_estimator_.get_params())"
   ]
  },
  {
   "cell_type": "markdown",
   "id": "bbfc8c42",
   "metadata": {
    "papermill": {
     "duration": 0.018998,
     "end_time": "2023-02-03T11:38:38.480250",
     "exception": false,
     "start_time": "2023-02-03T11:38:38.461252",
     "status": "completed"
    },
    "tags": []
   },
   "source": [
    "## Metrics of Decision Tree"
   ]
  },
  {
   "cell_type": "code",
   "execution_count": 25,
   "id": "cf0fafaa",
   "metadata": {
    "execution": {
     "iopub.execute_input": "2023-02-03T11:38:38.517262Z",
     "iopub.status.busy": "2023-02-03T11:38:38.516258Z",
     "iopub.status.idle": "2023-02-03T11:38:38.610395Z",
     "shell.execute_reply": "2023-02-03T11:38:38.609391Z"
    },
    "papermill": {
     "duration": 0.116142,
     "end_time": "2023-02-03T11:38:38.614397",
     "exception": false,
     "start_time": "2023-02-03T11:38:38.498255",
     "status": "completed"
    },
    "tags": []
   },
   "outputs": [
    {
     "name": "stdout",
     "output_type": "stream",
     "text": [
      "Prediction   1    2  3    4\n",
      "Real                       \n",
      "1           34   60  0  134\n",
      "2            9  168  8   48\n",
      "3           26   99  6   98\n",
      "4           20   49  0  145\n"
     ]
    },
    {
     "data": {
      "text/html": [
       "<div>\n",
       "<style scoped>\n",
       "    .dataframe tbody tr th:only-of-type {\n",
       "        vertical-align: middle;\n",
       "    }\n",
       "\n",
       "    .dataframe tbody tr th {\n",
       "        vertical-align: top;\n",
       "    }\n",
       "\n",
       "    .dataframe thead th {\n",
       "        text-align: right;\n",
       "    }\n",
       "</style>\n",
       "<table border=\"1\" class=\"dataframe\">\n",
       "  <thead>\n",
       "    <tr style=\"text-align: right;\">\n",
       "      <th></th>\n",
       "      <th>model</th>\n",
       "      <th>f1</th>\n",
       "      <th>accuracy</th>\n",
       "      <th>recall</th>\n",
       "    </tr>\n",
       "  </thead>\n",
       "  <tbody>\n",
       "    <tr>\n",
       "      <th>Support Vector Machine</th>\n",
       "      <td>SVC(C=0.5, cache_size=1600)</td>\n",
       "      <td>0.399442</td>\n",
       "      <td>0.418142</td>\n",
       "      <td>0.418142</td>\n",
       "    </tr>\n",
       "    <tr>\n",
       "      <th>Random Forest</th>\n",
       "      <td>(DecisionTreeClassifier(max_depth=20, max_feat...</td>\n",
       "      <td>0.421882</td>\n",
       "      <td>0.438053</td>\n",
       "      <td>0.438053</td>\n",
       "    </tr>\n",
       "    <tr>\n",
       "      <th>Logistic Regression</th>\n",
       "      <td>LogisticRegression(C=0.1)</td>\n",
       "      <td>0.388846</td>\n",
       "      <td>0.399336</td>\n",
       "      <td>0.399336</td>\n",
       "    </tr>\n",
       "    <tr>\n",
       "      <th>Decision Tree</th>\n",
       "      <td>DecisionTreeClassifier(criterion='entropy', ma...</td>\n",
       "      <td>0.316249</td>\n",
       "      <td>0.390487</td>\n",
       "      <td>0.390487</td>\n",
       "    </tr>\n",
       "  </tbody>\n",
       "</table>\n",
       "</div>"
      ],
      "text/plain": [
       "                                                                    model  \\\n",
       "Support Vector Machine                        SVC(C=0.5, cache_size=1600)   \n",
       "Random Forest           (DecisionTreeClassifier(max_depth=20, max_feat...   \n",
       "Logistic Regression                             LogisticRegression(C=0.1)   \n",
       "Decision Tree           DecisionTreeClassifier(criterion='entropy', ma...   \n",
       "\n",
       "                              f1  accuracy    recall  \n",
       "Support Vector Machine  0.399442  0.418142  0.418142  \n",
       "Random Forest           0.421882  0.438053  0.438053  \n",
       "Logistic Regression     0.388846  0.399336  0.399336  \n",
       "Decision Tree           0.316249  0.390487  0.390487  "
      ]
     },
     "execution_count": 25,
     "metadata": {},
     "output_type": "execute_result"
    }
   ],
   "source": [
    "dt = DT.best_estimator_\n",
    "y_dt = dt.predict(X_test_scaled_selection)\n",
    "cm = pd.crosstab(y_test,y_dt, rownames=['Real'], colnames=['Prediction'])\n",
    "print(cm)\n",
    "result_metrics = store_metrics(model=dt, model_name='Decision Tree',\n",
    "                               y_test=y_test, y_pred=y_dt,\n",
    "                               result_df=result_metrics)\n",
    "                              \n",
    "result_metrics"
   ]
  },
  {
   "cell_type": "code",
   "execution_count": 26,
   "id": "c3186f6c",
   "metadata": {
    "execution": {
     "iopub.execute_input": "2023-02-03T11:38:38.655915Z",
     "iopub.status.busy": "2023-02-03T11:38:38.655915Z",
     "iopub.status.idle": "2023-02-03T11:38:39.785892Z",
     "shell.execute_reply": "2023-02-03T11:38:39.784855Z"
    },
    "papermill": {
     "duration": 1.157966,
     "end_time": "2023-02-03T11:38:39.789877",
     "exception": false,
     "start_time": "2023-02-03T11:38:38.631911",
     "status": "completed"
    },
    "tags": []
   },
   "outputs": [
    {
     "data": {
      "image/png": "[encoded data removed]",
      "text/plain": [
       "<Figure size 1200x600 with 1 Axes>"
      ]
     },
     "metadata": {},
     "output_type": "display_data"
    }
   ],
   "source": [
    "# ## Interpretation of the Decision Tree\n",
    "# Decision trees are known to have a high interpretability compared to other machine learning models. The performance of the applied model is worse than the ones of the other models, but we can easily plot the tree and gain insights.\n",
    "from sklearn.tree import plot_tree\n",
    "fig = plt.figure(figsize=(12,6));\n",
    "plot_tree(dt,max_depth=2, fontsize=8, feature_names=k_best_feature_names);\n",
    "\n",
    "# The plot shows that the most important feature (according to the decision tree) is built-up_area. This binary variable cointains the information, whether the accident happened in a built-up area. We already showed in the first notebook that there seems to be a positive relation between the density of an area and it's **number** of accident. The decision tree here suggests that the **severity** is also affected by a dense population."
   ]
  },
  {
   "cell_type": "markdown",
   "id": "65ac35a2",
   "metadata": {
    "lines_to_next_cell": 2,
    "papermill": {
     "duration": 0.023536,
     "end_time": "2023-02-03T11:38:39.833438",
     "exception": false,
     "start_time": "2023-02-03T11:38:39.809902",
     "status": "completed"
    },
    "tags": []
   },
   "source": [
    "# Application of Advanced Models"
   ]
  },
  {
   "cell_type": "markdown",
   "id": "0791cbcd",
   "metadata": {
    "papermill": {
     "duration": 0.027015,
     "end_time": "2023-02-03T11:38:39.880437",
     "exception": false,
     "start_time": "2023-02-03T11:38:39.853422",
     "status": "completed"
    },
    "tags": []
   },
   "source": [
    "## Stacking Classifier"
   ]
  },
  {
   "cell_type": "code",
   "execution_count": 27,
   "id": "25122633",
   "metadata": {
    "execution": {
     "iopub.execute_input": "2023-02-03T11:38:39.919453Z",
     "iopub.status.busy": "2023-02-03T11:38:39.919453Z",
     "iopub.status.idle": "2023-02-03T11:38:43.451453Z",
     "shell.execute_reply": "2023-02-03T11:38:43.450442Z"
    },
    "lines_to_next_cell": 0,
    "papermill": {
     "duration": 3.555018,
     "end_time": "2023-02-03T11:38:43.454442",
     "exception": false,
     "start_time": "2023-02-03T11:38:39.899424",
     "status": "completed"
    },
    "tags": []
   },
   "outputs": [
    {
     "data": {
      "text/html": [
       "<div>\n",
       "<style scoped>\n",
       "    .dataframe tbody tr th:only-of-type {\n",
       "        vertical-align: middle;\n",
       "    }\n",
       "\n",
       "    .dataframe tbody tr th {\n",
       "        vertical-align: top;\n",
       "    }\n",
       "\n",
       "    .dataframe thead th {\n",
       "        text-align: right;\n",
       "    }\n",
       "</style>\n",
       "<table border=\"1\" class=\"dataframe\">\n",
       "  <thead>\n",
       "    <tr style=\"text-align: right;\">\n",
       "      <th></th>\n",
       "      <th>model</th>\n",
       "      <th>f1</th>\n",
       "      <th>accuracy</th>\n",
       "      <th>recall</th>\n",
       "    </tr>\n",
       "  </thead>\n",
       "  <tbody>\n",
       "    <tr>\n",
       "      <th>Support Vector Machine</th>\n",
       "      <td>SVC(C=0.5, cache_size=1600)</td>\n",
       "      <td>0.399442</td>\n",
       "      <td>0.418142</td>\n",
       "      <td>0.418142</td>\n",
       "    </tr>\n",
       "    <tr>\n",
       "      <th>Random Forest</th>\n",
       "      <td>(DecisionTreeClassifier(max_depth=20, max_feat...</td>\n",
       "      <td>0.421882</td>\n",
       "      <td>0.438053</td>\n",
       "      <td>0.438053</td>\n",
       "    </tr>\n",
       "    <tr>\n",
       "      <th>Logistic Regression</th>\n",
       "      <td>LogisticRegression(C=0.1)</td>\n",
       "      <td>0.388846</td>\n",
       "      <td>0.399336</td>\n",
       "      <td>0.399336</td>\n",
       "    </tr>\n",
       "    <tr>\n",
       "      <th>Decision Tree</th>\n",
       "      <td>DecisionTreeClassifier(criterion='entropy', ma...</td>\n",
       "      <td>0.316249</td>\n",
       "      <td>0.390487</td>\n",
       "      <td>0.390487</td>\n",
       "    </tr>\n",
       "    <tr>\n",
       "      <th>Stacking</th>\n",
       "      <td>StackingClassifier(cv='prefit',\\n             ...</td>\n",
       "      <td>0.40707</td>\n",
       "      <td>0.422566</td>\n",
       "      <td>0.422566</td>\n",
       "    </tr>\n",
       "  </tbody>\n",
       "</table>\n",
       "</div>"
      ],
      "text/plain": [
       "                                                                    model  \\\n",
       "Support Vector Machine                        SVC(C=0.5, cache_size=1600)   \n",
       "Random Forest           (DecisionTreeClassifier(max_depth=20, max_feat...   \n",
       "Logistic Regression                             LogisticRegression(C=0.1)   \n",
       "Decision Tree           DecisionTreeClassifier(criterion='entropy', ma...   \n",
       "Stacking                StackingClassifier(cv='prefit',\\n             ...   \n",
       "\n",
       "                              f1  accuracy    recall  \n",
       "Support Vector Machine  0.399442  0.418142  0.418142  \n",
       "Random Forest           0.421882  0.438053  0.438053  \n",
       "Logistic Regression     0.388846  0.399336  0.399336  \n",
       "Decision Tree           0.316249  0.390487  0.390487  \n",
       "Stacking                 0.40707  0.422566  0.422566  "
      ]
     },
     "execution_count": 27,
     "metadata": {},
     "output_type": "execute_result"
    }
   ],
   "source": [
    "estimators = [('lr', LR), ('svc', svc), ('rf', rf)]\n",
    "stacking_clf = StackingClassifier(estimators=estimators, final_estimator=svc, cv='prefit', n_jobs=-1)\n",
    "\n",
    "stacking_clf.fit(X_train_scaled_selection, y_train)\n",
    "y_stacking = stacking_clf.predict(X_test_scaled_selection)\n",
    "result_metrics = store_metrics(model=stacking_clf, model_name='Stacking',\n",
    "                               y_test=y_test, y_pred=y_stacking,\n",
    "                               result_df=result_metrics)\n",
    "result_metrics"
   ]
  },
  {
   "cell_type": "markdown",
   "id": "cb3d8837",
   "metadata": {
    "papermill": {
     "duration": 0.01798,
     "end_time": "2023-02-03T11:38:43.490451",
     "exception": false,
     "start_time": "2023-02-03T11:38:43.472471",
     "status": "completed"
    },
    "tags": []
   },
   "source": [
    "# ADA Boosting"
   ]
  },
  {
   "cell_type": "code",
   "execution_count": 28,
   "id": "8b03698a",
   "metadata": {
    "execution": {
     "iopub.execute_input": "2023-02-03T11:38:43.528982Z",
     "iopub.status.busy": "2023-02-03T11:38:43.528982Z",
     "iopub.status.idle": "2023-02-03T11:38:55.028532Z",
     "shell.execute_reply": "2023-02-03T11:38:55.027009Z"
    },
    "papermill": {
     "duration": 11.524081,
     "end_time": "2023-02-03T11:38:55.032545",
     "exception": false,
     "start_time": "2023-02-03T11:38:43.508464",
     "status": "completed"
    },
    "tags": []
   },
   "outputs": [],
   "source": [
    "#Trying ADA boosting on LogisticRegresiion\n",
    "ADA_Boost = AdaBoostClassifier(estimator = LR , n_estimators = 1000)\n",
    "ADA_Boost.fit(X_train_scaled_selection, y_train)\n",
    "y_ada = ADA_Boost.predict(X_test_scaled_selection)"
   ]
  },
  {
   "cell_type": "code",
   "execution_count": 29,
   "id": "4a1602b9",
   "metadata": {
    "execution": {
     "iopub.execute_input": "2023-02-03T11:38:55.075550Z",
     "iopub.status.busy": "2023-02-03T11:38:55.074562Z",
     "iopub.status.idle": "2023-02-03T11:38:55.231511Z",
     "shell.execute_reply": "2023-02-03T11:38:55.230458Z"
    },
    "papermill": {
     "duration": 0.178957,
     "end_time": "2023-02-03T11:38:55.234508",
     "exception": false,
     "start_time": "2023-02-03T11:38:55.055551",
     "status": "completed"
    },
    "tags": []
   },
   "outputs": [
    {
     "data": {
      "text/html": [
       "<div>\n",
       "<style scoped>\n",
       "    .dataframe tbody tr th:only-of-type {\n",
       "        vertical-align: middle;\n",
       "    }\n",
       "\n",
       "    .dataframe tbody tr th {\n",
       "        vertical-align: top;\n",
       "    }\n",
       "\n",
       "    .dataframe thead th {\n",
       "        text-align: right;\n",
       "    }\n",
       "</style>\n",
       "<table border=\"1\" class=\"dataframe\">\n",
       "  <thead>\n",
       "    <tr style=\"text-align: right;\">\n",
       "      <th></th>\n",
       "      <th>model</th>\n",
       "      <th>f1</th>\n",
       "      <th>accuracy</th>\n",
       "      <th>recall</th>\n",
       "    </tr>\n",
       "  </thead>\n",
       "  <tbody>\n",
       "    <tr>\n",
       "      <th>Support Vector Machine</th>\n",
       "      <td>SVC(C=0.5, cache_size=1600)</td>\n",
       "      <td>0.399442</td>\n",
       "      <td>0.418142</td>\n",
       "      <td>0.418142</td>\n",
       "    </tr>\n",
       "    <tr>\n",
       "      <th>Random Forest</th>\n",
       "      <td>(DecisionTreeClassifier(max_depth=20, max_feat...</td>\n",
       "      <td>0.421882</td>\n",
       "      <td>0.438053</td>\n",
       "      <td>0.438053</td>\n",
       "    </tr>\n",
       "    <tr>\n",
       "      <th>Logistic Regression</th>\n",
       "      <td>LogisticRegression(C=0.1)</td>\n",
       "      <td>0.388846</td>\n",
       "      <td>0.399336</td>\n",
       "      <td>0.399336</td>\n",
       "    </tr>\n",
       "    <tr>\n",
       "      <th>Decision Tree</th>\n",
       "      <td>DecisionTreeClassifier(criterion='entropy', ma...</td>\n",
       "      <td>0.316249</td>\n",
       "      <td>0.390487</td>\n",
       "      <td>0.390487</td>\n",
       "    </tr>\n",
       "    <tr>\n",
       "      <th>Stacking</th>\n",
       "      <td>StackingClassifier(cv='prefit',\\n             ...</td>\n",
       "      <td>0.40707</td>\n",
       "      <td>0.422566</td>\n",
       "      <td>0.422566</td>\n",
       "    </tr>\n",
       "    <tr>\n",
       "      <th>ADA Boost</th>\n",
       "      <td>(LogisticRegression(C=0.1, random_state=773586...</td>\n",
       "      <td>0.370354</td>\n",
       "      <td>0.379425</td>\n",
       "      <td>0.379425</td>\n",
       "    </tr>\n",
       "  </tbody>\n",
       "</table>\n",
       "</div>"
      ],
      "text/plain": [
       "                                                                    model  \\\n",
       "Support Vector Machine                        SVC(C=0.5, cache_size=1600)   \n",
       "Random Forest           (DecisionTreeClassifier(max_depth=20, max_feat...   \n",
       "Logistic Regression                             LogisticRegression(C=0.1)   \n",
       "Decision Tree           DecisionTreeClassifier(criterion='entropy', ma...   \n",
       "Stacking                StackingClassifier(cv='prefit',\\n             ...   \n",
       "ADA Boost               (LogisticRegression(C=0.1, random_state=773586...   \n",
       "\n",
       "                              f1  accuracy    recall  \n",
       "Support Vector Machine  0.399442  0.418142  0.418142  \n",
       "Random Forest           0.421882  0.438053  0.438053  \n",
       "Logistic Regression     0.388846  0.399336  0.399336  \n",
       "Decision Tree           0.316249  0.390487  0.390487  \n",
       "Stacking                 0.40707  0.422566  0.422566  \n",
       "ADA Boost               0.370354  0.379425  0.379425  "
      ]
     },
     "execution_count": 29,
     "metadata": {},
     "output_type": "execute_result"
    }
   ],
   "source": [
    "result_metrics = store_metrics(model=ADA_Boost, model_name='ADA Boost',\n",
    "                               y_test=y_test, y_pred=y_ada,\n",
    "                               result_df=result_metrics)\n",
    "# Show the interim result                               \n",
    "result_metrics"
   ]
  },
  {
   "cell_type": "markdown",
   "id": "8378681c",
   "metadata": {
    "papermill": {
     "duration": 0.019004,
     "end_time": "2023-02-03T11:38:55.272525",
     "exception": false,
     "start_time": "2023-02-03T11:38:55.253521",
     "status": "completed"
    },
    "tags": []
   },
   "source": [
    "\n",
    "# Results and Conclusion"
   ]
  },
  {
   "cell_type": "markdown",
   "id": "0d404705",
   "metadata": {
    "papermill": {
     "duration": 0.018011,
     "end_time": "2023-02-03T11:38:55.308533",
     "exception": false,
     "start_time": "2023-02-03T11:38:55.290522",
     "status": "completed"
    },
    "tags": []
   },
   "source": [
    "## Comparison of the Performances"
   ]
  },
  {
   "cell_type": "code",
   "execution_count": 30,
   "id": "687ff6f9",
   "metadata": {
    "execution": {
     "iopub.execute_input": "2023-02-03T11:38:55.348056Z",
     "iopub.status.busy": "2023-02-03T11:38:55.347065Z",
     "iopub.status.idle": "2023-02-03T11:38:55.957538Z",
     "shell.execute_reply": "2023-02-03T11:38:55.956462Z"
    },
    "papermill": {
     "duration": 0.633927,
     "end_time": "2023-02-03T11:38:55.960460",
     "exception": false,
     "start_time": "2023-02-03T11:38:55.326533",
     "status": "completed"
    },
    "tags": []
   },
   "outputs": [
    {
     "data": {
      "image/png": "[encoded data removed]",
      "text/plain": [
       "<Figure size 640x480 with 1 Axes>"
      ]
     },
     "metadata": {},
     "output_type": "display_data"
    }
   ],
   "source": [
    "plt.barh(y=result_metrics.index.values, width=result_metrics['f1']);\n",
    "plt.title('$F_1$ Score of different ML models');"
   ]
  },
  {
   "cell_type": "markdown",
   "id": "28fa58cd",
   "metadata": {
    "papermill": {
     "duration": 0.022865,
     "end_time": "2023-02-03T11:38:56.004328",
     "exception": false,
     "start_time": "2023-02-03T11:38:55.981463",
     "status": "completed"
    },
    "tags": []
   },
   "source": [
    "The results show a comparable performance for all machine learning models, with the advanced stacking classifier giving the best score (f_1) and the decision tree giving the worst score. \n",
    "\n",
    "There are a few things to consider when analyzing these results.\n",
    "1. We worked on a very small partition of the dataset in order to achieve acceptable execution times. We expect to reach higher performances when working with more data.\n",
    "2. The classifiers based on logistic regression and decision trees have low scores, are not necessarily unfit for the dataset, as they offer more interpretability than the advanced models. This interpretability could help e.g. policy makers to take measures in order to reduce the severity of road accidents.\n",
    "3. A strong correlation between severity and safety measurements (e.g. safety belt) is expected. Unfortunately, this feature could not be used because useful is only available for the last years (2018--)."
   ]
  },
  {
   "cell_type": "markdown",
   "id": "b3a7f22a",
   "metadata": {
    "papermill": {
     "duration": 0.02452,
     "end_time": "2023-02-03T11:38:56.050860",
     "exception": false,
     "start_time": "2023-02-03T11:38:56.026340",
     "status": "completed"
    },
    "tags": []
   },
   "source": [
    "## Analysis of the Correlation Matrix"
   ]
  },
  {
   "cell_type": "code",
   "execution_count": 31,
   "id": "6a71fde6",
   "metadata": {
    "execution": {
     "iopub.execute_input": "2023-02-03T11:38:56.095853Z",
     "iopub.status.busy": "2023-02-03T11:38:56.094852Z",
     "iopub.status.idle": "2023-02-03T11:38:56.445101Z",
     "shell.execute_reply": "2023-02-03T11:38:56.444081Z"
    },
    "papermill": {
     "duration": 0.375225,
     "end_time": "2023-02-03T11:38:56.448090",
     "exception": false,
     "start_time": "2023-02-03T11:38:56.072865",
     "status": "completed"
    },
    "tags": []
   },
   "outputs": [
    {
     "data": {
      "image/png": "[encoded data removed]",
      "text/plain": [
       "<Figure size 400x400 with 2 Axes>"
      ]
     },
     "metadata": {},
     "output_type": "display_data"
    }
   ],
   "source": [
    "cm = pd.crosstab(y_test, y_stacking, rownames=['observations'], colnames=['predictions']);\n",
    "severity_categories = (\"Unscathed\",\"Killed\", \"Hospitalized\\nwounded\", \"Light injury\")\n",
    "plt.figure(figsize=(4,4))\n",
    "plt.title('Correlation Matrix of the Stacking Classifier');\n",
    "sns.heatmap(cm, annot=True);\n",
    "plt.xticks(np.array(range(4))+0.5, labels=severity_categories, rotation=45);\n",
    "plt.yticks(np.array(range(4))+0.5, labels=severity_categories, rotation=0);"
   ]
  },
  {
   "cell_type": "markdown",
   "id": "1d698e01",
   "metadata": {
    "papermill": {
     "duration": 0.023005,
     "end_time": "2023-02-03T11:38:56.492101",
     "exception": false,
     "start_time": "2023-02-03T11:38:56.469096",
     "status": "completed"
    },
    "tags": []
   },
   "source": [
    "The correlation matrix of the stacking classifier shows that some categories are more difficult to predict than others. The category \"Hospitalized wounded\" seems to be the most difficult to predict, as the predictions seem to be quite evenly distributed between the different classes. We can quantify these difficulties by looking at the scores for accuracy and recall for each category."
   ]
  },
  {
   "cell_type": "code",
   "execution_count": 32,
   "id": "2af63426",
   "metadata": {
    "execution": {
     "iopub.execute_input": "2023-02-03T11:38:56.542632Z",
     "iopub.status.busy": "2023-02-03T11:38:56.541639Z",
     "iopub.status.idle": "2023-02-03T11:38:56.572050Z",
     "shell.execute_reply": "2023-02-03T11:38:56.571018Z"
    },
    "papermill": {
     "duration": 0.06396,
     "end_time": "2023-02-03T11:38:56.576052",
     "exception": false,
     "start_time": "2023-02-03T11:38:56.512092",
     "status": "completed"
    },
    "tags": []
   },
   "outputs": [
    {
     "name": "stdout",
     "output_type": "stream",
     "text": [
      "                      precision    recall  f1-score   support\n",
      "\n",
      "           Unscathed       0.44      0.51      0.47       228\n",
      "              Killed       0.47      0.63      0.54       233\n",
      "Hospitalized wounded       0.35      0.21      0.26       229\n",
      "        Light injury       0.37      0.33      0.35       214\n",
      "\n",
      "            accuracy                           0.42       904\n",
      "           macro avg       0.41      0.42      0.41       904\n",
      "        weighted avg       0.41      0.42      0.41       904\n",
      "\n"
     ]
    }
   ],
   "source": [
    "from sklearn.metrics import classification_report\n",
    "severity_categories = (\"Unscathed\",\"Killed\", \"Hospitalized wounded\", \"Light injury\")\n",
    "print(classification_report(y_true=y_test, y_pred=y_stacking, target_names=severity_categories))"
   ]
  },
  {
   "cell_type": "markdown",
   "id": "d7aae049",
   "metadata": {
    "papermill": {
     "duration": 0.020008,
     "end_time": "2023-02-03T11:38:56.616057",
     "exception": false,
     "start_time": "2023-02-03T11:38:56.596049",
     "status": "completed"
    },
    "tags": []
   },
   "source": [
    "The classification report reflects our observations from the correlation matrix. It is satisfying that the categorie \"Killed\" is predicted with the highest accuracy; we consider this category as particularly important."
   ]
  },
  {
   "cell_type": "code",
   "execution_count": 33,
   "id": "29e7c6ca",
   "metadata": {
    "execution": {
     "iopub.execute_input": "2023-02-03T11:38:56.659568Z",
     "iopub.status.busy": "2023-02-03T11:38:56.658571Z",
     "iopub.status.idle": "2023-02-03T11:38:56.746235Z",
     "shell.execute_reply": "2023-02-03T11:38:56.744241Z"
    },
    "papermill": {
     "duration": 0.112663,
     "end_time": "2023-02-03T11:38:56.748235",
     "exception": false,
     "start_time": "2023-02-03T11:38:56.635572",
     "status": "completed"
    },
    "tags": []
   },
   "outputs": [
    {
     "data": {
      "text/plain": [
       "['../models/stacking_clf.joblib']"
      ]
     },
     "execution_count": 33,
     "metadata": {},
     "output_type": "execute_result"
    }
   ],
   "source": [
    "# Saving the models for further use and investigation\n",
    "from joblib import dump, load\n",
    "\n",
    "\n",
    "dump(stacking_clf, '../models/stacking_clf.joblib')"
   ]
  },
  {
   "cell_type": "code",
   "execution_count": 34,
   "id": "772659cd",
   "metadata": {
    "execution": {
     "iopub.execute_input": "2023-02-03T11:38:56.790239Z",
     "iopub.status.busy": "2023-02-03T11:38:56.789245Z",
     "iopub.status.idle": "2023-02-03T11:38:57.736654Z",
     "shell.execute_reply": "2023-02-03T11:38:57.735653Z"
    },
    "lines_to_next_cell": 2,
    "papermill": {
     "duration": 0.970419,
     "end_time": "2023-02-03T11:38:57.739655",
     "exception": false,
     "start_time": "2023-02-03T11:38:56.769236",
     "status": "completed"
    },
    "tags": []
   },
   "outputs": [],
   "source": [
    "loaded_model = load('../models/stacking_clf.joblib')\n",
    "y_test_loaded = loaded_model.predict(X_test_scaled_selection)"
   ]
  }
 ],
 "metadata": {
  "jupytext": {
   "cell_metadata_filter": "-LanguageId",
   "formats": "ipynb,py:light",
   "main_language": "python",
   "notebook_metadata_filter": "-kernelspec"
  },
  "language_info": {
   "codemirror_mode": {
    "name": "ipython",
    "version": 3
   },
   "file_extension": ".py",
   "mimetype": "text/x-python",
   "name": "python",
   "nbconvert_exporter": "python",
   "pygments_lexer": "ipython3",
   "version": "3.10.9"
  },
  "papermill": {
   "default_parameters": {},
   "duration": 234.419728,
   "end_time": "2023-02-03T11:38:58.889289",
   "environment_variables": {},
   "exception": null,
   "input_path": "pyfra_nb_3.ipynb",
   "output_path": "pyfra_nb_3.ipynb",
   "parameters": {},
   "start_time": "2023-02-03T11:35:04.469561",
   "version": "2.4.0"
  }
 },
 "nbformat": 4,
 "nbformat_minor": 5
}