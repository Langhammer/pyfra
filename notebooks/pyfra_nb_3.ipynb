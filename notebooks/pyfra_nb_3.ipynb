{
 "cells": [
  {
   "cell_type": "markdown",
   "id": "5e5f7b16",
   "metadata": {},
   "source": [
    "Notebook 3\n",
    "==============\n",
    "Modelling"
   ]
  },
  {
   "cell_type": "markdown",
   "id": "53b880f8",
   "metadata": {},
   "source": [
    "# Importing Packages and Data"
   ]
  },
  {
   "cell_type": "code",
   "execution_count": 1,
   "id": "6154d202",
   "metadata": {
    "lines_to_next_cell": 2
   },
   "outputs": [],
   "source": [
    "import pyfra\n",
    "import pandas as pd\n",
    "import numpy as np\n",
    "from matplotlib import pyplot as plt\n",
    "%matplotlib inline\n",
    "import seaborn as sns\n",
    "from sklearn.model_selection import train_test_split, GridSearchCV, RepeatedStratifiedKFold\n",
    "from sklearn.feature_selection import SelectKBest\n",
    "from sklearn.model_selection import RepeatedKFold\n",
    "from sklearn.linear_model import LogisticRegression\n",
    "from sklearn.ensemble import RandomForestClassifier, StackingClassifier \n",
    "from sklearn import svm\n",
    "from sklearn.tree import DecisionTreeClassifier, plot_tree\n",
    "from sklearn import preprocessing\n",
    "from sklearn.metrics import f1_score, accuracy_score, recall_score, make_scorer\n",
    "from imblearn import under_sampling\n",
    "from imblearn.under_sampling import RandomUnderSampler\n",
    "from time import sleep\n",
    "from tqdm.notebook import tqdm\n",
    "from sklearn.ensemble import AdaBoostClassifier"
   ]
  },
  {
   "cell_type": "code",
   "execution_count": 2,
   "id": "3996cc04",
   "metadata": {},
   "outputs": [],
   "source": [
    "df = pd.read_pickle('../data/df.p')\n",
    "n_rows_complete = len(df)"
   ]
  },
  {
   "cell_type": "code",
   "execution_count": 3,
   "id": "54b796b9",
   "metadata": {},
   "outputs": [],
   "source": [
    "# Check whether or not the data is up-to-date (file can't be tracked on github because of it's file size)\n",
    "pd.testing.assert_frame_equal(left=(pd.read_csv('../data/df_check_info.csv', index_col=0)), \\\n",
    "                         right=pyfra.df_testing_info(df),\\\n",
    "                         check_dtype=False, check_exact=False)"
   ]
  },
  {
   "cell_type": "code",
   "execution_count": 4,
   "id": "cb37873f",
   "metadata": {},
   "outputs": [],
   "source": [
    "rus = RandomUnderSampler(random_state=23)"
   ]
  },
  {
   "cell_type": "code",
   "execution_count": 5,
   "id": "062ec43e",
   "metadata": {},
   "outputs": [],
   "source": [
    "# Create a sample of the data, because the whole dataset is too big for us to work with\n",
    "relative_sample_size = 0.01\n",
    "df = df.sample(frac=relative_sample_size, random_state=23)"
   ]
  },
  {
   "cell_type": "code",
   "execution_count": 6,
   "id": "9d54e523",
   "metadata": {},
   "outputs": [],
   "source": [
    "data = df.drop(columns='grav',axis=1).select_dtypes(include=np.number).dropna(axis=1)\n",
    "target = df.grav\n",
    "data, target = rus.fit_resample(X=data, y=target)"
   ]
  },
  {
   "cell_type": "code",
   "execution_count": 7,
   "id": "de1430ef",
   "metadata": {},
   "outputs": [
    {
     "data": {
      "text/plain": [
       "1    1091\n",
       "2    1091\n",
       "3    1091\n",
       "4    1091\n",
       "Name: grav, dtype: int64"
      ]
     },
     "execution_count": 7,
     "metadata": {},
     "output_type": "execute_result"
    }
   ],
   "source": [
    "target.value_counts()"
   ]
  },
  {
   "cell_type": "code",
   "execution_count": 8,
   "id": "270838b7",
   "metadata": {},
   "outputs": [
    {
     "name": "stdout",
     "output_type": "stream",
     "text": [
      "We are working on 4364 data points, which represent 0.0916% of the original data,\n"
     ]
    }
   ],
   "source": [
    "print(f'We are working on {len(target)} data points, which represent {len(target)/n_rows_complete*100:.04f}% of the original data,')"
   ]
  },
  {
   "cell_type": "code",
   "execution_count": 9,
   "id": "b2b0052c",
   "metadata": {},
   "outputs": [],
   "source": [
    "X_train, X_test, y_train, y_test  = train_test_split(data, target, test_size=0.2 ,random_state=23)"
   ]
  },
  {
   "cell_type": "markdown",
   "id": "f943892b",
   "metadata": {},
   "source": [
    "# Scaling the Data and Selecting Features"
   ]
  },
  {
   "cell_type": "code",
   "execution_count": 10,
   "id": "c4269cb8",
   "metadata": {},
   "outputs": [],
   "source": [
    "std_scaler = preprocessing.StandardScaler().fit(X_train)\n",
    "X_train_scaled = std_scaler.transform(X_train)\n",
    "X_test_scaled = std_scaler.transform(X_test)"
   ]
  },
  {
   "cell_type": "code",
   "execution_count": 11,
   "id": "47093a35",
   "metadata": {},
   "outputs": [
    {
     "name": "stdout",
     "output_type": "stream",
     "text": [
      "We use 25 of the original 54 features\n"
     ]
    }
   ],
   "source": [
    "k_features = 25\n",
    "kbest_selector = SelectKBest(k=k_features)\n",
    "kbest_selector.fit(X_train_scaled,y_train);\n",
    "X_train_scaled_selection = kbest_selector.transform(X_train_scaled)\n",
    "X_test_scaled_selection = kbest_selector.transform(X_test_scaled)\n",
    "print(f'We use {k_features} of the original {df.shape[1]} features')"
   ]
  },
  {
   "cell_type": "code",
   "execution_count": 12,
   "id": "09b0a17f",
   "metadata": {},
   "outputs": [],
   "source": [
    "k_best_feature_names = data.columns[kbest_selector.get_support(indices=True)]"
   ]
  },
  {
   "cell_type": "markdown",
   "id": "7bfc7149",
   "metadata": {},
   "source": [
    "# Application of Machine Learning Models\n",
    "## Setup of Metrics Table"
   ]
  },
  {
   "cell_type": "code",
   "execution_count": 13,
   "id": "9ac64694",
   "metadata": {},
   "outputs": [
    {
     "data": {
      "text/html": [
       "<div>\n",
       "<style scoped>\n",
       "    .dataframe tbody tr th:only-of-type {\n",
       "        vertical-align: middle;\n",
       "    }\n",
       "\n",
       "    .dataframe tbody tr th {\n",
       "        vertical-align: top;\n",
       "    }\n",
       "\n",
       "    .dataframe thead th {\n",
       "        text-align: right;\n",
       "    }\n",
       "</style>\n",
       "<table border=\"1\" class=\"dataframe\">\n",
       "  <thead>\n",
       "    <tr style=\"text-align: right;\">\n",
       "      <th></th>\n",
       "      <th>model</th>\n",
       "      <th>f1</th>\n",
       "      <th>accuracy</th>\n",
       "      <th>recall</th>\n",
       "    </tr>\n",
       "  </thead>\n",
       "  <tbody>\n",
       "  </tbody>\n",
       "</table>\n",
       "</div>"
      ],
      "text/plain": [
       "Empty DataFrame\n",
       "Columns: [model, f1, accuracy, recall]\n",
       "Index: []"
      ]
     },
     "execution_count": 13,
     "metadata": {},
     "output_type": "execute_result"
    }
   ],
   "source": [
    "# Creating a matrix to store the results\n",
    "result_metrics = pd.DataFrame(columns=['model', 'f1', 'accuracy', 'recall'])\n",
    "result_metrics"
   ]
  },
  {
   "cell_type": "code",
   "execution_count": 14,
   "id": "fc4f0f11",
   "metadata": {},
   "outputs": [],
   "source": [
    "# Creating a function to compute and store the results for the respective model\n",
    "def store_metrics(model_name, model, y_test, y_pred, result_df):\n",
    "    result_df.loc[model_name, 'model'] = model\n",
    "    result_df.loc[model_name, 'f1'] = f1_score(y_true=y_test, y_pred=y_pred, average='weighted')\n",
    "    result_df.loc[model_name, 'accuracy'] = accuracy_score(y_true=y_test, y_pred=y_pred)\n",
    "    result_df.loc[model_name, 'recall'] = recall_score(y_true=y_test, y_pred=y_pred, average='weighted')\n",
    "    return result_df"
   ]
  },
  {
   "cell_type": "markdown",
   "id": "a97bcd31",
   "metadata": {},
   "source": [
    "## Setup of the Cross-Validator\n",
    "We will use a repeated stratified cross-validation to make sure to pick the best parameters.\n",
    "The stratification will be used to ensure an equal distribution of the different categories in every bin.\n",
    "The repetition will be used in order ensure that the result is not an outlier. We will set a lower the number of repetitions, however, to save execution time (default would be 10 repetitions)."
   ]
  },
  {
   "cell_type": "code",
   "execution_count": 15,
   "id": "19eba9d5",
   "metadata": {},
   "outputs": [],
   "source": [
    "cv = RepeatedStratifiedKFold(n_splits=5, n_repeats=2, random_state=23)"
   ]
  },
  {
   "cell_type": "markdown",
   "id": "4efd549c",
   "metadata": {},
   "source": [
    "## Support Vector Machine (SVM)\n",
    "\n",
    "A support vector machine classifier will be used with parameter optimization via grid search.\n",
    "\n",
    "### Setup of the SVM and the Grid Search"
   ]
  },
  {
   "cell_type": "code",
   "execution_count": 16,
   "id": "7142839e",
   "metadata": {},
   "outputs": [],
   "source": [
    "# Instantiation of the SVM Classifier\n",
    "# We set the cache size to 1600 MB (default: 200 MB) to reduce the computing time.\n",
    "# The other parameters will be set via grid search.\n",
    "svc = svm.SVC(cache_size=1600)\n",
    "\n",
    "# Choosing the parameters for the grid search\n",
    "svc_params = {\n",
    "    'kernel': ['poly', 'rbf', 'sigmoid'],\n",
    "    'gamma': [0.1, 0.5, 'scale'],\n",
    "    'C': [0.1, 0.5, 1, 2]\n",
    "}\n",
    "\n",
    "# Setup of the scoring. \n",
    "# We have to define the parameter 'average', because we are not dealing with a binary classification.\n",
    "# Our sample is balanced, hence we can use a simple approach, using 'micro', which uses the global values of \n",
    "# true positives, false negatives and false positives.\n",
    "f1_scoring = make_scorer(score_func=f1_score, average='micro')\n",
    "\n",
    "# Instantiation of the GridSearchCv\n",
    "# n_jobs is set to -1 to use all available threads for computation.\n",
    "svc_grid = GridSearchCV(svc, param_grid=svc_params, scoring=f1_scoring, cv=cv, n_jobs=-1)"
   ]
  },
  {
   "cell_type": "markdown",
   "id": "b6363eb1",
   "metadata": {},
   "source": [
    "### SVM Parameter Optimization, Training and Prediction"
   ]
  },
  {
   "cell_type": "code",
   "execution_count": 17,
   "id": "6ed8306e",
   "metadata": {},
   "outputs": [
    {
     "name": "stdout",
     "output_type": "stream",
     "text": [
      "Best parameter combination:  {'C': 2, 'gamma': 'scale', 'kernel': 'rbf'}\n"
     ]
    }
   ],
   "source": [
    "# Fitting the grid search to find the best parameter combination\n",
    "svc_grid.fit(X_train_scaled_selection, y_train)\n",
    "\n",
    "# Print result of parameter optimization\n",
    "print('Best parameter combination: ',svc_grid.best_params_)\n",
    "\n",
    "# Predict target variable for the test set\n",
    "svc = svc_grid.best_estimator_\n",
    "y_svc = svc.predict(X_test_scaled_selection)\n"
   ]
  },
  {
   "cell_type": "markdown",
   "id": "1ca1876e",
   "metadata": {},
   "source": [
    "### Metrics of SVM"
   ]
  },
  {
   "cell_type": "code",
   "execution_count": 18,
   "id": "1bdf703a",
   "metadata": {},
   "outputs": [
    {
     "data": {
      "text/html": [
       "<div>\n",
       "<style scoped>\n",
       "    .dataframe tbody tr th:only-of-type {\n",
       "        vertical-align: middle;\n",
       "    }\n",
       "\n",
       "    .dataframe tbody tr th {\n",
       "        vertical-align: top;\n",
       "    }\n",
       "\n",
       "    .dataframe thead th {\n",
       "        text-align: right;\n",
       "    }\n",
       "</style>\n",
       "<table border=\"1\" class=\"dataframe\">\n",
       "  <thead>\n",
       "    <tr style=\"text-align: right;\">\n",
       "      <th></th>\n",
       "      <th>model</th>\n",
       "      <th>f1</th>\n",
       "      <th>accuracy</th>\n",
       "      <th>recall</th>\n",
       "    </tr>\n",
       "  </thead>\n",
       "  <tbody>\n",
       "    <tr>\n",
       "      <th>Support Vector Machine</th>\n",
       "      <td>SVC(C=2, cache_size=1600)</td>\n",
       "      <td>0.425665</td>\n",
       "      <td>0.43299</td>\n",
       "      <td>0.43299</td>\n",
       "    </tr>\n",
       "  </tbody>\n",
       "</table>\n",
       "</div>"
      ],
      "text/plain": [
       "                                            model        f1 accuracy   recall\n",
       "Support Vector Machine  SVC(C=2, cache_size=1600)  0.425665  0.43299  0.43299"
      ]
     },
     "execution_count": 18,
     "metadata": {},
     "output_type": "execute_result"
    }
   ],
   "source": [
    "# Calculate the metrics for the optimal svm model and store them in the result_metrics DataFrame \n",
    "# The model will be stored as well in the DataFrame\n",
    "result_metrics = store_metrics(model=svc, model_name='Support Vector Machine',\n",
    "                               y_test=y_test, y_pred=y_svc,\n",
    "                               result_df=result_metrics)\n",
    "# Show the interim result                               \n",
    "result_metrics"
   ]
  },
  {
   "cell_type": "markdown",
   "id": "1a8f382c",
   "metadata": {},
   "source": [
    "## Random Forest\n",
    "### Setup and GridSearch"
   ]
  },
  {
   "cell_type": "code",
   "execution_count": 19,
   "id": "c4aec6cb",
   "metadata": {},
   "outputs": [
    {
     "name": "stdout",
     "output_type": "stream",
     "text": [
      "Best Params are: {'criterion': 'gini', 'max_depth': 35, 'min_samples_leaf': 7, 'n_estimators': 800}\n",
      "Best Score is: 0.4417045645617243\n"
     ]
    }
   ],
   "source": [
    "params = {\n",
    "    'criterion': ['gini', 'entropy'],\n",
    "    'max_depth': [15,35],\n",
    "    'min_samples_leaf':[7,15],\n",
    "    'n_estimators': [400,800]\n",
    "    }\n",
    "\n",
    "RFCLF = GridSearchCV(RandomForestClassifier(),param_grid = params, cv = RepeatedKFold(n_splits=4, n_repeats=1, random_state=23))\n",
    "RFCLF.fit(X_train_scaled_selection,y_train)\n",
    "\n",
    "print('Best Params are:',RFCLF.best_params_)\n",
    "print('Best Score is:',RFCLF.best_score_)"
   ]
  },
  {
   "cell_type": "markdown",
   "id": "0c06e88f",
   "metadata": {},
   "source": [
    "### Optimized Model and Metrics"
   ]
  },
  {
   "cell_type": "code",
   "execution_count": 20,
   "id": "99d26dc7",
   "metadata": {},
   "outputs": [
    {
     "name": "stdout",
     "output_type": "stream",
     "text": [
      "Prediction    1    2   3   4\n",
      "Real                        \n",
      "1           125   31  24  40\n",
      "2            23  133  36  35\n",
      "3            55   73  50  40\n",
      "4            73   28  29  78\n"
     ]
    },
    {
     "data": {
      "text/html": [
       "<div>\n",
       "<style scoped>\n",
       "    .dataframe tbody tr th:only-of-type {\n",
       "        vertical-align: middle;\n",
       "    }\n",
       "\n",
       "    .dataframe tbody tr th {\n",
       "        vertical-align: top;\n",
       "    }\n",
       "\n",
       "    .dataframe thead th {\n",
       "        text-align: right;\n",
       "    }\n",
       "</style>\n",
       "<table border=\"1\" class=\"dataframe\">\n",
       "  <thead>\n",
       "    <tr style=\"text-align: right;\">\n",
       "      <th></th>\n",
       "      <th>model</th>\n",
       "      <th>f1</th>\n",
       "      <th>accuracy</th>\n",
       "      <th>recall</th>\n",
       "    </tr>\n",
       "  </thead>\n",
       "  <tbody>\n",
       "    <tr>\n",
       "      <th>Support Vector Machine</th>\n",
       "      <td>SVC(C=2, cache_size=1600)</td>\n",
       "      <td>0.425665</td>\n",
       "      <td>0.43299</td>\n",
       "      <td>0.43299</td>\n",
       "    </tr>\n",
       "    <tr>\n",
       "      <th>Random Forest</th>\n",
       "      <td>(DecisionTreeClassifier(max_depth=35, max_feat...</td>\n",
       "      <td>0.430237</td>\n",
       "      <td>0.442153</td>\n",
       "      <td>0.442153</td>\n",
       "    </tr>\n",
       "  </tbody>\n",
       "</table>\n",
       "</div>"
      ],
      "text/plain": [
       "                                                                    model  \\\n",
       "Support Vector Machine                          SVC(C=2, cache_size=1600)   \n",
       "Random Forest           (DecisionTreeClassifier(max_depth=35, max_feat...   \n",
       "\n",
       "                              f1  accuracy    recall  \n",
       "Support Vector Machine  0.425665   0.43299   0.43299  \n",
       "Random Forest           0.430237  0.442153  0.442153  "
      ]
     },
     "execution_count": 20,
     "metadata": {},
     "output_type": "execute_result"
    }
   ],
   "source": [
    "rf = RFCLF.best_estimator_\n",
    "y_rf = rf.predict(X_test_scaled_selection)\n",
    "\n",
    "cm = pd.crosstab(y_test,y_rf, rownames=['Real'], colnames=['Prediction'])\n",
    "print(cm)\n",
    "\n",
    "result_metrics = store_metrics(model=rf, model_name='Random Forest',\n",
    "                               y_test=y_test, y_pred=y_rf,\n",
    "                               result_df=result_metrics)\n",
    "                              \n",
    "result_metrics"
   ]
  },
  {
   "cell_type": "markdown",
   "id": "6ec6b490",
   "metadata": {},
   "source": [
    "# Logistic Regression"
   ]
  },
  {
   "cell_type": "code",
   "execution_count": 21,
   "id": "1697d480",
   "metadata": {},
   "outputs": [],
   "source": [
    "#We use and define logistic Regression with n_jobs=-1 to use all cores\n",
    "LR = LogisticRegression()\n",
    "#for parameters we use 3 type of solver and 6 for C\n",
    "LR_params = {\n",
    "    'solver': ['liblinear', 'lbfgs', 'saga'], \n",
    "    'C': [10**(i) for i in range(-5, 5)]\n",
    "}\n",
    "\n",
    "f1_scoring = make_scorer(score_func=f1_score, average='micro')\n",
    "\n",
    "# Instantiation of the GridSearchCv\n",
    "LR_grid = GridSearchCV(LR, param_grid=LR_params, scoring=f1_scoring, cv=cv, n_jobs=-1)\n"
   ]
  },
  {
   "cell_type": "markdown",
   "id": "699b90a2",
   "metadata": {},
   "source": [
    "# LR Parameter Optimization, Training and Prediction"
   ]
  },
  {
   "cell_type": "code",
   "execution_count": 22,
   "id": "a2270a90",
   "metadata": {},
   "outputs": [
    {
     "name": "stdout",
     "output_type": "stream",
     "text": [
      "Best parameter combination:  {'C': 1, 'solver': 'liblinear'}\n"
     ]
    }
   ],
   "source": [
    "# Fitting the grid search to find the best parameter combination\n",
    "LR_grid.fit(X_train_scaled_selection, y_train)\n",
    "\n",
    "# Print result of parameter optimization\n",
    "print('Best parameter combination: ',LR_grid.best_params_)\n",
    "\n",
    "# Predict target variable for the test set\n",
    "LR = LR_grid.best_estimator_\n",
    "y_LR = LR.predict(X_test_scaled_selection)"
   ]
  },
  {
   "cell_type": "markdown",
   "id": "d7a25ae4",
   "metadata": {},
   "source": [
    "## Metrics of LR"
   ]
  },
  {
   "cell_type": "code",
   "execution_count": 23,
   "id": "2708212a",
   "metadata": {},
   "outputs": [
    {
     "data": {
      "text/html": [
       "<div>\n",
       "<style scoped>\n",
       "    .dataframe tbody tr th:only-of-type {\n",
       "        vertical-align: middle;\n",
       "    }\n",
       "\n",
       "    .dataframe tbody tr th {\n",
       "        vertical-align: top;\n",
       "    }\n",
       "\n",
       "    .dataframe thead th {\n",
       "        text-align: right;\n",
       "    }\n",
       "</style>\n",
       "<table border=\"1\" class=\"dataframe\">\n",
       "  <thead>\n",
       "    <tr style=\"text-align: right;\">\n",
       "      <th></th>\n",
       "      <th>model</th>\n",
       "      <th>f1</th>\n",
       "      <th>accuracy</th>\n",
       "      <th>recall</th>\n",
       "    </tr>\n",
       "  </thead>\n",
       "  <tbody>\n",
       "    <tr>\n",
       "      <th>Support Vector Machine</th>\n",
       "      <td>SVC(C=2, cache_size=1600)</td>\n",
       "      <td>0.425665</td>\n",
       "      <td>0.43299</td>\n",
       "      <td>0.43299</td>\n",
       "    </tr>\n",
       "    <tr>\n",
       "      <th>Random Forest</th>\n",
       "      <td>(DecisionTreeClassifier(max_depth=35, max_feat...</td>\n",
       "      <td>0.430237</td>\n",
       "      <td>0.442153</td>\n",
       "      <td>0.442153</td>\n",
       "    </tr>\n",
       "    <tr>\n",
       "      <th>Logistic Regression</th>\n",
       "      <td>LogisticRegression(C=1, solver='liblinear')</td>\n",
       "      <td>0.401876</td>\n",
       "      <td>0.414662</td>\n",
       "      <td>0.414662</td>\n",
       "    </tr>\n",
       "  </tbody>\n",
       "</table>\n",
       "</div>"
      ],
      "text/plain": [
       "                                                                    model  \\\n",
       "Support Vector Machine                          SVC(C=2, cache_size=1600)   \n",
       "Random Forest           (DecisionTreeClassifier(max_depth=35, max_feat...   \n",
       "Logistic Regression           LogisticRegression(C=1, solver='liblinear')   \n",
       "\n",
       "                              f1  accuracy    recall  \n",
       "Support Vector Machine  0.425665   0.43299   0.43299  \n",
       "Random Forest           0.430237  0.442153  0.442153  \n",
       "Logistic Regression     0.401876  0.414662  0.414662  "
      ]
     },
     "execution_count": 23,
     "metadata": {},
     "output_type": "execute_result"
    }
   ],
   "source": [
    "# Calculate the metrics for the optimal LR model and store them in the result_metrics DataFrame \n",
    "# The model will be stored as well in the DataFrame\n",
    "result_metrics = store_metrics(model=LR, model_name='Logistic Regression',\n",
    "                               y_test=y_test, y_pred=y_LR,\n",
    "                               result_df=result_metrics)\n",
    "# Show the interim result                               \n",
    "result_metrics"
   ]
  },
  {
   "cell_type": "markdown",
   "id": "74ef5def",
   "metadata": {},
   "source": [
    "# Decision Tree"
   ]
  },
  {
   "cell_type": "markdown",
   "id": "c1cb3191",
   "metadata": {},
   "source": [
    "## Setup of the DT and the Grid Search"
   ]
  },
  {
   "cell_type": "code",
   "execution_count": 24,
   "id": "8c70d32d",
   "metadata": {},
   "outputs": [
    {
     "name": "stdout",
     "output_type": "stream",
     "text": [
      "Best Criterion: {'ccp_alpha': 0.0, 'class_weight': None, 'criterion': 'gini', 'max_depth': 4, 'max_features': None, 'max_leaf_nodes': None, 'min_impurity_decrease': 0.0, 'min_samples_leaf': 1, 'min_samples_split': 2, 'min_weight_fraction_leaf': 0.0, 'random_state': None, 'splitter': 'best'}\n",
      "Best max_depth: {'ccp_alpha': 0.0, 'class_weight': None, 'criterion': 'gini', 'max_depth': 4, 'max_features': None, 'max_leaf_nodes': None, 'min_impurity_decrease': 0.0, 'min_samples_leaf': 1, 'min_samples_split': 2, 'min_weight_fraction_leaf': 0.0, 'random_state': None, 'splitter': 'best'}\n",
      "\n",
      "{'ccp_alpha': 0.0, 'class_weight': None, 'criterion': 'gini', 'max_depth': 4, 'max_features': None, 'max_leaf_nodes': None, 'min_impurity_decrease': 0.0, 'min_samples_leaf': 1, 'min_samples_split': 2, 'min_weight_fraction_leaf': 0.0, 'random_state': None, 'splitter': 'best'}\n"
     ]
    }
   ],
   "source": [
    "from sklearn import tree\n",
    "from sklearn.pipeline import Pipeline\n",
    "\n",
    "# Grid\n",
    "criterion = ['gini', 'entropy']\n",
    "max_depth = [2,4,6,8,10,12]\n",
    "parameters = dict(criterion=criterion, max_depth=max_depth)\n",
    "\n",
    "DT = GridSearchCV(DecisionTreeClassifier(),param_grid = parameters, cv = RepeatedKFold(n_splits=4, n_repeats=1, random_state=23))\n",
    "# \n",
    "DT.fit(X_train_scaled_selection,y_train)\n",
    "\n",
    "# \n",
    "print('Best Criterion:', DT.best_estimator_.get_params())\n",
    "print('Best max_depth:', DT.best_estimator_.get_params())\n",
    "print(); print(DT.best_estimator_.get_params())"
   ]
  },
  {
   "cell_type": "markdown",
   "id": "875cdd10",
   "metadata": {},
   "source": [
    "## Metrics of Decision Tree"
   ]
  },
  {
   "cell_type": "code",
   "execution_count": 25,
   "id": "642ffb66",
   "metadata": {},
   "outputs": [
    {
     "name": "stdout",
     "output_type": "stream",
     "text": [
      "Prediction    1    2  3   4\n",
      "Real                       \n",
      "1           147   47  2  24\n",
      "2            50  145  9  23\n",
      "3            72  107  9  30\n",
      "4            93   39  8  68\n"
     ]
    },
    {
     "data": {
      "text/html": [
       "<div>\n",
       "<style scoped>\n",
       "    .dataframe tbody tr th:only-of-type {\n",
       "        vertical-align: middle;\n",
       "    }\n",
       "\n",
       "    .dataframe tbody tr th {\n",
       "        vertical-align: top;\n",
       "    }\n",
       "\n",
       "    .dataframe thead th {\n",
       "        text-align: right;\n",
       "    }\n",
       "</style>\n",
       "<table border=\"1\" class=\"dataframe\">\n",
       "  <thead>\n",
       "    <tr style=\"text-align: right;\">\n",
       "      <th></th>\n",
       "      <th>model</th>\n",
       "      <th>f1</th>\n",
       "      <th>accuracy</th>\n",
       "      <th>recall</th>\n",
       "    </tr>\n",
       "  </thead>\n",
       "  <tbody>\n",
       "    <tr>\n",
       "      <th>Support Vector Machine</th>\n",
       "      <td>SVC(C=2, cache_size=1600)</td>\n",
       "      <td>0.425665</td>\n",
       "      <td>0.43299</td>\n",
       "      <td>0.43299</td>\n",
       "    </tr>\n",
       "    <tr>\n",
       "      <th>Random Forest</th>\n",
       "      <td>(DecisionTreeClassifier(max_depth=35, max_feat...</td>\n",
       "      <td>0.430237</td>\n",
       "      <td>0.442153</td>\n",
       "      <td>0.442153</td>\n",
       "    </tr>\n",
       "    <tr>\n",
       "      <th>Logistic Regression</th>\n",
       "      <td>LogisticRegression(C=1, solver='liblinear')</td>\n",
       "      <td>0.401876</td>\n",
       "      <td>0.414662</td>\n",
       "      <td>0.414662</td>\n",
       "    </tr>\n",
       "    <tr>\n",
       "      <th>Decision Tree</th>\n",
       "      <td>DecisionTreeClassifier(max_depth=4)</td>\n",
       "      <td>0.37083</td>\n",
       "      <td>0.42268</td>\n",
       "      <td>0.42268</td>\n",
       "    </tr>\n",
       "  </tbody>\n",
       "</table>\n",
       "</div>"
      ],
      "text/plain": [
       "                                                                    model  \\\n",
       "Support Vector Machine                          SVC(C=2, cache_size=1600)   \n",
       "Random Forest           (DecisionTreeClassifier(max_depth=35, max_feat...   \n",
       "Logistic Regression           LogisticRegression(C=1, solver='liblinear')   \n",
       "Decision Tree                         DecisionTreeClassifier(max_depth=4)   \n",
       "\n",
       "                              f1  accuracy    recall  \n",
       "Support Vector Machine  0.425665   0.43299   0.43299  \n",
       "Random Forest           0.430237  0.442153  0.442153  \n",
       "Logistic Regression     0.401876  0.414662  0.414662  \n",
       "Decision Tree            0.37083   0.42268   0.42268  "
      ]
     },
     "execution_count": 25,
     "metadata": {},
     "output_type": "execute_result"
    }
   ],
   "source": [
    "dt = DT.best_estimator_\n",
    "y_dt = dt.predict(X_test_scaled_selection)\n",
    "cm = pd.crosstab(y_test,y_dt, rownames=['Real'], colnames=['Prediction'])\n",
    "print(cm)\n",
    "result_metrics = store_metrics(model=dt, model_name='Decision Tree',\n",
    "                               y_test=y_test, y_pred=y_dt,\n",
    "                               result_df=result_metrics)\n",
    "                              \n",
    "result_metrics"
   ]
  },
  {
   "cell_type": "code",
   "execution_count": 26,
   "id": "38ab5222",
   "metadata": {},
   "outputs": [
    {
     "data": {
      "image/png": "[encoded data removed]",
      "text/plain": [
       "<Figure size 1200x600 with 1 Axes>"
      ]
     },
     "metadata": {},
     "output_type": "display_data"
    }
   ],
   "source": [
    "# ## Interpretation of the Decision Tree\n",
    "# Decision trees are known to have a high interpretability compared to other machine learning models. The performance of the applied model is worse than the ones of the other models, but we can easily plot the tree and gain insights.\n",
    "from sklearn.tree import plot_tree\n",
    "fig = plt.figure(figsize=(12,6));\n",
    "plot_tree(dt,max_depth=2, fontsize=8, feature_names=k_best_feature_names);\n",
    "\n",
    "# The plot shows that the most important feature (according to the decision tree) is built-up_area. This binary variable cointains the information, whether the accident happened in a built-up area. We already showed in the first notebook that there seems to be a positive relation between the density of an area and it's **number** of accident. The decision tree here suggests that the **severity** is also affected by a dense population."
   ]
  },
  {
   "cell_type": "markdown",
   "id": "fe682d97",
   "metadata": {
    "lines_to_next_cell": 2
   },
   "source": [
    "# Application of Advanced Models"
   ]
  },
  {
   "cell_type": "markdown",
   "id": "0720bdee",
   "metadata": {},
   "source": [
    "## Stacking Classifier"
   ]
  },
  {
   "cell_type": "code",
   "execution_count": 27,
   "id": "3b7fc1ff",
   "metadata": {
    "lines_to_next_cell": 0
   },
   "outputs": [
    {
     "data": {
      "text/html": [
       "<div>\n",
       "<style scoped>\n",
       "    .dataframe tbody tr th:only-of-type {\n",
       "        vertical-align: middle;\n",
       "    }\n",
       "\n",
       "    .dataframe tbody tr th {\n",
       "        vertical-align: top;\n",
       "    }\n",
       "\n",
       "    .dataframe thead th {\n",
       "        text-align: right;\n",
       "    }\n",
       "</style>\n",
       "<table border=\"1\" class=\"dataframe\">\n",
       "  <thead>\n",
       "    <tr style=\"text-align: right;\">\n",
       "      <th></th>\n",
       "      <th>model</th>\n",
       "      <th>f1</th>\n",
       "      <th>accuracy</th>\n",
       "      <th>recall</th>\n",
       "    </tr>\n",
       "  </thead>\n",
       "  <tbody>\n",
       "    <tr>\n",
       "      <th>Support Vector Machine</th>\n",
       "      <td>SVC(C=2, cache_size=1600)</td>\n",
       "      <td>0.425665</td>\n",
       "      <td>0.43299</td>\n",
       "      <td>0.43299</td>\n",
       "    </tr>\n",
       "    <tr>\n",
       "      <th>Random Forest</th>\n",
       "      <td>(DecisionTreeClassifier(max_depth=35, max_feat...</td>\n",
       "      <td>0.430237</td>\n",
       "      <td>0.442153</td>\n",
       "      <td>0.442153</td>\n",
       "    </tr>\n",
       "    <tr>\n",
       "      <th>Logistic Regression</th>\n",
       "      <td>LogisticRegression(C=1, solver='liblinear')</td>\n",
       "      <td>0.401876</td>\n",
       "      <td>0.414662</td>\n",
       "      <td>0.414662</td>\n",
       "    </tr>\n",
       "    <tr>\n",
       "      <th>Decision Tree</th>\n",
       "      <td>DecisionTreeClassifier(max_depth=4)</td>\n",
       "      <td>0.37083</td>\n",
       "      <td>0.42268</td>\n",
       "      <td>0.42268</td>\n",
       "    </tr>\n",
       "    <tr>\n",
       "      <th>Stacking</th>\n",
       "      <td>StackingClassifier(cv='prefit',\\n             ...</td>\n",
       "      <td>0.434623</td>\n",
       "      <td>0.438717</td>\n",
       "      <td>0.438717</td>\n",
       "    </tr>\n",
       "  </tbody>\n",
       "</table>\n",
       "</div>"
      ],
      "text/plain": [
       "                                                                    model  \\\n",
       "Support Vector Machine                          SVC(C=2, cache_size=1600)   \n",
       "Random Forest           (DecisionTreeClassifier(max_depth=35, max_feat...   \n",
       "Logistic Regression           LogisticRegression(C=1, solver='liblinear')   \n",
       "Decision Tree                         DecisionTreeClassifier(max_depth=4)   \n",
       "Stacking                StackingClassifier(cv='prefit',\\n             ...   \n",
       "\n",
       "                              f1  accuracy    recall  \n",
       "Support Vector Machine  0.425665   0.43299   0.43299  \n",
       "Random Forest           0.430237  0.442153  0.442153  \n",
       "Logistic Regression     0.401876  0.414662  0.414662  \n",
       "Decision Tree            0.37083   0.42268   0.42268  \n",
       "Stacking                0.434623  0.438717  0.438717  "
      ]
     },
     "execution_count": 27,
     "metadata": {},
     "output_type": "execute_result"
    }
   ],
   "source": [
    "estimators = [('lr', LR), ('svc', svc), ('rf', rf)]\n",
    "stacking_clf = StackingClassifier(estimators=estimators, final_estimator=svc, cv='prefit', n_jobs=-1)\n",
    "\n",
    "stacking_clf.fit(X_train_scaled_selection, y_train)\n",
    "y_stacking = stacking_clf.predict(X_test_scaled_selection)\n",
    "result_metrics = store_metrics(model=stacking_clf, model_name='Stacking',\n",
    "                               y_test=y_test, y_pred=y_stacking,\n",
    "                               result_df=result_metrics)\n",
    "result_metrics"
   ]
  },
  {
   "cell_type": "markdown",
   "id": "3d9d47aa",
   "metadata": {},
   "source": [
    "# ADA Boosting"
   ]
  },
  {
   "cell_type": "code",
   "execution_count": 28,
   "id": "b1d3a2d6",
   "metadata": {},
   "outputs": [],
   "source": [
    "#Trying ADA boosting on LogisticRegresiion\n",
    "ADA_Boost = AdaBoostClassifier(estimator = LR , n_estimators = 1000)\n",
    "ADA_Boost.fit(X_train_scaled_selection, y_train)\n",
    "y_ada = ADA_Boost.predict(X_test_scaled_selection)"
   ]
  },
  {
   "cell_type": "code",
   "execution_count": 29,
   "id": "926c20e8",
   "metadata": {},
   "outputs": [
    {
     "data": {
      "text/html": [
       "<div>\n",
       "<style scoped>\n",
       "    .dataframe tbody tr th:only-of-type {\n",
       "        vertical-align: middle;\n",
       "    }\n",
       "\n",
       "    .dataframe tbody tr th {\n",
       "        vertical-align: top;\n",
       "    }\n",
       "\n",
       "    .dataframe thead th {\n",
       "        text-align: right;\n",
       "    }\n",
       "</style>\n",
       "<table border=\"1\" class=\"dataframe\">\n",
       "  <thead>\n",
       "    <tr style=\"text-align: right;\">\n",
       "      <th></th>\n",
       "      <th>model</th>\n",
       "      <th>f1</th>\n",
       "      <th>accuracy</th>\n",
       "      <th>recall</th>\n",
       "    </tr>\n",
       "  </thead>\n",
       "  <tbody>\n",
       "    <tr>\n",
       "      <th>Support Vector Machine</th>\n",
       "      <td>SVC(C=2, cache_size=1600)</td>\n",
       "      <td>0.425665</td>\n",
       "      <td>0.43299</td>\n",
       "      <td>0.43299</td>\n",
       "    </tr>\n",
       "    <tr>\n",
       "      <th>Random Forest</th>\n",
       "      <td>(DecisionTreeClassifier(max_depth=35, max_feat...</td>\n",
       "      <td>0.430237</td>\n",
       "      <td>0.442153</td>\n",
       "      <td>0.442153</td>\n",
       "    </tr>\n",
       "    <tr>\n",
       "      <th>Logistic Regression</th>\n",
       "      <td>LogisticRegression(C=1, solver='liblinear')</td>\n",
       "      <td>0.401876</td>\n",
       "      <td>0.414662</td>\n",
       "      <td>0.414662</td>\n",
       "    </tr>\n",
       "    <tr>\n",
       "      <th>Decision Tree</th>\n",
       "      <td>DecisionTreeClassifier(max_depth=4)</td>\n",
       "      <td>0.37083</td>\n",
       "      <td>0.42268</td>\n",
       "      <td>0.42268</td>\n",
       "    </tr>\n",
       "    <tr>\n",
       "      <th>Stacking</th>\n",
       "      <td>StackingClassifier(cv='prefit',\\n             ...</td>\n",
       "      <td>0.434623</td>\n",
       "      <td>0.438717</td>\n",
       "      <td>0.438717</td>\n",
       "    </tr>\n",
       "    <tr>\n",
       "      <th>ADA Boost</th>\n",
       "      <td>(LogisticRegression(C=1, random_state=16168077...</td>\n",
       "      <td>0.372885</td>\n",
       "      <td>0.386025</td>\n",
       "      <td>0.386025</td>\n",
       "    </tr>\n",
       "  </tbody>\n",
       "</table>\n",
       "</div>"
      ],
      "text/plain": [
       "                                                                    model  \\\n",
       "Support Vector Machine                          SVC(C=2, cache_size=1600)   \n",
       "Random Forest           (DecisionTreeClassifier(max_depth=35, max_feat...   \n",
       "Logistic Regression           LogisticRegression(C=1, solver='liblinear')   \n",
       "Decision Tree                         DecisionTreeClassifier(max_depth=4)   \n",
       "Stacking                StackingClassifier(cv='prefit',\\n             ...   \n",
       "ADA Boost               (LogisticRegression(C=1, random_state=16168077...   \n",
       "\n",
       "                              f1  accuracy    recall  \n",
       "Support Vector Machine  0.425665   0.43299   0.43299  \n",
       "Random Forest           0.430237  0.442153  0.442153  \n",
       "Logistic Regression     0.401876  0.414662  0.414662  \n",
       "Decision Tree            0.37083   0.42268   0.42268  \n",
       "Stacking                0.434623  0.438717  0.438717  \n",
       "ADA Boost               0.372885  0.386025  0.386025  "
      ]
     },
     "execution_count": 29,
     "metadata": {},
     "output_type": "execute_result"
    }
   ],
   "source": [
    "result_metrics = store_metrics(model=ADA_Boost, model_name='ADA Boost',\n",
    "                               y_test=y_test, y_pred=y_ada,\n",
    "                               result_df=result_metrics)\n",
    "# Show the interim result                               \n",
    "result_metrics"
   ]
  },
  {
   "cell_type": "markdown",
   "id": "e05c69c2",
   "metadata": {},
   "source": [
    "\n",
    "# Results and Conclusion"
   ]
  },
  {
   "cell_type": "markdown",
   "id": "76a08555",
   "metadata": {},
   "source": [
    "## Comparison of the Performances"
   ]
  },
  {
   "cell_type": "code",
   "execution_count": 30,
   "id": "f854caa8",
   "metadata": {},
   "outputs": [
    {
     "data": {
      "image/png": "[encoded data removed]",
      "text/plain": [
       "<Figure size 640x480 with 1 Axes>"
      ]
     },
     "metadata": {},
     "output_type": "display_data"
    }
   ],
   "source": [
    "plt.barh(y=result_metrics.index.values, width=result_metrics['f1']);\n",
    "plt.title('$F_1$ Score of different ML models');"
   ]
  },
  {
   "cell_type": "markdown",
   "id": "1958f7b1",
   "metadata": {},
   "source": [
    "The results show a comparable performance for all machine learning models, with the advanced stacking classifier giving the best score (f_1) and the decision tree giving the worst score. \n",
    "\n",
    "There are a few things to consider when analyzing these results.\n",
    "1. We worked on a very small partition of the dataset in order to achieve acceptable execution times. We expect to reach higher performances when working with more data.\n",
    "2. The classifiers based on logistic regression and decision trees have low scores, are not necessarily unfit for the dataset, as they offer more interpretability than the advanced models. This interpretability could help e.g. policy makers to take measures in order to reduce the severity of road accidents.\n",
    "3. A strong correlation between severity and safety measurements (e.g. safety belt) is expected. Unfortunately, this feature could not be used because useful is only available for the last years (2018--)."
   ]
  },
  {
   "cell_type": "markdown",
   "id": "b96e7bb7",
   "metadata": {},
   "source": [
    "## Analysis of the Correlation Matrix"
   ]
  },
  {
   "cell_type": "code",
   "execution_count": 31,
   "id": "64433988",
   "metadata": {},
   "outputs": [
    {
     "data": {
      "image/png": "[encoded data removed]",
      "text/plain": [
       "<Figure size 400x400 with 2 Axes>"
      ]
     },
     "metadata": {},
     "output_type": "display_data"
    }
   ],
   "source": [
    "cm = pd.crosstab(y_test, y_stacking, rownames=['observations'], colnames=['predictions']);\n",
    "severity_categories = (\"Unscathed\",\"Killed\", \"Hospitalized\\nwounded\", \"Light injury\")\n",
    "plt.figure(figsize=(4,4))\n",
    "plt.title('Correlation Matrix of the Stacking Classifier');\n",
    "sns.heatmap(cm, annot=True);\n",
    "plt.xticks(np.array(range(4))+0.5, labels=severity_categories, rotation=45);\n",
    "plt.yticks(np.array(range(4))+0.5, labels=severity_categories, rotation=0);"
   ]
  },
  {
   "cell_type": "markdown",
   "id": "a33f930a",
   "metadata": {},
   "source": [
    "The correlation matrix of the stacking classifier shows that some categories are more difficult to predict than others. The category \"Hospitalized wounded\" seems to be the most difficult to predict, as the predictions seem to be quite evenly distributed between the different classes. We can quantify these difficulties by looking at the scores for accuracy and recall for each category."
   ]
  },
  {
   "cell_type": "code",
   "execution_count": 32,
   "id": "53989f1b",
   "metadata": {},
   "outputs": [
    {
     "name": "stdout",
     "output_type": "stream",
     "text": [
      "                      precision    recall  f1-score   support\n",
      "\n",
      "           Unscathed       0.44      0.51      0.47       220\n",
      "              Killed       0.54      0.56      0.55       227\n",
      "Hospitalized wounded       0.32      0.27      0.29       218\n",
      "        Light injury       0.42      0.40      0.41       208\n",
      "\n",
      "            accuracy                           0.44       873\n",
      "           macro avg       0.43      0.44      0.43       873\n",
      "        weighted avg       0.43      0.44      0.43       873\n",
      "\n"
     ]
    }
   ],
   "source": [
    "from sklearn.metrics import classification_report\n",
    "severity_categories = (\"Unscathed\",\"Killed\", \"Hospitalized wounded\", \"Light injury\")\n",
    "print(classification_report(y_true=y_test, y_pred=y_stacking, target_names=severity_categories))"
   ]
  },
  {
   "cell_type": "markdown",
   "id": "f701580d",
   "metadata": {},
   "source": [
    "The classification report reflects our observations from the correlation matrix. It is satisfying that the categorie \"Killed\" is predicted with the highest accuracy; we consider this category as particularly important."
   ]
  }
 ],
 "metadata": {
  "jupytext": {
   "cell_metadata_filter": "-LanguageId",
   "formats": "ipynb,py:light",
   "main_language": "python",
   "notebook_metadata_filter": "-kernelspec"
  },
  "language_info": {
   "name": "python"
  }
 },
 "nbformat": 4,
 "nbformat_minor": 5
}
