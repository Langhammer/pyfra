{
 "cells": [
  {
   "cell_type": "markdown",
   "id": "947ea880",
   "metadata": {
    "papermill": {
     "duration": 0.023008,
     "end_time": "2023-02-15T12:14:26.246462",
     "exception": false,
     "start_time": "2023-02-15T12:14:26.223454",
     "status": "completed"
    },
    "tags": []
   },
   "source": [
    "# Notebook 4\n",
    "==============\n",
    "Modelling"
   ]
  },
  {
   "cell_type": "markdown",
   "id": "b79aa06d",
   "metadata": {
    "papermill": {
     "duration": 0.015005,
     "end_time": "2023-02-15T12:14:26.290039",
     "exception": false,
     "start_time": "2023-02-15T12:14:26.275034",
     "status": "completed"
    },
    "tags": []
   },
   "source": [
    "# Importing Packages and Data"
   ]
  },
  {
   "cell_type": "code",
   "execution_count": 1,
   "id": "b291cac7",
   "metadata": {
    "execution": {
     "iopub.execute_input": "2023-02-15T12:14:26.330037Z",
     "iopub.status.busy": "2023-02-15T12:14:26.329033Z",
     "iopub.status.idle": "2023-02-15T12:14:33.289809Z",
     "shell.execute_reply": "2023-02-15T12:14:33.286804Z"
    },
    "lines_to_next_cell": 2,
    "papermill": {
     "duration": 6.983774,
     "end_time": "2023-02-15T12:14:33.295816",
     "exception": false,
     "start_time": "2023-02-15T12:14:26.312042",
     "status": "completed"
    },
    "tags": []
   },
   "outputs": [],
   "source": [
    "import pyfra\n",
    "import pandas as pd\n",
    "import numpy as np\n",
    "from matplotlib import pyplot as plt\n",
    "%matplotlib inline\n",
    "import seaborn as sns\n",
    "from sklearn.model_selection import train_test_split, GridSearchCV, RepeatedStratifiedKFold\n",
    "from sklearn.feature_selection import SelectKBest\n",
    "from sklearn.model_selection import RepeatedKFold\n",
    "from sklearn.linear_model import LogisticRegression\n",
    "from sklearn.ensemble import RandomForestClassifier, StackingClassifier \n",
    "from sklearn import svm\n",
    "from sklearn.tree import DecisionTreeClassifier, plot_tree\n",
    "from sklearn import preprocessing\n",
    "from sklearn.metrics import f1_score, accuracy_score, recall_score, make_scorer\n",
    "from imblearn import under_sampling\n",
    "from imblearn.under_sampling import RandomUnderSampler\n",
    "from time import sleep\n",
    "from sklearn.ensemble import AdaBoostClassifier"
   ]
  },
  {
   "cell_type": "code",
   "execution_count": 2,
   "id": "9d26b99a",
   "metadata": {
    "execution": {
     "iopub.execute_input": "2023-02-15T12:14:33.335822Z",
     "iopub.status.busy": "2023-02-15T12:14:33.333817Z",
     "iopub.status.idle": "2023-02-15T12:14:33.745226Z",
     "shell.execute_reply": "2023-02-15T12:14:33.743218Z"
    },
    "papermill": {
     "duration": 0.437407,
     "end_time": "2023-02-15T12:14:33.749219",
     "exception": false,
     "start_time": "2023-02-15T12:14:33.311812",
     "status": "completed"
    },
    "tags": []
   },
   "outputs": [],
   "source": [
    "df = pd.read_pickle('../data/df.p')\n",
    "n_rows_complete = len(df)"
   ]
  },
  {
   "cell_type": "code",
   "execution_count": 3,
   "id": "bc0acf67",
   "metadata": {
    "execution": {
     "iopub.execute_input": "2023-02-15T12:14:33.775784Z",
     "iopub.status.busy": "2023-02-15T12:14:33.774788Z",
     "iopub.status.idle": "2023-02-15T12:14:33.980603Z",
     "shell.execute_reply": "2023-02-15T12:14:33.978598Z"
    },
    "papermill": {
     "duration": 0.221361,
     "end_time": "2023-02-15T12:14:33.983602",
     "exception": false,
     "start_time": "2023-02-15T12:14:33.762241",
     "status": "completed"
    },
    "tags": []
   },
   "outputs": [],
   "source": [
    "df = df.drop(columns=['adress','gps_origin','latitude','longitude'])\n",
    "df.municipality.fillna(55,inplace=True)"
   ]
  },
  {
   "cell_type": "code",
   "execution_count": 4,
   "id": "5a1e968f",
   "metadata": {
    "execution": {
     "iopub.execute_input": "2023-02-15T12:14:34.006595Z",
     "iopub.status.busy": "2023-02-15T12:14:34.005591Z",
     "iopub.status.idle": "2023-02-15T12:14:34.232794Z",
     "shell.execute_reply": "2023-02-15T12:14:34.230804Z"
    },
    "papermill": {
     "duration": 0.242194,
     "end_time": "2023-02-15T12:14:34.235797",
     "exception": false,
     "start_time": "2023-02-15T12:14:33.993603",
     "status": "completed"
    },
    "tags": []
   },
   "outputs": [
    {
     "data": {
      "text/plain": [
       "1    712\n",
       "4    654\n",
       "3    356\n",
       "2     35\n",
       "Name: Severity, dtype: int64"
      ]
     },
     "execution_count": 4,
     "metadata": {},
     "output_type": "execute_result"
    }
   ],
   "source": [
    "df_sample=df.sample(frac=0.007,random_state=23)\n",
    "data = df_sample.drop(columns='Severity',axis=1).select_dtypes(include=np.number).dropna(axis=1)\n",
    "target = df_sample.Severity\n",
    "target.value_counts()"
   ]
  },
  {
   "cell_type": "code",
   "execution_count": 5,
   "id": "cf2a01ec",
   "metadata": {
    "execution": {
     "iopub.execute_input": "2023-02-15T12:14:34.260816Z",
     "iopub.status.busy": "2023-02-15T12:14:34.260816Z",
     "iopub.status.idle": "2023-02-15T12:14:34.294347Z",
     "shell.execute_reply": "2023-02-15T12:14:34.293346Z"
    },
    "papermill": {
     "duration": 0.05855,
     "end_time": "2023-02-15T12:14:34.303354",
     "exception": false,
     "start_time": "2023-02-15T12:14:34.244804",
     "status": "completed"
    },
    "tags": []
   },
   "outputs": [],
   "source": [
    "X_train, X_test, y_train, y_test  = train_test_split(data, target, test_size=0.2 ,random_state=23)"
   ]
  },
  {
   "cell_type": "code",
   "execution_count": 6,
   "id": "21430131",
   "metadata": {
    "execution": {
     "iopub.execute_input": "2023-02-15T12:14:34.339350Z",
     "iopub.status.busy": "2023-02-15T12:14:34.338356Z",
     "iopub.status.idle": "2023-02-15T12:14:34.419928Z",
     "shell.execute_reply": "2023-02-15T12:14:34.417926Z"
    },
    "papermill": {
     "duration": 0.099583,
     "end_time": "2023-02-15T12:14:34.424933",
     "exception": false,
     "start_time": "2023-02-15T12:14:34.325350",
     "status": "completed"
    },
    "tags": []
   },
   "outputs": [],
   "source": [
    "std_scaler = preprocessing.StandardScaler().fit(X_train)\n",
    "X_train_scaled = std_scaler.transform(X_train)\n",
    "X_test_scaled = std_scaler.transform(X_test)"
   ]
  },
  {
   "cell_type": "code",
   "execution_count": 7,
   "id": "ac31895c",
   "metadata": {
    "execution": {
     "iopub.execute_input": "2023-02-15T12:14:34.454929Z",
     "iopub.status.busy": "2023-02-15T12:14:34.452937Z",
     "iopub.status.idle": "2023-02-15T12:14:34.499507Z",
     "shell.execute_reply": "2023-02-15T12:14:34.497509Z"
    },
    "papermill": {
     "duration": 0.066576,
     "end_time": "2023-02-15T12:14:34.503506",
     "exception": false,
     "start_time": "2023-02-15T12:14:34.436930",
     "status": "completed"
    },
    "tags": []
   },
   "outputs": [
    {
     "name": "stdout",
     "output_type": "stream",
     "text": [
      "We use 60 of the original 381 features\n"
     ]
    },
    {
     "name": "stderr",
     "output_type": "stream",
     "text": [
      "C:\\Users\\kayla\\AppData\\Roaming\\Python\\Python310\\site-packages\\sklearn\\feature_selection\\_univariate_selection.py:112: UserWarning: Features [ 22  32  74 150 152 153 154 155 161 176 182 188 192 193 195 210 250 259\n",
      " 260 261 267 272 273 276 282 284 285 291 292 294 295 297 298 299 301 302\n",
      " 303 304 310 312 315 316 319 321 323 327 328 329 331 342 349 351 368] are constant.\n",
      "  warnings.warn(\"Features %s are constant.\" % constant_features_idx, UserWarning)\n",
      "C:\\Users\\kayla\\AppData\\Roaming\\Python\\Python310\\site-packages\\sklearn\\feature_selection\\_univariate_selection.py:113: RuntimeWarning: invalid value encountered in divide\n",
      "  f = msb / msw\n"
     ]
    }
   ],
   "source": [
    "k_features = 60\n",
    "kbest_selector = SelectKBest(k=k_features)\n",
    "kbest_selector.fit(X_train_scaled,y_train);\n",
    "X_train_scaled = kbest_selector.transform(X_train_scaled)\n",
    "X_test_scaled = kbest_selector.transform(X_test_scaled)\n",
    "print(f'We use {k_features} of the original {df.shape[1]} features')"
   ]
  },
  {
   "cell_type": "code",
   "execution_count": 8,
   "id": "2a26118b",
   "metadata": {
    "execution": {
     "iopub.execute_input": "2023-02-15T12:14:34.529503Z",
     "iopub.status.busy": "2023-02-15T12:14:34.528503Z",
     "iopub.status.idle": "2023-02-15T12:14:34.564535Z",
     "shell.execute_reply": "2023-02-15T12:14:34.561508Z"
    },
    "papermill": {
     "duration": 0.058603,
     "end_time": "2023-02-15T12:14:34.574106",
     "exception": false,
     "start_time": "2023-02-15T12:14:34.515503",
     "status": "completed"
    },
    "tags": []
   },
   "outputs": [
    {
     "data": {
      "text/html": [
       "<div>\n",
       "<style scoped>\n",
       "    .dataframe tbody tr th:only-of-type {\n",
       "        vertical-align: middle;\n",
       "    }\n",
       "\n",
       "    .dataframe tbody tr th {\n",
       "        vertical-align: top;\n",
       "    }\n",
       "\n",
       "    .dataframe thead th {\n",
       "        text-align: right;\n",
       "    }\n",
       "</style>\n",
       "<table border=\"1\" class=\"dataframe\">\n",
       "  <thead>\n",
       "    <tr style=\"text-align: right;\">\n",
       "      <th></th>\n",
       "      <th>model</th>\n",
       "      <th>f1</th>\n",
       "      <th>accuracy</th>\n",
       "      <th>recall</th>\n",
       "    </tr>\n",
       "  </thead>\n",
       "  <tbody>\n",
       "  </tbody>\n",
       "</table>\n",
       "</div>"
      ],
      "text/plain": [
       "Empty DataFrame\n",
       "Columns: [model, f1, accuracy, recall]\n",
       "Index: []"
      ]
     },
     "execution_count": 8,
     "metadata": {},
     "output_type": "execute_result"
    }
   ],
   "source": [
    "# Creating a matrix to store the results\n",
    "result_metrics = pd.DataFrame(columns=['model', 'f1', 'accuracy', 'recall'])\n",
    "result_metrics"
   ]
  },
  {
   "cell_type": "code",
   "execution_count": 9,
   "id": "2648086b",
   "metadata": {
    "execution": {
     "iopub.execute_input": "2023-02-15T12:14:34.633098Z",
     "iopub.status.busy": "2023-02-15T12:14:34.632100Z",
     "iopub.status.idle": "2023-02-15T12:14:34.659124Z",
     "shell.execute_reply": "2023-02-15T12:14:34.655098Z"
    },
    "papermill": {
     "duration": 0.060004,
     "end_time": "2023-02-15T12:14:34.665118",
     "exception": false,
     "start_time": "2023-02-15T12:14:34.605114",
     "status": "completed"
    },
    "tags": []
   },
   "outputs": [],
   "source": [
    "# Creating a function to compute and store the results for the respective model\n",
    "def store_metrics(model_name, model, y_test, y_pred, result_df):\n",
    "    result_df.loc[model_name, 'model'] = model\n",
    "    result_df.loc[model_name, 'f1'] = f1_score(y_true=y_test, y_pred=y_pred, average='weighted')\n",
    "    result_df.loc[model_name, 'accuracy'] = accuracy_score(y_true=y_test, y_pred=y_pred)\n",
    "    result_df.loc[model_name, 'recall'] = recall_score(y_true=y_test, y_pred=y_pred, average='weighted')\n",
    "    return result_df"
   ]
  },
  {
   "cell_type": "code",
   "execution_count": 10,
   "id": "3e057b55",
   "metadata": {
    "execution": {
     "iopub.execute_input": "2023-02-15T12:14:34.703669Z",
     "iopub.status.busy": "2023-02-15T12:14:34.701679Z",
     "iopub.status.idle": "2023-02-15T12:14:34.719670Z",
     "shell.execute_reply": "2023-02-15T12:14:34.717668Z"
    },
    "papermill": {
     "duration": 0.039995,
     "end_time": "2023-02-15T12:14:34.724671",
     "exception": false,
     "start_time": "2023-02-15T12:14:34.684676",
     "status": "completed"
    },
    "tags": []
   },
   "outputs": [],
   "source": [
    "cv = RepeatedStratifiedKFold(n_splits=5, n_repeats=2, random_state=23)"
   ]
  },
  {
   "cell_type": "code",
   "execution_count": 11,
   "id": "47582f5e",
   "metadata": {
    "execution": {
     "iopub.execute_input": "2023-02-15T12:14:34.778267Z",
     "iopub.status.busy": "2023-02-15T12:14:34.777264Z",
     "iopub.status.idle": "2023-02-15T12:14:34.797265Z",
     "shell.execute_reply": "2023-02-15T12:14:34.795274Z"
    },
    "papermill": {
     "duration": 0.051593,
     "end_time": "2023-02-15T12:14:34.802265",
     "exception": false,
     "start_time": "2023-02-15T12:14:34.750672",
     "status": "completed"
    },
    "tags": []
   },
   "outputs": [],
   "source": [
    "# Instantiation of the SVM Classifier\n",
    "# We set the cache size to 1600 MB (default: 200 MB) to reduce the computing time.\n",
    "# The other parameters will be set via grid search.\n",
    "svc = svm.SVC(cache_size=1600)\n",
    "\n",
    "# Choosing the parameters for the grid search\n",
    "svc_params = {\n",
    "    'kernel': ['poly', 'rbf', 'sigmoid'],\n",
    "    'gamma': [0.1, 0.5, 'scale'],\n",
    "    'C': [0.1, 0.5, 1, 2]\n",
    "}\n",
    "\n",
    "# Setup of the scoring. \n",
    "# We have to define the parameter 'average', because we are not dealing with a binary classification.\n",
    "# Our sample is balanced, hence we can use a simple approach, using 'micro', which uses the global values of \n",
    "# true positives, false negatives and false positives.\n",
    "f1_scoring = make_scorer(score_func=f1_score, average='micro')\n",
    "\n",
    "# Instantiation of the GridSearchCv\n",
    "# n_jobs is set to -1 to use all available threads for computation.\n",
    "svc_grid = GridSearchCV(svc, param_grid=svc_params, scoring=f1_scoring, cv=cv, n_jobs=-1)"
   ]
  },
  {
   "cell_type": "code",
   "execution_count": 12,
   "id": "6fd409f2",
   "metadata": {
    "execution": {
     "iopub.execute_input": "2023-02-15T12:14:34.839263Z",
     "iopub.status.busy": "2023-02-15T12:14:34.838259Z",
     "iopub.status.idle": "2023-02-15T12:15:00.708618Z",
     "shell.execute_reply": "2023-02-15T12:15:00.705619Z"
    },
    "papermill": {
     "duration": 25.894362,
     "end_time": "2023-02-15T12:15:00.713619",
     "exception": false,
     "start_time": "2023-02-15T12:14:34.819257",
     "status": "completed"
    },
    "tags": []
   },
   "outputs": [
    {
     "name": "stdout",
     "output_type": "stream",
     "text": [
      "Best parameter combination:  {'C': 2, 'gamma': 'scale', 'kernel': 'rbf'}\n"
     ]
    }
   ],
   "source": [
    "# Fitting the grid search to find the best parameter combination\n",
    "svc_grid.fit(X_train_scaled, y_train)\n",
    "\n",
    "# Print result of parameter optimization\n",
    "print('Best parameter combination: ',svc_grid.best_params_)\n",
    "\n",
    "# Predict target variable for the test set\n",
    "svc = svc_grid.best_estimator_\n",
    "y_svc = svc.predict(X_test_scaled)\n"
   ]
  },
  {
   "cell_type": "code",
   "execution_count": 13,
   "id": "43b59cca",
   "metadata": {
    "execution": {
     "iopub.execute_input": "2023-02-15T12:15:00.758622Z",
     "iopub.status.busy": "2023-02-15T12:15:00.757622Z",
     "iopub.status.idle": "2023-02-15T12:15:00.819791Z",
     "shell.execute_reply": "2023-02-15T12:15:00.816785Z"
    },
    "papermill": {
     "duration": 0.091178,
     "end_time": "2023-02-15T12:15:00.824799",
     "exception": false,
     "start_time": "2023-02-15T12:15:00.733621",
     "status": "completed"
    },
    "tags": []
   },
   "outputs": [
    {
     "data": {
      "text/html": [
       "<div>\n",
       "<style scoped>\n",
       "    .dataframe tbody tr th:only-of-type {\n",
       "        vertical-align: middle;\n",
       "    }\n",
       "\n",
       "    .dataframe tbody tr th {\n",
       "        vertical-align: top;\n",
       "    }\n",
       "\n",
       "    .dataframe thead th {\n",
       "        text-align: right;\n",
       "    }\n",
       "</style>\n",
       "<table border=\"1\" class=\"dataframe\">\n",
       "  <thead>\n",
       "    <tr style=\"text-align: right;\">\n",
       "      <th></th>\n",
       "      <th>model</th>\n",
       "      <th>f1</th>\n",
       "      <th>accuracy</th>\n",
       "      <th>recall</th>\n",
       "    </tr>\n",
       "  </thead>\n",
       "  <tbody>\n",
       "    <tr>\n",
       "      <th>Support Vector Machine</th>\n",
       "      <td>SVC(C=2, cache_size=1600)</td>\n",
       "      <td>0.480498</td>\n",
       "      <td>0.494318</td>\n",
       "      <td>0.494318</td>\n",
       "    </tr>\n",
       "  </tbody>\n",
       "</table>\n",
       "</div>"
      ],
      "text/plain": [
       "                                            model        f1  accuracy  \\\n",
       "Support Vector Machine  SVC(C=2, cache_size=1600)  0.480498  0.494318   \n",
       "\n",
       "                          recall  \n",
       "Support Vector Machine  0.494318  "
      ]
     },
     "execution_count": 13,
     "metadata": {},
     "output_type": "execute_result"
    }
   ],
   "source": [
    "# Calculate the metrics for the optimal svm model and store them in the result_metrics DataFrame \n",
    "# The model will be stored as well in the DataFrame\n",
    "result_metrics = store_metrics(model=svc, model_name='Support Vector Machine',\n",
    "                               y_test=y_test, y_pred=y_svc,\n",
    "                               result_df=result_metrics)\n",
    "# Show the interim result                               \n",
    "result_metrics"
   ]
  },
  {
   "cell_type": "code",
   "execution_count": 14,
   "id": "5e903088",
   "metadata": {
    "execution": {
     "iopub.execute_input": "2023-02-15T12:15:00.860790Z",
     "iopub.status.busy": "2023-02-15T12:15:00.858795Z",
     "iopub.status.idle": "2023-02-15T12:15:00.882822Z",
     "shell.execute_reply": "2023-02-15T12:15:00.879821Z"
    },
    "papermill": {
     "duration": 0.049049,
     "end_time": "2023-02-15T12:15:00.890839",
     "exception": false,
     "start_time": "2023-02-15T12:15:00.841790",
     "status": "completed"
    },
    "tags": []
   },
   "outputs": [],
   "source": [
    "#LR"
   ]
  },
  {
   "cell_type": "code",
   "execution_count": 15,
   "id": "87757ed8",
   "metadata": {
    "execution": {
     "iopub.execute_input": "2023-02-15T12:15:00.940430Z",
     "iopub.status.busy": "2023-02-15T12:15:00.938435Z",
     "iopub.status.idle": "2023-02-15T12:15:00.961455Z",
     "shell.execute_reply": "2023-02-15T12:15:00.958434Z"
    },
    "papermill": {
     "duration": 0.053982,
     "end_time": "2023-02-15T12:15:00.967433",
     "exception": false,
     "start_time": "2023-02-15T12:15:00.913451",
     "status": "completed"
    },
    "tags": []
   },
   "outputs": [],
   "source": [
    "#We use and define logistic Regression with n_jobs=-1 to use all cores\n",
    "LR = LogisticRegression()\n",
    "#for parameters we use 3 type of solver and 6 for C\n",
    "LR_params = {\n",
    "    'solver': ['liblinear', 'lbfgs', 'saga'], \n",
    "    'C': [10**(i) for i in range(-5, 5)]\n",
    "}\n",
    "\n",
    "f1_scoring = make_scorer(score_func=f1_score, average='micro')\n",
    "\n",
    "# Instantiation of the GridSearchCv\n",
    "LR_grid = GridSearchCV(LR, param_grid=LR_params, scoring=f1_scoring, cv=cv, n_jobs=-1)"
   ]
  },
  {
   "cell_type": "code",
   "execution_count": 16,
   "id": "7d7635f2",
   "metadata": {
    "execution": {
     "iopub.execute_input": "2023-02-15T12:15:01.013110Z",
     "iopub.status.busy": "2023-02-15T12:15:01.011126Z",
     "iopub.status.idle": "2023-02-15T12:15:15.150527Z",
     "shell.execute_reply": "2023-02-15T12:15:15.145526Z"
    },
    "lines_to_next_cell": 2,
    "papermill": {
     "duration": 14.173078,
     "end_time": "2023-02-15T12:15:15.157526",
     "exception": false,
     "start_time": "2023-02-15T12:15:00.984448",
     "status": "completed"
    },
    "tags": []
   },
   "outputs": [
    {
     "name": "stdout",
     "output_type": "stream",
     "text": [
      "Best parameter combination:  {'C': 10, 'solver': 'saga'}\n"
     ]
    },
    {
     "name": "stderr",
     "output_type": "stream",
     "text": [
      "C:\\Users\\kayla\\AppData\\Roaming\\Python\\Python310\\site-packages\\sklearn\\linear_model\\_sag.py:350: ConvergenceWarning: The max_iter was reached which means the coef_ did not converge\n",
      "  warnings.warn(\n"
     ]
    },
    {
     "data": {
      "text/html": [
       "<div>\n",
       "<style scoped>\n",
       "    .dataframe tbody tr th:only-of-type {\n",
       "        vertical-align: middle;\n",
       "    }\n",
       "\n",
       "    .dataframe tbody tr th {\n",
       "        vertical-align: top;\n",
       "    }\n",
       "\n",
       "    .dataframe thead th {\n",
       "        text-align: right;\n",
       "    }\n",
       "</style>\n",
       "<table border=\"1\" class=\"dataframe\">\n",
       "  <thead>\n",
       "    <tr style=\"text-align: right;\">\n",
       "      <th></th>\n",
       "      <th>model</th>\n",
       "      <th>f1</th>\n",
       "      <th>accuracy</th>\n",
       "      <th>recall</th>\n",
       "    </tr>\n",
       "  </thead>\n",
       "  <tbody>\n",
       "    <tr>\n",
       "      <th>Support Vector Machine</th>\n",
       "      <td>SVC(C=2, cache_size=1600)</td>\n",
       "      <td>0.480498</td>\n",
       "      <td>0.494318</td>\n",
       "      <td>0.494318</td>\n",
       "    </tr>\n",
       "    <tr>\n",
       "      <th>Logistic Regression</th>\n",
       "      <td>LogisticRegression(C=10, solver='saga')</td>\n",
       "      <td>0.484554</td>\n",
       "      <td>0.497159</td>\n",
       "      <td>0.497159</td>\n",
       "    </tr>\n",
       "  </tbody>\n",
       "</table>\n",
       "</div>"
      ],
      "text/plain": [
       "                                                          model        f1  \\\n",
       "Support Vector Machine                SVC(C=2, cache_size=1600)  0.480498   \n",
       "Logistic Regression     LogisticRegression(C=10, solver='saga')  0.484554   \n",
       "\n",
       "                        accuracy    recall  \n",
       "Support Vector Machine  0.494318  0.494318  \n",
       "Logistic Regression     0.497159  0.497159  "
      ]
     },
     "execution_count": 16,
     "metadata": {},
     "output_type": "execute_result"
    }
   ],
   "source": [
    "# Fitting the grid search to find the best parameter combination\n",
    "LR_grid.fit(X_train_scaled, y_train)\n",
    "\n",
    "# Print result of parameter optimization\n",
    "print('Best parameter combination: ',LR_grid.best_params_)\n",
    "\n",
    "# Predict target variable for the test set\n",
    "LR = LR_grid.best_estimator_\n",
    "y_LR = LR.predict(X_test_scaled)\n",
    "# Calculate the metrics for the optimal LR model and store them in the result_metrics DataFrame \n",
    "# The model will be stored as well in the DataFrame\n",
    "result_metrics = store_metrics(model=LR, model_name='Logistic Regression',\n",
    "                               y_test=y_test, y_pred=y_LR,\n",
    "                               result_df=result_metrics)\n",
    "# Show the interim result                               \n",
    "result_metrics"
   ]
  },
  {
   "cell_type": "code",
   "execution_count": 17,
   "id": "e05c40c8",
   "metadata": {
    "execution": {
     "iopub.execute_input": "2023-02-15T12:15:15.200544Z",
     "iopub.status.busy": "2023-02-15T12:15:15.199549Z",
     "iopub.status.idle": "2023-02-15T12:15:17.163327Z",
     "shell.execute_reply": "2023-02-15T12:15:17.161335Z"
    },
    "papermill": {
     "duration": 1.986811,
     "end_time": "2023-02-15T12:15:17.169333",
     "exception": false,
     "start_time": "2023-02-15T12:15:15.182522",
     "status": "completed"
    },
    "tags": []
   },
   "outputs": [
    {
     "data": {
      "image/png": "[encoded data removed]",
      "text/plain": [
       "<Figure size 400x400 with 2 Axes>"
      ]
     },
     "metadata": {},
     "output_type": "display_data"
    }
   ],
   "source": [
    "pyfra.print_confusion_matrix(y_test, y_LR, \n",
    "                            model_name='Logistic Regression Classifier',\n",
    "                            filename='Imb_LR')"
   ]
  },
  {
   "cell_type": "markdown",
   "id": "f16fd4a1",
   "metadata": {
    "papermill": {
     "duration": 0.021565,
     "end_time": "2023-02-15T12:15:17.212900",
     "exception": false,
     "start_time": "2023-02-15T12:15:17.191335",
     "status": "completed"
    },
    "tags": []
   },
   "source": [
    "# Random Forest"
   ]
  },
  {
   "cell_type": "code",
   "execution_count": 18,
   "id": "b83f8420",
   "metadata": {
    "execution": {
     "iopub.execute_input": "2023-02-15T12:15:17.252910Z",
     "iopub.status.busy": "2023-02-15T12:15:17.251902Z",
     "iopub.status.idle": "2023-02-15T12:15:55.518364Z",
     "shell.execute_reply": "2023-02-15T12:15:55.516357Z"
    },
    "papermill": {
     "duration": 38.300487,
     "end_time": "2023-02-15T12:15:55.531389",
     "exception": false,
     "start_time": "2023-02-15T12:15:17.230902",
     "status": "completed"
    },
    "tags": []
   },
   "outputs": [
    {
     "name": "stdout",
     "output_type": "stream",
     "text": [
      "Best Params are: {'criterion': 'gini', 'max_depth': 5, 'min_samples_leaf': 3, 'n_estimators': 100}\n",
      "Best Score is: 0.506405693950178\n"
     ]
    }
   ],
   "source": [
    "params = {\n",
    "    'criterion': ['gini'],\n",
    "    'max_depth': [5,10],\n",
    "    'min_samples_leaf':[3,7],\n",
    "    'n_estimators': [50,100]\n",
    "    }\n",
    "\n",
    "RFCLF = GridSearchCV(RandomForestClassifier(),param_grid = params, cv = cv)\n",
    "RFCLF.fit(X_train_scaled,y_train)\n",
    "\n",
    "print('Best Params are:',RFCLF.best_params_)\n",
    "print('Best Score is:',RFCLF.best_score_)"
   ]
  },
  {
   "cell_type": "code",
   "execution_count": 19,
   "id": "d50c4d04",
   "metadata": {
    "execution": {
     "iopub.execute_input": "2023-02-15T12:15:55.574929Z",
     "iopub.status.busy": "2023-02-15T12:15:55.573928Z",
     "iopub.status.idle": "2023-02-15T12:15:55.941226Z",
     "shell.execute_reply": "2023-02-15T12:15:55.938236Z"
    },
    "papermill": {
     "duration": 0.399859,
     "end_time": "2023-02-15T12:15:55.946780",
     "exception": false,
     "start_time": "2023-02-15T12:15:55.546921",
     "status": "completed"
    },
    "tags": []
   },
   "outputs": [
    {
     "name": "stdout",
     "output_type": "stream",
     "text": [
      "Prediction    1  3   4\n",
      "Real                  \n",
      "1           107  0  25\n",
      "2             7  2   2\n",
      "3            45  6  20\n",
      "4            71  8  59\n"
     ]
    },
    {
     "data": {
      "text/html": [
       "<div>\n",
       "<style scoped>\n",
       "    .dataframe tbody tr th:only-of-type {\n",
       "        vertical-align: middle;\n",
       "    }\n",
       "\n",
       "    .dataframe tbody tr th {\n",
       "        vertical-align: top;\n",
       "    }\n",
       "\n",
       "    .dataframe thead th {\n",
       "        text-align: right;\n",
       "    }\n",
       "</style>\n",
       "<table border=\"1\" class=\"dataframe\">\n",
       "  <thead>\n",
       "    <tr style=\"text-align: right;\">\n",
       "      <th></th>\n",
       "      <th>model</th>\n",
       "      <th>f1</th>\n",
       "      <th>accuracy</th>\n",
       "      <th>recall</th>\n",
       "    </tr>\n",
       "  </thead>\n",
       "  <tbody>\n",
       "    <tr>\n",
       "      <th>Support Vector Machine</th>\n",
       "      <td>SVC(C=2, cache_size=1600)</td>\n",
       "      <td>0.480498</td>\n",
       "      <td>0.494318</td>\n",
       "      <td>0.494318</td>\n",
       "    </tr>\n",
       "    <tr>\n",
       "      <th>Logistic Regression</th>\n",
       "      <td>LogisticRegression(C=10, solver='saga')</td>\n",
       "      <td>0.484554</td>\n",
       "      <td>0.497159</td>\n",
       "      <td>0.497159</td>\n",
       "    </tr>\n",
       "    <tr>\n",
       "      <th>Random Forest</th>\n",
       "      <td>(DecisionTreeClassifier(max_depth=5, max_featu...</td>\n",
       "      <td>0.439102</td>\n",
       "      <td>0.488636</td>\n",
       "      <td>0.488636</td>\n",
       "    </tr>\n",
       "  </tbody>\n",
       "</table>\n",
       "</div>"
      ],
      "text/plain": [
       "                                                                    model  \\\n",
       "Support Vector Machine                          SVC(C=2, cache_size=1600)   \n",
       "Logistic Regression               LogisticRegression(C=10, solver='saga')   \n",
       "Random Forest           (DecisionTreeClassifier(max_depth=5, max_featu...   \n",
       "\n",
       "                              f1  accuracy    recall  \n",
       "Support Vector Machine  0.480498  0.494318  0.494318  \n",
       "Logistic Regression     0.484554  0.497159  0.497159  \n",
       "Random Forest           0.439102  0.488636  0.488636  "
      ]
     },
     "execution_count": 19,
     "metadata": {},
     "output_type": "execute_result"
    }
   ],
   "source": [
    "rf = RFCLF.best_estimator_\n",
    "y_rf = rf.predict(X_test_scaled)\n",
    "\n",
    "cm = pd.crosstab(y_test,y_rf, rownames=['Real'], colnames=['Prediction'])\n",
    "print(cm)\n",
    "\n",
    "result_metrics = pyfra.store_metrics(model=rf, model_name='Random Forest',\n",
    "                               y_test=y_test, y_pred=y_rf,\n",
    "                               result_df=result_metrics)\n",
    "                              \n",
    "result_metrics"
   ]
  },
  {
   "cell_type": "markdown",
   "id": "0eb9445e",
   "metadata": {
    "papermill": {
     "duration": 0.020004,
     "end_time": "2023-02-15T12:15:55.985786",
     "exception": false,
     "start_time": "2023-02-15T12:15:55.965782",
     "status": "completed"
    },
    "tags": []
   },
   "source": [
    "# Decision Tree"
   ]
  },
  {
   "cell_type": "code",
   "execution_count": 20,
   "id": "ce68f81e",
   "metadata": {
    "execution": {
     "iopub.execute_input": "2023-02-15T12:15:56.024778Z",
     "iopub.status.busy": "2023-02-15T12:15:56.023784Z",
     "iopub.status.idle": "2023-02-15T12:15:56.882678Z",
     "shell.execute_reply": "2023-02-15T12:15:56.880684Z"
    },
    "papermill": {
     "duration": 0.883913,
     "end_time": "2023-02-15T12:15:56.888696",
     "exception": false,
     "start_time": "2023-02-15T12:15:56.004783",
     "status": "completed"
    },
    "tags": []
   },
   "outputs": [
    {
     "name": "stdout",
     "output_type": "stream",
     "text": [
      "Best Criterion: {'ccp_alpha': 0.0, 'class_weight': None, 'criterion': 'entropy', 'max_depth': 4, 'max_features': None, 'max_leaf_nodes': None, 'min_impurity_decrease': 0.0, 'min_samples_leaf': 1, 'min_samples_split': 2, 'min_weight_fraction_leaf': 0.0, 'random_state': None, 'splitter': 'best'}\n",
      "Best max_depth: {'ccp_alpha': 0.0, 'class_weight': None, 'criterion': 'entropy', 'max_depth': 4, 'max_features': None, 'max_leaf_nodes': None, 'min_impurity_decrease': 0.0, 'min_samples_leaf': 1, 'min_samples_split': 2, 'min_weight_fraction_leaf': 0.0, 'random_state': None, 'splitter': 'best'}\n",
      "\n",
      "{'ccp_alpha': 0.0, 'class_weight': None, 'criterion': 'entropy', 'max_depth': 4, 'max_features': None, 'max_leaf_nodes': None, 'min_impurity_decrease': 0.0, 'min_samples_leaf': 1, 'min_samples_split': 2, 'min_weight_fraction_leaf': 0.0, 'random_state': None, 'splitter': 'best'}\n"
     ]
    }
   ],
   "source": [
    "from sklearn import tree\n",
    "from sklearn.pipeline import Pipeline\n",
    "\n",
    "# Grid\n",
    "criterion = ['gini', 'entropy']\n",
    "max_depth = [2,4,6,8,10,12]\n",
    "parameters = dict(criterion=criterion, max_depth=max_depth)\n",
    "\n",
    "DT = GridSearchCV(DecisionTreeClassifier(),param_grid = parameters, cv = RepeatedKFold(n_splits=4, n_repeats=1, random_state=23))\n",
    "# \n",
    "DT.fit(X_train_scaled,y_train)\n",
    "\n",
    "# \n",
    "print('Best Criterion:', DT.best_estimator_.get_params())\n",
    "print('Best max_depth:', DT.best_estimator_.get_params())\n",
    "print(); print(DT.best_estimator_.get_params())"
   ]
  },
  {
   "cell_type": "code",
   "execution_count": 21,
   "id": "4903d59b",
   "metadata": {
    "execution": {
     "iopub.execute_input": "2023-02-15T12:15:56.933721Z",
     "iopub.status.busy": "2023-02-15T12:15:56.932729Z",
     "iopub.status.idle": "2023-02-15T12:15:57.288076Z",
     "shell.execute_reply": "2023-02-15T12:15:57.286069Z"
    },
    "papermill": {
     "duration": 0.383383,
     "end_time": "2023-02-15T12:15:57.293071",
     "exception": false,
     "start_time": "2023-02-15T12:15:56.909688",
     "status": "completed"
    },
    "tags": []
   },
   "outputs": [
    {
     "name": "stdout",
     "output_type": "stream",
     "text": [
      "Prediction   1  2   3   4\n",
      "Real                     \n",
      "1           88  0   0  44\n",
      "2            8  0   3   0\n",
      "3           45  0  11  15\n",
      "4           69  2  13  54\n"
     ]
    },
    {
     "data": {
      "text/html": [
       "<div>\n",
       "<style scoped>\n",
       "    .dataframe tbody tr th:only-of-type {\n",
       "        vertical-align: middle;\n",
       "    }\n",
       "\n",
       "    .dataframe tbody tr th {\n",
       "        vertical-align: top;\n",
       "    }\n",
       "\n",
       "    .dataframe thead th {\n",
       "        text-align: right;\n",
       "    }\n",
       "</style>\n",
       "<table border=\"1\" class=\"dataframe\">\n",
       "  <thead>\n",
       "    <tr style=\"text-align: right;\">\n",
       "      <th></th>\n",
       "      <th>model</th>\n",
       "      <th>f1</th>\n",
       "      <th>accuracy</th>\n",
       "      <th>recall</th>\n",
       "    </tr>\n",
       "  </thead>\n",
       "  <tbody>\n",
       "    <tr>\n",
       "      <th>Support Vector Machine</th>\n",
       "      <td>SVC(C=2, cache_size=1600)</td>\n",
       "      <td>0.480498</td>\n",
       "      <td>0.494318</td>\n",
       "      <td>0.494318</td>\n",
       "    </tr>\n",
       "    <tr>\n",
       "      <th>Logistic Regression</th>\n",
       "      <td>LogisticRegression(C=10, solver='saga')</td>\n",
       "      <td>0.484554</td>\n",
       "      <td>0.497159</td>\n",
       "      <td>0.497159</td>\n",
       "    </tr>\n",
       "    <tr>\n",
       "      <th>Random Forest</th>\n",
       "      <td>(DecisionTreeClassifier(max_depth=5, max_featu...</td>\n",
       "      <td>0.439102</td>\n",
       "      <td>0.488636</td>\n",
       "      <td>0.488636</td>\n",
       "    </tr>\n",
       "    <tr>\n",
       "      <th>Decision Tree</th>\n",
       "      <td>DecisionTreeClassifier(criterion='entropy', ma...</td>\n",
       "      <td>0.406952</td>\n",
       "      <td>0.434659</td>\n",
       "      <td>0.434659</td>\n",
       "    </tr>\n",
       "  </tbody>\n",
       "</table>\n",
       "</div>"
      ],
      "text/plain": [
       "                                                                    model  \\\n",
       "Support Vector Machine                          SVC(C=2, cache_size=1600)   \n",
       "Logistic Regression               LogisticRegression(C=10, solver='saga')   \n",
       "Random Forest           (DecisionTreeClassifier(max_depth=5, max_featu...   \n",
       "Decision Tree           DecisionTreeClassifier(criterion='entropy', ma...   \n",
       "\n",
       "                              f1  accuracy    recall  \n",
       "Support Vector Machine  0.480498  0.494318  0.494318  \n",
       "Logistic Regression     0.484554  0.497159  0.497159  \n",
       "Random Forest           0.439102  0.488636  0.488636  \n",
       "Decision Tree           0.406952  0.434659  0.434659  "
      ]
     },
     "execution_count": 21,
     "metadata": {},
     "output_type": "execute_result"
    }
   ],
   "source": [
    "dt = DT.best_estimator_\n",
    "y_dt = dt.predict(X_test_scaled)\n",
    "cm = pd.crosstab(y_test,y_dt, rownames=['Real'], colnames=['Prediction'])\n",
    "print(cm)\n",
    "result_metrics = pyfra.store_metrics(model=dt, model_name='Decision Tree',\n",
    "                               y_test=y_test, y_pred=y_dt,\n",
    "                               result_df=result_metrics)\n",
    "                              \n",
    "result_metrics"
   ]
  },
  {
   "cell_type": "code",
   "execution_count": 22,
   "id": "acb391a9",
   "metadata": {
    "execution": {
     "iopub.execute_input": "2023-02-15T12:15:57.349692Z",
     "iopub.status.busy": "2023-02-15T12:15:57.348667Z",
     "iopub.status.idle": "2023-02-15T12:15:58.535860Z",
     "shell.execute_reply": "2023-02-15T12:15:58.533841Z"
    },
    "papermill": {
     "duration": 1.223812,
     "end_time": "2023-02-15T12:15:58.542876",
     "exception": false,
     "start_time": "2023-02-15T12:15:57.319064",
     "status": "completed"
    },
    "tags": []
   },
   "outputs": [
    {
     "name": "stderr",
     "output_type": "stream",
     "text": [
      "findfont: Font family ['cmsy10'] not found. Falling back to DejaVu Sans.\n"
     ]
    },
    {
     "name": "stderr",
     "output_type": "stream",
     "text": [
      "findfont: Font family ['cmr10'] not found. Falling back to DejaVu Sans.\n"
     ]
    },
    {
     "name": "stderr",
     "output_type": "stream",
     "text": [
      "findfont: Font family ['cmtt10'] not found. Falling back to DejaVu Sans.\n"
     ]
    },
    {
     "name": "stderr",
     "output_type": "stream",
     "text": [
      "findfont: Font family ['cmmi10'] not found. Falling back to DejaVu Sans.\n"
     ]
    },
    {
     "name": "stderr",
     "output_type": "stream",
     "text": [
      "findfont: Font family ['cmb10'] not found. Falling back to DejaVu Sans.\n"
     ]
    },
    {
     "name": "stderr",
     "output_type": "stream",
     "text": [
      "findfont: Font family ['cmss10'] not found. Falling back to DejaVu Sans.\n"
     ]
    },
    {
     "name": "stderr",
     "output_type": "stream",
     "text": [
      "findfont: Font family ['cmex10'] not found. Falling back to DejaVu Sans.\n"
     ]
    },
    {
     "data": {
      "image/png": "[encoded data removed]",
      "text/plain": [
       "<Figure size 640x480 with 1 Axes>"
      ]
     },
     "metadata": {},
     "output_type": "display_data"
    }
   ],
   "source": [
    "plt.barh(y=result_metrics.index.values, width=result_metrics['f1']);\n",
    "plt.title('$F_1$ Score of different ML models');"
   ]
  },
  {
   "cell_type": "code",
   "execution_count": 23,
   "id": "12f3e5bc",
   "metadata": {
    "execution": {
     "iopub.execute_input": "2023-02-15T12:15:58.603440Z",
     "iopub.status.busy": "2023-02-15T12:15:58.603440Z",
     "iopub.status.idle": "2023-02-15T12:15:58.642463Z",
     "shell.execute_reply": "2023-02-15T12:15:58.641461Z"
    },
    "papermill": {
     "duration": 0.077016,
     "end_time": "2023-02-15T12:15:58.647464",
     "exception": false,
     "start_time": "2023-02-15T12:15:58.570448",
     "status": "completed"
    },
    "tags": []
   },
   "outputs": [],
   "source": [
    "result_metrics.to_pickle('../data/nb_4_results.p')"
   ]
  }
 ],
 "metadata": {
  "jupytext": {
   "cell_metadata_filter": "-LanguageId",
   "formats": "ipynb,py:light",
   "main_language": "python",
   "notebook_metadata_filter": "-kernelspec"
  },
  "language_info": {
   "codemirror_mode": {
    "name": "ipython",
    "version": 3
   },
   "file_extension": ".py",
   "mimetype": "text/x-python",
   "name": "python",
   "nbconvert_exporter": "python",
   "pygments_lexer": "ipython3",
   "version": "3.10.9"
  },
  "papermill": {
   "default_parameters": {},
   "duration": 101.631417,
   "end_time": "2023-02-15T12:16:00.333547",
   "environment_variables": {},
   "exception": null,
   "input_path": "pyfra_nb_4.ipynb",
   "output_path": "pyfra_nb_4.ipynb",
   "parameters": {},
   "start_time": "2023-02-15T12:14:18.702130",
   "version": "2.4.0"
  }
 },
 "nbformat": 4,
 "nbformat_minor": 5
}