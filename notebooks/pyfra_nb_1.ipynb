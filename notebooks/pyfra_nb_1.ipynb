{
 "cells": [
  {
   "cell_type": "markdown",
   "id": "e9252433",
   "metadata": {},
   "source": [
    "\n",
    "Notebook 1\n",
    "==============\n",
    "Data Visualization"
   ]
  },
  {
   "cell_type": "markdown",
   "id": "621ebff0",
   "metadata": {},
   "source": [
    "# Importing Packages and Data"
   ]
  },
  {
   "cell_type": "code",
   "execution_count": null,
   "id": "f580c512",
   "metadata": {},
   "outputs": [],
   "source": [
    "import pyfra\n",
    "import pandas as pd\n",
    "import numpy as np\n",
    "from matplotlib import pyplot as plt\n",
    "import seaborn as sns\n",
    "from pylab import *\n",
    "%matplotlib inline"
   ]
  },
  {
   "cell_type": "code",
   "execution_count": null,
   "id": "46056540",
   "metadata": {},
   "outputs": [],
   "source": [
    "#df = pd.read_pickle('../data/df.p')\n",
    "#n_rows_complete = len(df)"
   ]
  },
  {
   "cell_type": "code",
   "execution_count": null,
   "id": "86dca5d2",
   "metadata": {},
   "outputs": [],
   "source": [
    "#pd.testing.assert_frame_equal(left=(pd.read_csv('../data/df_check_info.csv', index_col=0)), \\\n",
    "                         #right=pyfra.df_testing_info(df),\\\n",
    "                         #check_dtype=False, check_exact=False)"
   ]
  },
  {
   "cell_type": "markdown",
   "id": "a3088f16",
   "metadata": {},
   "source": [
    "# Importing Data"
   ]
  },
  {
   "cell_type": "code",
   "execution_count": null,
   "id": "5993c336",
   "metadata": {},
   "outputs": [],
   "source": [
    "french_categories = {'characteristics': 'caracteristiques', 'places':'lieux', 'users':'usagers', 'vehicles':'vehicules'}\n",
    "data_categories = french_categories.keys()\n",
    "categories_dict = dict(zip(data_categories, [0,0,0,0]))"
   ]
  },
  {
   "cell_type": "code",
   "execution_count": null,
   "id": "9523a31b",
   "metadata": {},
   "outputs": [],
   "source": [
    "# Define the function that reads the raw data for the specified time range\n",
    "def read_csv_of_year(start_year, end_year, separators, name_separator='_'):\n",
    "    if len (separators)<4:\n",
    "        separators = [separators]*4\n",
    "        \n",
    "    df_dict = {}\n",
    "    for year in range(start_year,end_year+1):\n",
    "        this_year_str = str(year)\n",
    "        # Data Category\n",
    "        this_df_dict = {}        \n",
    "        for this_category, this_sep in zip(data_categories, separators):\n",
    "            # We need the French name of the category for the filename\n",
    "            this_french_category = french_categories[this_category]\n",
    "            this_file_path_and_name = '../data/'+this_year_str+'/' + this_french_category+name_separator+this_year_str+'.csv'\n",
    "            this_df_dict[this_category] = pd.read_csv(this_file_path_and_name, encoding='latin-1', sep=this_sep, low_memory=False)\n",
    "        df_dict[year] = this_df_dict\n",
    "    return df_dict\n",
    "\n",
    "# Import years\n",
    "df_dict = {}\n",
    "df_dict.update(read_csv_of_year(2005, 2008, separators=','))\n",
    "df_dict.update(read_csv_of_year(2009,2009, separators=['\\t', ',', ',', ',']))\n",
    "df_dict.update(read_csv_of_year(2010, 2016, separators=','))\n",
    "df_dict.update(read_csv_of_year(2017, 2018, separators=',', name_separator='-'))\n",
    "df_dict.update(read_csv_of_year(2019, 2021, separators=';', name_separator='-'))\n"
   ]
  },
  {
   "cell_type": "markdown",
   "id": "12b2660a",
   "metadata": {},
   "source": [
    "## Merge all the Data in one Data Frame for each Category"
   ]
  },
  {
   "cell_type": "code",
   "execution_count": null,
   "id": "8bfe793e",
   "metadata": {},
   "outputs": [],
   "source": [
    "dict_of_category_dfs = {}\n",
    "for this_category in data_categories:\n",
    "    dict_of_category_dfs[this_category] = pd.concat([df_dict[year][this_category] for year in range(2005,2022)], ignore_index=True)\n",
    "\n",
    "characteristics = dict_of_category_dfs['characteristics']\n",
    "places = dict_of_category_dfs['places']\n",
    "users = dict_of_category_dfs['users']\n",
    "vehicles = dict_of_category_dfs['vehicles']"
   ]
  },
  {
   "cell_type": "markdown",
   "id": "b8a51c20",
   "metadata": {},
   "source": [
    "# Data Cleaning\n",
    "We will perform some of the cleaning of the data on the individual datasets. Not all cleaning is possible before merging the datasets, so there will be a second round of cleaning."
   ]
  },
  {
   "cell_type": "markdown",
   "id": "a66cbc5d",
   "metadata": {},
   "source": [
    "### Function for calculating the percentage of missing values for each data frame"
   ]
  },
  {
   "cell_type": "code",
   "execution_count": null,
   "id": "e5b7e422",
   "metadata": {},
   "outputs": [],
   "source": [
    "def na_percentage(df):\n",
    "  return df.isna().sum() *100 / len(df)"
   ]
  },
  {
   "cell_type": "code",
   "execution_count": null,
   "id": "abbcfc5d",
   "metadata": {},
   "outputs": [],
   "source": [
    "for this_category, df in dict_of_category_dfs.items():\n",
    "    print(this_category+'\\n', na_percentage(df),'\\n')"
   ]
  },
  {
   "cell_type": "markdown",
   "id": "223381e5",
   "metadata": {},
   "source": [
    "## Users Dataset"
   ]
  },
  {
   "cell_type": "markdown",
   "id": "a31b0988",
   "metadata": {},
   "source": [
    "Dropping unwanted columns , which are num_veh , and id_vehicule\n"
   ]
  },
  {
   "cell_type": "code",
   "execution_count": null,
   "id": "cf5ff9ce",
   "metadata": {},
   "outputs": [],
   "source": [
    "users = users.drop(columns=['num_veh','id_vehicule']) #Not needed"
   ]
  },
  {
   "cell_type": "markdown",
   "id": "c7145d9a",
   "metadata": {},
   "source": [
    "## Places Dataset"
   ]
  },
  {
   "cell_type": "code",
   "execution_count": null,
   "id": "c145dce5",
   "metadata": {},
   "outputs": [],
   "source": [
    "# Change french names against english names (Teamdecision)\n",
    "# Droped 'Unnamed: 0','v1','v2','vma', because they contained no information.\n",
    "\n",
    "places = places.drop(['v1','v2','vma','voie','env1'], axis = 1)\n",
    "places = places.rename(columns = {'catr' : 'Rd_Cat', 'circ' : 'Traf_Direct' , 'nbv' : 'Lanes' ,\n",
    "                           'pr' : 'Landmark' , 'pr1' : 'Dist_to_Landmark', 'vosp' : 'Add_Lanes', 'prof' : 'Rd_Prof' ,\n",
    "                          'plan' : 'Rd_Plan' , 'lartpc' : 'Gre_Verge' , 'larrout' : 'Rd_Width', 'surf' : 'Rd_Cond',\n",
    "                          'infra' : 'Envinmt' , 'situ' : 'Pos_Acc'})\n",
    "places.head()"
   ]
  },
  {
   "cell_type": "markdown",
   "id": "8c6876f4",
   "metadata": {},
   "source": [
    "### Change Nans against zeros"
   ]
  },
  {
   "cell_type": "markdown",
   "id": "e8c847a4",
   "metadata": {},
   "source": [
    "Set most empty varibles to Zero / Null, because its for all vaiables not in use and can be defined as not applicable.\n",
    "\n",
    "9 Variables have <= 1% missing information, so for those it should be fine to set the missing information just tu zero.\n",
    "In addition, the recorded data are not suitable for filling the NaNs with, for example, the mean value, since this is almost exclusively about describing states.\n",
    "\n",
    "Hoped to fill up the missing information for Rd_Width with a comparsion Rd_Nr vs. Rd_Width, but it turns out that the same street has different widths.\n",
    "\n",
    "Nr_n_Width = places[['Rd_Nr','Rd_Width','Gre_Verge']]#comparsion Rd_Nr vs. Rd_Width. Same for Gre_Verge.\n",
    "Nr_n_Width.head()\n",
    "\n",
    "Landmark and Dist_to_Landmark are information to localize an accident. Nearly 50% of the Data are missing but I will keep the Data. Maybe it will be usefull to complete some location data.\n",
    "\n",
    "Missing information of Rd_Nr, biggest problem is that later in the Datasets they changed input of numbers against names. So I need a list which says which street is which number. I will drop the variable, it turns out useless.\n",
    "\n",
    "For column school there are 3 Types of information 99.0 / 0.0 and 3.0, according to the description the variable schools should only contain 1 or 2 so if it is or not near by a school.\n",
    "I can't find a logical and reliable way to replace the data. So I will drop them\n",
    "In 2019 they droped this column and start with speed limits. Its a importent information but I cant use it in this format. I will drop it for the moment.\n",
    "Code\n",
    "sns.countplot( x = places.School)"
   ]
  },
  {
   "cell_type": "code",
   "execution_count": null,
   "id": "031738fb",
   "metadata": {
    "lines_to_next_cell": 2
   },
   "outputs": [],
   "source": [
    "\n",
    "places['Rd_Cat'] = places['Rd_Cat'].fillna(0.0)\n",
    "places['Traf_Direct'] = places['Traf_Direct'].fillna(0.0)\n",
    "places['Lanes'] = places['Lanes'].fillna(0.0)\n",
    "places['Landmark'] = places['Landmark'].fillna(0.0)\n",
    "places['Dist_to_Landmark'] = places['Dist_to_Landmark'].fillna(0.0)\n",
    "places['Add_Lanes'] = places['Add_Lanes'].fillna(0.0)\n",
    "places['Rd_Prof'] = places['Rd_Prof'].fillna(0.0)\n",
    "places['Rd_Plan'] = places['Rd_Plan'].fillna(0.0)\n",
    "places['Gre_Verge'] = places['Gre_Verge'].fillna(0.0)\n",
    "places['Rd_Width'] = places['Rd_Width'].fillna(0.0)\n",
    "places['Rd_Cond'] = places['Rd_Cond'].fillna(0.0)\n",
    "places['Envinmt'] = places['Envinmt'].fillna(0.0)\n",
    "places['Pos_Acc'] = places['Pos_Acc'].fillna(0.0)"
   ]
  },
  {
   "cell_type": "code",
   "execution_count": null,
   "id": "070b6acd",
   "metadata": {},
   "outputs": [],
   "source": [
    "# Convert object to float\n",
    "places['Landmark'] = pd.to_numeric(places['Landmark'],errors = 'coerce')\n",
    "places['Dist_to_Landmark'] = pd.to_numeric(places['Dist_to_Landmark'],errors = 'coerce')\n",
    "places['Gre_Verge'] = pd.to_numeric(places['Gre_Verge'],errors = 'coerce')\n",
    "places['Rd_Width'] = pd.to_numeric(places['Rd_Width'],errors = 'coerce')\n",
    "\n",
    "# replace empty cells with nans\n",
    "places.replace('', np.nan)\n",
    "places = places.copy()\n",
    "\n",
    "# fill nans with 0\n",
    "places['Landmark'] = places['Landmark'].fillna(0.0)\n",
    "places['Dist_to_Landmark'] = places['Dist_to_Landmark'].fillna(0.0)\n",
    "places['Gre_Verge'] = places['Gre_Verge'].fillna(0.0)\n",
    "places['Rd_Width'] = places['Rd_Width'].fillna(0.0)\n",
    "\n",
    "# Convert float to int\n",
    "places['Rd_Cat'] = places['Rd_Cat'].astype(int, errors = 'raise')\n",
    "places['Traf_Direct'] = places['Traf_Direct'].astype(int, errors = 'raise')\n",
    "places['Lanes'] = places['Lanes'].astype(int, errors = 'raise')\n",
    "places['Landmark'] = places['Landmark'].astype(int, errors = 'raise')\n",
    "places['Dist_to_Landmark'] = places['Dist_to_Landmark'].astype(int, errors = 'raise')\n",
    "places['Add_Lanes'] = places['Add_Lanes'].astype(int, errors = 'raise')\n",
    "places['Rd_Prof'] = places['Rd_Prof'].astype(int, errors = 'raise')\n",
    "places['Rd_Plan'] = places['Rd_Plan'].astype(int, errors = 'raise')\n",
    "places['Gre_Verge'] = places['Gre_Verge'].astype(int, errors = 'raise')\n",
    "places['Rd_Width'] = places['Rd_Width'].astype(int, errors = 'raise')\n",
    "places['Rd_Cond'] = places['Rd_Cond'].astype(int, errors = 'raise')\n",
    "places['Envinmt'] = places['Envinmt'].astype(int, errors = 'raise')\n",
    "places['Pos_Acc'] = places['Pos_Acc'].astype(int, errors = 'raise')\n",
    "\n",
    "print(places.isna().sum())\n",
    "print()\n",
    "print(places.info())\n",
    "print()\n",
    "print(places.shape)#it appears that there is a problem with the shape of the df (couldnt normalize) ValueError: Found array with dim 3. the normalize function expected <= 2.\n"
   ]
  },
  {
   "cell_type": "markdown",
   "id": "161ee2cf",
   "metadata": {},
   "source": [
    "## Characteristics Dataset"
   ]
  },
  {
   "cell_type": "markdown",
   "id": "9ef6a88e",
   "metadata": {},
   "source": [
    "### Translate variable names from French to English"
   ]
  },
  {
   "cell_type": "code",
   "execution_count": null,
   "id": "a91fada1",
   "metadata": {},
   "outputs": [],
   "source": [
    "# Translation of the variable nacmes from French to English, also improving the names so that it becomes clearer, what they are about\n",
    "characteristics.rename(columns={'an': 'year', 'mois':'month', 'jour': 'day', 'hrmn':'hhmm', \n",
    "                                'lum': 'daylight', 'agg': 'built-up_area', 'int':'intersection_category', 'atm': 'atmospheric_conditions',\n",
    "                                'col': 'collision_category', 'com': 'municipality', 'adr':'adress', 'gps': 'gps_origin', 'lat': 'latitude',\n",
    "                                'long': 'longitude', 'dep': 'department'}, inplace=True)\n",
    "\n",
    "# Change the values for 'built-up_area' to make it more understandable, 1 means the accident happened in a built-up area and 0 means happened elsewhere. \n",
    "characteristics['built-up_area'].replace({1:0, 2:1}, inplace=True)"
   ]
  },
  {
   "cell_type": "markdown",
   "id": "abdb72ec",
   "metadata": {},
   "source": [
    "### Fixing incoherent format of year variable"
   ]
  },
  {
   "cell_type": "code",
   "execution_count": null,
   "id": "94111730",
   "metadata": {},
   "outputs": [],
   "source": [
    "characteristics['year'].value_counts()"
   ]
  },
  {
   "cell_type": "markdown",
   "id": "15f72d4a",
   "metadata": {},
   "source": [
    "The year format is inconsistent. Until 2018, the year was relative to the year 2000, e.g. \"5\" for 2005. This changed, however, in 2019 which was labeled as 2019.\n",
    "We will change the year format to YYYY."
   ]
  },
  {
   "cell_type": "code",
   "execution_count": null,
   "id": "b6bbc295",
   "metadata": {},
   "outputs": [],
   "source": [
    "characteristics['year'].replace({5:2005, 6:2006, 7:2007, 8:2008, 9:2009, 10:2010, 11:2011,\n",
    "                                                         12:2012, 13:2013, 14:2014, 15:2015, 16:2016, 17:2017, 18:2018}, inplace=True)"
   ]
  },
  {
   "cell_type": "markdown",
   "id": "b2ccf323",
   "metadata": {},
   "source": [
    "### Check"
   ]
  },
  {
   "cell_type": "code",
   "execution_count": null,
   "id": "8847ca3e",
   "metadata": {},
   "outputs": [],
   "source": [
    "characteristics['year'].value_counts()"
   ]
  },
  {
   "cell_type": "markdown",
   "id": "dbd41528",
   "metadata": {},
   "source": [
    "### Fix inconsistent time format"
   ]
  },
  {
   "cell_type": "markdown",
   "id": "a19fcd7f",
   "metadata": {},
   "source": [
    "The time format inconsistent, sometimes it is hhmm, and sometimes hh:mm. We will therefore remove any \":\" from the column "
   ]
  },
  {
   "cell_type": "code",
   "execution_count": null,
   "id": "46fcbe15",
   "metadata": {
    "lines_to_next_cell": 2
   },
   "outputs": [],
   "source": [
    "#remove ':' from hhmm\n",
    "characteristics['hhmm'] = characteristics['hhmm'].apply(lambda s: int(str(s).replace(':','')))"
   ]
  },
  {
   "cell_type": "markdown",
   "id": "ddfbeb03",
   "metadata": {},
   "source": [
    "### Get weekday and weekend feature"
   ]
  },
  {
   "cell_type": "code",
   "execution_count": null,
   "id": "5c02c2ed",
   "metadata": {},
   "outputs": [],
   "source": [
    "characteristics['date'] = pd.to_datetime({'year':characteristics['year'],\n",
    "                                                                 'month':dict_of_category_dfs['characteristics']['month'],\n",
    "                                                                 'day':dict_of_category_dfs['characteristics']['day']})"
   ]
  },
  {
   "cell_type": "code",
   "execution_count": null,
   "id": "c747d86d",
   "metadata": {},
   "outputs": [],
   "source": [
    "# New variable: weekday, integer from 0 to 6 representing the weekdays from monday to sunday.\n",
    "characteristics['day_of_week'] = dict_of_category_dfs['characteristics']['date'].apply(lambda x: x.day_of_week)\n",
    "\n",
    "# New binary variable: is_weekend, 0 for monday to friday and 1 for saturday and sunday\n",
    "characteristics['is_weekend'] = (dict_of_category_dfs['characteristics']['day_of_week'] > 4).astype('int')"
   ]
  },
  {
   "cell_type": "markdown",
   "id": "b9d50bf3",
   "metadata": {},
   "source": [
    "### Remove trailing zeroes from Department variable\n",
    "The Department codes are followed by a zero for the years 2005--2018, which has no practical use for us. We will therefore eliminate these trailing zeroes.\n",
    "Also, since 2019 all the data is saved as strings. We will convert everything to strings, as this is nominal data, we will not make any calculations with it."
   ]
  },
  {
   "cell_type": "code",
   "execution_count": null,
   "id": "9540d264",
   "metadata": {},
   "outputs": [],
   "source": [
    "dc = 750\n",
    "str(dc).rstrip('0')\n",
    "#.lstrip"
   ]
  },
  {
   "cell_type": "code",
   "execution_count": null,
   "id": "43ec31ce",
   "metadata": {},
   "outputs": [],
   "source": [
    "def department_converter(dep):\n",
    "    # Takes in a department code as int and returns a string\n",
    "    # e.g. 750 will be '75' for Paris\n",
    "    # and 201 will be '2B'\n",
    "    if dep == 201:\n",
    "        return '2A'\n",
    "    elif dep == 202:\n",
    "        return '2B'\n",
    "    elif dep>970:\n",
    "        return str(dep)\n",
    "    else:\n",
    "        return str(dep).rstrip('0')\n",
    "\n",
    "characteristics.loc[(np.less(characteristics['year'],2019)),'department'] = \\\n",
    "    characteristics[(np.less(characteristics['year'],2019))]['department'].apply(department_converter)"
   ]
  },
  {
   "cell_type": "markdown",
   "id": "56602893",
   "metadata": {},
   "source": [
    "### Remove leading zeros from department code\n",
    "The dataset from 2021 contains leading zeroes for the department codes 1 to 9. These have to be replaced."
   ]
  },
  {
   "cell_type": "code",
   "execution_count": null,
   "id": "c5b71301",
   "metadata": {},
   "outputs": [],
   "source": [
    "characteristics['department'] = characteristics['department'].apply(lambda code: code.lstrip('0'))"
   ]
  },
  {
   "cell_type": "markdown",
   "id": "c0197813",
   "metadata": {},
   "source": [
    "## Vehicles dataset"
   ]
  },
  {
   "cell_type": "markdown",
   "id": "5a19df50",
   "metadata": {},
   "source": [
    "### Translate variable names from French to English"
   ]
  },
  {
   "cell_type": "markdown",
   "id": "034bb827",
   "metadata": {},
   "source": [
    "We will translate the variable names from French to English for better interpretability and name them more clear (using small letters)."
   ]
  },
  {
   "cell_type": "code",
   "execution_count": null,
   "id": "2ec295b7",
   "metadata": {},
   "outputs": [],
   "source": [
    "vehicles = vehicles.rename(columns = {'id_vehicule' : 'id_veh' , 'num_veh' : 'num_veh' ,\n",
    "                           'senc' : 'direction' , 'catv' : 'cat_veh', 'obs' : 'obstacle', 'obsm' : 'obstacle_movable' ,\n",
    "                          'choc' : 'initial_point' , 'manv' : 'principal_maneuver' , 'motor' : 'motor_veh', 'occutc' : 'num_occupants'})\n",
    "vehicles.columns"
   ]
  },
  {
   "cell_type": "markdown",
   "id": "f288ba1c",
   "metadata": {},
   "source": [
    "### Check of the variables with the most missing values"
   ]
  },
  {
   "cell_type": "markdown",
   "id": "8cf4f9a8",
   "metadata": {},
   "source": [
    "Variable num_occupants is representing amount of passangers being victims of an accident when they used public transport system. Missing values are caused by not recording value 0 and keeping the cell empty. For this reason we decided to replace the missing values by 0."
   ]
  },
  {
   "cell_type": "code",
   "execution_count": null,
   "id": "afe08ed1",
   "metadata": {},
   "outputs": [],
   "source": [
    "vehicles[\"num_occupants\"] = vehicles[\"num_occupants\"].fillna(0)\n",
    "vehicles['num_occupants'].isna().sum()\n",
    "vehicles['num_occupants'].value_counts()"
   ]
  },
  {
   "cell_type": "markdown",
   "id": "b1d5c311",
   "metadata": {},
   "source": [
    "Variables motor_veh and id_veh represents type of the motorisation of the vehicle. There are 85% missing values in this column. Some of the values of this variable dont specificate exact type but are tracked as unspecified, unknown, other. We have decided to drop this variable as it doesnt have any significant influence on the target variable. "
   ]
  },
  {
   "cell_type": "code",
   "execution_count": null,
   "id": "185505b2",
   "metadata": {},
   "outputs": [],
   "source": [
    "vehicles = vehicles.drop(columns=['motor_veh','id_veh'])"
   ]
  },
  {
   "cell_type": "markdown",
   "id": "c2abe590",
   "metadata": {},
   "source": [
    "8 Variables have <= 1% missing information, so for those it should be fine to set the missing information just tu zero."
   ]
  },
  {
   "cell_type": "code",
   "execution_count": null,
   "id": "6b5a2afd",
   "metadata": {},
   "outputs": [],
   "source": [
    "vehicles[['Num_Acc', 'direction', 'cat_veh', 'obstacle', 'obstacle_movable', 'initial_point', 'principal_maneuver']] = vehicles[['Num_Acc', 'direction', 'cat_veh', 'obstacle', 'obstacle_movable', 'initial_point', 'principal_maneuver']].fillna(0)\n",
    "vehicles.isna().sum()"
   ]
  },
  {
   "cell_type": "markdown",
   "id": "d4fae9fc",
   "metadata": {},
   "source": [
    "# Merge all datasets"
   ]
  },
  {
   "cell_type": "markdown",
   "id": "9801b7f3",
   "metadata": {},
   "source": [
    "## Compute the percentage of missing data"
   ]
  },
  {
   "cell_type": "code",
   "execution_count": null,
   "id": "4d589d88",
   "metadata": {},
   "outputs": [],
   "source": [
    "outer_df = characteristics.merge(right=places, how='outer').merge(users, how='outer').merge(vehicles, how='outer')"
   ]
  },
  {
   "cell_type": "code",
   "execution_count": null,
   "id": "bb2fc315",
   "metadata": {},
   "outputs": [],
   "source": [
    "print(f'number of rows:........{outer_df.shape[0]}')\n",
    "print(f'number of variables:...{outer_df.shape[1]}')\n",
    "na_percentage(outer_df)"
   ]
  },
  {
   "cell_type": "markdown",
   "id": "3674bebb",
   "metadata": {},
   "source": [
    "## Left Join for further investigations\n",
    "We will continue working with the left join of the data, as the missing lines miss the most important variables anyway."
   ]
  },
  {
   "cell_type": "code",
   "execution_count": null,
   "id": "f735f31c",
   "metadata": {},
   "outputs": [],
   "source": [
    "df = characteristics.merge(right=places, how='left').merge(users, how='left').merge(vehicles, how='left')\n",
    "print(df.info())\n",
    "print(na_percentage(df))"
   ]
  },
  {
   "cell_type": "markdown",
   "id": "650e1dc6",
   "metadata": {},
   "source": [
    "### Fixing incoherency of 'secu' Variable\n",
    "Safety equipment until 2018 was in 2 variables: existence and use.\n",
    "\n",
    "From 2019, it is the use with up to 3 possible equipments for the same user (especially for motorcyclists whose helmet and gloves are mandatory).\n",
    "\n",
    "#### secu1\n",
    "The character information indicates the presence and use of the safety equipment:\n",
    "-1 - No information \n",
    "0 - No equipment \n",
    "1 - Belt \n",
    "2 - Helmet \n",
    "3 - Children device \n",
    "4 - Reflective vest \n",
    "5 - Airbag (2WD/3WD) \n",
    "6 - Gloves (2WD/3WD) \n",
    "7 - Gloves + Airbag (2WD/3WD) \n",
    "8 - Non-determinable \n",
    "9 - Other\n",
    "\n",
    "#### secu2\n",
    "The character information indicates the presence and use of the safety equipment\n",
    "\n",
    "#### secu3\n",
    "The character information indicates the presence and use of safety equipment"
   ]
  },
  {
   "cell_type": "code",
   "execution_count": null,
   "id": "ee200906",
   "metadata": {},
   "outputs": [],
   "source": [
    "df['secu'] = df[df['year']==2007]['secu'].astype(int)\n",
    "df[df['year']==2007]['secu'].value_counts()"
   ]
  },
  {
   "cell_type": "markdown",
   "id": "204d9fc4",
   "metadata": {},
   "source": [
    "# Visualizations"
   ]
  },
  {
   "cell_type": "markdown",
   "id": "e8224ae4",
   "metadata": {},
   "source": [
    "## Correlation of the feature variables with the target"
   ]
  },
  {
   "cell_type": "code",
   "execution_count": null,
   "id": "2d5efc4d",
   "metadata": {},
   "outputs": [],
   "source": [
    "cm=df.corr()\n",
    "cm['grav'].sort_values(ascending=False)[1:]"
   ]
  },
  {
   "cell_type": "markdown",
   "id": "8473788b",
   "metadata": {},
   "source": [
    "The list shows the correlation between each variables and the target variable. Note: The decision whether a variable is important or not has to be based on the absolute value of the correlation."
   ]
  },
  {
   "cell_type": "code",
   "execution_count": null,
   "id": "ea205ab4",
   "metadata": {},
   "outputs": [],
   "source": [
    "fig, ax = plt.subplots(figsize=(33,20));\n",
    "sns.heatmap(cm, annot = True, ax = ax, cmap='coolwarm', linewidths = 0.40);\n",
    "fontsize = 40\n",
    "plt.title(\"Heatmap of Correlation for all Variables with the Target\", fontdict={'fontsize': fontsize}, pad=40);"
   ]
  },
  {
   "cell_type": "markdown",
   "id": "7245f73e",
   "metadata": {},
   "source": [
    "This heat map is intended to provide an overall view of where strong correlations occur ."
   ]
  },
  {
   "cell_type": "markdown",
   "id": "66b89a4b",
   "metadata": {},
   "source": [
    "## Heatmap per Subject Area"
   ]
  },
  {
   "cell_type": "code",
   "execution_count": null,
   "id": "a51cc52f",
   "metadata": {},
   "outputs": [],
   "source": [
    "fig, S = plt.subplots(figsize=(12,5));\n",
    "sns.heatmap(users.corr() , annot = True, cmap='coolwarm',linewidths = 0.40);\n",
    "plt.title('Heatmap for Users', pad=10);\n",
    "\n",
    "fig, S = plt.subplots(figsize=(12,5));\n",
    "sns.heatmap(places.corr() , annot = True, cmap='coolwarm',linewidths = 0.40);\n",
    "plt.title('Heatmap for Places', pad=10);\n",
    "\n",
    "fig, S = plt.subplots(figsize=(12,5));\n",
    "sns.heatmap(vehicles.corr() , annot = True, cmap='coolwarm',linewidths = 0.40);\n",
    "plt.title('Heatmap for Vehicles', pad=10);\n",
    "\n",
    "fig, S = plt.subplots(figsize=(12,5));\n",
    "sns.heatmap(characteristics.corr() , annot = True, cmap='coolwarm',linewidths = 0.40);\n",
    "plt.title('Heatmap for Characteristics', pad=10);"
   ]
  },
  {
   "cell_type": "markdown",
   "id": "da715cd4",
   "metadata": {},
   "source": [
    "## Datetime"
   ]
  },
  {
   "cell_type": "markdown",
   "id": "a8dda412",
   "metadata": {},
   "source": [
    "We suspect different distributions on weekdays in comparison to weekends. Accidents on weekdays will probably occur mostly when people are commuting to work, i.d. before 09:00 and after 17:00, while on the weekends, people might cause accidents when they return from parties late at night.\n",
    "We will plot the relative distribution of accidents in two histograms in one figure.\n",
    "The proportion is relative to the total number of accidents in each category, i.e. 1 different for weekends and weekends."
   ]
  },
  {
   "cell_type": "code",
   "execution_count": null,
   "id": "1eca311f",
   "metadata": {},
   "outputs": [],
   "source": [
    "day_time_ticks = (0,300,600,900,1200,1500,1800,2100,2400)\n",
    "day_time_tick_labels = ('0:00', '03:00','06:00','09:00','12:00','15:00',\n",
    "                   '18:00','21:00','24:00')\n",
    "plot_data = pd.DataFrame({'weekdays': (dict_of_category_dfs['characteristics'][dict_of_category_dfs['characteristics']['is_weekend'] != 1 ])['hhmm'],\n",
    "                 'weekends': (dict_of_category_dfs['characteristics'][dict_of_category_dfs['characteristics']['is_weekend'] == 1 ])['hhmm']})\n",
    "fig= plt.figure();\n",
    "sns.histplot(data=plot_data, stat='proportion', bins=24, binrange=(0,2400), common_norm=False);\n",
    "plt.xticks(ticks=day_time_ticks, \n",
    "           labels=day_time_tick_labels);\n",
    "plt.xlabel('Time of Day')\n",
    "plt.xlim((0,2400))\n",
    "plt.title('Distribution of Accidents by Daytime', pad = 10);"
   ]
  },
  {
   "cell_type": "markdown",
   "id": "8c040736",
   "metadata": {},
   "source": [
    "The plot shows, that the temporal distribution is different on the weekends: On weekends, there are far more accidents between 19:00 and 07:00, while there are more accidents on weekday around 09:00 and 18:00. These differences align very well with our hypothesis. We did not expect the peak on weekends around 18:00, though. \n",
    "\n",
    "Possible policy measures could be more public transport offers during these times and more police inspections on the weekends near party locations."
   ]
  },
  {
   "cell_type": "markdown",
   "id": "2244d8d0",
   "metadata": {},
   "source": [
    "## Accidents per capita\n",
    "\n",
    "We will investigate, how the ratio accident / habitant differs between the departments. For this, we will create a new DataFrame of Departments. We will count the accidents per Department and import the population data from INSEE to calculate the ratio. \n",
    "\n",
    "\n",
    "We do not expect that this comparison shows stark contrast between the departments. Departments with dense cities will probably have a higher ratio, though. This plot will show us, if there are any outliers."
   ]
  },
  {
   "cell_type": "code",
   "execution_count": null,
   "id": "917cd424",
   "metadata": {
    "lines_to_next_cell": 2
   },
   "outputs": [],
   "source": [
    "# Importing data departments from 2019\n",
    "# source: https://www.insee.fr/fr/statistiques/6011070?sommaire=6011075\n",
    "departments_2019_df = pd.read_csv('../Data/additional_data/donnees_departements.csv', index_col=2, sep=';')\n",
    "\n",
    "# Remove leading zeroes from department codes\n",
    "departments_2019_df.index = departments_2019_df.index.map(lambda idx: idx.lstrip('0'))\n",
    "\n",
    "# number of accidents by department\n",
    "n_accidents_by_department = characteristics[characteristics['year']==2019]['department'].value_counts()\n",
    "\n",
    "# Joining the data\n",
    "departments_2019_df = departments_2019_df.join(n_accidents_by_department, how='outer') \n",
    "\n",
    "# Data is missing for some small departments, we will drop these departments\n",
    "departments_2019_df.rename(columns={'department':'n_accidents'}, inplace=True)\n",
    "\n",
    "# Calculate the relative number of accidents per department per 10_000 habitants\n",
    "departments_2019_df['n_accidents_per_10k'] = departments_2019_df.apply(lambda row: row['n_accidents']*10_000/row['PTOT'] ,axis=1)\n",
    "departments_2019_df.dropna(axis=0,subset='n_accidents_per_10k', inplace=True)"
   ]
  },
  {
   "cell_type": "code",
   "execution_count": null,
   "id": "e0ddaa9c",
   "metadata": {},
   "outputs": [],
   "source": [
    "#departments_2019_df['n_accidents_per_10k'].plot(kind='bar')\n",
    "departments_2019_df.sort_values(by='n_accidents_per_10k').tail(10).plot.barh(x='DEP',y='n_accidents_per_10k',    \n",
    "    figsize=(5,5), grid=False, title='Number of Accidents per 10,000 habitants (2019)', legend=False);\n",
    "plt.title('Number of Accidents per 10,000 habitants (2019)',pad = 10);\n",
    "\n",
    "departments_2019_df.sort_values(by='n_accidents_per_10k').head(10).plot.barh(x='DEP',y='n_accidents_per_10k',    \n",
    "    figsize=(5,5), grid=False, title='Number of Accidents per 10,000 habitants (2019)', legend=False);\n",
    "plt.title('Number of Accidents per 10,000 habitants (2019)',pad = 10);"
   ]
  },
  {
   "cell_type": "code",
   "execution_count": null,
   "id": "cf842be6",
   "metadata": {
    "lines_to_next_cell": 2
   },
   "outputs": [],
   "source": [
    "plt.figure(figsize=(5,5));\n",
    "plt.plot(departments_2019_df['PTOT'], departments_2019_df['n_accidents'], 'x');\n",
    "plt.title('Accidents in a Department in Function of its Population 2009', pad=10);\n",
    "plt.xlabel('Total Population of the Department ( in Millions )');\n",
    "locs,labels = xticks();\n",
    "xticks(locs, map(lambda x: \"%.1f\" % x, locs*1e-6));\n",
    "xlim(left=0);\n",
    "plt.ylabel('Number of Accidents in the Department');"
   ]
  },
  {
   "cell_type": "markdown",
   "id": "9505fba7",
   "metadata": {},
   "source": [
    "\n",
    "The differences between the departments are generally higher than expected. Other than the departments without data (which have been dropped before plotting), there are no outliers. The relation between habitants and accidents does not seem to be linear, a quadratic function could be used for fitting here.  "
   ]
  },
  {
   "cell_type": "markdown",
   "id": "d2769817",
   "metadata": {},
   "source": [
    "## Checking Accidents per month and per year"
   ]
  },
  {
   "cell_type": "markdown",
   "id": "a789074d",
   "metadata": {},
   "source": [
    "In general accidents should be uniform accross all months of the year, and generally accidents should be decreasing across the years especially in covid area since we had a lower volume of car movement across the world"
   ]
  },
  {
   "cell_type": "code",
   "execution_count": null,
   "id": "7a61c740",
   "metadata": {
    "lines_to_next_cell": 2
   },
   "outputs": [],
   "source": [
    "plt.figure(figsize=(5,5));\n",
    "sns.countplot(y = \"month\" , data = characteristics)\n",
    "plt.xlabel('Total Number of Accidents');\n",
    "plt.ylabel('Month');\n",
    "plt.title('Distribution of Accidents by Month', pad=10);"
   ]
  },
  {
   "cell_type": "code",
   "execution_count": null,
   "id": "372a07ab",
   "metadata": {},
   "outputs": [],
   "source": [
    "plt.figure(figsize=(5,5));\n",
    "sns.countplot(y = \"year\" , data = characteristics)\n",
    "plt.xlabel('Total Number of Accidents');\n",
    "plt.ylabel('Year');\n",
    "plt.title('Distribution of Accidents by Year', pad=10);"
   ]
  },
  {
   "cell_type": "markdown",
   "id": "8e6bd4d9",
   "metadata": {},
   "source": [
    "We can see that the number of accidents per month is almost uniform.\n",
    "\n",
    "For the years we see a decline in the number of accidents per year, maybe for increased security measures or improved laws and roads.\n",
    "We can also see that there is a sharp decrease in the number in the year 2020 probably due to Covid and lockdown in France, and a relative increase after that in 2021."
   ]
  },
  {
   "cell_type": "markdown",
   "id": "f112fdc1",
   "metadata": {},
   "source": [
    "## Accidents by Gender"
   ]
  },
  {
   "cell_type": "markdown",
   "id": "d56b8492",
   "metadata": {},
   "source": [
    "The number of accidents across genders should be equal across males and females."
   ]
  },
  {
   "cell_type": "code",
   "execution_count": null,
   "id": "a1838035",
   "metadata": {},
   "outputs": [],
   "source": [
    "users.sexe.replace(to_replace=-1,value=1,inplace=True)\n",
    "users.sexe.value_counts()"
   ]
  },
  {
   "cell_type": "code",
   "execution_count": null,
   "id": "588ce492",
   "metadata": {},
   "outputs": [],
   "source": [
    "plt.figure(figsize=(5,5));\n",
    "ax = sns.countplot(data=users, x='sexe');\n",
    "plt.xticks(ticks=[0,1],labels=['Male', 'Female'])\n",
    "plt.xlabel('Sex');\n",
    "plt.ylabel('Total Number of Accidents ( in Millions )');\n",
    "locs,labels = yticks();\n",
    "yticks(locs, map(lambda x: \"%.1f\" % x, locs*1e-6));\n",
    "ylim(bottom=0);\n",
    "plt.title('Distribution of Accidents by Gender', pad=10);"
   ]
  },
  {
   "cell_type": "markdown",
   "id": "d9e38b57",
   "metadata": {},
   "source": [
    "We see that the amount of Males doing accidents is almost double that of females, probably because the amount of males who generally drive are higher than females, or because males are reckless drivers."
   ]
  },
  {
   "cell_type": "markdown",
   "id": "cd9aca54",
   "metadata": {},
   "source": [
    "## Accidents by Severity"
   ]
  },
  {
   "cell_type": "code",
   "execution_count": null,
   "id": "0690d33c",
   "metadata": {},
   "outputs": [],
   "source": [
    "users.grav.replace(to_replace=-1,value=1,inplace=True)\n",
    "users.grav.value_counts()"
   ]
  },
  {
   "cell_type": "markdown",
   "id": "23ac95c2",
   "metadata": {},
   "source": [
    "We nee to check the severity (gravity) of accidents and its effects on the dirvers, which is our target variable.\n",
    "Only a low number of accidents should result in serious injury or death due to the advanced security systems and road designs."
   ]
  },
  {
   "cell_type": "code",
   "execution_count": null,
   "id": "5aecea87",
   "metadata": {},
   "outputs": [],
   "source": [
    "plt.figure(figsize=(5,5));\n",
    "sns.countplot(data=users, x='grav');  \n",
    "plt.xticks(ticks=[0,1,2,3], labels=['1\\nUnscathed', '2\\nKilled',\n",
    "    '3\\nHospitalized\\nwounded','4\\nLight injury'])\n",
    "plt.xlabel('Severity');\n",
    "plt.ylabel('Total Number of Accidents ( in Millions )');\n",
    "locs,labels = yticks();\n",
    "yticks(locs, map(lambda x: \"%.1f\" % x, locs*1e-6));\n",
    "ylim(bottom=0);\n",
    "plt.title('Number of Accidents according to their Severity', pad=10);"
   ]
  },
  {
   "cell_type": "markdown",
   "id": "7d100d63",
   "metadata": {},
   "source": [
    "Conclusion: We can see that almost 20% of people are Hospitalized and only a very small amount is killed,and hence we can deduce that the target variable is unbalanced."
   ]
  },
  {
   "cell_type": "markdown",
   "id": "7907d005",
   "metadata": {},
   "source": [
    "## Accidents per Road Categories\n",
    "\n",
    "What types of roads do most accidents happen on? Can roads with high speeds or rather small distances show a clear trend? We would not expect a clear trend."
   ]
  },
  {
   "cell_type": "code",
   "execution_count": null,
   "id": "c226d4d4",
   "metadata": {},
   "outputs": [],
   "source": [
    "plt.figure(figsize = (8,5));\n",
    "sns.countplot( y = df.Rd_Cat);\n",
    "plt.title('Road Categories with most Accidents', pad=10);\n",
    "plt.yticks(ticks=list(range(0,9)),labels=['Nans','Highway', 'National Road', 'Departmental Road',\n",
    "                                          'Communal Way' ,'Off puplic Network','Parking Lot (Puplic)' ,\n",
    "                                          'Urban Metropolis Roads' , 'Other']);\n",
    "plt.xlabel('Accident Count ( in Millions )');\n",
    "plt.ylabel('Road Categories');\n",
    "locs,labels = xticks();\n",
    "xticks(locs, map(lambda x: \"%.1f\" % x, locs*1e-6));\n",
    "ylim(top=0.5);\n",
    "xlim(left=0);"
   ]
  },
  {
   "cell_type": "markdown",
   "id": "0377b47b",
   "metadata": {},
   "source": [
    "\n",
    "Most accidents seem to occur in urban areas. Reasons for this can be oncoming traffic, other road users such as cyclists, narrow or dirty lanes."
   ]
  },
  {
   "cell_type": "markdown",
   "id": "29810502",
   "metadata": {},
   "source": [
    "## Accidents per Road Categories vs. Traffic Direction\n",
    "\n",
    "In which direction of travel do most accidents occur and does the type of road plays a role here. Can oncoming traffic be a factor?"
   ]
  },
  {
   "cell_type": "code",
   "execution_count": null,
   "id": "91f931fe",
   "metadata": {},
   "outputs": [],
   "source": [
    "indexNames = df[ df['Traf_Direct'] < 1 ].index\n",
    "df.drop(indexNames , inplace=True)"
   ]
  },
  {
   "cell_type": "code",
   "execution_count": null,
   "id": "996ef0f7",
   "metadata": {
    "lines_to_next_cell": 2
   },
   "outputs": [],
   "source": [
    "g = sns.FacetGrid(df, col = 'Traf_Direct', col_wrap=4, height=3.5, aspect=1.2,hue='Rd_Cat');\n",
    "chart = g.map_dataframe(sns.histplot, x='Rd_Cat', binwidth=.5, binrange=(1, 9));\n",
    "g.add_legend()\n",
    "g.fig.subplots_adjust(top=0.8);\n",
    "g.fig.suptitle('Accidents according to Traffic Direction and Road Category (Accident Count in Millions )');\n",
    "locs,labels = yticks();\n",
    "yticks(locs, map(lambda x: \"%.1f\" % x, locs*1e-6));\n",
    "ylim(bottom=0);\n",
    "xlim(left=0.6);"
   ]
  },
  {
   "cell_type": "markdown",
   "id": "78a05cb1",
   "metadata": {},
   "source": [
    "Legend:\n",
    "- Road Categories:---------------------Traffic Directions                   \n",
    "- 1=Highway--------------------------         - 1=One Way           \n",
    "- 2=National Road--------------------            - 2=Bidirectional  \n",
    "- 3=Departmental Road--------------           - 3=Separated Carriageways \n",
    "- 4=Communal Way------------------           - 4=With variable assignment Channels    \n",
    "- 5=Off puplic Network         \n",
    "- 6=Parking Lot (Puplic)      \n",
    "- 7=Urban Metropolis Roads\n",
    "- 9=Other                                            "
   ]
  },
  {
   "cell_type": "markdown",
   "id": "07063d90",
   "metadata": {},
   "source": [
    "\n",
    "We can see that with road categories 3 and 4, on which most accidents happen, we have most accidents in places with bidirectional traffic. A suspicion that arose from this, that frontal or side collisions of vehicles on narrow streets with traffic on both sides are the most common, has not been confirmed. In fact, the most common type of collision is the side collision (1.4 million times), but this in turn is distributed fairly evenly across the type of road and traffic direction."
   ]
  },
  {
   "cell_type": "markdown",
   "id": "e0f6ca6e",
   "metadata": {},
   "source": [
    "## Road Conditions\n",
    "\n",
    "In what weather conditions do most accidents happen? We would expect snow, ice, rain, mud as clear evidence."
   ]
  },
  {
   "cell_type": "code",
   "execution_count": null,
   "id": "a04eb80a",
   "metadata": {},
   "outputs": [],
   "source": [
    "plt.figure(figsize = (8,5));\n",
    "sns.countplot( y = df.Rd_Cond);\n",
    "plt.title('Road Conditions with most Accidents', pad=10);\n",
    "plt.yticks(ticks=list(range(0,11)),labels=['Nans','Failure','Normal','Wet','Puddles','Flooded','Snow-Convered',\n",
    "                                           'Mud','Icy','Greasy (Oil)', 'Other']);\n",
    "plt.ylabel('Road Conditions');\n",
    "ylim(top=1.5);\n",
    "plt.xlabel('Accident Count ( in Millions )');\n",
    "locs,labels = xticks();\n",
    "xticks(locs, map(lambda x: \"%.1f\" % x, locs*1e-6));"
   ]
  },
  {
   "cell_type": "markdown",
   "id": "eb3bd1b2",
   "metadata": {},
   "source": [
    "\n",
    "By far the most accidents happend during normal weather conditions."
   ]
  },
  {
   "cell_type": "markdown",
   "id": "ac876ff1",
   "metadata": {},
   "source": [
    "## Locations\n",
    "\n",
    "Are there areas of the road that are particularly often associated with accidents?"
   ]
  },
  {
   "cell_type": "code",
   "execution_count": null,
   "id": "b1460e1b",
   "metadata": {},
   "outputs": [],
   "source": [
    "plt.figure(figsize = (8,5));\n",
    "sns.countplot( y = df.Pos_Acc);\n",
    "plt.title('Accident Locations', pad=10);\n",
    "plt.ylabel('Road Locations');\n",
    "plt.yticks(ticks=list(range(0,9)),labels=['Failure','Nans','On Carriageway', \n",
    "                                          'On Emergancy Lane', 'On Hard Shoulder', \n",
    "                                          'On Pavement' ,'On Cycle Path / Lane','On Special Lane' , 'Other']);\n",
    "ylim(top=1.5);\n",
    "plt.xlabel('Accident Count ( in Millions )')\n",
    "locs,labels = xticks();\n",
    "xticks(locs, map(lambda x: \"%.1f\" % x, locs*1e-6));\n",
    "xlim(left=0);"
   ]
  },
  {
   "cell_type": "markdown",
   "id": "7b34bd71",
   "metadata": {},
   "source": [
    "\n",
    "By far the most accidents just happend directly on the carriage way."
   ]
  },
  {
   "cell_type": "markdown",
   "id": "ed3b4d57",
   "metadata": {},
   "source": [
    "## Chrashed Obstacle\n",
    "\n",
    "Can traffic obstacles be a special index for accidents? It is to be expected that most accidents involving other road users occur in the form of vehicles."
   ]
  },
  {
   "cell_type": "code",
   "execution_count": null,
   "id": "a3c0d8a8",
   "metadata": {},
   "outputs": [],
   "source": [
    "plt.figure(figsize = (8,5));\n",
    "sns.countplot( y = vehicles.obstacle_movable);\n",
    "plt.title('Crashed Obstacle', pad=10);\n",
    "plt.ylabel('Type of movable Obstacle');\n",
    "plt.yticks(ticks=list(range(0,8)),labels=['Nans','No Obstacle','Pedestrian', 'Vehicle', 'Rail vehicle', 'Pet' ,\n",
    "                                          'Wild animal','Other']);\n",
    "ylim(top=.5);\n",
    "plt.xlabel('Accident Count ( in Millions )')\n",
    "locs,labels = xticks();\n",
    "xticks(locs, map(lambda x: \"%.1f\" % x, locs*1e-6));\n",
    "xlim(left=0);"
   ]
  },
  {
   "cell_type": "markdown",
   "id": "acd7a6d7",
   "metadata": {},
   "source": [
    "\n",
    "Most crashed object during car accidents were other vehicles. Followed by no obstacle crashed and crashed pedestrians."
   ]
  },
  {
   "cell_type": "markdown",
   "id": "e42996d9",
   "metadata": {},
   "source": [
    "## Conclusion for Visualizations\n",
    "\n",
    "In fact, accidents often do not seem to have been brought about by any particular external influence. Rather, physical conditions of road users such as tiredness, stress, the influence of alcohol and drugs or poor concentration could be the cause. This is of course a circumstance that is not easy to solve in order to be able to reduce the number of accidents in the future. Campaigns can only draw attention to the most common causes of accidents in France and the best way to counteract them."
   ]
  }
 ],
 "metadata": {
  "jupytext": {
   "cell_metadata_filter": "-LanguageId",
   "formats": "ipynb,py:light",
   "main_language": "python",
   "notebook_metadata_filter": "-kernelspec"
  }
 },
 "nbformat": 4,
 "nbformat_minor": 5
}
