{
 "cells": [
  {
   "cell_type": "markdown",
   "id": "607d5dc9",
   "metadata": {},
   "source": [
    "Notebook 5\n",
    "==============\n",
    "Further Analysis"
   ]
  },
  {
   "cell_type": "markdown",
   "id": "f5441fde",
   "metadata": {},
   "source": [
    "# Outline\n",
    "The aim is to further investigate the models developed in the third notebook.\n",
    "We will\n",
    "1. Identify the relationship between amount of training data and model performance\n",
    "2. Compare the performance of our model with a naive approach of training on the un-stratified, imbalanced dataset"
   ]
  },
  {
   "cell_type": "markdown",
   "id": "94f43fe0",
   "metadata": {},
   "source": [
    "# Import Modules, Data and Model "
   ]
  },
  {
   "cell_type": "code",
   "execution_count": 26,
   "id": "3416edbd",
   "metadata": {
    "lines_to_next_cell": 2
   },
   "outputs": [],
   "source": [
    "# Import the modules\n",
    "import pyfra\n",
    "import pandas as pd\n",
    "import numpy as np\n",
    "from matplotlib import pyplot as plt\n",
    "from joblib import load\n",
    "from sklearn.model_selection import train_test_split\n",
    "from imblearn.under_sampling import RandomUnderSampler"
   ]
  },
  {
   "cell_type": "code",
   "execution_count": 27,
   "id": "43509dfd",
   "metadata": {},
   "outputs": [],
   "source": [
    "df = pd.read_pickle('../data/df.p')\n",
    "n_rows_complete = len(df)"
   ]
  },
  {
   "cell_type": "code",
   "execution_count": 28,
   "id": "5cb0c89e",
   "metadata": {},
   "outputs": [],
   "source": [
    "# Check whether or not the data is up-to-date (file can't be tracked on github because of it's file size)\n",
    "pd.testing.assert_frame_equal(left=(pd.read_csv('../data/df_check_info.csv', index_col=0)), \\\n",
    "                         right=pyfra.df_testing_info(df),\\\n",
    "                         check_dtype=False, check_exact=False)"
   ]
  },
  {
   "cell_type": "code",
   "execution_count": 29,
   "id": "640e4336",
   "metadata": {},
   "outputs": [],
   "source": [
    "rus = RandomUnderSampler(random_state=23)"
   ]
  },
  {
   "cell_type": "code",
   "execution_count": 30,
   "id": "44f0458e",
   "metadata": {},
   "outputs": [],
   "source": [
    "data = df.drop(columns='Severity',axis=1).select_dtypes(include=np.number).dropna(axis=1)\n",
    "target = df['Severity']\n",
    "data, target = rus.fit_resample(X=data, y=target)"
   ]
  },
  {
   "cell_type": "code",
   "execution_count": 31,
   "id": "97e325a9",
   "metadata": {},
   "outputs": [
    {
     "data": {
      "text/plain": [
       "1    107959\n",
       "2    107959\n",
       "3    107959\n",
       "4    107959\n",
       "Name: Severity, dtype: int64"
      ]
     },
     "execution_count": 31,
     "metadata": {},
     "output_type": "execute_result"
    }
   ],
   "source": [
    "target.value_counts()"
   ]
  },
  {
   "cell_type": "code",
   "execution_count": 32,
   "id": "9bb1bf60",
   "metadata": {},
   "outputs": [
    {
     "name": "stdout",
     "output_type": "stream",
     "text": [
      "We are working on 431836 data points, which represent 9.0660% of the original data,\n"
     ]
    }
   ],
   "source": [
    "print(f'We are working on {len(target)} data points, which represent {len(target)/n_rows_complete*100:.04f}% of the original data,')"
   ]
  },
  {
   "cell_type": "code",
   "execution_count": 33,
   "id": "e4e861e8",
   "metadata": {},
   "outputs": [],
   "source": [
    "data = df.drop(columns='Severity',axis=1).select_dtypes(include=np.number).dropna(axis=1)\n",
    "target = df['Severity']"
   ]
  },
  {
   "cell_type": "markdown",
   "id": "5c83b366",
   "metadata": {},
   "source": [
    "# Relation between Amount of Training Data and Model Performance"
   ]
  },
  {
   "cell_type": "code",
   "execution_count": 34,
   "id": "ea888605",
   "metadata": {},
   "outputs": [],
   "source": [
    "preprocessing_pipeline = load('../models/preprocessing_pipeline.joblib')\n",
    "svc = load('../models/svc.joblib')\n",
    "stacking_clf = load('../models/stacking_clf.joblib')"
   ]
  },
  {
   "cell_type": "code",
   "execution_count": 35,
   "id": "1161a2bc",
   "metadata": {},
   "outputs": [],
   "source": [
    "svc.verbose= 100\n",
    "stacking_clf.verbose = 100"
   ]
  },
  {
   "cell_type": "code",
   "execution_count": 36,
   "id": "9b99c5f1",
   "metadata": {},
   "outputs": [
    {
     "data": {
      "text/plain": [
       "(0, 5)"
      ]
     },
     "execution_count": 36,
     "metadata": {},
     "output_type": "execute_result"
    }
   ],
   "source": [
    "# Creating a matrix to store the results\n",
    "result_metrics = pd.DataFrame(columns=['model', 'n_rows','f1', 'accuracy', 'recall'])\n",
    "result_metrics.index.name = 'id'\n",
    "result_metrics\n",
    "result_metrics.shape"
   ]
  },
  {
   "cell_type": "code",
   "execution_count": 37,
   "id": "fd960582",
   "metadata": {},
   "outputs": [],
   "source": [
    "# Create a sample of the data, because the whole dataset is too big for us to work with\n",
    "#df = df.sample(n=n_rows, random_state=23)\n",
    "from sklearn.utils import random"
   ]
  },
  {
   "cell_type": "code",
   "execution_count": 38,
   "id": "c1f8a580",
   "metadata": {},
   "outputs": [],
   "source": [
    "# Creating a function to compute and store the results for the respective model\n",
    "from sklearn.utils import random\n",
    "from sklearn.metrics import f1_score, accuracy_score, recall_score\n",
    "def store_metrics(model_label, model, n_rows, result_df):\n",
    "    id = result_df.shape[0]\n",
    "    result_df.loc[id, 'model_label'] = model_label\n",
    "    result_df.loc[id, 'model'] = model\n",
    "    result_df.loc[id, 'n_rows'] = n_rows\n",
    "    print(f'Splitting {n_rows} rows of data...')\n",
    "    sample_indices = random.sample_without_replacement(n_population=len(target), \n",
    "                                                       n_samples=n_rows)\n",
    "    data_sample = data.iloc[sample_indices]\n",
    "    target_sample = target.iloc[sample_indices]\n",
    "    X_train, X_test, y_train, y_test = train_test_split(data_sample, \n",
    "                                                        target_sample, \n",
    "                                                        test_size=0.2, \n",
    "                                                        random_state=23, \n",
    "                                                        stratify=target_sample)\n",
    "    print(f'Preprocessing Data...')\n",
    "    X_train = preprocessing_pipeline.fit_transform(X_train, y_train)\n",
    "    X_test = preprocessing_pipeline.transform(X_test)\n",
    "    print(f'Fitting {model_label}...')\n",
    "    model.fit(X_train, y_train)\n",
    "    print(f'Predicting...')\n",
    "    y_pred = model.predict(X_test)\n",
    "    print(f'Computing scores...')\n",
    "    result_df.loc[id, 'f1'] = f1_score(y_true=y_test, y_pred=y_pred, average='weighted')\n",
    "    result_df.loc[id, 'accuracy'] = accuracy_score(y_true=y_test, y_pred=y_pred)\n",
    "    result_df.loc[id, 'recall'] = recall_score(y_true=y_test, y_pred=y_pred, average='weighted')\n",
    "    return result_df"
   ]
  },
  {
   "cell_type": "code",
   "execution_count": 39,
   "id": "f054a955",
   "metadata": {},
   "outputs": [
    {
     "name": "stdout",
     "output_type": "stream",
     "text": [
      "Splitting 500 rows of data...\n",
      "Preprocessing Data...\n",
      "Fitting stacking...\n",
      "Predicting...\n",
      "Computing scores...\n",
      "Splitting 1000 rows of data...\n",
      "Preprocessing Data...\n",
      "Fitting stacking...\n",
      "Predicting...\n",
      "Computing scores...\n",
      "Splitting 2000 rows of data...\n",
      "Preprocessing Data...\n",
      "Fitting stacking...\n",
      "Predicting...\n",
      "Computing scores...\n",
      "Splitting 5000 rows of data...\n",
      "Preprocessing Data...\n",
      "Fitting stacking...\n",
      "Predicting...\n",
      "Computing scores...\n",
      "Splitting 10000 rows of data...\n",
      "Preprocessing Data...\n",
      "Fitting stacking...\n",
      "Predicting...\n",
      "Computing scores...\n",
      "Splitting 20000 rows of data...\n",
      "Preprocessing Data...\n",
      "Fitting stacking...\n",
      "Predicting...\n",
      "Computing scores...\n"
     ]
    }
   ],
   "source": [
    "\n",
    "for n_rows in [500, 1_000, 2_000, 5_000, 10_000, 20_000]:\n",
    "    result_metrics = store_metrics('stacking', stacking_clf, n_rows, result_metrics)"
   ]
  },
  {
   "cell_type": "code",
   "execution_count": 40,
   "id": "10a80833",
   "metadata": {},
   "outputs": [
    {
     "data": {
      "text/html": [
       "<div>\n",
       "<style scoped>\n",
       "    .dataframe tbody tr th:only-of-type {\n",
       "        vertical-align: middle;\n",
       "    }\n",
       "\n",
       "    .dataframe tbody tr th {\n",
       "        vertical-align: top;\n",
       "    }\n",
       "\n",
       "    .dataframe thead th {\n",
       "        text-align: right;\n",
       "    }\n",
       "</style>\n",
       "<table border=\"1\" class=\"dataframe\">\n",
       "  <thead>\n",
       "    <tr style=\"text-align: right;\">\n",
       "      <th></th>\n",
       "      <th>model</th>\n",
       "      <th>n_rows</th>\n",
       "      <th>f1</th>\n",
       "      <th>accuracy</th>\n",
       "      <th>recall</th>\n",
       "      <th>model_label</th>\n",
       "    </tr>\n",
       "    <tr>\n",
       "      <th>id</th>\n",
       "      <th></th>\n",
       "      <th></th>\n",
       "      <th></th>\n",
       "      <th></th>\n",
       "      <th></th>\n",
       "      <th></th>\n",
       "    </tr>\n",
       "  </thead>\n",
       "  <tbody>\n",
       "    <tr>\n",
       "      <th>0</th>\n",
       "      <td>StackingClassifier(cv='prefit',\\n             ...</td>\n",
       "      <td>500</td>\n",
       "      <td>0.396269</td>\n",
       "      <td>0.46</td>\n",
       "      <td>0.46</td>\n",
       "      <td>stacking</td>\n",
       "    </tr>\n",
       "    <tr>\n",
       "      <th>1</th>\n",
       "      <td>StackingClassifier(cv='prefit',\\n             ...</td>\n",
       "      <td>1000</td>\n",
       "      <td>0.342555</td>\n",
       "      <td>0.395</td>\n",
       "      <td>0.395</td>\n",
       "      <td>stacking</td>\n",
       "    </tr>\n",
       "    <tr>\n",
       "      <th>2</th>\n",
       "      <td>StackingClassifier(cv='prefit',\\n             ...</td>\n",
       "      <td>2000</td>\n",
       "      <td>0.339558</td>\n",
       "      <td>0.4325</td>\n",
       "      <td>0.4325</td>\n",
       "      <td>stacking</td>\n",
       "    </tr>\n",
       "    <tr>\n",
       "      <th>3</th>\n",
       "      <td>StackingClassifier(cv='prefit',\\n             ...</td>\n",
       "      <td>5000</td>\n",
       "      <td>0.403633</td>\n",
       "      <td>0.476</td>\n",
       "      <td>0.476</td>\n",
       "      <td>stacking</td>\n",
       "    </tr>\n",
       "    <tr>\n",
       "      <th>4</th>\n",
       "      <td>StackingClassifier(cv='prefit',\\n             ...</td>\n",
       "      <td>10000</td>\n",
       "      <td>0.412597</td>\n",
       "      <td>0.478</td>\n",
       "      <td>0.478</td>\n",
       "      <td>stacking</td>\n",
       "    </tr>\n",
       "    <tr>\n",
       "      <th>5</th>\n",
       "      <td>StackingClassifier(cv='prefit',\\n             ...</td>\n",
       "      <td>20000</td>\n",
       "      <td>0.390495</td>\n",
       "      <td>0.47125</td>\n",
       "      <td>0.47125</td>\n",
       "      <td>stacking</td>\n",
       "    </tr>\n",
       "  </tbody>\n",
       "</table>\n",
       "</div>"
      ],
      "text/plain": [
       "                                                model n_rows        f1  \\\n",
       "id                                                                       \n",
       "0   StackingClassifier(cv='prefit',\\n             ...    500  0.396269   \n",
       "1   StackingClassifier(cv='prefit',\\n             ...   1000  0.342555   \n",
       "2   StackingClassifier(cv='prefit',\\n             ...   2000  0.339558   \n",
       "3   StackingClassifier(cv='prefit',\\n             ...   5000  0.403633   \n",
       "4   StackingClassifier(cv='prefit',\\n             ...  10000  0.412597   \n",
       "5   StackingClassifier(cv='prefit',\\n             ...  20000  0.390495   \n",
       "\n",
       "   accuracy   recall model_label  \n",
       "id                                \n",
       "0      0.46     0.46    stacking  \n",
       "1     0.395    0.395    stacking  \n",
       "2    0.4325   0.4325    stacking  \n",
       "3     0.476    0.476    stacking  \n",
       "4     0.478    0.478    stacking  \n",
       "5   0.47125  0.47125    stacking  "
      ]
     },
     "execution_count": 40,
     "metadata": {},
     "output_type": "execute_result"
    }
   ],
   "source": [
    "result_metrics"
   ]
  },
  {
   "cell_type": "code",
   "execution_count": 41,
   "id": "22d5fe5f",
   "metadata": {},
   "outputs": [
    {
     "data": {
      "image/png": "[encoded data removed]",
      "text/plain": [
       "<Figure size 640x480 with 1 Axes>"
      ]
     },
     "metadata": {},
     "output_type": "display_data"
    }
   ],
   "source": [
    "plt.plot(result_metrics['n_rows'],result_metrics['f1'],'x-', label='$f_1$');\n",
    "#plt.plot(result_metrics['n_rows'],result_metrics['accuracy'], label='Accuracy');\n",
    "plt.plot(result_metrics['n_rows'],result_metrics['recall'],'o-', label='Recall');\n",
    "plt.title('Performance in Relation to the Amount of Input Data')\n",
    "plt.xlabel('Number of Data Points')\n",
    "plt.ylabel('Performance')\n",
    "plt.ylim((0,0.5))\n",
    "plt.legend();"
   ]
  }
 ],
 "metadata": {
  "jupytext": {
   "cell_metadata_filter": "-LanguageId",
   "main_language": "python",
   "notebook_metadata_filter": "-kernelspec"
  },
  "language_info": {
   "name": "python"
  }
 },
 "nbformat": 4,
 "nbformat_minor": 5
}
