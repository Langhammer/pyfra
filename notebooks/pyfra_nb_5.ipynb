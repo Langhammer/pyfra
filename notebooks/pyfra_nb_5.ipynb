{
 "cells": [
  {
   "cell_type": "markdown",
   "id": "5f233856",
   "metadata": {
    "papermill": {
     "duration": 0.015025,
     "end_time": "2023-02-15T17:39:30.725466",
     "exception": false,
     "start_time": "2023-02-15T17:39:30.710441",
     "status": "completed"
    },
    "tags": []
   },
   "source": [
    "Notebook 5\n",
    "==============\n",
    "Further Analysis"
   ]
  },
  {
   "cell_type": "markdown",
   "id": "292fe51a",
   "metadata": {
    "papermill": {
     "duration": 0.010999,
     "end_time": "2023-02-15T17:39:30.753012",
     "exception": false,
     "start_time": "2023-02-15T17:39:30.742013",
     "status": "completed"
    },
    "tags": []
   },
   "source": [
    "# Outline\n",
    "The aim is to further investigate the models developed in the third notebook.\n",
    "We will identify the the sensitivity of the model performances regarding \n",
    "1. the amount of training data\n",
    "2. the amount of features used for training"
   ]
  },
  {
   "cell_type": "markdown",
   "id": "c1c0c2f3",
   "metadata": {
    "papermill": {
     "duration": 0.011001,
     "end_time": "2023-02-15T17:39:30.777012",
     "exception": false,
     "start_time": "2023-02-15T17:39:30.766011",
     "status": "completed"
    },
    "tags": []
   },
   "source": [
    "# Import Modules, Data and Model "
   ]
  },
  {
   "cell_type": "code",
   "execution_count": 1,
   "id": "88ae147e",
   "metadata": {
    "execution": {
     "iopub.execute_input": "2023-02-15T17:39:30.799028Z",
     "iopub.status.busy": "2023-02-15T17:39:30.798023Z",
     "iopub.status.idle": "2023-02-15T17:39:36.845768Z",
     "shell.execute_reply": "2023-02-15T17:39:36.843760Z"
    },
    "lines_to_next_cell": 2,
    "papermill": {
     "duration": 6.066766,
     "end_time": "2023-02-15T17:39:36.852773",
     "exception": false,
     "start_time": "2023-02-15T17:39:30.786007",
     "status": "completed"
    },
    "tags": []
   },
   "outputs": [],
   "source": [
    "# Import the modules\n",
    "import pyfra\n",
    "import pandas as pd\n",
    "import numpy as np\n",
    "from matplotlib import pyplot as plt\n",
    "import seaborn as sns\n",
    "from joblib import load, dump\n",
    "from sklearn.model_selection import train_test_split\n",
    "from imblearn.under_sampling import RandomUnderSampler\n",
    "from sklearn.feature_selection import VarianceThreshold, SelectKBest\n",
    "from sklearn.preprocessing import StandardScaler\n",
    "from sklearn.pipeline import Pipeline\n",
    "from sklearn.utils import random\n",
    "from sklearn.metrics import f1_score, accuracy_score, recall_score"
   ]
  },
  {
   "cell_type": "code",
   "execution_count": 2,
   "id": "013e9419",
   "metadata": {
    "execution": {
     "iopub.execute_input": "2023-02-15T17:39:36.877763Z",
     "iopub.status.busy": "2023-02-15T17:39:36.876770Z",
     "iopub.status.idle": "2023-02-15T17:39:37.378903Z",
     "shell.execute_reply": "2023-02-15T17:39:37.376899Z"
    },
    "papermill": {
     "duration": 0.519145,
     "end_time": "2023-02-15T17:39:37.382907",
     "exception": false,
     "start_time": "2023-02-15T17:39:36.863762",
     "status": "completed"
    },
    "tags": []
   },
   "outputs": [],
   "source": [
    "df = pd.read_pickle('../data/df.p')\n",
    "n_rows_complete = len(df)"
   ]
  },
  {
   "cell_type": "code",
   "execution_count": 3,
   "id": "fc8b736f",
   "metadata": {
    "execution": {
     "iopub.execute_input": "2023-02-15T17:39:37.421945Z",
     "iopub.status.busy": "2023-02-15T17:39:37.420956Z",
     "iopub.status.idle": "2023-02-15T17:39:43.385893Z",
     "shell.execute_reply": "2023-02-15T17:39:43.383892Z"
    },
    "papermill": {
     "duration": 5.991988,
     "end_time": "2023-02-15T17:39:43.391893",
     "exception": false,
     "start_time": "2023-02-15T17:39:37.399905",
     "status": "completed"
    },
    "tags": []
   },
   "outputs": [],
   "source": [
    "# Check whether or not the data is up-to-date (file can't be tracked on github because of it's file size)\n",
    "pd.testing.assert_frame_equal(left=(pd.read_csv('../data/df_check_info.csv', index_col=0)), \\\n",
    "                         right=pyfra.df_testing_info(df),\\\n",
    "                         check_dtype=False, check_exact=False)"
   ]
  },
  {
   "cell_type": "code",
   "execution_count": 4,
   "id": "61818cbc",
   "metadata": {
    "execution": {
     "iopub.execute_input": "2023-02-15T17:39:43.423810Z",
     "iopub.status.busy": "2023-02-15T17:39:43.422818Z",
     "iopub.status.idle": "2023-02-15T17:39:43.432830Z",
     "shell.execute_reply": "2023-02-15T17:39:43.430824Z"
    },
    "papermill": {
     "duration": 0.030012,
     "end_time": "2023-02-15T17:39:43.436828",
     "exception": false,
     "start_time": "2023-02-15T17:39:43.406816",
     "status": "completed"
    },
    "tags": []
   },
   "outputs": [],
   "source": [
    "rus = RandomUnderSampler(random_state=23)"
   ]
  },
  {
   "cell_type": "code",
   "execution_count": 5,
   "id": "d7d3b7d2",
   "metadata": {
    "execution": {
     "iopub.execute_input": "2023-02-15T17:39:43.466261Z",
     "iopub.status.busy": "2023-02-15T17:39:43.466261Z",
     "iopub.status.idle": "2023-02-15T17:39:45.604709Z",
     "shell.execute_reply": "2023-02-15T17:39:45.601748Z"
    },
    "papermill": {
     "duration": 2.159452,
     "end_time": "2023-02-15T17:39:45.609713",
     "exception": false,
     "start_time": "2023-02-15T17:39:43.450261",
     "status": "completed"
    },
    "tags": []
   },
   "outputs": [],
   "source": [
    "data = df.drop(columns='Severity',axis=1).select_dtypes(include=np.number).dropna(axis=1)\n",
    "target = df['Severity']\n",
    "data, target = rus.fit_resample(X=data, y=target)"
   ]
  },
  {
   "cell_type": "code",
   "execution_count": 6,
   "id": "335eb318",
   "metadata": {
    "execution": {
     "iopub.execute_input": "2023-02-15T17:39:45.654287Z",
     "iopub.status.busy": "2023-02-15T17:39:45.653288Z",
     "iopub.status.idle": "2023-02-15T17:39:45.696288Z",
     "shell.execute_reply": "2023-02-15T17:39:45.695288Z"
    },
    "papermill": {
     "duration": 0.066548,
     "end_time": "2023-02-15T17:39:45.701296",
     "exception": false,
     "start_time": "2023-02-15T17:39:45.634748",
     "status": "completed"
    },
    "tags": []
   },
   "outputs": [
    {
     "data": {
      "text/plain": [
       "1    6741\n",
       "2    6741\n",
       "3    6741\n",
       "4    6741\n",
       "Name: Severity, dtype: int64"
      ]
     },
     "execution_count": 6,
     "metadata": {},
     "output_type": "execute_result"
    }
   ],
   "source": [
    "target.value_counts()"
   ]
  },
  {
   "cell_type": "code",
   "execution_count": 7,
   "id": "f397e001",
   "metadata": {
    "execution": {
     "iopub.execute_input": "2023-02-15T17:39:45.737337Z",
     "iopub.status.busy": "2023-02-15T17:39:45.736336Z",
     "iopub.status.idle": "2023-02-15T17:39:47.213807Z",
     "shell.execute_reply": "2023-02-15T17:39:47.211810Z"
    },
    "papermill": {
     "duration": 1.500514,
     "end_time": "2023-02-15T17:39:47.218814",
     "exception": false,
     "start_time": "2023-02-15T17:39:45.718300",
     "status": "completed"
    },
    "tags": []
   },
   "outputs": [],
   "source": [
    "data = df.drop(columns='Severity',axis=1).select_dtypes(include=np.number).dropna(axis=1)\n",
    "target = df['Severity']\n",
    "data.sample(frac=0.5).to_pickle('../data/streamlit_example.p')"
   ]
  },
  {
   "cell_type": "code",
   "execution_count": 8,
   "id": "b5ce8e4a",
   "metadata": {
    "execution": {
     "iopub.execute_input": "2023-02-15T17:39:47.263457Z",
     "iopub.status.busy": "2023-02-15T17:39:47.262462Z",
     "iopub.status.idle": "2023-02-15T17:39:48.273179Z",
     "shell.execute_reply": "2023-02-15T17:39:48.271178Z"
    },
    "papermill": {
     "duration": 1.038331,
     "end_time": "2023-02-15T17:39:48.278182",
     "exception": false,
     "start_time": "2023-02-15T17:39:47.239851",
     "status": "completed"
    },
    "tags": []
   },
   "outputs": [],
   "source": [
    "X_train, X_test, y_train, y_test  = train_test_split(data, target, test_size=0.2 ,random_state=23)"
   ]
  },
  {
   "cell_type": "code",
   "execution_count": 9,
   "id": "4078d7cd",
   "metadata": {
    "execution": {
     "iopub.execute_input": "2023-02-15T17:39:48.318179Z",
     "iopub.status.busy": "2023-02-15T17:39:48.317196Z",
     "iopub.status.idle": "2023-02-15T17:39:53.571196Z",
     "shell.execute_reply": "2023-02-15T17:39:53.570184Z"
    },
    "lines_to_next_cell": 2,
    "papermill": {
     "duration": 5.277005,
     "end_time": "2023-02-15T17:39:53.575184",
     "exception": false,
     "start_time": "2023-02-15T17:39:48.298179",
     "status": "completed"
    },
    "tags": []
   },
   "outputs": [
    {
     "data": {
      "text/plain": [
       "['../models/preprocessing_pipeline.joblib']"
      ]
     },
     "execution_count": 9,
     "metadata": {},
     "output_type": "execute_result"
    }
   ],
   "source": [
    "constant_filter = VarianceThreshold(threshold=0.01).fit(X_train)\n",
    "std_scaler = StandardScaler().fit(X_train)\n",
    "preprocessing_pipeline = Pipeline(steps=[#('var_threshold', constant_filter),\n",
    "                                 ('scaler', std_scaler)])\n",
    "dump(preprocessing_pipeline, filename='../models/preprocessing_pipeline.joblib')"
   ]
  },
  {
   "cell_type": "markdown",
   "id": "fcc0fd60",
   "metadata": {
    "papermill": {
     "duration": 0.015998,
     "end_time": "2023-02-15T17:39:53.606192",
     "exception": false,
     "start_time": "2023-02-15T17:39:53.590194",
     "status": "completed"
    },
    "tags": []
   },
   "source": [
    "We use the SVC model as well as the logistic regression model from notebook 3 to measure the performances.\n",
    "Note that we only can use the optimized parameters from the grid search, i.e. we will have to fit these models again in every step."
   ]
  },
  {
   "cell_type": "code",
   "execution_count": 10,
   "id": "10828f01",
   "metadata": {
    "execution": {
     "iopub.execute_input": "2023-02-15T17:39:53.637195Z",
     "iopub.status.busy": "2023-02-15T17:39:53.636194Z",
     "iopub.status.idle": "2023-02-15T17:39:53.651207Z",
     "shell.execute_reply": "2023-02-15T17:39:53.650212Z"
    },
    "papermill": {
     "duration": 0.036547,
     "end_time": "2023-02-15T17:39:53.655747",
     "exception": false,
     "start_time": "2023-02-15T17:39:53.619200",
     "status": "completed"
    },
    "tags": []
   },
   "outputs": [],
   "source": [
    "log_reg_clf = load('../models/log_reg_clf.joblib')\n",
    "svc = load('../models/svc.joblib')"
   ]
  },
  {
   "cell_type": "markdown",
   "id": "89784284",
   "metadata": {
    "papermill": {
     "duration": 0.013998,
     "end_time": "2023-02-15T17:39:53.686759",
     "exception": false,
     "start_time": "2023-02-15T17:39:53.672761",
     "status": "completed"
    },
    "tags": []
   },
   "source": [
    "# Relation between Amount of Training Data and Model Performance"
   ]
  },
  {
   "cell_type": "markdown",
   "id": "c8914991",
   "metadata": {
    "papermill": {
     "duration": 0.013015,
     "end_time": "2023-02-15T17:39:53.713767",
     "exception": false,
     "start_time": "2023-02-15T17:39:53.700752",
     "status": "completed"
    },
    "tags": []
   },
   "source": [
    "## Hypothesis\n",
    "The performance of machine learning models depends on the quantity of input data (also to the quality, but this will not be discussed in this notebook).\n",
    "Training a model with large amounts of data, however, can result in long training times. We will compare the performance of our models trained on different amounts of data.\n",
    "We expect the performance to increase with the amount of data, while the variance should decrease because of the bigger sample size. "
   ]
  },
  {
   "cell_type": "markdown",
   "id": "1f88abd8",
   "metadata": {
    "papermill": {
     "duration": 0.01803,
     "end_time": "2023-02-15T17:39:53.748779",
     "exception": false,
     "start_time": "2023-02-15T17:39:53.730749",
     "status": "completed"
    },
    "tags": []
   },
   "source": [
    "## Experiment"
   ]
  },
  {
   "cell_type": "code",
   "execution_count": 11,
   "id": "e4036849",
   "metadata": {
    "execution": {
     "iopub.execute_input": "2023-02-15T17:39:53.785298Z",
     "iopub.status.busy": "2023-02-15T17:39:53.784305Z",
     "iopub.status.idle": "2023-02-15T17:39:53.808309Z",
     "shell.execute_reply": "2023-02-15T17:39:53.807310Z"
    },
    "papermill": {
     "duration": 0.045991,
     "end_time": "2023-02-15T17:39:53.811295",
     "exception": false,
     "start_time": "2023-02-15T17:39:53.765304",
     "status": "completed"
    },
    "tags": []
   },
   "outputs": [
    {
     "data": {
      "text/html": [
       "<div>\n",
       "<style scoped>\n",
       "    .dataframe tbody tr th:only-of-type {\n",
       "        vertical-align: middle;\n",
       "    }\n",
       "\n",
       "    .dataframe tbody tr th {\n",
       "        vertical-align: top;\n",
       "    }\n",
       "\n",
       "    .dataframe thead th {\n",
       "        text-align: right;\n",
       "    }\n",
       "</style>\n",
       "<table border=\"1\" class=\"dataframe\">\n",
       "  <thead>\n",
       "    <tr style=\"text-align: right;\">\n",
       "      <th></th>\n",
       "      <th>model</th>\n",
       "      <th>n_rows</th>\n",
       "      <th>f1</th>\n",
       "      <th>accuracy</th>\n",
       "      <th>recall</th>\n",
       "    </tr>\n",
       "    <tr>\n",
       "      <th>id</th>\n",
       "      <th></th>\n",
       "      <th></th>\n",
       "      <th></th>\n",
       "      <th></th>\n",
       "      <th></th>\n",
       "    </tr>\n",
       "  </thead>\n",
       "  <tbody>\n",
       "  </tbody>\n",
       "</table>\n",
       "</div>"
      ],
      "text/plain": [
       "Empty DataFrame\n",
       "Columns: [model, n_rows, f1, accuracy, recall]\n",
       "Index: []"
      ]
     },
     "execution_count": 11,
     "metadata": {},
     "output_type": "execute_result"
    }
   ],
   "source": [
    "result_metrics = pd.DataFrame(columns=['model', 'n_rows','f1', 'accuracy', 'recall'])\n",
    "result_metrics.index.name = 'id'\n",
    "result_metrics"
   ]
  },
  {
   "cell_type": "code",
   "execution_count": 12,
   "id": "e4991d36",
   "metadata": {
    "execution": {
     "iopub.execute_input": "2023-02-15T17:39:53.835301Z",
     "iopub.status.busy": "2023-02-15T17:39:53.834301Z",
     "iopub.status.idle": "2023-02-15T17:39:53.855675Z",
     "shell.execute_reply": "2023-02-15T17:39:53.854679Z"
    },
    "papermill": {
     "duration": 0.037374,
     "end_time": "2023-02-15T17:39:53.858682",
     "exception": false,
     "start_time": "2023-02-15T17:39:53.821308",
     "status": "completed"
    },
    "tags": []
   },
   "outputs": [],
   "source": [
    "# Creating a function to compute and store the results for the respective model\n",
    "def fit_evaluate(model_label, model, n_rows, result_df):\n",
    "    id = result_df.shape[0]\n",
    "    result_df.loc[id, 'Model Name'] = model_label\n",
    "    result_df.loc[id, 'model'] = model\n",
    "    result_df.loc[id, 'n_rows'] = n_rows\n",
    "    print(f'Splitting {n_rows} rows of data...')\n",
    "    sample_indices = random.sample_without_replacement(n_population=len(target), \n",
    "                                                       n_samples=n_rows)\n",
    "    data_sample = data.iloc[sample_indices]\n",
    "    target_sample = target.iloc[sample_indices]\n",
    "\n",
    "    # We will increment the random_state at each repetition to get a more robust result.\n",
    "    X_train, X_test, y_train, y_test = train_test_split(data_sample, \n",
    "                                                        target_sample, \n",
    "                                                        test_size=0.2, \n",
    "                                                        random_state=23+id,\n",
    "                                                        stratify=target_sample)\n",
    "    X_train = preprocessing_pipeline.fit_transform(X_train, y_train)\n",
    "    X_test = preprocessing_pipeline.transform(X_test)\n",
    "    model.fit(X_train, y_train)\n",
    "    y_pred = model.predict(X_test)\n",
    "    result_df.loc[id, 'f1'] = f1_score(y_true=y_test, y_pred=y_pred, average='weighted')\n",
    "    result_df.loc[id, 'accuracy'] = accuracy_score(y_true=y_test, y_pred=y_pred)\n",
    "    result_df.loc[id, 'recall'] = recall_score(y_true=y_test, y_pred=y_pred, average='weighted')\n",
    "    result_df.loc[id, 'pipeline'] = preprocessing_pipeline\n",
    "    return result_df "
   ]
  },
  {
   "cell_type": "code",
   "execution_count": 13,
   "id": "0f2e4660",
   "metadata": {
    "execution": {
     "iopub.execute_input": "2023-02-15T17:39:53.884689Z",
     "iopub.status.busy": "2023-02-15T17:39:53.882703Z",
     "iopub.status.idle": "2023-02-15T18:33:04.035807Z",
     "shell.execute_reply": "2023-02-15T18:33:04.033792Z"
    },
    "papermill": {
     "duration": 3190.176118,
     "end_time": "2023-02-15T18:33:04.044798",
     "exception": false,
     "start_time": "2023-02-15T17:39:53.868680",
     "status": "completed"
    },
    "tags": []
   },
   "outputs": [
    {
     "name": "stdout",
     "output_type": "stream",
     "text": [
      "Repetition nr. 0\n",
      "Splitting 500 rows of data...\n",
      "Splitting 500 rows of data...\n"
     ]
    },
    {
     "name": "stdout",
     "output_type": "stream",
     "text": [
      "Repetition nr. 1\n",
      "Splitting 500 rows of data...\n",
      "Splitting 500 rows of data...\n"
     ]
    },
    {
     "name": "stdout",
     "output_type": "stream",
     "text": [
      "Repetition nr. 0\n",
      "Splitting 1000 rows of data...\n"
     ]
    },
    {
     "name": "stdout",
     "output_type": "stream",
     "text": [
      "Splitting 1000 rows of data...\n"
     ]
    },
    {
     "name": "stdout",
     "output_type": "stream",
     "text": [
      "Repetition nr. 1\n",
      "Splitting 1000 rows of data...\n"
     ]
    },
    {
     "name": "stdout",
     "output_type": "stream",
     "text": [
      "Splitting 1000 rows of data...\n"
     ]
    },
    {
     "name": "stdout",
     "output_type": "stream",
     "text": [
      "Repetition nr. 0\n",
      "Splitting 2000 rows of data...\n"
     ]
    },
    {
     "name": "stdout",
     "output_type": "stream",
     "text": [
      "Splitting 2000 rows of data...\n"
     ]
    },
    {
     "name": "stdout",
     "output_type": "stream",
     "text": [
      "Repetition nr. 1\n",
      "Splitting 2000 rows of data...\n"
     ]
    },
    {
     "name": "stdout",
     "output_type": "stream",
     "text": [
      "Splitting 2000 rows of data...\n"
     ]
    },
    {
     "name": "stdout",
     "output_type": "stream",
     "text": [
      "Repetition nr. 0\n",
      "Splitting 5000 rows of data...\n"
     ]
    },
    {
     "name": "stdout",
     "output_type": "stream",
     "text": [
      "Splitting 5000 rows of data...\n"
     ]
    },
    {
     "name": "stdout",
     "output_type": "stream",
     "text": [
      "Repetition nr. 1\n",
      "Splitting 5000 rows of data...\n"
     ]
    },
    {
     "name": "stdout",
     "output_type": "stream",
     "text": [
      "Splitting 5000 rows of data...\n"
     ]
    },
    {
     "name": "stdout",
     "output_type": "stream",
     "text": [
      "Repetition nr. 0\n",
      "Splitting 10000 rows of data...\n"
     ]
    },
    {
     "name": "stdout",
     "output_type": "stream",
     "text": [
      "Splitting 10000 rows of data...\n"
     ]
    },
    {
     "name": "stdout",
     "output_type": "stream",
     "text": [
      "Repetition nr. 1\n",
      "Splitting 10000 rows of data...\n"
     ]
    },
    {
     "name": "stdout",
     "output_type": "stream",
     "text": [
      "Splitting 10000 rows of data...\n"
     ]
    },
    {
     "name": "stdout",
     "output_type": "stream",
     "text": [
      "Repetition nr. 0\n",
      "Splitting 20000 rows of data...\n"
     ]
    },
    {
     "name": "stdout",
     "output_type": "stream",
     "text": [
      "Splitting 20000 rows of data...\n"
     ]
    },
    {
     "name": "stdout",
     "output_type": "stream",
     "text": [
      "Repetition nr. 1\n",
      "Splitting 20000 rows of data...\n"
     ]
    },
    {
     "name": "stdout",
     "output_type": "stream",
     "text": [
      "Splitting 20000 rows of data...\n"
     ]
    },
    {
     "name": "stdout",
     "output_type": "stream",
     "text": [
      "Repetition nr. 0\n",
      "Splitting 50000 rows of data...\n"
     ]
    },
    {
     "name": "stdout",
     "output_type": "stream",
     "text": [
      "Splitting 50000 rows of data...\n"
     ]
    },
    {
     "name": "stdout",
     "output_type": "stream",
     "text": [
      "Repetition nr. 1\n",
      "Splitting 50000 rows of data...\n"
     ]
    },
    {
     "name": "stdout",
     "output_type": "stream",
     "text": [
      "Splitting 50000 rows of data...\n"
     ]
    },
    {
     "data": {
      "text/html": [
       "<div>\n",
       "<style scoped>\n",
       "    .dataframe tbody tr th:only-of-type {\n",
       "        vertical-align: middle;\n",
       "    }\n",
       "\n",
       "    .dataframe tbody tr th {\n",
       "        vertical-align: top;\n",
       "    }\n",
       "\n",
       "    .dataframe thead th {\n",
       "        text-align: right;\n",
       "    }\n",
       "</style>\n",
       "<table border=\"1\" class=\"dataframe\">\n",
       "  <thead>\n",
       "    <tr style=\"text-align: right;\">\n",
       "      <th></th>\n",
       "      <th>model</th>\n",
       "      <th>n_rows</th>\n",
       "      <th>f1</th>\n",
       "      <th>accuracy</th>\n",
       "      <th>recall</th>\n",
       "      <th>Model Name</th>\n",
       "      <th>pipeline</th>\n",
       "    </tr>\n",
       "    <tr>\n",
       "      <th>id</th>\n",
       "      <th></th>\n",
       "      <th></th>\n",
       "      <th></th>\n",
       "      <th></th>\n",
       "      <th></th>\n",
       "      <th></th>\n",
       "      <th></th>\n",
       "    </tr>\n",
       "  </thead>\n",
       "  <tbody>\n",
       "    <tr>\n",
       "      <th>0</th>\n",
       "      <td>LogisticRegression(C=0.1, max_iter=1000, solve...</td>\n",
       "      <td>500</td>\n",
       "      <td>0.352195</td>\n",
       "      <td>0.35</td>\n",
       "      <td>0.35</td>\n",
       "      <td>Logistic Regression</td>\n",
       "      <td>(StandardScaler())</td>\n",
       "    </tr>\n",
       "    <tr>\n",
       "      <th>1</th>\n",
       "      <td>SVC(C=0.5, cache_size=4000)</td>\n",
       "      <td>500</td>\n",
       "      <td>0.38299</td>\n",
       "      <td>0.44</td>\n",
       "      <td>0.44</td>\n",
       "      <td>SVC</td>\n",
       "      <td>(StandardScaler())</td>\n",
       "    </tr>\n",
       "    <tr>\n",
       "      <th>2</th>\n",
       "      <td>LogisticRegression(C=0.1, max_iter=1000, solve...</td>\n",
       "      <td>500</td>\n",
       "      <td>0.384866</td>\n",
       "      <td>0.38</td>\n",
       "      <td>0.38</td>\n",
       "      <td>Logistic Regression</td>\n",
       "      <td>(StandardScaler())</td>\n",
       "    </tr>\n",
       "    <tr>\n",
       "      <th>3</th>\n",
       "      <td>SVC(C=0.5, cache_size=4000)</td>\n",
       "      <td>500</td>\n",
       "      <td>0.353571</td>\n",
       "      <td>0.41</td>\n",
       "      <td>0.41</td>\n",
       "      <td>SVC</td>\n",
       "      <td>(StandardScaler())</td>\n",
       "    </tr>\n",
       "    <tr>\n",
       "      <th>4</th>\n",
       "      <td>LogisticRegression(C=0.1, max_iter=1000, solve...</td>\n",
       "      <td>1000</td>\n",
       "      <td>0.431909</td>\n",
       "      <td>0.44</td>\n",
       "      <td>0.44</td>\n",
       "      <td>Logistic Regression</td>\n",
       "      <td>(StandardScaler())</td>\n",
       "    </tr>\n",
       "    <tr>\n",
       "      <th>5</th>\n",
       "      <td>SVC(C=0.5, cache_size=4000)</td>\n",
       "      <td>1000</td>\n",
       "      <td>0.362965</td>\n",
       "      <td>0.46</td>\n",
       "      <td>0.46</td>\n",
       "      <td>SVC</td>\n",
       "      <td>(StandardScaler())</td>\n",
       "    </tr>\n",
       "    <tr>\n",
       "      <th>6</th>\n",
       "      <td>LogisticRegression(C=0.1, max_iter=1000, solve...</td>\n",
       "      <td>1000</td>\n",
       "      <td>0.462441</td>\n",
       "      <td>0.47</td>\n",
       "      <td>0.47</td>\n",
       "      <td>Logistic Regression</td>\n",
       "      <td>(StandardScaler())</td>\n",
       "    </tr>\n",
       "    <tr>\n",
       "      <th>7</th>\n",
       "      <td>SVC(C=0.5, cache_size=4000)</td>\n",
       "      <td>1000</td>\n",
       "      <td>0.36779</td>\n",
       "      <td>0.465</td>\n",
       "      <td>0.465</td>\n",
       "      <td>SVC</td>\n",
       "      <td>(StandardScaler())</td>\n",
       "    </tr>\n",
       "    <tr>\n",
       "      <th>8</th>\n",
       "      <td>LogisticRegression(C=0.1, max_iter=1000, solve...</td>\n",
       "      <td>2000</td>\n",
       "      <td>0.49582</td>\n",
       "      <td>0.505</td>\n",
       "      <td>0.505</td>\n",
       "      <td>Logistic Regression</td>\n",
       "      <td>(StandardScaler())</td>\n",
       "    </tr>\n",
       "    <tr>\n",
       "      <th>9</th>\n",
       "      <td>SVC(C=0.5, cache_size=4000)</td>\n",
       "      <td>2000</td>\n",
       "      <td>0.403306</td>\n",
       "      <td>0.4675</td>\n",
       "      <td>0.4675</td>\n",
       "      <td>SVC</td>\n",
       "      <td>(StandardScaler())</td>\n",
       "    </tr>\n",
       "    <tr>\n",
       "      <th>10</th>\n",
       "      <td>LogisticRegression(C=0.1, max_iter=1000, solve...</td>\n",
       "      <td>2000</td>\n",
       "      <td>0.461601</td>\n",
       "      <td>0.4725</td>\n",
       "      <td>0.4725</td>\n",
       "      <td>Logistic Regression</td>\n",
       "      <td>(StandardScaler())</td>\n",
       "    </tr>\n",
       "    <tr>\n",
       "      <th>11</th>\n",
       "      <td>SVC(C=0.5, cache_size=4000)</td>\n",
       "      <td>2000</td>\n",
       "      <td>0.411101</td>\n",
       "      <td>0.4675</td>\n",
       "      <td>0.4675</td>\n",
       "      <td>SVC</td>\n",
       "      <td>(StandardScaler())</td>\n",
       "    </tr>\n",
       "    <tr>\n",
       "      <th>12</th>\n",
       "      <td>LogisticRegression(C=0.1, max_iter=1000, solve...</td>\n",
       "      <td>5000</td>\n",
       "      <td>0.508274</td>\n",
       "      <td>0.528</td>\n",
       "      <td>0.528</td>\n",
       "      <td>Logistic Regression</td>\n",
       "      <td>(StandardScaler())</td>\n",
       "    </tr>\n",
       "    <tr>\n",
       "      <th>13</th>\n",
       "      <td>SVC(C=0.5, cache_size=4000)</td>\n",
       "      <td>5000</td>\n",
       "      <td>0.458146</td>\n",
       "      <td>0.51</td>\n",
       "      <td>0.51</td>\n",
       "      <td>SVC</td>\n",
       "      <td>(StandardScaler())</td>\n",
       "    </tr>\n",
       "    <tr>\n",
       "      <th>14</th>\n",
       "      <td>LogisticRegression(C=0.1, max_iter=1000, solve...</td>\n",
       "      <td>5000</td>\n",
       "      <td>0.48628</td>\n",
       "      <td>0.501</td>\n",
       "      <td>0.501</td>\n",
       "      <td>Logistic Regression</td>\n",
       "      <td>(StandardScaler())</td>\n",
       "    </tr>\n",
       "    <tr>\n",
       "      <th>15</th>\n",
       "      <td>SVC(C=0.5, cache_size=4000)</td>\n",
       "      <td>5000</td>\n",
       "      <td>0.451203</td>\n",
       "      <td>0.51</td>\n",
       "      <td>0.51</td>\n",
       "      <td>SVC</td>\n",
       "      <td>(StandardScaler())</td>\n",
       "    </tr>\n",
       "    <tr>\n",
       "      <th>16</th>\n",
       "      <td>LogisticRegression(C=0.1, max_iter=1000, solve...</td>\n",
       "      <td>10000</td>\n",
       "      <td>0.501163</td>\n",
       "      <td>0.521</td>\n",
       "      <td>0.521</td>\n",
       "      <td>Logistic Regression</td>\n",
       "      <td>(StandardScaler())</td>\n",
       "    </tr>\n",
       "    <tr>\n",
       "      <th>17</th>\n",
       "      <td>SVC(C=0.5, cache_size=4000)</td>\n",
       "      <td>10000</td>\n",
       "      <td>0.464377</td>\n",
       "      <td>0.504</td>\n",
       "      <td>0.504</td>\n",
       "      <td>SVC</td>\n",
       "      <td>(StandardScaler())</td>\n",
       "    </tr>\n",
       "    <tr>\n",
       "      <th>18</th>\n",
       "      <td>LogisticRegression(C=0.1, max_iter=1000, solve...</td>\n",
       "      <td>10000</td>\n",
       "      <td>0.50841</td>\n",
       "      <td>0.5245</td>\n",
       "      <td>0.5245</td>\n",
       "      <td>Logistic Regression</td>\n",
       "      <td>(StandardScaler())</td>\n",
       "    </tr>\n",
       "    <tr>\n",
       "      <th>19</th>\n",
       "      <td>SVC(C=0.5, cache_size=4000)</td>\n",
       "      <td>10000</td>\n",
       "      <td>0.456396</td>\n",
       "      <td>0.5085</td>\n",
       "      <td>0.5085</td>\n",
       "      <td>SVC</td>\n",
       "      <td>(StandardScaler())</td>\n",
       "    </tr>\n",
       "    <tr>\n",
       "      <th>20</th>\n",
       "      <td>LogisticRegression(C=0.1, max_iter=1000, solve...</td>\n",
       "      <td>20000</td>\n",
       "      <td>0.529717</td>\n",
       "      <td>0.54875</td>\n",
       "      <td>0.54875</td>\n",
       "      <td>Logistic Regression</td>\n",
       "      <td>(StandardScaler())</td>\n",
       "    </tr>\n",
       "    <tr>\n",
       "      <th>21</th>\n",
       "      <td>SVC(C=0.5, cache_size=4000)</td>\n",
       "      <td>20000</td>\n",
       "      <td>0.476552</td>\n",
       "      <td>0.522</td>\n",
       "      <td>0.522</td>\n",
       "      <td>SVC</td>\n",
       "      <td>(StandardScaler())</td>\n",
       "    </tr>\n",
       "    <tr>\n",
       "      <th>22</th>\n",
       "      <td>LogisticRegression(C=0.1, max_iter=1000, solve...</td>\n",
       "      <td>20000</td>\n",
       "      <td>0.5115</td>\n",
       "      <td>0.531</td>\n",
       "      <td>0.531</td>\n",
       "      <td>Logistic Regression</td>\n",
       "      <td>(StandardScaler())</td>\n",
       "    </tr>\n",
       "    <tr>\n",
       "      <th>23</th>\n",
       "      <td>SVC(C=0.5, cache_size=4000)</td>\n",
       "      <td>20000</td>\n",
       "      <td>0.479471</td>\n",
       "      <td>0.518</td>\n",
       "      <td>0.518</td>\n",
       "      <td>SVC</td>\n",
       "      <td>(StandardScaler())</td>\n",
       "    </tr>\n",
       "    <tr>\n",
       "      <th>24</th>\n",
       "      <td>LogisticRegression(C=0.1, max_iter=1000, solve...</td>\n",
       "      <td>50000</td>\n",
       "      <td>0.515306</td>\n",
       "      <td>0.5362</td>\n",
       "      <td>0.5362</td>\n",
       "      <td>Logistic Regression</td>\n",
       "      <td>(StandardScaler())</td>\n",
       "    </tr>\n",
       "    <tr>\n",
       "      <th>25</th>\n",
       "      <td>SVC(C=0.5, cache_size=4000)</td>\n",
       "      <td>50000</td>\n",
       "      <td>0.480896</td>\n",
       "      <td>0.5258</td>\n",
       "      <td>0.5258</td>\n",
       "      <td>SVC</td>\n",
       "      <td>(StandardScaler())</td>\n",
       "    </tr>\n",
       "    <tr>\n",
       "      <th>26</th>\n",
       "      <td>LogisticRegression(C=0.1, max_iter=1000, solve...</td>\n",
       "      <td>50000</td>\n",
       "      <td>0.516951</td>\n",
       "      <td>0.5394</td>\n",
       "      <td>0.5394</td>\n",
       "      <td>Logistic Regression</td>\n",
       "      <td>(StandardScaler())</td>\n",
       "    </tr>\n",
       "    <tr>\n",
       "      <th>27</th>\n",
       "      <td>SVC(C=0.5, cache_size=4000)</td>\n",
       "      <td>50000</td>\n",
       "      <td>0.486288</td>\n",
       "      <td>0.5307</td>\n",
       "      <td>0.5307</td>\n",
       "      <td>SVC</td>\n",
       "      <td>(StandardScaler())</td>\n",
       "    </tr>\n",
       "  </tbody>\n",
       "</table>\n",
       "</div>"
      ],
      "text/plain": [
       "                                                model n_rows        f1  \\\n",
       "id                                                                       \n",
       "0   LogisticRegression(C=0.1, max_iter=1000, solve...    500  0.352195   \n",
       "1                         SVC(C=0.5, cache_size=4000)    500   0.38299   \n",
       "2   LogisticRegression(C=0.1, max_iter=1000, solve...    500  0.384866   \n",
       "3                         SVC(C=0.5, cache_size=4000)    500  0.353571   \n",
       "4   LogisticRegression(C=0.1, max_iter=1000, solve...   1000  0.431909   \n",
       "5                         SVC(C=0.5, cache_size=4000)   1000  0.362965   \n",
       "6   LogisticRegression(C=0.1, max_iter=1000, solve...   1000  0.462441   \n",
       "7                         SVC(C=0.5, cache_size=4000)   1000   0.36779   \n",
       "8   LogisticRegression(C=0.1, max_iter=1000, solve...   2000   0.49582   \n",
       "9                         SVC(C=0.5, cache_size=4000)   2000  0.403306   \n",
       "10  LogisticRegression(C=0.1, max_iter=1000, solve...   2000  0.461601   \n",
       "11                        SVC(C=0.5, cache_size=4000)   2000  0.411101   \n",
       "12  LogisticRegression(C=0.1, max_iter=1000, solve...   5000  0.508274   \n",
       "13                        SVC(C=0.5, cache_size=4000)   5000  0.458146   \n",
       "14  LogisticRegression(C=0.1, max_iter=1000, solve...   5000   0.48628   \n",
       "15                        SVC(C=0.5, cache_size=4000)   5000  0.451203   \n",
       "16  LogisticRegression(C=0.1, max_iter=1000, solve...  10000  0.501163   \n",
       "17                        SVC(C=0.5, cache_size=4000)  10000  0.464377   \n",
       "18  LogisticRegression(C=0.1, max_iter=1000, solve...  10000   0.50841   \n",
       "19                        SVC(C=0.5, cache_size=4000)  10000  0.456396   \n",
       "20  LogisticRegression(C=0.1, max_iter=1000, solve...  20000  0.529717   \n",
       "21                        SVC(C=0.5, cache_size=4000)  20000  0.476552   \n",
       "22  LogisticRegression(C=0.1, max_iter=1000, solve...  20000    0.5115   \n",
       "23                        SVC(C=0.5, cache_size=4000)  20000  0.479471   \n",
       "24  LogisticRegression(C=0.1, max_iter=1000, solve...  50000  0.515306   \n",
       "25                        SVC(C=0.5, cache_size=4000)  50000  0.480896   \n",
       "26  LogisticRegression(C=0.1, max_iter=1000, solve...  50000  0.516951   \n",
       "27                        SVC(C=0.5, cache_size=4000)  50000  0.486288   \n",
       "\n",
       "   accuracy   recall           Model Name            pipeline  \n",
       "id                                                             \n",
       "0      0.35     0.35  Logistic Regression  (StandardScaler())  \n",
       "1      0.44     0.44                  SVC  (StandardScaler())  \n",
       "2      0.38     0.38  Logistic Regression  (StandardScaler())  \n",
       "3      0.41     0.41                  SVC  (StandardScaler())  \n",
       "4      0.44     0.44  Logistic Regression  (StandardScaler())  \n",
       "5      0.46     0.46                  SVC  (StandardScaler())  \n",
       "6      0.47     0.47  Logistic Regression  (StandardScaler())  \n",
       "7     0.465    0.465                  SVC  (StandardScaler())  \n",
       "8     0.505    0.505  Logistic Regression  (StandardScaler())  \n",
       "9    0.4675   0.4675                  SVC  (StandardScaler())  \n",
       "10   0.4725   0.4725  Logistic Regression  (StandardScaler())  \n",
       "11   0.4675   0.4675                  SVC  (StandardScaler())  \n",
       "12    0.528    0.528  Logistic Regression  (StandardScaler())  \n",
       "13     0.51     0.51                  SVC  (StandardScaler())  \n",
       "14    0.501    0.501  Logistic Regression  (StandardScaler())  \n",
       "15     0.51     0.51                  SVC  (StandardScaler())  \n",
       "16    0.521    0.521  Logistic Regression  (StandardScaler())  \n",
       "17    0.504    0.504                  SVC  (StandardScaler())  \n",
       "18   0.5245   0.5245  Logistic Regression  (StandardScaler())  \n",
       "19   0.5085   0.5085                  SVC  (StandardScaler())  \n",
       "20  0.54875  0.54875  Logistic Regression  (StandardScaler())  \n",
       "21    0.522    0.522                  SVC  (StandardScaler())  \n",
       "22    0.531    0.531  Logistic Regression  (StandardScaler())  \n",
       "23    0.518    0.518                  SVC  (StandardScaler())  \n",
       "24   0.5362   0.5362  Logistic Regression  (StandardScaler())  \n",
       "25   0.5258   0.5258                  SVC  (StandardScaler())  \n",
       "26   0.5394   0.5394  Logistic Regression  (StandardScaler())  \n",
       "27   0.5307   0.5307                  SVC  (StandardScaler())  "
      ]
     },
     "execution_count": 13,
     "metadata": {},
     "output_type": "execute_result"
    }
   ],
   "source": [
    "n_repetitions = 2\n",
    "for n_rows in [500, 1_000, 2_000, 5_000, 10_000, 20_000, 50_000]:\n",
    "    for i_repetition in range(n_repetitions):\n",
    "        print('Repetition nr.', i_repetition)\n",
    "        result_metrics = fit_evaluate('Logistic Regression', log_reg_clf, n_rows, result_metrics)\n",
    "        result_metrics = fit_evaluate('SVC', svc, n_rows, result_metrics)\n",
    "\n",
    "# Show the interim result                               \n",
    "result_metrics"
   ]
  },
  {
   "cell_type": "code",
   "execution_count": 14,
   "id": "d1a5181e",
   "metadata": {
    "execution": {
     "iopub.execute_input": "2023-02-15T18:33:04.073807Z",
     "iopub.status.busy": "2023-02-15T18:33:04.072816Z",
     "iopub.status.idle": "2023-02-15T18:33:04.206927Z",
     "shell.execute_reply": "2023-02-15T18:33:04.204910Z"
    },
    "papermill": {
     "duration": 0.151117,
     "end_time": "2023-02-15T18:33:04.209908",
     "exception": false,
     "start_time": "2023-02-15T18:33:04.058791",
     "status": "completed"
    },
    "tags": []
   },
   "outputs": [
    {
     "data": {
      "text/plain": [
       "['../models/svc_preprocessing_pipeline.joblib']"
      ]
     },
     "execution_count": 14,
     "metadata": {},
     "output_type": "execute_result"
    }
   ],
   "source": [
    "# Save trained and data for streamlit\n",
    "dump(result_metrics['model'].iloc[-2], '../models/log_reg_nb5.joblib')\n",
    "dump(result_metrics['model'].iloc[-1], '../models/svc_nb5.joblib')\n",
    "dump(result_metrics['pipeline'].iloc[-2], '../models/log_reg_preprocessing_pipeline.joblib')\n",
    "dump(result_metrics['pipeline'].iloc[-1], '../models/svc_preprocessing_pipeline.joblib')"
   ]
  },
  {
   "cell_type": "code",
   "execution_count": 15,
   "id": "e268a583",
   "metadata": {
    "execution": {
     "iopub.execute_input": "2023-02-15T18:33:04.249923Z",
     "iopub.status.busy": "2023-02-15T18:33:04.248909Z",
     "iopub.status.idle": "2023-02-15T18:33:07.760449Z",
     "shell.execute_reply": "2023-02-15T18:33:07.755454Z"
    },
    "papermill": {
     "duration": 3.53555,
     "end_time": "2023-02-15T18:33:07.765462",
     "exception": false,
     "start_time": "2023-02-15T18:33:04.229912",
     "status": "completed"
    },
    "tags": []
   },
   "outputs": [
    {
     "name": "stderr",
     "output_type": "stream",
     "text": [
      "findfont: Font family ['cmsy10'] not found. Falling back to DejaVu Sans.\n"
     ]
    },
    {
     "name": "stderr",
     "output_type": "stream",
     "text": [
      "findfont: Font family ['cmr10'] not found. Falling back to DejaVu Sans.\n"
     ]
    },
    {
     "name": "stderr",
     "output_type": "stream",
     "text": [
      "findfont: Font family ['cmtt10'] not found. Falling back to DejaVu Sans.\n"
     ]
    },
    {
     "name": "stderr",
     "output_type": "stream",
     "text": [
      "findfont: Font family ['cmmi10'] not found. Falling back to DejaVu Sans.\n"
     ]
    },
    {
     "name": "stderr",
     "output_type": "stream",
     "text": [
      "findfont: Font family ['cmb10'] not found. Falling back to DejaVu Sans.\n"
     ]
    },
    {
     "name": "stderr",
     "output_type": "stream",
     "text": [
      "findfont: Font family ['cmss10'] not found. Falling back to DejaVu Sans.\n"
     ]
    },
    {
     "name": "stderr",
     "output_type": "stream",
     "text": [
      "findfont: Font family ['cmex10'] not found. Falling back to DejaVu Sans.\n"
     ]
    },
    {
     "data": {
      "image/png": "[encoded data removed]",
      "text/plain": [
       "<Figure size 640x480 with 1 Axes>"
      ]
     },
     "metadata": {},
     "output_type": "display_data"
    }
   ],
   "source": [
    "sns.boxplot(data=result_metrics, x='n_rows', y = 'f1', hue='Model Name')\n",
    "plt.xlabel('Number of Data Points');\n",
    "plt.ylabel('$f_1$ Score');\n",
    "plt.title('$f_1$ Scores for Different Amounts of Data', pad=10);\n",
    "plt.savefig('../figures/n_rows_f1.png');\n",
    "plt.savefig('../figures/n_rows_f1.svg');"
   ]
  },
  {
   "cell_type": "markdown",
   "id": "d472168f",
   "metadata": {
    "papermill": {
     "duration": 0.025007,
     "end_time": "2023-02-15T18:33:07.815038",
     "exception": false,
     "start_time": "2023-02-15T18:33:07.790031",
     "status": "completed"
    },
    "tags": []
   },
   "source": [
    "## Conclusion\n",
    "We can see that the performance increases with the amount of data. We can also observe that the performance is already reaching a plateau, which means that the amount of data for training is already sufficient. We expected the variance to decrease, but nat to that extent. The reason for the high variance in the beginning could be that not only the amount of training data is smaller, but also the amount of test data."
   ]
  },
  {
   "cell_type": "markdown",
   "id": "4a36cd00",
   "metadata": {
    "papermill": {
     "duration": 0.025015,
     "end_time": "2023-02-15T18:33:07.865042",
     "exception": false,
     "start_time": "2023-02-15T18:33:07.840027",
     "status": "completed"
    },
    "tags": []
   },
   "source": [
    "# Impact of Number of Variables"
   ]
  },
  {
   "cell_type": "markdown",
   "id": "3a7d07ff",
   "metadata": {
    "papermill": {
     "duration": 0.022996,
     "end_time": "2023-02-15T18:33:07.912636",
     "exception": false,
     "start_time": "2023-02-15T18:33:07.889640",
     "status": "completed"
    },
    "tags": []
   },
   "source": [
    "## Hypothesis\n",
    "We expect the number of variables to have an important impact on the performance. We are dealing with a large number of features in our dataset, and we expect some of these variables to not have an impact. We use k-best selection to reduce the number of features. This means, that the most important features will be used early on and the least important features will be added later. Hence we expect the performance to reach a plateau."
   ]
  },
  {
   "cell_type": "markdown",
   "id": "2de2e33a",
   "metadata": {
    "papermill": {
     "duration": 0.024992,
     "end_time": "2023-02-15T18:33:07.961631",
     "exception": false,
     "start_time": "2023-02-15T18:33:07.936639",
     "status": "completed"
    },
    "tags": []
   },
   "source": [
    "## Experiment"
   ]
  },
  {
   "cell_type": "code",
   "execution_count": 16,
   "id": "768db241",
   "metadata": {
    "execution": {
     "iopub.execute_input": "2023-02-15T18:33:08.022220Z",
     "iopub.status.busy": "2023-02-15T18:33:08.021229Z",
     "iopub.status.idle": "2023-02-15T18:33:08.060221Z",
     "shell.execute_reply": "2023-02-15T18:33:08.058221Z"
    },
    "papermill": {
     "duration": 0.073,
     "end_time": "2023-02-15T18:33:08.064230",
     "exception": false,
     "start_time": "2023-02-15T18:33:07.991230",
     "status": "completed"
    },
    "tags": []
   },
   "outputs": [
    {
     "data": {
      "text/html": [
       "<div>\n",
       "<style scoped>\n",
       "    .dataframe tbody tr th:only-of-type {\n",
       "        vertical-align: middle;\n",
       "    }\n",
       "\n",
       "    .dataframe tbody tr th {\n",
       "        vertical-align: top;\n",
       "    }\n",
       "\n",
       "    .dataframe thead th {\n",
       "        text-align: right;\n",
       "    }\n",
       "</style>\n",
       "<table border=\"1\" class=\"dataframe\">\n",
       "  <thead>\n",
       "    <tr style=\"text-align: right;\">\n",
       "      <th></th>\n",
       "      <th>model</th>\n",
       "      <th>f1</th>\n",
       "      <th>accuracy</th>\n",
       "      <th>recall</th>\n",
       "    </tr>\n",
       "    <tr>\n",
       "      <th>id</th>\n",
       "      <th></th>\n",
       "      <th></th>\n",
       "      <th></th>\n",
       "      <th></th>\n",
       "    </tr>\n",
       "  </thead>\n",
       "  <tbody>\n",
       "  </tbody>\n",
       "</table>\n",
       "</div>"
      ],
      "text/plain": [
       "Empty DataFrame\n",
       "Columns: [model, f1, accuracy, recall]\n",
       "Index: []"
      ]
     },
     "execution_count": 16,
     "metadata": {},
     "output_type": "execute_result"
    }
   ],
   "source": [
    "k_feat_metrics = pd.DataFrame(columns=['model', 'f1', 'accuracy', 'recall'])\n",
    "k_feat_metrics.index.name = 'id'\n",
    "k_feat_metrics"
   ]
  },
  {
   "cell_type": "code",
   "execution_count": 17,
   "id": "daad320b",
   "metadata": {
    "execution": {
     "iopub.execute_input": "2023-02-15T18:33:08.119806Z",
     "iopub.status.busy": "2023-02-15T18:33:08.118805Z",
     "iopub.status.idle": "2023-02-15T18:33:08.170833Z",
     "shell.execute_reply": "2023-02-15T18:33:08.168837Z"
    },
    "papermill": {
     "duration": 0.087953,
     "end_time": "2023-02-15T18:33:08.176829",
     "exception": false,
     "start_time": "2023-02-15T18:33:08.088876",
     "status": "completed"
    },
    "tags": []
   },
   "outputs": [],
   "source": [
    "n_rows = 50_000\n",
    "sample_indices = random.sample_without_replacement(n_population=len(target), \n",
    "                                                   n_samples=n_rows)\n",
    "\n",
    "def k_features_fit_evaluate(model_label, model, k_features, result_df):\n",
    "    id = result_df.shape[0]\n",
    "    result_df.loc[id, 'model_label'] = model_label\n",
    "    result_df.loc[id, 'model'] = model\n",
    "    result_df.loc[id, 'k_features'] = k_features\n",
    "    data_sample = data.iloc[sample_indices]\n",
    "    target_sample = target.iloc[sample_indices]\n",
    "    X_train, X_test, y_train, y_test = train_test_split(data_sample, \n",
    "                                                        target_sample, \n",
    "                                                        test_size=0.2,\n",
    "                                                        random_state=23+id,  \n",
    "                                                        stratify=target_sample)\n",
    "    # Preprocessing\n",
    "    X_train = preprocessing_pipeline.fit_transform(X_train, y_train)\n",
    "    X_test = preprocessing_pipeline.transform(X_test)\n",
    "\n",
    "    # Select k best features\n",
    "    kbest_selector = SelectKBest(k=k_features)\n",
    "    X_train = kbest_selector.fit_transform(X=X_train, y=y_train)\n",
    "    X_test = kbest_selector.transform(X=X_test)\n",
    "\n",
    "    # fit model and predict\n",
    "    model.fit(X_train, y_train)\n",
    "    y_pred = model.predict(X_test)\n",
    "\n",
    "    # Compute scores\n",
    "    result_df.loc[id, 'f1'] = f1_score(y_true=y_test, y_pred=y_pred, average='weighted')\n",
    "    result_df.loc[id, 'accuracy'] = accuracy_score(y_true=y_test, y_pred=y_pred)\n",
    "    result_df.loc[id, 'recall'] = recall_score(y_true=y_test, y_pred=y_pred, average='weighted')\n",
    "    return result_df"
   ]
  },
  {
   "cell_type": "code",
   "execution_count": 18,
   "id": "15d1e4b7",
   "metadata": {
    "execution": {
     "iopub.execute_input": "2023-02-15T18:33:08.262394Z",
     "iopub.status.busy": "2023-02-15T18:33:08.261399Z",
     "iopub.status.idle": "2023-02-15T18:37:38.957323Z",
     "shell.execute_reply": "2023-02-15T18:37:38.956322Z"
    },
    "papermill": {
     "duration": 270.733921,
     "end_time": "2023-02-15T18:37:38.960321",
     "exception": false,
     "start_time": "2023-02-15T18:33:08.226400",
     "status": "completed"
    },
    "tags": []
   },
   "outputs": [
    {
     "name": "stdout",
     "output_type": "stream",
     "text": [
      "Repetition no: 1\n",
      "Number of features: 5\n"
     ]
    },
    {
     "name": "stderr",
     "output_type": "stream",
     "text": [
      "C:\\Users\\kayla\\AppData\\Roaming\\Python\\Python310\\site-packages\\sklearn\\feature_selection\\_univariate_selection.py:112: UserWarning: Features [ 32 154] are constant.\n",
      "  warnings.warn(\"Features %s are constant.\" % constant_features_idx, UserWarning)\n",
      "C:\\Users\\kayla\\AppData\\Roaming\\Python\\Python310\\site-packages\\sklearn\\feature_selection\\_univariate_selection.py:113: RuntimeWarning: invalid value encountered in divide\n",
      "  f = msb / msw\n"
     ]
    },
    {
     "name": "stdout",
     "output_type": "stream",
     "text": [
      "Repetition no: 2\n",
      "Number of features: 5\n"
     ]
    },
    {
     "name": "stderr",
     "output_type": "stream",
     "text": [
      "C:\\Users\\kayla\\AppData\\Roaming\\Python\\Python310\\site-packages\\sklearn\\feature_selection\\_univariate_selection.py:112: UserWarning: Features [ 32 154 297 298] are constant.\n",
      "  warnings.warn(\"Features %s are constant.\" % constant_features_idx, UserWarning)\n",
      "C:\\Users\\kayla\\AppData\\Roaming\\Python\\Python310\\site-packages\\sklearn\\feature_selection\\_univariate_selection.py:113: RuntimeWarning: invalid value encountered in divide\n",
      "  f = msb / msw\n"
     ]
    },
    {
     "name": "stdout",
     "output_type": "stream",
     "text": [
      "Repetition no: 3\n",
      "Number of features: 5\n"
     ]
    },
    {
     "name": "stderr",
     "output_type": "stream",
     "text": [
      "C:\\Users\\kayla\\AppData\\Roaming\\Python\\Python310\\site-packages\\sklearn\\feature_selection\\_univariate_selection.py:112: UserWarning: Features [ 32 154] are constant.\n",
      "  warnings.warn(\"Features %s are constant.\" % constant_features_idx, UserWarning)\n",
      "C:\\Users\\kayla\\AppData\\Roaming\\Python\\Python310\\site-packages\\sklearn\\feature_selection\\_univariate_selection.py:113: RuntimeWarning: invalid value encountered in divide\n",
      "  f = msb / msw\n"
     ]
    },
    {
     "name": "stdout",
     "output_type": "stream",
     "text": [
      "Repetition no: 4\n",
      "Number of features: 5\n"
     ]
    },
    {
     "name": "stderr",
     "output_type": "stream",
     "text": [
      "C:\\Users\\kayla\\AppData\\Roaming\\Python\\Python310\\site-packages\\sklearn\\feature_selection\\_univariate_selection.py:112: UserWarning: Features [ 32 152 154 176 182 260 298] are constant.\n",
      "  warnings.warn(\"Features %s are constant.\" % constant_features_idx, UserWarning)\n",
      "C:\\Users\\kayla\\AppData\\Roaming\\Python\\Python310\\site-packages\\sklearn\\feature_selection\\_univariate_selection.py:113: RuntimeWarning: invalid value encountered in divide\n",
      "  f = msb / msw\n"
     ]
    },
    {
     "name": "stdout",
     "output_type": "stream",
     "text": [
      "Repetition no: 5\n",
      "Number of features: 5\n"
     ]
    },
    {
     "name": "stderr",
     "output_type": "stream",
     "text": [
      "C:\\Users\\kayla\\AppData\\Roaming\\Python\\Python310\\site-packages\\sklearn\\feature_selection\\_univariate_selection.py:112: UserWarning: Features [ 32 152 154 272] are constant.\n",
      "  warnings.warn(\"Features %s are constant.\" % constant_features_idx, UserWarning)\n",
      "C:\\Users\\kayla\\AppData\\Roaming\\Python\\Python310\\site-packages\\sklearn\\feature_selection\\_univariate_selection.py:113: RuntimeWarning: invalid value encountered in divide\n",
      "  f = msb / msw\n"
     ]
    },
    {
     "name": "stdout",
     "output_type": "stream",
     "text": [
      "Repetition no: 1\n",
      "Number of features: 10\n"
     ]
    },
    {
     "name": "stderr",
     "output_type": "stream",
     "text": [
      "C:\\Users\\kayla\\AppData\\Roaming\\Python\\Python310\\site-packages\\sklearn\\feature_selection\\_univariate_selection.py:112: UserWarning: Features [ 32 152 154] are constant.\n",
      "  warnings.warn(\"Features %s are constant.\" % constant_features_idx, UserWarning)\n",
      "C:\\Users\\kayla\\AppData\\Roaming\\Python\\Python310\\site-packages\\sklearn\\feature_selection\\_univariate_selection.py:113: RuntimeWarning: invalid value encountered in divide\n",
      "  f = msb / msw\n"
     ]
    },
    {
     "name": "stdout",
     "output_type": "stream",
     "text": [
      "Repetition no: 2\n",
      "Number of features: 10\n"
     ]
    },
    {
     "name": "stderr",
     "output_type": "stream",
     "text": [
      "C:\\Users\\kayla\\AppData\\Roaming\\Python\\Python310\\site-packages\\sklearn\\feature_selection\\_univariate_selection.py:112: UserWarning: Features [ 32 154 323] are constant.\n",
      "  warnings.warn(\"Features %s are constant.\" % constant_features_idx, UserWarning)\n",
      "C:\\Users\\kayla\\AppData\\Roaming\\Python\\Python310\\site-packages\\sklearn\\feature_selection\\_univariate_selection.py:113: RuntimeWarning: invalid value encountered in divide\n",
      "  f = msb / msw\n"
     ]
    },
    {
     "name": "stdout",
     "output_type": "stream",
     "text": [
      "Repetition no: 3\n",
      "Number of features: 10\n"
     ]
    },
    {
     "name": "stderr",
     "output_type": "stream",
     "text": [
      "C:\\Users\\kayla\\AppData\\Roaming\\Python\\Python310\\site-packages\\sklearn\\feature_selection\\_univariate_selection.py:112: UserWarning: Features [ 32 154 295] are constant.\n",
      "  warnings.warn(\"Features %s are constant.\" % constant_features_idx, UserWarning)\n",
      "C:\\Users\\kayla\\AppData\\Roaming\\Python\\Python310\\site-packages\\sklearn\\feature_selection\\_univariate_selection.py:113: RuntimeWarning: invalid value encountered in divide\n",
      "  f = msb / msw\n"
     ]
    },
    {
     "name": "stdout",
     "output_type": "stream",
     "text": [
      "Repetition no: 4\n",
      "Number of features: 10\n"
     ]
    },
    {
     "name": "stderr",
     "output_type": "stream",
     "text": [
      "C:\\Users\\kayla\\AppData\\Roaming\\Python\\Python310\\site-packages\\sklearn\\feature_selection\\_univariate_selection.py:112: UserWarning: Features [ 32 154 176 182] are constant.\n",
      "  warnings.warn(\"Features %s are constant.\" % constant_features_idx, UserWarning)\n",
      "C:\\Users\\kayla\\AppData\\Roaming\\Python\\Python310\\site-packages\\sklearn\\feature_selection\\_univariate_selection.py:113: RuntimeWarning: invalid value encountered in divide\n",
      "  f = msb / msw\n"
     ]
    },
    {
     "name": "stdout",
     "output_type": "stream",
     "text": [
      "Repetition no: 5\n",
      "Number of features: 10\n"
     ]
    },
    {
     "name": "stderr",
     "output_type": "stream",
     "text": [
      "C:\\Users\\kayla\\AppData\\Roaming\\Python\\Python310\\site-packages\\sklearn\\feature_selection\\_univariate_selection.py:112: UserWarning: Features [ 32 154] are constant.\n",
      "  warnings.warn(\"Features %s are constant.\" % constant_features_idx, UserWarning)\n",
      "C:\\Users\\kayla\\AppData\\Roaming\\Python\\Python310\\site-packages\\sklearn\\feature_selection\\_univariate_selection.py:113: RuntimeWarning: invalid value encountered in divide\n",
      "  f = msb / msw\n"
     ]
    },
    {
     "name": "stdout",
     "output_type": "stream",
     "text": [
      "Repetition no: 1\n",
      "Number of features: 20\n"
     ]
    },
    {
     "name": "stderr",
     "output_type": "stream",
     "text": [
      "C:\\Users\\kayla\\AppData\\Roaming\\Python\\Python310\\site-packages\\sklearn\\feature_selection\\_univariate_selection.py:112: UserWarning: Features [ 32 154] are constant.\n",
      "  warnings.warn(\"Features %s are constant.\" % constant_features_idx, UserWarning)\n",
      "C:\\Users\\kayla\\AppData\\Roaming\\Python\\Python310\\site-packages\\sklearn\\feature_selection\\_univariate_selection.py:113: RuntimeWarning: invalid value encountered in divide\n",
      "  f = msb / msw\n"
     ]
    },
    {
     "name": "stdout",
     "output_type": "stream",
     "text": [
      "Repetition no: 2\n",
      "Number of features: 20\n"
     ]
    },
    {
     "name": "stderr",
     "output_type": "stream",
     "text": [
      "C:\\Users\\kayla\\AppData\\Roaming\\Python\\Python310\\site-packages\\sklearn\\feature_selection\\_univariate_selection.py:112: UserWarning: Features [ 32 154 176 182 188] are constant.\n",
      "  warnings.warn(\"Features %s are constant.\" % constant_features_idx, UserWarning)\n",
      "C:\\Users\\kayla\\AppData\\Roaming\\Python\\Python310\\site-packages\\sklearn\\feature_selection\\_univariate_selection.py:113: RuntimeWarning: invalid value encountered in divide\n",
      "  f = msb / msw\n"
     ]
    },
    {
     "name": "stdout",
     "output_type": "stream",
     "text": [
      "Repetition no: 3\n",
      "Number of features: 20\n"
     ]
    },
    {
     "name": "stderr",
     "output_type": "stream",
     "text": [
      "C:\\Users\\kayla\\AppData\\Roaming\\Python\\Python310\\site-packages\\sklearn\\feature_selection\\_univariate_selection.py:112: UserWarning: Features [ 32 154 176 182 295] are constant.\n",
      "  warnings.warn(\"Features %s are constant.\" % constant_features_idx, UserWarning)\n",
      "C:\\Users\\kayla\\AppData\\Roaming\\Python\\Python310\\site-packages\\sklearn\\feature_selection\\_univariate_selection.py:113: RuntimeWarning: invalid value encountered in divide\n",
      "  f = msb / msw\n"
     ]
    },
    {
     "name": "stdout",
     "output_type": "stream",
     "text": [
      "Repetition no: 4\n",
      "Number of features: 20\n"
     ]
    },
    {
     "name": "stderr",
     "output_type": "stream",
     "text": [
      "C:\\Users\\kayla\\AppData\\Roaming\\Python\\Python310\\site-packages\\sklearn\\feature_selection\\_univariate_selection.py:112: UserWarning: Features [ 32 154 176 182 295] are constant.\n",
      "  warnings.warn(\"Features %s are constant.\" % constant_features_idx, UserWarning)\n",
      "C:\\Users\\kayla\\AppData\\Roaming\\Python\\Python310\\site-packages\\sklearn\\feature_selection\\_univariate_selection.py:113: RuntimeWarning: invalid value encountered in divide\n",
      "  f = msb / msw\n"
     ]
    },
    {
     "name": "stdout",
     "output_type": "stream",
     "text": [
      "Repetition no: 5\n",
      "Number of features: 20\n"
     ]
    },
    {
     "name": "stderr",
     "output_type": "stream",
     "text": [
      "C:\\Users\\kayla\\AppData\\Roaming\\Python\\Python310\\site-packages\\sklearn\\feature_selection\\_univariate_selection.py:112: UserWarning: Features [ 32 154 176 182 272] are constant.\n",
      "  warnings.warn(\"Features %s are constant.\" % constant_features_idx, UserWarning)\n",
      "C:\\Users\\kayla\\AppData\\Roaming\\Python\\Python310\\site-packages\\sklearn\\feature_selection\\_univariate_selection.py:113: RuntimeWarning: invalid value encountered in divide\n",
      "  f = msb / msw\n"
     ]
    },
    {
     "name": "stdout",
     "output_type": "stream",
     "text": [
      "Repetition no: 1\n",
      "Number of features: 50\n"
     ]
    },
    {
     "name": "stderr",
     "output_type": "stream",
     "text": [
      "C:\\Users\\kayla\\AppData\\Roaming\\Python\\Python310\\site-packages\\sklearn\\feature_selection\\_univariate_selection.py:112: UserWarning: Features [ 32 154 295] are constant.\n",
      "  warnings.warn(\"Features %s are constant.\" % constant_features_idx, UserWarning)\n",
      "C:\\Users\\kayla\\AppData\\Roaming\\Python\\Python310\\site-packages\\sklearn\\feature_selection\\_univariate_selection.py:113: RuntimeWarning: invalid value encountered in divide\n",
      "  f = msb / msw\n"
     ]
    },
    {
     "name": "stdout",
     "output_type": "stream",
     "text": [
      "Repetition no: 2\n",
      "Number of features: 50\n"
     ]
    },
    {
     "name": "stderr",
     "output_type": "stream",
     "text": [
      "C:\\Users\\kayla\\AppData\\Roaming\\Python\\Python310\\site-packages\\sklearn\\feature_selection\\_univariate_selection.py:112: UserWarning: Features [ 32 154 272] are constant.\n",
      "  warnings.warn(\"Features %s are constant.\" % constant_features_idx, UserWarning)\n",
      "C:\\Users\\kayla\\AppData\\Roaming\\Python\\Python310\\site-packages\\sklearn\\feature_selection\\_univariate_selection.py:113: RuntimeWarning: invalid value encountered in divide\n",
      "  f = msb / msw\n"
     ]
    },
    {
     "name": "stdout",
     "output_type": "stream",
     "text": [
      "Repetition no: 3\n",
      "Number of features: 50\n"
     ]
    },
    {
     "name": "stderr",
     "output_type": "stream",
     "text": [
      "C:\\Users\\kayla\\AppData\\Roaming\\Python\\Python310\\site-packages\\sklearn\\feature_selection\\_univariate_selection.py:112: UserWarning: Features [ 32 150 152 154 298] are constant.\n",
      "  warnings.warn(\"Features %s are constant.\" % constant_features_idx, UserWarning)\n",
      "C:\\Users\\kayla\\AppData\\Roaming\\Python\\Python310\\site-packages\\sklearn\\feature_selection\\_univariate_selection.py:113: RuntimeWarning: invalid value encountered in divide\n",
      "  f = msb / msw\n"
     ]
    },
    {
     "name": "stdout",
     "output_type": "stream",
     "text": [
      "Repetition no: 4\n",
      "Number of features: 50\n"
     ]
    },
    {
     "name": "stderr",
     "output_type": "stream",
     "text": [
      "C:\\Users\\kayla\\AppData\\Roaming\\Python\\Python310\\site-packages\\sklearn\\feature_selection\\_univariate_selection.py:112: UserWarning: Features [ 32 154 272] are constant.\n",
      "  warnings.warn(\"Features %s are constant.\" % constant_features_idx, UserWarning)\n",
      "C:\\Users\\kayla\\AppData\\Roaming\\Python\\Python310\\site-packages\\sklearn\\feature_selection\\_univariate_selection.py:113: RuntimeWarning: invalid value encountered in divide\n",
      "  f = msb / msw\n"
     ]
    },
    {
     "name": "stdout",
     "output_type": "stream",
     "text": [
      "Repetition no: 5\n",
      "Number of features: 50\n"
     ]
    },
    {
     "name": "stderr",
     "output_type": "stream",
     "text": [
      "C:\\Users\\kayla\\AppData\\Roaming\\Python\\Python310\\site-packages\\sklearn\\feature_selection\\_univariate_selection.py:112: UserWarning: Features [ 32 152 154] are constant.\n",
      "  warnings.warn(\"Features %s are constant.\" % constant_features_idx, UserWarning)\n",
      "C:\\Users\\kayla\\AppData\\Roaming\\Python\\Python310\\site-packages\\sklearn\\feature_selection\\_univariate_selection.py:113: RuntimeWarning: invalid value encountered in divide\n",
      "  f = msb / msw\n"
     ]
    },
    {
     "name": "stdout",
     "output_type": "stream",
     "text": [
      "Repetition no: 1\n",
      "Number of features: 100\n"
     ]
    },
    {
     "name": "stderr",
     "output_type": "stream",
     "text": [
      "C:\\Users\\kayla\\AppData\\Roaming\\Python\\Python310\\site-packages\\sklearn\\feature_selection\\_univariate_selection.py:112: UserWarning: Features [ 32 154] are constant.\n",
      "  warnings.warn(\"Features %s are constant.\" % constant_features_idx, UserWarning)\n",
      "C:\\Users\\kayla\\AppData\\Roaming\\Python\\Python310\\site-packages\\sklearn\\feature_selection\\_univariate_selection.py:113: RuntimeWarning: invalid value encountered in divide\n",
      "  f = msb / msw\n"
     ]
    },
    {
     "name": "stdout",
     "output_type": "stream",
     "text": [
      "Repetition no: 2\n",
      "Number of features: 100\n"
     ]
    },
    {
     "name": "stderr",
     "output_type": "stream",
     "text": [
      "C:\\Users\\kayla\\AppData\\Roaming\\Python\\Python310\\site-packages\\sklearn\\feature_selection\\_univariate_selection.py:112: UserWarning: Features [ 32 154 176 182] are constant.\n",
      "  warnings.warn(\"Features %s are constant.\" % constant_features_idx, UserWarning)\n",
      "C:\\Users\\kayla\\AppData\\Roaming\\Python\\Python310\\site-packages\\sklearn\\feature_selection\\_univariate_selection.py:113: RuntimeWarning: invalid value encountered in divide\n",
      "  f = msb / msw\n"
     ]
    },
    {
     "name": "stdout",
     "output_type": "stream",
     "text": [
      "Repetition no: 3\n",
      "Number of features: 100\n"
     ]
    },
    {
     "name": "stderr",
     "output_type": "stream",
     "text": [
      "C:\\Users\\kayla\\AppData\\Roaming\\Python\\Python310\\site-packages\\sklearn\\feature_selection\\_univariate_selection.py:112: UserWarning: Features [ 32 154 272] are constant.\n",
      "  warnings.warn(\"Features %s are constant.\" % constant_features_idx, UserWarning)\n",
      "C:\\Users\\kayla\\AppData\\Roaming\\Python\\Python310\\site-packages\\sklearn\\feature_selection\\_univariate_selection.py:113: RuntimeWarning: invalid value encountered in divide\n",
      "  f = msb / msw\n"
     ]
    },
    {
     "name": "stdout",
     "output_type": "stream",
     "text": [
      "Repetition no: 4\n",
      "Number of features: 100\n"
     ]
    },
    {
     "name": "stderr",
     "output_type": "stream",
     "text": [
      "C:\\Users\\kayla\\AppData\\Roaming\\Python\\Python310\\site-packages\\sklearn\\feature_selection\\_univariate_selection.py:112: UserWarning: Features [ 32 154 176 182] are constant.\n",
      "  warnings.warn(\"Features %s are constant.\" % constant_features_idx, UserWarning)\n",
      "C:\\Users\\kayla\\AppData\\Roaming\\Python\\Python310\\site-packages\\sklearn\\feature_selection\\_univariate_selection.py:113: RuntimeWarning: invalid value encountered in divide\n",
      "  f = msb / msw\n"
     ]
    },
    {
     "name": "stdout",
     "output_type": "stream",
     "text": [
      "Repetition no: 5\n",
      "Number of features: 100\n"
     ]
    },
    {
     "name": "stderr",
     "output_type": "stream",
     "text": [
      "C:\\Users\\kayla\\AppData\\Roaming\\Python\\Python310\\site-packages\\sklearn\\feature_selection\\_univariate_selection.py:112: UserWarning: Features [ 22  32 154] are constant.\n",
      "  warnings.warn(\"Features %s are constant.\" % constant_features_idx, UserWarning)\n",
      "C:\\Users\\kayla\\AppData\\Roaming\\Python\\Python310\\site-packages\\sklearn\\feature_selection\\_univariate_selection.py:113: RuntimeWarning: invalid value encountered in divide\n",
      "  f = msb / msw\n"
     ]
    },
    {
     "name": "stdout",
     "output_type": "stream",
     "text": [
      "Repetition no: 1\n",
      "Number of features: 140\n"
     ]
    },
    {
     "name": "stderr",
     "output_type": "stream",
     "text": [
      "C:\\Users\\kayla\\AppData\\Roaming\\Python\\Python310\\site-packages\\sklearn\\feature_selection\\_univariate_selection.py:112: UserWarning: Features [ 32 154 260 272 295] are constant.\n",
      "  warnings.warn(\"Features %s are constant.\" % constant_features_idx, UserWarning)\n",
      "C:\\Users\\kayla\\AppData\\Roaming\\Python\\Python310\\site-packages\\sklearn\\feature_selection\\_univariate_selection.py:113: RuntimeWarning: invalid value encountered in divide\n",
      "  f = msb / msw\n"
     ]
    },
    {
     "name": "stdout",
     "output_type": "stream",
     "text": [
      "Repetition no: 2\n",
      "Number of features: 140\n"
     ]
    },
    {
     "name": "stderr",
     "output_type": "stream",
     "text": [
      "C:\\Users\\kayla\\AppData\\Roaming\\Python\\Python310\\site-packages\\sklearn\\feature_selection\\_univariate_selection.py:112: UserWarning: Features [ 32 154 176 182 297] are constant.\n",
      "  warnings.warn(\"Features %s are constant.\" % constant_features_idx, UserWarning)\n",
      "C:\\Users\\kayla\\AppData\\Roaming\\Python\\Python310\\site-packages\\sklearn\\feature_selection\\_univariate_selection.py:113: RuntimeWarning: invalid value encountered in divide\n",
      "  f = msb / msw\n"
     ]
    },
    {
     "name": "stdout",
     "output_type": "stream",
     "text": [
      "Repetition no: 3\n",
      "Number of features: 140\n"
     ]
    },
    {
     "name": "stderr",
     "output_type": "stream",
     "text": [
      "C:\\Users\\kayla\\AppData\\Roaming\\Python\\Python310\\site-packages\\sklearn\\feature_selection\\_univariate_selection.py:112: UserWarning: Features [ 32 154 272 298] are constant.\n",
      "  warnings.warn(\"Features %s are constant.\" % constant_features_idx, UserWarning)\n",
      "C:\\Users\\kayla\\AppData\\Roaming\\Python\\Python310\\site-packages\\sklearn\\feature_selection\\_univariate_selection.py:113: RuntimeWarning: invalid value encountered in divide\n",
      "  f = msb / msw\n"
     ]
    },
    {
     "name": "stdout",
     "output_type": "stream",
     "text": [
      "Repetition no: 4\n",
      "Number of features: 140\n"
     ]
    },
    {
     "name": "stderr",
     "output_type": "stream",
     "text": [
      "C:\\Users\\kayla\\AppData\\Roaming\\Python\\Python310\\site-packages\\sklearn\\feature_selection\\_univariate_selection.py:112: UserWarning: Features [ 32 154 272] are constant.\n",
      "  warnings.warn(\"Features %s are constant.\" % constant_features_idx, UserWarning)\n",
      "C:\\Users\\kayla\\AppData\\Roaming\\Python\\Python310\\site-packages\\sklearn\\feature_selection\\_univariate_selection.py:113: RuntimeWarning: invalid value encountered in divide\n",
      "  f = msb / msw\n"
     ]
    },
    {
     "name": "stdout",
     "output_type": "stream",
     "text": [
      "Repetition no: 5\n",
      "Number of features: 140\n"
     ]
    },
    {
     "name": "stderr",
     "output_type": "stream",
     "text": [
      "C:\\Users\\kayla\\AppData\\Roaming\\Python\\Python310\\site-packages\\sklearn\\feature_selection\\_univariate_selection.py:112: UserWarning: Features [ 32 152 154 272] are constant.\n",
      "  warnings.warn(\"Features %s are constant.\" % constant_features_idx, UserWarning)\n",
      "C:\\Users\\kayla\\AppData\\Roaming\\Python\\Python310\\site-packages\\sklearn\\feature_selection\\_univariate_selection.py:113: RuntimeWarning: invalid value encountered in divide\n",
      "  f = msb / msw\n"
     ]
    },
    {
     "name": "stdout",
     "output_type": "stream",
     "text": [
      "                                                model        f1 accuracy  \\\n",
      "id                                                                         \n",
      "0   LogisticRegression(C=0.1, max_iter=1000, solve...  0.395405   0.4771   \n",
      "1   LogisticRegression(C=0.1, max_iter=1000, solve...  0.398685   0.4808   \n",
      "2   LogisticRegression(C=0.1, max_iter=1000, solve...  0.386926   0.4683   \n",
      "3   LogisticRegression(C=0.1, max_iter=1000, solve...  0.402743   0.4835   \n",
      "4   LogisticRegression(C=0.1, max_iter=1000, solve...  0.389315    0.473   \n",
      "5   LogisticRegression(C=0.1, max_iter=1000, solve...  0.421901   0.4821   \n",
      "6   LogisticRegression(C=0.1, max_iter=1000, solve...  0.414404   0.4757   \n",
      "7   LogisticRegression(C=0.1, max_iter=1000, solve...  0.419032   0.4799   \n",
      "8   LogisticRegression(C=0.1, max_iter=1000, solve...  0.415746   0.4781   \n",
      "9   LogisticRegression(C=0.1, max_iter=1000, solve...  0.416542   0.4785   \n",
      "10  LogisticRegression(C=0.1, max_iter=1000, solve...  0.466488   0.5031   \n",
      "11  LogisticRegression(C=0.1, max_iter=1000, solve...  0.461246   0.5019   \n",
      "12  LogisticRegression(C=0.1, max_iter=1000, solve...  0.460869   0.4959   \n",
      "13  LogisticRegression(C=0.1, max_iter=1000, solve...  0.457257   0.4961   \n",
      "14  LogisticRegression(C=0.1, max_iter=1000, solve...  0.466232   0.5052   \n",
      "15  LogisticRegression(C=0.1, max_iter=1000, solve...  0.498786    0.523   \n",
      "16  LogisticRegression(C=0.1, max_iter=1000, solve...  0.496064   0.5195   \n",
      "17  LogisticRegression(C=0.1, max_iter=1000, solve...  0.498507   0.5221   \n",
      "18  LogisticRegression(C=0.1, max_iter=1000, solve...  0.495519   0.5187   \n",
      "19  LogisticRegression(C=0.1, max_iter=1000, solve...  0.497881   0.5215   \n",
      "20  LogisticRegression(C=0.1, max_iter=1000, solve...  0.517645   0.5418   \n",
      "21  LogisticRegression(C=0.1, max_iter=1000, solve...  0.510781   0.5337   \n",
      "22  LogisticRegression(C=0.1, max_iter=1000, solve...  0.519174   0.5419   \n",
      "23  LogisticRegression(C=0.1, max_iter=1000, solve...  0.508608   0.5306   \n",
      "24  LogisticRegression(C=0.1, max_iter=1000, solve...  0.506803   0.5298   \n",
      "25  LogisticRegression(C=0.1, max_iter=1000, solve...  0.509224   0.5313   \n",
      "26  LogisticRegression(C=0.1, max_iter=1000, solve...  0.520796   0.5431   \n",
      "27  LogisticRegression(C=0.1, max_iter=1000, solve...  0.511446   0.5347   \n",
      "28  LogisticRegression(C=0.1, max_iter=1000, solve...  0.522836   0.5448   \n",
      "29  LogisticRegression(C=0.1, max_iter=1000, solve...  0.521156   0.5431   \n",
      "\n",
      "    recall          model_label  k_features  \n",
      "id                                           \n",
      "0   0.4771  logistic_regression         5.0  \n",
      "1   0.4808  logistic_regression         5.0  \n",
      "2   0.4683  logistic_regression         5.0  \n",
      "3   0.4835  logistic_regression         5.0  \n",
      "4    0.473  logistic_regression         5.0  \n",
      "5   0.4821  logistic_regression        10.0  \n",
      "6   0.4757  logistic_regression        10.0  \n",
      "7   0.4799  logistic_regression        10.0  \n",
      "8   0.4781  logistic_regression        10.0  \n",
      "9   0.4785  logistic_regression        10.0  \n",
      "10  0.5031  logistic_regression        20.0  \n",
      "11  0.5019  logistic_regression        20.0  \n",
      "12  0.4959  logistic_regression        20.0  \n",
      "13  0.4961  logistic_regression        20.0  \n",
      "14  0.5052  logistic_regression        20.0  \n",
      "15   0.523  logistic_regression        50.0  \n",
      "16  0.5195  logistic_regression        50.0  \n",
      "17  0.5221  logistic_regression        50.0  \n",
      "18  0.5187  logistic_regression        50.0  \n",
      "19  0.5215  logistic_regression        50.0  \n",
      "20  0.5418  logistic_regression       100.0  \n",
      "21  0.5337  logistic_regression       100.0  \n",
      "22  0.5419  logistic_regression       100.0  \n",
      "23  0.5306  logistic_regression       100.0  \n",
      "24  0.5298  logistic_regression       100.0  \n",
      "25  0.5313  logistic_regression       140.0  \n",
      "26  0.5431  logistic_regression       140.0  \n",
      "27  0.5347  logistic_regression       140.0  \n",
      "28  0.5448  logistic_regression       140.0  \n",
      "29  0.5431  logistic_regression       140.0  \n"
     ]
    }
   ],
   "source": [
    "n_repetitions = 5\n",
    "for k_features in [5, 10, 20, 50, 100, 140]:\n",
    "    for i_repetition in range(n_repetitions):\n",
    "        print('Repetition no:', i_repetition+1)\n",
    "        print('Number of features:', k_features)\n",
    "        k_feat_metrics = k_features_fit_evaluate('logistic_regression', log_reg_clf, k_features, k_feat_metrics)\n",
    "\n",
    "# Show the interim result                               \n",
    "k_feat_metrics\n",
    "print(k_feat_metrics)"
   ]
  },
  {
   "cell_type": "code",
   "execution_count": 19,
   "id": "e5f89efc",
   "metadata": {
    "execution": {
     "iopub.execute_input": "2023-02-15T18:37:39.001336Z",
     "iopub.status.busy": "2023-02-15T18:37:39.000338Z",
     "iopub.status.idle": "2023-02-15T18:37:39.052321Z",
     "shell.execute_reply": "2023-02-15T18:37:39.051308Z"
    },
    "papermill": {
     "duration": 0.07499,
     "end_time": "2023-02-15T18:37:39.055316",
     "exception": false,
     "start_time": "2023-02-15T18:37:38.980326",
     "status": "completed"
    },
    "tags": []
   },
   "outputs": [
    {
     "data": {
      "text/html": [
       "<div>\n",
       "<style scoped>\n",
       "    .dataframe tbody tr th:only-of-type {\n",
       "        vertical-align: middle;\n",
       "    }\n",
       "\n",
       "    .dataframe tbody tr th {\n",
       "        vertical-align: top;\n",
       "    }\n",
       "\n",
       "    .dataframe thead th {\n",
       "        text-align: right;\n",
       "    }\n",
       "</style>\n",
       "<table border=\"1\" class=\"dataframe\">\n",
       "  <thead>\n",
       "    <tr style=\"text-align: right;\">\n",
       "      <th></th>\n",
       "      <th>model</th>\n",
       "      <th>f1</th>\n",
       "      <th>accuracy</th>\n",
       "      <th>recall</th>\n",
       "      <th>model_label</th>\n",
       "      <th>k_features</th>\n",
       "    </tr>\n",
       "    <tr>\n",
       "      <th>id</th>\n",
       "      <th></th>\n",
       "      <th></th>\n",
       "      <th></th>\n",
       "      <th></th>\n",
       "      <th></th>\n",
       "      <th></th>\n",
       "    </tr>\n",
       "  </thead>\n",
       "  <tbody>\n",
       "    <tr>\n",
       "      <th>0</th>\n",
       "      <td>LogisticRegression(C=0.1, max_iter=1000, solve...</td>\n",
       "      <td>0.395405</td>\n",
       "      <td>0.4771</td>\n",
       "      <td>0.4771</td>\n",
       "      <td>logistic_regression</td>\n",
       "      <td>5.0</td>\n",
       "    </tr>\n",
       "    <tr>\n",
       "      <th>1</th>\n",
       "      <td>LogisticRegression(C=0.1, max_iter=1000, solve...</td>\n",
       "      <td>0.398685</td>\n",
       "      <td>0.4808</td>\n",
       "      <td>0.4808</td>\n",
       "      <td>logistic_regression</td>\n",
       "      <td>5.0</td>\n",
       "    </tr>\n",
       "    <tr>\n",
       "      <th>2</th>\n",
       "      <td>LogisticRegression(C=0.1, max_iter=1000, solve...</td>\n",
       "      <td>0.386926</td>\n",
       "      <td>0.4683</td>\n",
       "      <td>0.4683</td>\n",
       "      <td>logistic_regression</td>\n",
       "      <td>5.0</td>\n",
       "    </tr>\n",
       "    <tr>\n",
       "      <th>3</th>\n",
       "      <td>LogisticRegression(C=0.1, max_iter=1000, solve...</td>\n",
       "      <td>0.402743</td>\n",
       "      <td>0.4835</td>\n",
       "      <td>0.4835</td>\n",
       "      <td>logistic_regression</td>\n",
       "      <td>5.0</td>\n",
       "    </tr>\n",
       "    <tr>\n",
       "      <th>4</th>\n",
       "      <td>LogisticRegression(C=0.1, max_iter=1000, solve...</td>\n",
       "      <td>0.389315</td>\n",
       "      <td>0.473</td>\n",
       "      <td>0.473</td>\n",
       "      <td>logistic_regression</td>\n",
       "      <td>5.0</td>\n",
       "    </tr>\n",
       "    <tr>\n",
       "      <th>5</th>\n",
       "      <td>LogisticRegression(C=0.1, max_iter=1000, solve...</td>\n",
       "      <td>0.421901</td>\n",
       "      <td>0.4821</td>\n",
       "      <td>0.4821</td>\n",
       "      <td>logistic_regression</td>\n",
       "      <td>10.0</td>\n",
       "    </tr>\n",
       "    <tr>\n",
       "      <th>6</th>\n",
       "      <td>LogisticRegression(C=0.1, max_iter=1000, solve...</td>\n",
       "      <td>0.414404</td>\n",
       "      <td>0.4757</td>\n",
       "      <td>0.4757</td>\n",
       "      <td>logistic_regression</td>\n",
       "      <td>10.0</td>\n",
       "    </tr>\n",
       "    <tr>\n",
       "      <th>7</th>\n",
       "      <td>LogisticRegression(C=0.1, max_iter=1000, solve...</td>\n",
       "      <td>0.419032</td>\n",
       "      <td>0.4799</td>\n",
       "      <td>0.4799</td>\n",
       "      <td>logistic_regression</td>\n",
       "      <td>10.0</td>\n",
       "    </tr>\n",
       "    <tr>\n",
       "      <th>8</th>\n",
       "      <td>LogisticRegression(C=0.1, max_iter=1000, solve...</td>\n",
       "      <td>0.415746</td>\n",
       "      <td>0.4781</td>\n",
       "      <td>0.4781</td>\n",
       "      <td>logistic_regression</td>\n",
       "      <td>10.0</td>\n",
       "    </tr>\n",
       "    <tr>\n",
       "      <th>9</th>\n",
       "      <td>LogisticRegression(C=0.1, max_iter=1000, solve...</td>\n",
       "      <td>0.416542</td>\n",
       "      <td>0.4785</td>\n",
       "      <td>0.4785</td>\n",
       "      <td>logistic_regression</td>\n",
       "      <td>10.0</td>\n",
       "    </tr>\n",
       "    <tr>\n",
       "      <th>10</th>\n",
       "      <td>LogisticRegression(C=0.1, max_iter=1000, solve...</td>\n",
       "      <td>0.466488</td>\n",
       "      <td>0.5031</td>\n",
       "      <td>0.5031</td>\n",
       "      <td>logistic_regression</td>\n",
       "      <td>20.0</td>\n",
       "    </tr>\n",
       "    <tr>\n",
       "      <th>11</th>\n",
       "      <td>LogisticRegression(C=0.1, max_iter=1000, solve...</td>\n",
       "      <td>0.461246</td>\n",
       "      <td>0.5019</td>\n",
       "      <td>0.5019</td>\n",
       "      <td>logistic_regression</td>\n",
       "      <td>20.0</td>\n",
       "    </tr>\n",
       "    <tr>\n",
       "      <th>12</th>\n",
       "      <td>LogisticRegression(C=0.1, max_iter=1000, solve...</td>\n",
       "      <td>0.460869</td>\n",
       "      <td>0.4959</td>\n",
       "      <td>0.4959</td>\n",
       "      <td>logistic_regression</td>\n",
       "      <td>20.0</td>\n",
       "    </tr>\n",
       "    <tr>\n",
       "      <th>13</th>\n",
       "      <td>LogisticRegression(C=0.1, max_iter=1000, solve...</td>\n",
       "      <td>0.457257</td>\n",
       "      <td>0.4961</td>\n",
       "      <td>0.4961</td>\n",
       "      <td>logistic_regression</td>\n",
       "      <td>20.0</td>\n",
       "    </tr>\n",
       "    <tr>\n",
       "      <th>14</th>\n",
       "      <td>LogisticRegression(C=0.1, max_iter=1000, solve...</td>\n",
       "      <td>0.466232</td>\n",
       "      <td>0.5052</td>\n",
       "      <td>0.5052</td>\n",
       "      <td>logistic_regression</td>\n",
       "      <td>20.0</td>\n",
       "    </tr>\n",
       "    <tr>\n",
       "      <th>15</th>\n",
       "      <td>LogisticRegression(C=0.1, max_iter=1000, solve...</td>\n",
       "      <td>0.498786</td>\n",
       "      <td>0.523</td>\n",
       "      <td>0.523</td>\n",
       "      <td>logistic_regression</td>\n",
       "      <td>50.0</td>\n",
       "    </tr>\n",
       "    <tr>\n",
       "      <th>16</th>\n",
       "      <td>LogisticRegression(C=0.1, max_iter=1000, solve...</td>\n",
       "      <td>0.496064</td>\n",
       "      <td>0.5195</td>\n",
       "      <td>0.5195</td>\n",
       "      <td>logistic_regression</td>\n",
       "      <td>50.0</td>\n",
       "    </tr>\n",
       "    <tr>\n",
       "      <th>17</th>\n",
       "      <td>LogisticRegression(C=0.1, max_iter=1000, solve...</td>\n",
       "      <td>0.498507</td>\n",
       "      <td>0.5221</td>\n",
       "      <td>0.5221</td>\n",
       "      <td>logistic_regression</td>\n",
       "      <td>50.0</td>\n",
       "    </tr>\n",
       "    <tr>\n",
       "      <th>18</th>\n",
       "      <td>LogisticRegression(C=0.1, max_iter=1000, solve...</td>\n",
       "      <td>0.495519</td>\n",
       "      <td>0.5187</td>\n",
       "      <td>0.5187</td>\n",
       "      <td>logistic_regression</td>\n",
       "      <td>50.0</td>\n",
       "    </tr>\n",
       "    <tr>\n",
       "      <th>19</th>\n",
       "      <td>LogisticRegression(C=0.1, max_iter=1000, solve...</td>\n",
       "      <td>0.497881</td>\n",
       "      <td>0.5215</td>\n",
       "      <td>0.5215</td>\n",
       "      <td>logistic_regression</td>\n",
       "      <td>50.0</td>\n",
       "    </tr>\n",
       "    <tr>\n",
       "      <th>20</th>\n",
       "      <td>LogisticRegression(C=0.1, max_iter=1000, solve...</td>\n",
       "      <td>0.517645</td>\n",
       "      <td>0.5418</td>\n",
       "      <td>0.5418</td>\n",
       "      <td>logistic_regression</td>\n",
       "      <td>100.0</td>\n",
       "    </tr>\n",
       "    <tr>\n",
       "      <th>21</th>\n",
       "      <td>LogisticRegression(C=0.1, max_iter=1000, solve...</td>\n",
       "      <td>0.510781</td>\n",
       "      <td>0.5337</td>\n",
       "      <td>0.5337</td>\n",
       "      <td>logistic_regression</td>\n",
       "      <td>100.0</td>\n",
       "    </tr>\n",
       "    <tr>\n",
       "      <th>22</th>\n",
       "      <td>LogisticRegression(C=0.1, max_iter=1000, solve...</td>\n",
       "      <td>0.519174</td>\n",
       "      <td>0.5419</td>\n",
       "      <td>0.5419</td>\n",
       "      <td>logistic_regression</td>\n",
       "      <td>100.0</td>\n",
       "    </tr>\n",
       "    <tr>\n",
       "      <th>23</th>\n",
       "      <td>LogisticRegression(C=0.1, max_iter=1000, solve...</td>\n",
       "      <td>0.508608</td>\n",
       "      <td>0.5306</td>\n",
       "      <td>0.5306</td>\n",
       "      <td>logistic_regression</td>\n",
       "      <td>100.0</td>\n",
       "    </tr>\n",
       "    <tr>\n",
       "      <th>24</th>\n",
       "      <td>LogisticRegression(C=0.1, max_iter=1000, solve...</td>\n",
       "      <td>0.506803</td>\n",
       "      <td>0.5298</td>\n",
       "      <td>0.5298</td>\n",
       "      <td>logistic_regression</td>\n",
       "      <td>100.0</td>\n",
       "    </tr>\n",
       "    <tr>\n",
       "      <th>25</th>\n",
       "      <td>LogisticRegression(C=0.1, max_iter=1000, solve...</td>\n",
       "      <td>0.509224</td>\n",
       "      <td>0.5313</td>\n",
       "      <td>0.5313</td>\n",
       "      <td>logistic_regression</td>\n",
       "      <td>140.0</td>\n",
       "    </tr>\n",
       "    <tr>\n",
       "      <th>26</th>\n",
       "      <td>LogisticRegression(C=0.1, max_iter=1000, solve...</td>\n",
       "      <td>0.520796</td>\n",
       "      <td>0.5431</td>\n",
       "      <td>0.5431</td>\n",
       "      <td>logistic_regression</td>\n",
       "      <td>140.0</td>\n",
       "    </tr>\n",
       "    <tr>\n",
       "      <th>27</th>\n",
       "      <td>LogisticRegression(C=0.1, max_iter=1000, solve...</td>\n",
       "      <td>0.511446</td>\n",
       "      <td>0.5347</td>\n",
       "      <td>0.5347</td>\n",
       "      <td>logistic_regression</td>\n",
       "      <td>140.0</td>\n",
       "    </tr>\n",
       "    <tr>\n",
       "      <th>28</th>\n",
       "      <td>LogisticRegression(C=0.1, max_iter=1000, solve...</td>\n",
       "      <td>0.522836</td>\n",
       "      <td>0.5448</td>\n",
       "      <td>0.5448</td>\n",
       "      <td>logistic_regression</td>\n",
       "      <td>140.0</td>\n",
       "    </tr>\n",
       "    <tr>\n",
       "      <th>29</th>\n",
       "      <td>LogisticRegression(C=0.1, max_iter=1000, solve...</td>\n",
       "      <td>0.521156</td>\n",
       "      <td>0.5431</td>\n",
       "      <td>0.5431</td>\n",
       "      <td>logistic_regression</td>\n",
       "      <td>140.0</td>\n",
       "    </tr>\n",
       "  </tbody>\n",
       "</table>\n",
       "</div>"
      ],
      "text/plain": [
       "                                                model        f1 accuracy  \\\n",
       "id                                                                         \n",
       "0   LogisticRegression(C=0.1, max_iter=1000, solve...  0.395405   0.4771   \n",
       "1   LogisticRegression(C=0.1, max_iter=1000, solve...  0.398685   0.4808   \n",
       "2   LogisticRegression(C=0.1, max_iter=1000, solve...  0.386926   0.4683   \n",
       "3   LogisticRegression(C=0.1, max_iter=1000, solve...  0.402743   0.4835   \n",
       "4   LogisticRegression(C=0.1, max_iter=1000, solve...  0.389315    0.473   \n",
       "5   LogisticRegression(C=0.1, max_iter=1000, solve...  0.421901   0.4821   \n",
       "6   LogisticRegression(C=0.1, max_iter=1000, solve...  0.414404   0.4757   \n",
       "7   LogisticRegression(C=0.1, max_iter=1000, solve...  0.419032   0.4799   \n",
       "8   LogisticRegression(C=0.1, max_iter=1000, solve...  0.415746   0.4781   \n",
       "9   LogisticRegression(C=0.1, max_iter=1000, solve...  0.416542   0.4785   \n",
       "10  LogisticRegression(C=0.1, max_iter=1000, solve...  0.466488   0.5031   \n",
       "11  LogisticRegression(C=0.1, max_iter=1000, solve...  0.461246   0.5019   \n",
       "12  LogisticRegression(C=0.1, max_iter=1000, solve...  0.460869   0.4959   \n",
       "13  LogisticRegression(C=0.1, max_iter=1000, solve...  0.457257   0.4961   \n",
       "14  LogisticRegression(C=0.1, max_iter=1000, solve...  0.466232   0.5052   \n",
       "15  LogisticRegression(C=0.1, max_iter=1000, solve...  0.498786    0.523   \n",
       "16  LogisticRegression(C=0.1, max_iter=1000, solve...  0.496064   0.5195   \n",
       "17  LogisticRegression(C=0.1, max_iter=1000, solve...  0.498507   0.5221   \n",
       "18  LogisticRegression(C=0.1, max_iter=1000, solve...  0.495519   0.5187   \n",
       "19  LogisticRegression(C=0.1, max_iter=1000, solve...  0.497881   0.5215   \n",
       "20  LogisticRegression(C=0.1, max_iter=1000, solve...  0.517645   0.5418   \n",
       "21  LogisticRegression(C=0.1, max_iter=1000, solve...  0.510781   0.5337   \n",
       "22  LogisticRegression(C=0.1, max_iter=1000, solve...  0.519174   0.5419   \n",
       "23  LogisticRegression(C=0.1, max_iter=1000, solve...  0.508608   0.5306   \n",
       "24  LogisticRegression(C=0.1, max_iter=1000, solve...  0.506803   0.5298   \n",
       "25  LogisticRegression(C=0.1, max_iter=1000, solve...  0.509224   0.5313   \n",
       "26  LogisticRegression(C=0.1, max_iter=1000, solve...  0.520796   0.5431   \n",
       "27  LogisticRegression(C=0.1, max_iter=1000, solve...  0.511446   0.5347   \n",
       "28  LogisticRegression(C=0.1, max_iter=1000, solve...  0.522836   0.5448   \n",
       "29  LogisticRegression(C=0.1, max_iter=1000, solve...  0.521156   0.5431   \n",
       "\n",
       "    recall          model_label  k_features  \n",
       "id                                           \n",
       "0   0.4771  logistic_regression         5.0  \n",
       "1   0.4808  logistic_regression         5.0  \n",
       "2   0.4683  logistic_regression         5.0  \n",
       "3   0.4835  logistic_regression         5.0  \n",
       "4    0.473  logistic_regression         5.0  \n",
       "5   0.4821  logistic_regression        10.0  \n",
       "6   0.4757  logistic_regression        10.0  \n",
       "7   0.4799  logistic_regression        10.0  \n",
       "8   0.4781  logistic_regression        10.0  \n",
       "9   0.4785  logistic_regression        10.0  \n",
       "10  0.5031  logistic_regression        20.0  \n",
       "11  0.5019  logistic_regression        20.0  \n",
       "12  0.4959  logistic_regression        20.0  \n",
       "13  0.4961  logistic_regression        20.0  \n",
       "14  0.5052  logistic_regression        20.0  \n",
       "15   0.523  logistic_regression        50.0  \n",
       "16  0.5195  logistic_regression        50.0  \n",
       "17  0.5221  logistic_regression        50.0  \n",
       "18  0.5187  logistic_regression        50.0  \n",
       "19  0.5215  logistic_regression        50.0  \n",
       "20  0.5418  logistic_regression       100.0  \n",
       "21  0.5337  logistic_regression       100.0  \n",
       "22  0.5419  logistic_regression       100.0  \n",
       "23  0.5306  logistic_regression       100.0  \n",
       "24  0.5298  logistic_regression       100.0  \n",
       "25  0.5313  logistic_regression       140.0  \n",
       "26  0.5431  logistic_regression       140.0  \n",
       "27  0.5347  logistic_regression       140.0  \n",
       "28  0.5448  logistic_regression       140.0  \n",
       "29  0.5431  logistic_regression       140.0  "
      ]
     },
     "execution_count": 19,
     "metadata": {},
     "output_type": "execute_result"
    }
   ],
   "source": [
    "k_feat_metrics"
   ]
  },
  {
   "cell_type": "code",
   "execution_count": 20,
   "id": "2536c561",
   "metadata": {
    "execution": {
     "iopub.execute_input": "2023-02-15T18:37:39.099348Z",
     "iopub.status.busy": "2023-02-15T18:37:39.098340Z",
     "iopub.status.idle": "2023-02-15T18:37:39.875515Z",
     "shell.execute_reply": "2023-02-15T18:37:39.872502Z"
    },
    "papermill": {
     "duration": 0.804204,
     "end_time": "2023-02-15T18:37:39.880522",
     "exception": false,
     "start_time": "2023-02-15T18:37:39.076318",
     "status": "completed"
    },
    "tags": []
   },
   "outputs": [
    {
     "data": {
      "image/png": "[encoded data removed]",
      "text/plain": [
       "<Figure size 640x480 with 1 Axes>"
      ]
     },
     "metadata": {},
     "output_type": "display_data"
    }
   ],
   "source": [
    "sns.boxplot(data=k_feat_metrics, x='k_features', y = 'f1');\n",
    "plt.xlabel('Number of Features');\n",
    "plt.ylabel('$f_1$ Score');\n",
    "plt.title('$f_1$ Scores for Different Amount of Features', pad=10);\n",
    "plt.savefig('../figures/k_features_f1.png');\n",
    "plt.savefig('../figures/k_features_f1.svg');"
   ]
  },
  {
   "cell_type": "markdown",
   "id": "dc6a8a50",
   "metadata": {
    "papermill": {
     "duration": 0.034002,
     "end_time": "2023-02-15T18:37:39.948071",
     "exception": false,
     "start_time": "2023-02-15T18:37:39.914069",
     "status": "completed"
    },
    "tags": []
   },
   "source": [
    "The plot shows that the number of features used for training has a huge impact on the performance.\n",
    "The use of the kbest-selector implies that the average importance is higher for the thirst features than for the latter.\n",
    "We can indeed observe that the performance comes to a halt somewhere between 50 and 140 features. "
   ]
  },
  {
   "cell_type": "markdown",
   "id": "14e160b5",
   "metadata": {
    "papermill": {
     "duration": 0.033597,
     "end_time": "2023-02-15T18:37:40.016666",
     "exception": false,
     "start_time": "2023-02-15T18:37:39.983069",
     "status": "completed"
    },
    "tags": []
   },
   "source": [
    "# Conclusion\n",
    "In this notebook we investigated the impact of two different parameters on the model performance: The amount of training data and the number of features.\n",
    "The respective conclusions affirm the notion that it is important to have a certain amount of data to train a model with, but that the marginal improvement decreases\n",
    "with an increasing amount of data.\n",
    "\n",
    "The problem is, that the knowledge of a decent amount of data is not known beforehand. With our investigations in this notebook we were able to justify our decision to use only a\n",
    "subset of data for training and not the whole dataset.\n"
   ]
  }
 ],
 "metadata": {
  "jupytext": {
   "cell_metadata_filter": "-LanguageId",
   "main_language": "python",
   "notebook_metadata_filter": "-kernelspec"
  },
  "kernelspec": {
   "display_name": "pyfra_env_10",
   "language": "python",
   "name": "python3"
  },
  "language_info": {
   "codemirror_mode": {
    "name": "ipython",
    "version": 3
   },
   "file_extension": ".py",
   "mimetype": "text/x-python",
   "name": "python",
   "nbconvert_exporter": "python",
   "pygments_lexer": "ipython3",
   "version": "3.10.9"
  },
  "papermill": {
   "default_parameters": {},
   "duration": 3497.9074,
   "end_time": "2023-02-15T18:37:41.534342",
   "environment_variables": {},
   "exception": null,
   "input_path": "pyfra_nb_5.ipynb",
   "output_path": "pyfra_nb_5.ipynb",
   "parameters": {},
   "start_time": "2023-02-15T17:39:23.626942",
   "version": "2.4.0"
  },
  "vscode": {
   "interpreter": {
    "hash": "f2dbc15e99786fa05daecceee0ede0b88523201ccf7de22f0624c6f33b7c5a7c"
   }
  }
 },
 "nbformat": 4,
 "nbformat_minor": 5
}