{
 "cells": [
  {
   "cell_type": "markdown",
   "id": "2231cf4c",
   "metadata": {},
   "source": [
    "Notebook 2\n",
    "==============\n",
    "Data Cleaning and Feature Engineering"
   ]
  },
  {
   "cell_type": "code",
   "execution_count": 11,
   "id": "f84846fb",
   "metadata": {},
   "outputs": [],
   "source": [
    "import pandas as pd\n",
    "import numpy as np\n",
    "from matplotlib import pyplot as plt\n",
    "import pyfra\n",
    "import seaborn as sns"
   ]
  },
  {
   "cell_type": "markdown",
   "id": "a9c9e21a",
   "metadata": {},
   "source": [
    "# Import Data"
   ]
  },
  {
   "cell_type": "code",
   "execution_count": 12,
   "id": "ac1d070a",
   "metadata": {},
   "outputs": [],
   "source": [
    "french_categories = {'characteristics': 'caracteristiques', 'places':'lieux', 'users':'usagers', 'vehicles':'vehicules'}\n",
    "data_categories = french_categories.keys()\n",
    "categories_dict = dict(zip(data_categories, [0,0,0,0]))"
   ]
  },
  {
   "cell_type": "code",
   "execution_count": 13,
   "id": "127468f6",
   "metadata": {},
   "outputs": [],
   "source": [
    "# Define the function that reads the raw data for the specified time range\n",
    "def read_csv_of_year(start_year, end_year, separators, name_separator='_'):\n",
    "    if len (separators)<4:\n",
    "        separators = [separators]*4\n",
    "        \n",
    "    df_dict = {}\n",
    "    for year in range(start_year,end_year+1):\n",
    "        this_year_str = str(year)\n",
    "        # Data Category\n",
    "        this_df_dict = {}        \n",
    "        for this_category, this_sep in zip(data_categories, separators):\n",
    "            # We need the French name of the category for the filename\n",
    "            this_french_category = french_categories[this_category]\n",
    "            this_file_path_and_name = '../Data/'+this_year_str+'/' + this_french_category+name_separator+this_year_str+'.csv'\n",
    "            this_df_dict[this_category] = pd.read_csv(this_file_path_and_name, encoding='latin-1', sep=this_sep, low_memory=False)\n",
    "        df_dict[year] = this_df_dict\n",
    "    return df_dict\n",
    "\n",
    "# Import years\n",
    "df_dict = {}\n",
    "df_dict.update(read_csv_of_year(2005, 2008, separators=','))\n",
    "df_dict.update(read_csv_of_year(2009,2009, separators=['\\t', ',', ',', ',']))\n",
    "df_dict.update(read_csv_of_year(2010, 2016, separators=','))\n",
    "df_dict.update(read_csv_of_year(2017, 2018, separators=',', name_separator='-'))\n",
    "df_dict.update(read_csv_of_year(2019, 2021, separators=';', name_separator='-'))\n"
   ]
  },
  {
   "cell_type": "markdown",
   "id": "ec892d0f",
   "metadata": {},
   "source": [
    "## Put all the data in one dataframe for each category"
   ]
  },
  {
   "cell_type": "code",
   "execution_count": 14,
   "id": "139c34c5",
   "metadata": {},
   "outputs": [],
   "source": [
    "dict_of_category_dfs = {}\n",
    "for this_category in data_categories:\n",
    "    dict_of_category_dfs[this_category] = pd.concat([df_dict[year][this_category] for year in range(2005,2022)], ignore_index=True)\n",
    "\n",
    "characteristics = dict_of_category_dfs['characteristics']\n",
    "places = dict_of_category_dfs['places']\n",
    "users = dict_of_category_dfs['users']\n",
    "vehicles = dict_of_category_dfs['vehicles']"
   ]
  },
  {
   "cell_type": "markdown",
   "id": "9789a755",
   "metadata": {},
   "source": [
    "# Data Cleaning\n",
    "We will perform some of the cleaning of the data on the individual datasets. Not all cleaning is possible before merging the datasets, so there will be a second round of cleaning."
   ]
  },
  {
   "cell_type": "code",
   "execution_count": 15,
   "id": "f1cfd850",
   "metadata": {},
   "outputs": [
    {
     "data": {
      "text/plain": [
       "Index(['Num_Acc', 'catr', 'voie', 'v1', 'v2', 'circ', 'nbv', 'pr', 'pr1',\n",
       "       'vosp', 'prof', 'plan', 'lartpc', 'larrout', 'surf', 'infra', 'situ',\n",
       "       'env1', 'vma'],\n",
       "      dtype='object')"
      ]
     },
     "execution_count": 15,
     "metadata": {},
     "output_type": "execute_result"
    }
   ],
   "source": [
    "places.columns"
   ]
  },
  {
   "cell_type": "markdown",
   "id": "711e0861",
   "metadata": {},
   "source": [
    "## Calculate the percentage of missing values for each dataframe"
   ]
  },
  {
   "cell_type": "code",
   "execution_count": 16,
   "id": "3dafb4d3",
   "metadata": {},
   "outputs": [],
   "source": [
    "def na_percentage(df):\n",
    "  return df.isna().sum() *100 / len(df)"
   ]
  },
  {
   "cell_type": "code",
   "execution_count": 17,
   "id": "b63ffe69",
   "metadata": {},
   "outputs": [
    {
     "name": "stdout",
     "output_type": "stream",
     "text": [
      "characteristics\n",
      " Num_Acc     0.000000\n",
      "an          0.000000\n",
      "mois        0.000000\n",
      "jour        0.000000\n",
      "hrmn        0.000000\n",
      "lum         0.000000\n",
      "agg         0.000000\n",
      "int         0.000000\n",
      "atm         0.006509\n",
      "col         0.001694\n",
      "com         0.000178\n",
      "adr        12.774581\n",
      "gps        57.198251\n",
      "lat        43.427300\n",
      "long       43.427656\n",
      "dep         0.000000\n",
      "dtype: float64 \n",
      "\n",
      "places\n",
      " Num_Acc     0.000000\n",
      "catr        0.000089\n",
      "voie        9.556239\n",
      "v1         56.690481\n",
      "v2         95.419907\n",
      "circ        0.140339\n",
      "nbv         0.243498\n",
      "pr         42.394463\n",
      "pr1        42.556646\n",
      "vosp        0.246173\n",
      "prof        0.173774\n",
      "plan        0.203375\n",
      "lartpc     19.511203\n",
      "larrout    10.060977\n",
      "surf        0.171545\n",
      "infra       0.482181\n",
      "situ        0.443128\n",
      "env1       15.027314\n",
      "vma        85.457720\n",
      "dtype: float64 \n",
      "\n",
      "users\n",
      " Num_Acc         0.000000\n",
      "place           4.906241\n",
      "catu            0.000000\n",
      "grav            0.000000\n",
      "sexe            0.000000\n",
      "trajet          0.019684\n",
      "secu           16.893474\n",
      "locp            2.245798\n",
      "actp            2.249823\n",
      "etatp           2.248069\n",
      "an_nais         0.218559\n",
      "num_veh         0.000000\n",
      "id_vehicule    85.359337\n",
      "secu1          85.359337\n",
      "secu2          85.359337\n",
      "secu3          85.359337\n",
      "dtype: float64 \n",
      "\n",
      "vehicles\n",
      " Num_Acc         0.000000\n",
      "senc            0.014204\n",
      "catv            0.000000\n",
      "occutc         14.456823\n",
      "obs             0.052535\n",
      "obsm            0.040629\n",
      "choc            0.020732\n",
      "manv            0.024440\n",
      "num_veh         0.000000\n",
      "id_vehicule    85.425312\n",
      "motor          85.425312\n",
      "dtype: float64 \n",
      "\n"
     ]
    }
   ],
   "source": [
    "for this_category, df in dict_of_category_dfs.items():\n",
    "    print(this_category+'\\n', na_percentage(df),'\\n')"
   ]
  },
  {
   "cell_type": "markdown",
   "id": "a875a7d1",
   "metadata": {},
   "source": [
    "## Users Dataset"
   ]
  },
  {
   "cell_type": "markdown",
   "id": "b0b6322f",
   "metadata": {},
   "source": [
    "Dropping unwanted columns , which are num_veh , and id_vehicule\n"
   ]
  },
  {
   "cell_type": "code",
   "execution_count": 18,
   "id": "2cead464",
   "metadata": {},
   "outputs": [],
   "source": [
    "users = users.drop(columns=['num_veh','id_vehicule']) #Not needed"
   ]
  },
  {
   "cell_type": "code",
   "execution_count": 19,
   "id": "f0331147",
   "metadata": {},
   "outputs": [],
   "source": [
    "users = users[users['grav'] != -1]"
   ]
  },
  {
   "cell_type": "code",
   "execution_count": 20,
   "id": "72a54533",
   "metadata": {
    "lines_to_next_cell": 2
   },
   "outputs": [],
   "source": [
    "#Place\n",
    "\n",
    "users.place.value_counts()\n",
    "users.place.fillna(1,inplace=True) #replace is with mode\n",
    "users.place.replace(to_replace=-1,value=0,inplace=True) #-1 is unassigned , will put 0 unknown #Same result"
   ]
  },
  {
   "cell_type": "code",
   "execution_count": 21,
   "id": "0f873835",
   "metadata": {},
   "outputs": [],
   "source": [
    "#Trajet\n",
    "\n",
    "users.trajet.replace(to_replace=-1,value=0,inplace=True) #-1 is unassigned , will put 0 unknown #Same result\n",
    "users.trajet.fillna(5,inplace=True) #replace is with mode"
   ]
  },
  {
   "cell_type": "code",
   "execution_count": 22,
   "id": "2b173b02",
   "metadata": {},
   "outputs": [],
   "source": [
    "#locp\n",
    "\n",
    "users.locp.replace(to_replace=-1,value=0,inplace=True) #-1 is unassigned , will put 0 unknown #Same result\n",
    "users.locp.value_counts()\n",
    "users.locp.fillna(0,inplace=True) #replace is with mode"
   ]
  },
  {
   "cell_type": "code",
   "execution_count": 23,
   "id": "b2c591d5",
   "metadata": {},
   "outputs": [],
   "source": [
    "#actp\n",
    "\n",
    "users.actp.replace(to_replace=['B'],value=0,inplace=True)#-1,B is unassigned , will put 0 unknown #Same result\n",
    "users.actp.replace(to_replace=' -1',value=0,inplace=True)\n",
    "users.actp.replace(to_replace=['A'],value=8,inplace=True) #A is coming in/out of vehicule , will put 8 instead (int)\n",
    "users.actp.fillna(0,inplace=True) #replace is with mode\n",
    "\n",
    "users.actp.replace(to_replace='0',value=0,inplace=True)\n",
    "users.actp.replace(to_replace='1',value=1,inplace=True)\n",
    "users.actp.replace(to_replace='2',value=2,inplace=True)\n",
    "users.actp.replace(to_replace='3',value=3,inplace=True)\n",
    "users.actp.replace(to_replace='4',value=4,inplace=True)\n",
    "users.actp.replace(to_replace='5',value=5,inplace=True)\n",
    "users.actp.replace(to_replace='6',value=6,inplace=True)\n",
    "users.actp.replace(to_replace='7',value=7,inplace=True)\n",
    "users.actp.replace(to_replace='8',value=8,inplace=True)\n",
    "users.actp.replace(to_replace='9',value=9,inplace=True)"
   ]
  },
  {
   "cell_type": "code",
   "execution_count": 24,
   "id": "e1643633",
   "metadata": {},
   "outputs": [],
   "source": [
    "#etatp\n",
    "\n",
    "users.etatp.replace(to_replace=-1,value=0,inplace=True) #-1, is unassigned , will put 0 unknown #Same result\n",
    "users.etatp.isna().sum() #119291\n",
    "users.etatp.value_counts() \n",
    "users.etatp.fillna(0,inplace=True) #replace is with mode"
   ]
  },
  {
   "cell_type": "code",
   "execution_count": 25,
   "id": "7f65bfac",
   "metadata": {},
   "outputs": [],
   "source": [
    "#an_nais\n",
    "\n",
    "users.an_nais.isna().sum() #10080\n",
    "users.an_nais.value_counts() \n",
    "users.an_nais.fillna(1986.0,inplace=True)\n",
    "#replace is with mode #the first 5 values of value_counts are close to each other\n"
   ]
  },
  {
   "cell_type": "code",
   "execution_count": 26,
   "id": "dea9a217",
   "metadata": {},
   "outputs": [],
   "source": [
    "users.drop(columns='secu3',inplace=True)"
   ]
  },
  {
   "cell_type": "markdown",
   "id": "aca883ef",
   "metadata": {},
   "source": [
    "# Fixing incoherency of 'secu' Variable\n",
    "Safety equipment until 2018 was in 2 variables: existence and use.\n",
    "\n",
    "From 2019, it is the use with up to 3 possible equipments for the same user\n",
    "(especially for motorcyclists whose helmet and gloves are mandatory).\n",
    "\n",
    "# secu1\n",
    "The character information indicates the presence and use of the safety equipment:\n",
    "-1 - No information\n",
    "0 - No equipment\n",
    "1 - Belt\n",
    "2 - Helmet\n",
    "3 - Children device\n",
    "4 - Reflective vest\n",
    "5 - Airbag (2WD/3WD)\n",
    "6 - Gloves (2WD/3WD)\n",
    "7 - Gloves + Airbag (2WD/3WD)\n",
    "8 - Non-determinable\n",
    "9 - Other\n",
    "\n",
    "# secu2\n",
    "The character information indicates the presence and use of the safety equipment\n",
    "\n",
    "# secu3\n",
    "The character information indicates the presence and use of safety equipment\n"
   ]
  },
  {
   "cell_type": "code",
   "execution_count": 27,
   "id": "13d41880",
   "metadata": {},
   "outputs": [
    {
     "data": {
      "text/plain": [
       "Num_Acc     0.000000\n",
       "place       0.000000\n",
       "catu        0.000000\n",
       "grav        0.000000\n",
       "sexe        0.000000\n",
       "trajet      0.000000\n",
       "secu       16.891487\n",
       "locp        0.000000\n",
       "actp        0.000000\n",
       "etatp       0.000000\n",
       "an_nais     0.000000\n",
       "secu1      85.361378\n",
       "secu2      85.361378\n",
       "dtype: float64"
      ]
     },
     "execution_count": 27,
     "metadata": {},
     "output_type": "execute_result"
    }
   ],
   "source": [
    "na_percentage(users)"
   ]
  },
  {
   "cell_type": "markdown",
   "id": "f7b62a95",
   "metadata": {},
   "source": [
    "## Places Dataset"
   ]
  },
  {
   "cell_type": "code",
   "execution_count": 28,
   "id": "be6e4454",
   "metadata": {},
   "outputs": [
    {
     "data": {
      "text/html": [
       "<div>\n",
       "<style scoped>\n",
       "    .dataframe tbody tr th:only-of-type {\n",
       "        vertical-align: middle;\n",
       "    }\n",
       "\n",
       "    .dataframe tbody tr th {\n",
       "        vertical-align: top;\n",
       "    }\n",
       "\n",
       "    .dataframe thead th {\n",
       "        text-align: right;\n",
       "    }\n",
       "</style>\n",
       "<table border=\"1\" class=\"dataframe\">\n",
       "  <thead>\n",
       "    <tr style=\"text-align: right;\">\n",
       "      <th></th>\n",
       "      <th>Num_Acc</th>\n",
       "      <th>Rd_Cat</th>\n",
       "      <th>Traf_Direct</th>\n",
       "      <th>Lanes</th>\n",
       "      <th>Landmark</th>\n",
       "      <th>Dist_to_Landmark</th>\n",
       "      <th>Add_Lanes</th>\n",
       "      <th>Rd_Prof</th>\n",
       "      <th>Rd_Plan</th>\n",
       "      <th>Gre_Verge</th>\n",
       "      <th>Rd_Width</th>\n",
       "      <th>Rd_Cond</th>\n",
       "      <th>Envinmt</th>\n",
       "      <th>Pos_Acc</th>\n",
       "    </tr>\n",
       "  </thead>\n",
       "  <tbody>\n",
       "    <tr>\n",
       "      <th>0</th>\n",
       "      <td>200500000001</td>\n",
       "      <td>3.0</td>\n",
       "      <td>2.0</td>\n",
       "      <td>2.0</td>\n",
       "      <td>1.0</td>\n",
       "      <td>430.0</td>\n",
       "      <td>0.0</td>\n",
       "      <td>1.0</td>\n",
       "      <td>1.0</td>\n",
       "      <td>0</td>\n",
       "      <td>63</td>\n",
       "      <td>1.0</td>\n",
       "      <td>0.0</td>\n",
       "      <td>1.0</td>\n",
       "    </tr>\n",
       "    <tr>\n",
       "      <th>1</th>\n",
       "      <td>200500000002</td>\n",
       "      <td>2.0</td>\n",
       "      <td>0.0</td>\n",
       "      <td>2.0</td>\n",
       "      <td>0.0</td>\n",
       "      <td>0.0</td>\n",
       "      <td>1.0</td>\n",
       "      <td>1.0</td>\n",
       "      <td>1.0</td>\n",
       "      <td>0</td>\n",
       "      <td>100</td>\n",
       "      <td>1.0</td>\n",
       "      <td>0.0</td>\n",
       "      <td>5.0</td>\n",
       "    </tr>\n",
       "    <tr>\n",
       "      <th>2</th>\n",
       "      <td>200500000003</td>\n",
       "      <td>2.0</td>\n",
       "      <td>0.0</td>\n",
       "      <td>0.0</td>\n",
       "      <td>0.0</td>\n",
       "      <td>0.0</td>\n",
       "      <td>1.0</td>\n",
       "      <td>1.0</td>\n",
       "      <td>1.0</td>\n",
       "      <td>0</td>\n",
       "      <td>0</td>\n",
       "      <td>2.0</td>\n",
       "      <td>0.0</td>\n",
       "      <td>5.0</td>\n",
       "    </tr>\n",
       "    <tr>\n",
       "      <th>3</th>\n",
       "      <td>200500000004</td>\n",
       "      <td>3.0</td>\n",
       "      <td>2.0</td>\n",
       "      <td>2.0</td>\n",
       "      <td>0.0</td>\n",
       "      <td>0.0</td>\n",
       "      <td>0.0</td>\n",
       "      <td>1.0</td>\n",
       "      <td>1.0</td>\n",
       "      <td>0</td>\n",
       "      <td>0</td>\n",
       "      <td>1.0</td>\n",
       "      <td>0.0</td>\n",
       "      <td>1.0</td>\n",
       "    </tr>\n",
       "    <tr>\n",
       "      <th>4</th>\n",
       "      <td>200500000005</td>\n",
       "      <td>3.0</td>\n",
       "      <td>2.0</td>\n",
       "      <td>2.0</td>\n",
       "      <td>24.0</td>\n",
       "      <td>630.0</td>\n",
       "      <td>0.0</td>\n",
       "      <td>1.0</td>\n",
       "      <td>3.0</td>\n",
       "      <td>0</td>\n",
       "      <td>59</td>\n",
       "      <td>2.0</td>\n",
       "      <td>0.0</td>\n",
       "      <td>3.0</td>\n",
       "    </tr>\n",
       "  </tbody>\n",
       "</table>\n",
       "</div>"
      ],
      "text/plain": [
       "        Num_Acc  Rd_Cat  Traf_Direct  Lanes Landmark Dist_to_Landmark  \\\n",
       "0  200500000001     3.0          2.0    2.0      1.0            430.0   \n",
       "1  200500000002     2.0          0.0    2.0      0.0              0.0   \n",
       "2  200500000003     2.0          0.0    0.0      0.0              0.0   \n",
       "3  200500000004     3.0          2.0    2.0      0.0              0.0   \n",
       "4  200500000005     3.0          2.0    2.0     24.0            630.0   \n",
       "\n",
       "   Add_Lanes  Rd_Prof  Rd_Plan Gre_Verge Rd_Width  Rd_Cond  Envinmt  Pos_Acc  \n",
       "0        0.0      1.0      1.0         0       63      1.0      0.0      1.0  \n",
       "1        1.0      1.0      1.0         0      100      1.0      0.0      5.0  \n",
       "2        1.0      1.0      1.0         0        0      2.0      0.0      5.0  \n",
       "3        0.0      1.0      1.0         0        0      1.0      0.0      1.0  \n",
       "4        0.0      1.0      3.0         0       59      2.0      0.0      3.0  "
      ]
     },
     "execution_count": 28,
     "metadata": {},
     "output_type": "execute_result"
    }
   ],
   "source": [
    "# Change french names against english names (Teamdecision)\n",
    "# Droped 'Unnamed: 0','v1','v2','vma', because they contained no information.\n",
    "\n",
    "places = places.drop(['v1','v2','vma','voie','env1'], axis = 1)\n",
    "places = places.rename(columns = {'catr' : 'Rd_Cat', 'circ' : 'Traf_Direct' , 'nbv' : 'Lanes' ,\n",
    "                           'pr' : 'Landmark' , 'pr1' : 'Dist_to_Landmark', 'vosp' : 'Add_Lanes', 'prof' : 'Rd_Prof' ,\n",
    "                          'plan' : 'Rd_Plan' , 'lartpc' : 'Gre_Verge' , 'larrout' : 'Rd_Width', 'surf' : 'Rd_Cond',\n",
    "                          'infra' : 'Envinmt' , 'situ' : 'Pos_Acc'})\n",
    "places.head()"
   ]
  },
  {
   "cell_type": "markdown",
   "id": "f354b284",
   "metadata": {},
   "source": [
    "### Change Nans against zeros"
   ]
  },
  {
   "cell_type": "markdown",
   "id": "45ec8b3c",
   "metadata": {},
   "source": [
    "Set most empty varibles to Zero / Null, because its for all vaiables not in use and can be defined as not applicable.\n",
    "\n",
    "9 Variables have <= 1% missing information, so for those it should be fine to set the missing information just tu zero.\n",
    "In addition, the recorded data are not suitable for filling the NaNs with, for example, the mean value, since this is almost exclusively about describing states.\n",
    "\n",
    "Hoped to fill up the missing information for Rd_Width with a comparsion Rd_Nr vs. Rd_Width, but it turns out that the same street has different widths.\n",
    "\n",
    "Nr_n_Width = places[['Rd_Nr','Rd_Width','Gre_Verge']]#comparsion Rd_Nr vs. Rd_Width. Same for Gre_Verge.\n",
    "Nr_n_Width.head()\n",
    "\n",
    "Landmark and Dist_to_Landmark are information to localize an accident. Nearly 50% of the Data are missing but I will keep the Data. Maybe it will be usefull to complete some location data.\n",
    "\n",
    "Missing information of Rd_Nr, biggest problem is that later in the Datasets they changed input of numbers against names. So I need a list which says which street is which number. I will drop the variable, it turns out useless.\n",
    "\n",
    "For column school there are 3 Types of information 99.0 / 0.0 and 3.0, according to the description the variable schools should only contain 1 or 2 so if it is or not near by a school.\n",
    "I can't find a logical and reliable way to replace the data. So I will drop them\n",
    "In 2019 they droped this column and start with speed limits. Its a importent information but I cant use it in this format. I will drop it for the moment.\n",
    "Code\n",
    "sns.countplot( x = places.School)"
   ]
  },
  {
   "cell_type": "code",
   "execution_count": 29,
   "id": "0d6db64c",
   "metadata": {
    "lines_to_next_cell": 2
   },
   "outputs": [],
   "source": [
    "\n",
    "places['Rd_Cat'] = places['Rd_Cat'].fillna(0.0)\n",
    "places['Traf_Direct'] = places['Traf_Direct'].fillna(0.0)\n",
    "places['Lanes'] = places['Lanes'].fillna(0.0)\n",
    "places['Landmark'] = places['Landmark'].fillna(0.0)\n",
    "places['Dist_to_Landmark'] = places['Dist_to_Landmark'].fillna(0.0)\n",
    "places['Add_Lanes'] = places['Add_Lanes'].fillna(0.0)\n",
    "places['Rd_Prof'] = places['Rd_Prof'].fillna(0.0)\n",
    "places['Rd_Plan'] = places['Rd_Plan'].fillna(0.0)\n",
    "places['Gre_Verge'] = places['Gre_Verge'].fillna(0.0)\n",
    "places['Rd_Width'] = places['Rd_Width'].fillna(0.0)\n",
    "places['Rd_Cond'] = places['Rd_Cond'].fillna(0.0)\n",
    "places['Envinmt'] = places['Envinmt'].fillna(0.0)\n",
    "places['Pos_Acc'] = places['Pos_Acc'].fillna(0.0)"
   ]
  },
  {
   "cell_type": "code",
   "execution_count": 30,
   "id": "2bbce358",
   "metadata": {},
   "outputs": [
    {
     "name": "stdout",
     "output_type": "stream",
     "text": [
      "Num_Acc             0\n",
      "Rd_Cat              0\n",
      "Traf_Direct         0\n",
      "Lanes               0\n",
      "Landmark            0\n",
      "Dist_to_Landmark    0\n",
      "Add_Lanes           0\n",
      "Rd_Prof             0\n",
      "Rd_Plan             0\n",
      "Gre_Verge           0\n",
      "Rd_Width            0\n",
      "Rd_Cond             0\n",
      "Envinmt             0\n",
      "Pos_Acc             0\n",
      "dtype: int64\n",
      "\n",
      "<class 'pandas.core.frame.DataFrame'>\n",
      "RangeIndex: 1121571 entries, 0 to 1121570\n",
      "Data columns (total 14 columns):\n",
      " #   Column            Non-Null Count    Dtype\n",
      "---  ------            --------------    -----\n",
      " 0   Num_Acc           1121571 non-null  int64\n",
      " 1   Rd_Cat            1121571 non-null  int32\n",
      " 2   Traf_Direct       1121571 non-null  int32\n",
      " 3   Lanes             1121571 non-null  int32\n",
      " 4   Landmark          1121571 non-null  int32\n",
      " 5   Dist_to_Landmark  1121571 non-null  int32\n",
      " 6   Add_Lanes         1121571 non-null  int32\n",
      " 7   Rd_Prof           1121571 non-null  int32\n",
      " 8   Rd_Plan           1121571 non-null  int32\n",
      " 9   Gre_Verge         1121571 non-null  int32\n",
      " 10  Rd_Width          1121571 non-null  int32\n",
      " 11  Rd_Cond           1121571 non-null  int32\n",
      " 12  Envinmt           1121571 non-null  int32\n",
      " 13  Pos_Acc           1121571 non-null  int32\n",
      "dtypes: int32(13), int64(1)\n",
      "memory usage: 64.2 MB\n",
      "None\n",
      "\n",
      "(1121571, 14)\n"
     ]
    }
   ],
   "source": [
    "# Convert object to float\n",
    "places['Landmark'] = pd.to_numeric(places['Landmark'],errors = 'coerce')\n",
    "places['Dist_to_Landmark'] = pd.to_numeric(places['Dist_to_Landmark'],errors = 'coerce')\n",
    "places['Gre_Verge'] = pd.to_numeric(places['Gre_Verge'],errors = 'coerce')\n",
    "places['Rd_Width'] = pd.to_numeric(places['Rd_Width'],errors = 'coerce')\n",
    "\n",
    "# replace empty cells with nans\n",
    "places.replace('', np.nan)\n",
    "places = places.copy()\n",
    "\n",
    "# fill nans with 0\n",
    "places['Landmark'] = places['Landmark'].fillna(0.0)\n",
    "places['Dist_to_Landmark'] = places['Dist_to_Landmark'].fillna(0.0)\n",
    "places['Gre_Verge'] = places['Gre_Verge'].fillna(0.0)\n",
    "places['Rd_Width'] = places['Rd_Width'].fillna(0.0)\n",
    "\n",
    "# Convert float to int\n",
    "places['Rd_Cat'] = places['Rd_Cat'].astype(int, errors = 'raise')\n",
    "places['Traf_Direct'] = places['Traf_Direct'].astype(int, errors = 'raise')\n",
    "places['Lanes'] = places['Lanes'].astype(int, errors = 'raise')\n",
    "places['Landmark'] = places['Landmark'].astype(int, errors = 'raise')\n",
    "places['Dist_to_Landmark'] = places['Dist_to_Landmark'].astype(int, errors = 'raise')\n",
    "places['Add_Lanes'] = places['Add_Lanes'].astype(int, errors = 'raise')\n",
    "places['Rd_Prof'] = places['Rd_Prof'].astype(int, errors = 'raise')\n",
    "places['Rd_Plan'] = places['Rd_Plan'].astype(int, errors = 'raise')\n",
    "places['Gre_Verge'] = places['Gre_Verge'].astype(int, errors = 'raise')\n",
    "places['Rd_Width'] = places['Rd_Width'].astype(int, errors = 'raise')\n",
    "places['Rd_Cond'] = places['Rd_Cond'].astype(int, errors = 'raise')\n",
    "places['Envinmt'] = places['Envinmt'].astype(int, errors = 'raise')\n",
    "places['Pos_Acc'] = places['Pos_Acc'].astype(int, errors = 'raise')\n",
    "\n",
    "print(places.isna().sum())\n",
    "print()\n",
    "print(places.info())\n",
    "print()\n",
    "print(places.shape)#it appears that there is a problem with the shape of the df (couldnt normalize) ValueError: Found array with dim 3. the normalize function expected <= 2.\n"
   ]
  },
  {
   "cell_type": "markdown",
   "id": "145546e1",
   "metadata": {},
   "source": [
    "## Characteristics Dataset"
   ]
  },
  {
   "cell_type": "markdown",
   "id": "00dd3aa1",
   "metadata": {},
   "source": [
    "### Translate variable names from French to English"
   ]
  },
  {
   "cell_type": "code",
   "execution_count": 31,
   "id": "bdad1e24",
   "metadata": {},
   "outputs": [],
   "source": [
    "# Translation of the variable nacmes from French to English, also improving the names so that it becomes clearer, what they are about\n",
    "characteristics.rename(columns={'an': 'year', 'mois':'month', 'jour': 'day', 'hrmn':'hhmm', \n",
    "                                'lum': 'daylight', 'agg': 'built-up_area', 'int':'intersection_category', 'atm': 'atmospheric_conditions',\n",
    "                                'col': 'collision_category', 'com': 'municipality', 'adr':'adress', 'gps': 'gps_origin', 'lat': 'latitude',\n",
    "                                'long': 'longitude', 'dep': 'department'}, inplace=True)\n",
    "\n",
    "# Change the values for 'built-up_area' to make it more understandable, 1 means the accident happened in a built-up area and 0 means happened elsewhere. \n",
    "characteristics['built-up_area'].replace({1:0, 2:1}, inplace=True)"
   ]
  },
  {
   "cell_type": "markdown",
   "id": "cda51fe6",
   "metadata": {},
   "source": [
    "### Fixing incoherent format of year variable"
   ]
  },
  {
   "cell_type": "code",
   "execution_count": 32,
   "id": "469840c5",
   "metadata": {},
   "outputs": [
    {
     "data": {
      "text/plain": [
       "5       87026\n",
       "7       83850\n",
       "6       82993\n",
       "8       76767\n",
       "9       74409\n",
       "10      69379\n",
       "11      66974\n",
       "12      62250\n",
       "17      60701\n",
       "14      59854\n",
       "16      59432\n",
       "2019    58840\n",
       "15      58654\n",
       "13      58397\n",
       "18      57783\n",
       "2021    56518\n",
       "2020    47744\n",
       "Name: year, dtype: int64"
      ]
     },
     "execution_count": 32,
     "metadata": {},
     "output_type": "execute_result"
    }
   ],
   "source": [
    "characteristics['year'].value_counts()"
   ]
  },
  {
   "cell_type": "markdown",
   "id": "12d1d37d",
   "metadata": {},
   "source": [
    "The year format is inconsistent. Until 2018, the year was relative to the year 2000, e.g. \"5\" for 2005. This changed, however, in 2019 which was labeled as 2019.\n",
    "We will change the year format to YYYY."
   ]
  },
  {
   "cell_type": "code",
   "execution_count": 33,
   "id": "b77e5bc3",
   "metadata": {},
   "outputs": [],
   "source": [
    "characteristics['year'].replace({5:2005, 6:2006, 7:2007, 8:2008, 9:2009, 10:2010, 11:2011,\n",
    "                                                         12:2012, 13:2013, 14:2014, 15:2015, 16:2016, 17:2017, 18:2018}, inplace=True)"
   ]
  },
  {
   "cell_type": "markdown",
   "id": "d7b715bc",
   "metadata": {},
   "source": [
    "#### Check"
   ]
  },
  {
   "cell_type": "code",
   "execution_count": 34,
   "id": "23601b0a",
   "metadata": {},
   "outputs": [
    {
     "data": {
      "text/plain": [
       "2005    87026\n",
       "2007    83850\n",
       "2006    82993\n",
       "2008    76767\n",
       "2009    74409\n",
       "2010    69379\n",
       "2011    66974\n",
       "2012    62250\n",
       "2017    60701\n",
       "2014    59854\n",
       "2016    59432\n",
       "2019    58840\n",
       "2015    58654\n",
       "2013    58397\n",
       "2018    57783\n",
       "2021    56518\n",
       "2020    47744\n",
       "Name: year, dtype: int64"
      ]
     },
     "execution_count": 34,
     "metadata": {},
     "output_type": "execute_result"
    }
   ],
   "source": [
    "characteristics['year'].value_counts()"
   ]
  },
  {
   "cell_type": "markdown",
   "id": "46dacfbd",
   "metadata": {},
   "source": [
    "### Fix inconsistent time format"
   ]
  },
  {
   "cell_type": "markdown",
   "id": "4fbfd015",
   "metadata": {},
   "source": [
    "The time format inconsistent, sometimes it is hhmm, and sometimes hh:mm. We will therefore remove any \":\" from the column "
   ]
  },
  {
   "cell_type": "code",
   "execution_count": 35,
   "id": "6573804e",
   "metadata": {
    "lines_to_next_cell": 2
   },
   "outputs": [],
   "source": [
    "#remove ':' from hhmm\n",
    "characteristics['hhmm'] = characteristics['hhmm'].apply(lambda s: int(str(s).replace(':','')))"
   ]
  },
  {
   "cell_type": "markdown",
   "id": "9dc4a0a3",
   "metadata": {},
   "source": [
    "### Get weekday and weekend feature"
   ]
  },
  {
   "cell_type": "code",
   "execution_count": 36,
   "id": "7a5ea1b6",
   "metadata": {},
   "outputs": [],
   "source": [
    "characteristics['date'] = pd.to_datetime({'year':characteristics['year'],\n",
    "                                                                 'month':dict_of_category_dfs['characteristics']['month'],\n",
    "                                                                 'day':dict_of_category_dfs['characteristics']['day']})"
   ]
  },
  {
   "cell_type": "code",
   "execution_count": 37,
   "id": "2066fad3",
   "metadata": {},
   "outputs": [],
   "source": [
    "# New variable: weekday, integer from 0 to 6 representing the weekdays from monday to sunday.\n",
    "characteristics['day_of_week'] = dict_of_category_dfs['characteristics']['date'].apply(lambda x: x.day_of_week)\n",
    "\n",
    "# New binary variable: is_weekend, 0 for monday to friday and 1 for saturday and sunday\n",
    "characteristics['is_weekend'] = (dict_of_category_dfs['characteristics']['day_of_week'] > 4).astype('int')"
   ]
  },
  {
   "cell_type": "markdown",
   "id": "83ce6319",
   "metadata": {},
   "source": [
    "### Remove trailing zeroes from Department variable\n",
    "The Department codes are followed by a zero for the years 2005--2018, which has no practical use for us. We will therefore eliminate these trailing zeroes.\n",
    "Also, since 2019 all the data is saved as strings. We will convert everything to strings, as this is nominal data, we will not make any calculations with it."
   ]
  },
  {
   "cell_type": "code",
   "execution_count": 38,
   "id": "3803960e",
   "metadata": {},
   "outputs": [],
   "source": [
    "def department_converter(dep):\n",
    "    # Takes in a department code as int and returns a string\n",
    "    # e.g. 750 will be '75' for Paris\n",
    "    # and 201 will be '2B'\n",
    "    if dep == 201:\n",
    "        return '2A'\n",
    "    elif dep == 202:\n",
    "        return '2B'\n",
    "    elif dep>970:\n",
    "        return str(dep)\n",
    "    else:\n",
    "        return str(dep).rstrip('0')\n",
    "\n",
    "characteristics.loc[(np.less(characteristics['year'],2019)),'department'] = \\\n",
    "    characteristics[(np.less(characteristics['year'],2019))]['department'].apply(department_converter)"
   ]
  },
  {
   "cell_type": "markdown",
   "id": "8a248e66",
   "metadata": {},
   "source": [
    "### Remove leading zeros from department code\n",
    "The dataset from 2021 contains leading zeroes for the department codes 1 to 9. These have to be replaced."
   ]
  },
  {
   "cell_type": "code",
   "execution_count": 39,
   "id": "a11fe9a1",
   "metadata": {},
   "outputs": [],
   "source": [
    "characteristics['department'] = characteristics['department'].apply(lambda code: code.lstrip('0'))"
   ]
  },
  {
   "cell_type": "markdown",
   "id": "2211c9fd",
   "metadata": {},
   "source": [
    "# Merge all datasets"
   ]
  },
  {
   "cell_type": "markdown",
   "id": "c3708982",
   "metadata": {},
   "source": [
    "## Compute the percentage of missing data"
   ]
  },
  {
   "cell_type": "code",
   "execution_count": 40,
   "id": "a02d4099",
   "metadata": {},
   "outputs": [],
   "source": [
    "outer_df = characteristics.merge(right=places, how='outer').merge(users, how='outer').merge(vehicles, how='outer')"
   ]
  },
  {
   "cell_type": "code",
   "execution_count": 41,
   "id": "c3aeae4a",
   "metadata": {},
   "outputs": [
    {
     "name": "stdout",
     "output_type": "stream",
     "text": [
      "number of rows:........4763131\n",
      "number of variables:...54\n"
     ]
    },
    {
     "data": {
      "text/plain": [
       "Num_Acc                    0.000000\n",
       "year                       0.000000\n",
       "month                      0.000000\n",
       "day                        0.000000\n",
       "hhmm                       0.000000\n",
       "daylight                   0.000000\n",
       "built-up_area              0.000000\n",
       "intersection_category      0.000000\n",
       "atmospheric_conditions     0.005522\n",
       "collision_category         0.001994\n",
       "municipality               0.000336\n",
       "adress                    14.200680\n",
       "gps_origin                56.131251\n",
       "latitude                  42.306710\n",
       "longitude                 42.307129\n",
       "department                 0.000000\n",
       "date                       0.000000\n",
       "day_of_week                0.000000\n",
       "is_weekend                 0.000000\n",
       "Rd_Cat                     0.000000\n",
       "Traf_Direct                0.000000\n",
       "Lanes                      0.000000\n",
       "Landmark                   0.000000\n",
       "Dist_to_Landmark           0.000000\n",
       "Add_Lanes                  0.000000\n",
       "Rd_Prof                    0.000000\n",
       "Rd_Plan                    0.000000\n",
       "Gre_Verge                  0.000000\n",
       "Rd_Width                   0.000000\n",
       "Rd_Cond                    0.000000\n",
       "Envinmt                    0.000000\n",
       "Pos_Acc                    0.000000\n",
       "place                      0.000000\n",
       "catu                       0.000000\n",
       "grav                       0.000000\n",
       "sexe                       0.000000\n",
       "trajet                     0.000000\n",
       "secu                      15.964289\n",
       "locp                       0.000000\n",
       "actp                       0.000000\n",
       "etatp                      0.000000\n",
       "an_nais                    0.000000\n",
       "secu1                     85.296289\n",
       "secu2                     85.296289\n",
       "senc                       0.012240\n",
       "catv                       0.000000\n",
       "occutc                    14.563278\n",
       "obs                        0.087589\n",
       "obsm                       0.043396\n",
       "choc                       0.030610\n",
       "manv                       0.054964\n",
       "num_veh                    0.000000\n",
       "id_vehicule               85.296289\n",
       "motor                     85.296289\n",
       "dtype: float64"
      ]
     },
     "execution_count": 41,
     "metadata": {},
     "output_type": "execute_result"
    }
   ],
   "source": [
    "print(f'number of rows:........{outer_df.shape[0]}')\n",
    "print(f'number of variables:...{outer_df.shape[1]}')\n",
    "na_percentage(outer_df)"
   ]
  },
  {
   "cell_type": "markdown",
   "id": "39d250aa",
   "metadata": {},
   "source": [
    "## Left Join for further investigations\n",
    "We will continue working with the left join of the data, as the missing lines miss the most important variables anyway."
   ]
  },
  {
   "cell_type": "code",
   "execution_count": 42,
   "id": "c0cd0c7c",
   "metadata": {},
   "outputs": [
    {
     "name": "stdout",
     "output_type": "stream",
     "text": [
      "<class 'pandas.core.frame.DataFrame'>\n",
      "Int64Index: 4763131 entries, 0 to 4763130\n",
      "Data columns (total 54 columns):\n",
      " #   Column                  Dtype         \n",
      "---  ------                  -----         \n",
      " 0   Num_Acc                 int64         \n",
      " 1   year                    int64         \n",
      " 2   month                   int64         \n",
      " 3   day                     int64         \n",
      " 4   hhmm                    int64         \n",
      " 5   daylight                int64         \n",
      " 6   built-up_area           int64         \n",
      " 7   intersection_category   int64         \n",
      " 8   atmospheric_conditions  float64       \n",
      " 9   collision_category      float64       \n",
      " 10  municipality            object        \n",
      " 11  adress                  object        \n",
      " 12  gps_origin              object        \n",
      " 13  latitude                object        \n",
      " 14  longitude               object        \n",
      " 15  department              object        \n",
      " 16  date                    datetime64[ns]\n",
      " 17  day_of_week             int64         \n",
      " 18  is_weekend              int32         \n",
      " 19  Rd_Cat                  int32         \n",
      " 20  Traf_Direct             int32         \n",
      " 21  Lanes                   int32         \n",
      " 22  Landmark                int32         \n",
      " 23  Dist_to_Landmark        int32         \n",
      " 24  Add_Lanes               int32         \n",
      " 25  Rd_Prof                 int32         \n",
      " 26  Rd_Plan                 int32         \n",
      " 27  Gre_Verge               int32         \n",
      " 28  Rd_Width                int32         \n",
      " 29  Rd_Cond                 int32         \n",
      " 30  Envinmt                 int32         \n",
      " 31  Pos_Acc                 int32         \n",
      " 32  place                   float64       \n",
      " 33  catu                    int64         \n",
      " 34  grav                    int64         \n",
      " 35  sexe                    int64         \n",
      " 36  trajet                  float64       \n",
      " 37  secu                    float64       \n",
      " 38  locp                    float64       \n",
      " 39  actp                    float64       \n",
      " 40  etatp                   float64       \n",
      " 41  an_nais                 float64       \n",
      " 42  secu1                   float64       \n",
      " 43  secu2                   float64       \n",
      " 44  senc                    float64       \n",
      " 45  catv                    int64         \n",
      " 46  occutc                  float64       \n",
      " 47  obs                     float64       \n",
      " 48  obsm                    float64       \n",
      " 49  choc                    float64       \n",
      " 50  manv                    float64       \n",
      " 51  num_veh                 object        \n",
      " 52  id_vehicule             object        \n",
      " 53  motor                   float64       \n",
      "dtypes: datetime64[ns](1), float64(18), int32(14), int64(13), object(8)\n",
      "memory usage: 1.7+ GB\n",
      "None\n",
      "Num_Acc                    0.000000\n",
      "year                       0.000000\n",
      "month                      0.000000\n",
      "day                        0.000000\n",
      "hhmm                       0.000000\n",
      "daylight                   0.000000\n",
      "built-up_area              0.000000\n",
      "intersection_category      0.000000\n",
      "atmospheric_conditions     0.005522\n",
      "collision_category         0.001994\n",
      "municipality               0.000336\n",
      "adress                    14.200680\n",
      "gps_origin                56.131251\n",
      "latitude                  42.306710\n",
      "longitude                 42.307129\n",
      "department                 0.000000\n",
      "date                       0.000000\n",
      "day_of_week                0.000000\n",
      "is_weekend                 0.000000\n",
      "Rd_Cat                     0.000000\n",
      "Traf_Direct                0.000000\n",
      "Lanes                      0.000000\n",
      "Landmark                   0.000000\n",
      "Dist_to_Landmark           0.000000\n",
      "Add_Lanes                  0.000000\n",
      "Rd_Prof                    0.000000\n",
      "Rd_Plan                    0.000000\n",
      "Gre_Verge                  0.000000\n",
      "Rd_Width                   0.000000\n",
      "Rd_Cond                    0.000000\n",
      "Envinmt                    0.000000\n",
      "Pos_Acc                    0.000000\n",
      "place                      0.000000\n",
      "catu                       0.000000\n",
      "grav                       0.000000\n",
      "sexe                       0.000000\n",
      "trajet                     0.000000\n",
      "secu                      15.964289\n",
      "locp                       0.000000\n",
      "actp                       0.000000\n",
      "etatp                      0.000000\n",
      "an_nais                    0.000000\n",
      "secu1                     85.296289\n",
      "secu2                     85.296289\n",
      "senc                       0.012240\n",
      "catv                       0.000000\n",
      "occutc                    14.563278\n",
      "obs                        0.087589\n",
      "obsm                       0.043396\n",
      "choc                       0.030610\n",
      "manv                       0.054964\n",
      "num_veh                    0.000000\n",
      "id_vehicule               85.296289\n",
      "motor                     85.296289\n",
      "dtype: float64\n"
     ]
    }
   ],
   "source": [
    "df = characteristics.merge(right=places, how='left').merge(users, how='left').merge(vehicles, how='left')\n",
    "print(df.info())\n",
    "print(na_percentage(df))"
   ]
  },
  {
   "cell_type": "markdown",
   "id": "2b3397ec",
   "metadata": {},
   "source": [
    "## Correlation of the feature variables with the target"
   ]
  },
  {
   "cell_type": "code",
   "execution_count": 43,
   "id": "cf240d6d",
   "metadata": {},
   "outputs": [
    {
     "name": "stderr",
     "output_type": "stream",
     "text": [
      "C:\\Users\\kayla\\AppData\\Local\\Temp\\ipykernel_25488\\3744171401.py:1: FutureWarning: The default value of numeric_only in DataFrame.corr is deprecated. In a future version, it will default to False. Select only valid columns or specify the value of numeric_only to silence this warning.\n",
      "  cm=df.corr()\n"
     ]
    },
    {
     "data": {
      "text/plain": [
       "catu                      0.203111\n",
       "secu                      0.158592\n",
       "etatp                     0.147428\n",
       "actp                      0.143355\n",
       "locp                      0.142975\n",
       "secu1                     0.114054\n",
       "sexe                      0.105827\n",
       "an_nais                   0.100733\n",
       "secu2                     0.097307\n",
       "place                     0.078680\n",
       "obs                       0.062583\n",
       "Rd_Cat                    0.034771\n",
       "Pos_Acc                   0.028938\n",
       "daylight                  0.028005\n",
       "built-up_area             0.021556\n",
       "collision_category        0.019938\n",
       "Rd_Plan                   0.019036\n",
       "is_weekend                0.009014\n",
       "senc                      0.007661\n",
       "Rd_Cond                   0.006174\n",
       "day_of_week               0.004735\n",
       "catv                      0.003970\n",
       "motor                     0.003322\n",
       "Num_Acc                   0.002685\n",
       "year                      0.002684\n",
       "intersection_category     0.002268\n",
       "Rd_Prof                   0.001586\n",
       "day                       0.000326\n",
       "Landmark                  0.000041\n",
       "Add_Lanes                -0.001453\n",
       "month                    -0.001963\n",
       "occutc                   -0.003253\n",
       "Envinmt                  -0.003564\n",
       "atmospheric_conditions   -0.004391\n",
       "manv                     -0.010016\n",
       "Lanes                    -0.010333\n",
       "Gre_Verge                -0.012590\n",
       "hhmm                     -0.013173\n",
       "Rd_Width                 -0.016012\n",
       "Traf_Direct              -0.020050\n",
       "choc                     -0.021126\n",
       "Dist_to_Landmark         -0.024886\n",
       "trajet                   -0.034812\n",
       "obsm                     -0.042278\n",
       "Name: grav, dtype: float64"
      ]
     },
     "execution_count": 43,
     "metadata": {},
     "output_type": "execute_result"
    }
   ],
   "source": [
    "cm=df.corr()\n",
    "cm[\"grav\"].sort_values(ascending=False)[1:]"
   ]
  },
  {
   "cell_type": "markdown",
   "id": "0445cd7b",
   "metadata": {},
   "source": [
    "The list shows the correlation between each variables and the target variable. Note: The decision whether a variable is important or not has to be based on the absolute value of the correlation."
   ]
  },
  {
   "cell_type": "code",
   "execution_count": 44,
   "id": "07e4f342",
   "metadata": {},
   "outputs": [
    {
     "data": {
      "image/png": "[encoded data removed]",
      "text/plain": [
       "<Figure size 1400x1400 with 2 Axes>"
      ]
     },
     "metadata": {},
     "output_type": "display_data"
    }
   ],
   "source": [
    "plt.figure(figsize=(14,14));\n",
    "sns.heatmap(cm, annot=False);"
   ]
  },
  {
   "cell_type": "markdown",
   "id": "53932001",
   "metadata": {},
   "source": [
    "# Export DataFrame to Pickle \n",
    "This step is necessary to be able to work with the data in another notebook."
   ]
  },
  {
   "cell_type": "code",
   "execution_count": 45,
   "id": "5826aeca",
   "metadata": {},
   "outputs": [],
   "source": [
    "df.to_pickle('../data/df.p')"
   ]
  },
  {
   "cell_type": "markdown",
   "id": "2cc1df9b",
   "metadata": {},
   "source": [
    "The pickle file is too big to track on github, we will therefore create a second file which contains the output of the describe-method as well as the number of nans for each column and the dtypes of the DataFrame."
   ]
  },
  {
   "cell_type": "code",
   "execution_count": 46,
   "id": "796b8853",
   "metadata": {},
   "outputs": [],
   "source": [
    "df_check_info = pyfra.df_testing_info(df)\n",
    "df_check_info.to_csv('../data/df_check_info.csv')"
   ]
  }
 ],
 "metadata": {
  "jupytext": {
   "cell_metadata_filter": "-LanguageId",
   "formats": "ipynb,py:light",
   "main_language": "python",
   "notebook_metadata_filter": "-kernelspec"
  },
  "language_info": {
   "name": "python"
  }
 },
 "nbformat": 4,
 "nbformat_minor": 5
}
