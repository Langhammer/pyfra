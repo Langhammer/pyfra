{
 "cells": [
  {
   "cell_type": "markdown",
   "id": "7cd0365f",
   "metadata": {
    "papermill": {
     "duration": 0.040018,
     "end_time": "2023-02-08T10:18:09.551271",
     "exception": false,
     "start_time": "2023-02-08T10:18:09.511253",
     "status": "completed"
    },
    "tags": []
   },
   "source": [
    "Notebook 2\n",
    "==============\n",
    "Data Cleaning and Feature Engineering"
   ]
  },
  {
   "cell_type": "code",
   "execution_count": 1,
   "id": "63c6e318",
   "metadata": {
    "execution": {
     "iopub.execute_input": "2023-02-08T10:18:09.637802Z",
     "iopub.status.busy": "2023-02-08T10:18:09.636796Z",
     "iopub.status.idle": "2023-02-08T10:18:14.256781Z",
     "shell.execute_reply": "2023-02-08T10:18:14.254781Z"
    },
    "papermill": {
     "duration": 4.671989,
     "end_time": "2023-02-08T10:18:14.262794",
     "exception": false,
     "start_time": "2023-02-08T10:18:09.590805",
     "status": "completed"
    },
    "tags": []
   },
   "outputs": [],
   "source": [
    "import pandas as pd\n",
    "import numpy as np\n",
    "from matplotlib import pyplot as plt\n",
    "import pyfra\n",
    "import seaborn as sns"
   ]
  },
  {
   "cell_type": "markdown",
   "id": "1705e084",
   "metadata": {
    "papermill": {
     "duration": 0.038015,
     "end_time": "2023-02-08T10:18:14.347338",
     "exception": false,
     "start_time": "2023-02-08T10:18:14.309323",
     "status": "completed"
    },
    "tags": []
   },
   "source": [
    "# Data import & pulling\n",
    "\n",
    "We have imported the data and separated them into four different categories: characteristics,places,users,vehicles."
   ]
  },
  {
   "cell_type": "code",
   "execution_count": 2,
   "id": "74cdd715",
   "metadata": {
    "execution": {
     "iopub.execute_input": "2023-02-08T10:18:14.433885Z",
     "iopub.status.busy": "2023-02-08T10:18:14.432896Z",
     "iopub.status.idle": "2023-02-08T10:18:14.447878Z",
     "shell.execute_reply": "2023-02-08T10:18:14.445881Z"
    },
    "papermill": {
     "duration": 0.061003,
     "end_time": "2023-02-08T10:18:14.456887",
     "exception": false,
     "start_time": "2023-02-08T10:18:14.395884",
     "status": "completed"
    },
    "tags": []
   },
   "outputs": [],
   "source": [
    "french_categories = {'characteristics': 'caracteristiques', 'places':'lieux', 'users':'usagers', 'vehicles':'vehicules'}\n",
    "data_categories = french_categories.keys()\n",
    "categories_dict = dict(zip(data_categories, [0,0,0,0]))"
   ]
  },
  {
   "cell_type": "code",
   "execution_count": 3,
   "id": "08fe29b8",
   "metadata": {
    "execution": {
     "iopub.execute_input": "2023-02-08T10:18:14.573542Z",
     "iopub.status.busy": "2023-02-08T10:18:14.571549Z",
     "iopub.status.idle": "2023-02-08T10:18:24.666371Z",
     "shell.execute_reply": "2023-02-08T10:18:24.663346Z"
    },
    "lines_to_next_cell": 2,
    "papermill": {
     "duration": 10.151859,
     "end_time": "2023-02-08T10:18:24.672371",
     "exception": false,
     "start_time": "2023-02-08T10:18:14.520512",
     "status": "completed"
    },
    "tags": []
   },
   "outputs": [],
   "source": [
    "# Define the function that reads the raw data for the specified time range\n",
    "def read_csv_of_year(start_year, end_year, separators, name_separator='_'):\n",
    "    if len (separators)<4:\n",
    "        separators = [separators]*4\n",
    "        \n",
    "    df_dict = {}\n",
    "    for year in range(start_year,end_year+1):\n",
    "        this_year_str = str(year)\n",
    "        # Data Category\n",
    "        this_df_dict = {}        \n",
    "        for this_category, this_sep in zip(data_categories, separators):\n",
    "            # We need the French name of the category for the filename\n",
    "            this_french_category = french_categories[this_category]\n",
    "            this_file_path_and_name = '../data/'+this_year_str+'/' + this_french_category+name_separator+this_year_str+'.csv'\n",
    "            this_df_dict[this_category] = pd.read_csv(this_file_path_and_name, encoding='latin-1', sep=this_sep, low_memory=False)\n",
    "        df_dict[year] = this_df_dict\n",
    "    return df_dict\n",
    "\n",
    "# Import years\n",
    "df_dict = {}\n",
    "df_dict.update(read_csv_of_year(2005, 2008, separators=','))\n",
    "df_dict.update(read_csv_of_year(2009,2009, separators=['\\t', ',', ',', ',']))\n",
    "df_dict.update(read_csv_of_year(2010, 2016, separators=','))\n",
    "df_dict.update(read_csv_of_year(2017, 2018, separators=',', name_separator='-'))\n",
    "df_dict.update(read_csv_of_year(2019, 2021, separators=';', name_separator='-'))"
   ]
  },
  {
   "cell_type": "code",
   "execution_count": 4,
   "id": "77febebb",
   "metadata": {
    "execution": {
     "iopub.execute_input": "2023-02-08T10:18:24.758921Z",
     "iopub.status.busy": "2023-02-08T10:18:24.757919Z",
     "iopub.status.idle": "2023-02-08T10:18:25.671043Z",
     "shell.execute_reply": "2023-02-08T10:18:25.669033Z"
    },
    "papermill": {
     "duration": 0.959119,
     "end_time": "2023-02-08T10:18:25.676033",
     "exception": false,
     "start_time": "2023-02-08T10:18:24.716914",
     "status": "completed"
    },
    "tags": []
   },
   "outputs": [],
   "source": [
    "dict_of_category_dfs = {}\n",
    "for this_category in data_categories:\n",
    "    dict_of_category_dfs[this_category] = pd.concat([df_dict[year][this_category] for year in range(2005,2022)], ignore_index=True)\n",
    "\n",
    "characteristics = dict_of_category_dfs['characteristics']\n",
    "places = dict_of_category_dfs['places']\n",
    "users = dict_of_category_dfs['users']\n",
    "vehicles = dict_of_category_dfs['vehicles']"
   ]
  },
  {
   "cell_type": "markdown",
   "id": "6cbdd1bd",
   "metadata": {
    "papermill": {
     "duration": 0.040002,
     "end_time": "2023-02-08T10:18:25.756567",
     "exception": false,
     "start_time": "2023-02-08T10:18:25.716565",
     "status": "completed"
    },
    "tags": []
   },
   "source": [
    "# Data Cleaning\n",
    "We will perform some of the cleaning of the data on the individual datasets. Not all cleaning is possible before merging the datasets, so there will be a second round of cleaning."
   ]
  },
  {
   "cell_type": "markdown",
   "id": "e4ebcd42",
   "metadata": {
    "papermill": {
     "duration": 0.028037,
     "end_time": "2023-02-08T10:18:25.812134",
     "exception": false,
     "start_time": "2023-02-08T10:18:25.784097",
     "status": "completed"
    },
    "tags": []
   },
   "source": [
    "## Calculate the percentage of missing values for each dataframe"
   ]
  },
  {
   "cell_type": "code",
   "execution_count": 5,
   "id": "99389d90",
   "metadata": {
    "execution": {
     "iopub.execute_input": "2023-02-08T10:18:25.864123Z",
     "iopub.status.busy": "2023-02-08T10:18:25.862125Z",
     "iopub.status.idle": "2023-02-08T10:18:25.880144Z",
     "shell.execute_reply": "2023-02-08T10:18:25.876147Z"
    },
    "papermill": {
     "duration": 0.045575,
     "end_time": "2023-02-08T10:18:25.884704",
     "exception": false,
     "start_time": "2023-02-08T10:18:25.839129",
     "status": "completed"
    },
    "tags": []
   },
   "outputs": [],
   "source": [
    "def na_percentage(df):\n",
    "  return df.isna().sum() *100 / len(df)"
   ]
  },
  {
   "cell_type": "code",
   "execution_count": 6,
   "id": "87805517",
   "metadata": {
    "execution": {
     "iopub.execute_input": "2023-02-08T10:18:25.934697Z",
     "iopub.status.busy": "2023-02-08T10:18:25.933700Z",
     "iopub.status.idle": "2023-02-08T10:18:30.563058Z",
     "shell.execute_reply": "2023-02-08T10:18:30.562054Z"
    },
    "papermill": {
     "duration": 4.654354,
     "end_time": "2023-02-08T10:18:30.566063",
     "exception": false,
     "start_time": "2023-02-08T10:18:25.911709",
     "status": "completed"
    },
    "tags": []
   },
   "outputs": [
    {
     "name": "stdout",
     "output_type": "stream",
     "text": [
      "characteristics\n",
      " Num_Acc     0.000000\n",
      "an          0.000000\n",
      "mois        0.000000\n",
      "jour        0.000000\n",
      "hrmn        0.000000\n",
      "lum         0.000000\n",
      "agg         0.000000\n",
      "int         0.000000\n",
      "atm         0.006509\n",
      "col         0.001694\n",
      "com         0.000178\n",
      "adr        12.774581\n",
      "gps        57.198251\n",
      "lat        43.427300\n",
      "long       43.427656\n",
      "dep         0.000000\n",
      "dtype: float64 \n",
      "\n"
     ]
    },
    {
     "name": "stdout",
     "output_type": "stream",
     "text": [
      "places\n",
      " Num_Acc     0.000000\n",
      "catr        0.000089\n",
      "voie        9.556239\n",
      "v1         56.690481\n",
      "v2         95.419907\n",
      "circ        0.140339\n",
      "nbv         0.243498\n",
      "pr         42.394463\n",
      "pr1        42.556646\n",
      "vosp        0.246173\n",
      "prof        0.173774\n",
      "plan        0.203375\n",
      "lartpc     19.511203\n",
      "larrout    10.060977\n",
      "surf        0.171545\n",
      "infra       0.482181\n",
      "situ        0.443128\n",
      "env1       15.027314\n",
      "vma        85.457720\n",
      "dtype: float64 \n",
      "\n"
     ]
    },
    {
     "name": "stdout",
     "output_type": "stream",
     "text": [
      "users\n",
      " Num_Acc         0.000000\n",
      "place           4.906241\n",
      "catu            0.000000\n",
      "grav            0.000000\n",
      "sexe            0.000000\n",
      "trajet          0.019684\n",
      "secu           16.893474\n",
      "locp            2.245798\n",
      "actp            2.249823\n",
      "etatp           2.248069\n",
      "an_nais         0.218559\n",
      "num_veh         0.000000\n",
      "id_vehicule    85.359337\n",
      "secu1          85.359337\n",
      "secu2          85.359337\n",
      "secu3          85.359337\n",
      "dtype: float64 \n",
      "\n"
     ]
    },
    {
     "name": "stdout",
     "output_type": "stream",
     "text": [
      "vehicles\n",
      " Num_Acc         0.000000\n",
      "senc            0.014204\n",
      "catv            0.000000\n",
      "occutc         14.456823\n",
      "obs             0.052535\n",
      "obsm            0.040629\n",
      "choc            0.020732\n",
      "manv            0.024440\n",
      "num_veh         0.000000\n",
      "id_vehicule    85.425312\n",
      "motor          85.425312\n",
      "dtype: float64 \n",
      "\n"
     ]
    }
   ],
   "source": [
    "for this_category, df in dict_of_category_dfs.items():\n",
    "    print(this_category+'\\n', na_percentage(df),'\\n')"
   ]
  },
  {
   "cell_type": "markdown",
   "id": "f654ff13",
   "metadata": {
    "papermill": {
     "duration": 0.033005,
     "end_time": "2023-02-08T10:18:30.628608",
     "exception": false,
     "start_time": "2023-02-08T10:18:30.595603",
     "status": "completed"
    },
    "tags": []
   },
   "source": [
    "## Users Dataset"
   ]
  },
  {
   "cell_type": "code",
   "execution_count": 7,
   "id": "ffe10b90",
   "metadata": {
    "execution": {
     "iopub.execute_input": "2023-02-08T10:18:30.695147Z",
     "iopub.status.busy": "2023-02-08T10:18:30.693154Z",
     "iopub.status.idle": "2023-02-08T10:18:30.724194Z",
     "shell.execute_reply": "2023-02-08T10:18:30.721188Z"
    },
    "papermill": {
     "duration": 0.075592,
     "end_time": "2023-02-08T10:18:30.732190",
     "exception": false,
     "start_time": "2023-02-08T10:18:30.656598",
     "status": "completed"
    },
    "tags": []
   },
   "outputs": [],
   "source": [
    "#Grav\n",
    "users.grav.replace(to_replace=-1,value=1,inplace=True)"
   ]
  },
  {
   "cell_type": "code",
   "execution_count": 8,
   "id": "1a342a68",
   "metadata": {
    "execution": {
     "iopub.execute_input": "2023-02-08T10:18:30.839464Z",
     "iopub.status.busy": "2023-02-08T10:18:30.838460Z",
     "iopub.status.idle": "2023-02-08T10:18:30.945044Z",
     "shell.execute_reply": "2023-02-08T10:18:30.943039Z"
    },
    "lines_to_next_cell": 2,
    "papermill": {
     "duration": 0.163826,
     "end_time": "2023-02-08T10:18:30.948044",
     "exception": false,
     "start_time": "2023-02-08T10:18:30.784218",
     "status": "completed"
    },
    "tags": []
   },
   "outputs": [],
   "source": [
    "#Place\n",
    "\n",
    "users.place.value_counts()\n",
    "users.place.fillna(1,inplace=True) #replace is with mode\n",
    "users.place.replace(to_replace=-1,value=0,inplace=True) #-1 is unassigned , will put 0 unknown #Same result"
   ]
  },
  {
   "cell_type": "code",
   "execution_count": 9,
   "id": "1faecadf",
   "metadata": {
    "execution": {
     "iopub.execute_input": "2023-02-08T10:18:31.016593Z",
     "iopub.status.busy": "2023-02-08T10:18:31.015598Z",
     "iopub.status.idle": "2023-02-08T10:18:31.072618Z",
     "shell.execute_reply": "2023-02-08T10:18:31.069580Z"
    },
    "papermill": {
     "duration": 0.101542,
     "end_time": "2023-02-08T10:18:31.077604",
     "exception": false,
     "start_time": "2023-02-08T10:18:30.976062",
     "status": "completed"
    },
    "tags": []
   },
   "outputs": [],
   "source": [
    "#Trajet\n",
    "\n",
    "users.trajet.replace(to_replace=-1,value=0,inplace=True) #-1 is unassigned , will put 0 unknown #Same result\n",
    "users.trajet.fillna(5,inplace=True) #replace is with mode"
   ]
  },
  {
   "cell_type": "code",
   "execution_count": 10,
   "id": "d505784f",
   "metadata": {
    "execution": {
     "iopub.execute_input": "2023-02-08T10:18:31.182022Z",
     "iopub.status.busy": "2023-02-08T10:18:31.180022Z",
     "iopub.status.idle": "2023-02-08T10:18:31.275579Z",
     "shell.execute_reply": "2023-02-08T10:18:31.273586Z"
    },
    "papermill": {
     "duration": 0.166498,
     "end_time": "2023-02-08T10:18:31.279582",
     "exception": false,
     "start_time": "2023-02-08T10:18:31.113084",
     "status": "completed"
    },
    "tags": []
   },
   "outputs": [],
   "source": [
    "#locp\n",
    "\n",
    "users.locp.replace(to_replace=-1,value=0,inplace=True) #-1 is unassigned , will put 0 unknown #Same result\n",
    "users.locp.value_counts()\n",
    "users.locp.fillna(0,inplace=True) #replace is with mode"
   ]
  },
  {
   "cell_type": "code",
   "execution_count": 11,
   "id": "a7645437",
   "metadata": {
    "execution": {
     "iopub.execute_input": "2023-02-08T10:18:31.361125Z",
     "iopub.status.busy": "2023-02-08T10:18:31.359134Z",
     "iopub.status.idle": "2023-02-08T10:18:39.973243Z",
     "shell.execute_reply": "2023-02-08T10:18:39.970238Z"
    },
    "papermill": {
     "duration": 8.663144,
     "end_time": "2023-02-08T10:18:39.979268",
     "exception": false,
     "start_time": "2023-02-08T10:18:31.316124",
     "status": "completed"
    },
    "tags": []
   },
   "outputs": [],
   "source": [
    "#actp\n",
    "\n",
    "users.actp.replace(to_replace=['B'],value=0,inplace=True)#-1,B is unassigned , will put 0 unknown #Same result\n",
    "users.actp.replace(to_replace=' -1',value=0,inplace=True)\n",
    "users.actp.replace(to_replace=['A'],value=8,inplace=True) #A is coming in/out of vehicule , will put 8 instead (int)\n",
    "users.actp.fillna(0,inplace=True) #replace is with mode\n",
    "\n",
    "users.actp.replace(to_replace='0',value=0,inplace=True)\n",
    "users.actp.replace(to_replace='1',value=1,inplace=True)\n",
    "users.actp.replace(to_replace='2',value=2,inplace=True)\n",
    "users.actp.replace(to_replace='3',value=3,inplace=True)\n",
    "users.actp.replace(to_replace='4',value=4,inplace=True)\n",
    "users.actp.replace(to_replace='5',value=5,inplace=True)\n",
    "users.actp.replace(to_replace='6',value=6,inplace=True)\n",
    "users.actp.replace(to_replace='7',value=7,inplace=True)\n",
    "users.actp.replace(to_replace='8',value=8,inplace=True)\n",
    "users.actp.replace(to_replace='9',value=9,inplace=True)"
   ]
  },
  {
   "cell_type": "code",
   "execution_count": 12,
   "id": "780f7ca4",
   "metadata": {
    "execution": {
     "iopub.execute_input": "2023-02-08T10:18:40.034489Z",
     "iopub.status.busy": "2023-02-08T10:18:40.033472Z",
     "iopub.status.idle": "2023-02-08T10:18:40.148533Z",
     "shell.execute_reply": "2023-02-08T10:18:40.143541Z"
    },
    "papermill": {
     "duration": 0.147053,
     "end_time": "2023-02-08T10:18:40.158535",
     "exception": false,
     "start_time": "2023-02-08T10:18:40.011482",
     "status": "completed"
    },
    "tags": []
   },
   "outputs": [],
   "source": [
    "#etatp\n",
    "\n",
    "users.etatp.replace(to_replace=-1,value=0,inplace=True) #-1, is unassigned , will put 0 unknown #Same result\n",
    "users.etatp.isna().sum() #119291\n",
    "users.etatp.value_counts() \n",
    "users.etatp.fillna(0,inplace=True) #replace is with mode"
   ]
  },
  {
   "cell_type": "code",
   "execution_count": 13,
   "id": "60562c32",
   "metadata": {
    "execution": {
     "iopub.execute_input": "2023-02-08T10:18:40.280157Z",
     "iopub.status.busy": "2023-02-08T10:18:40.278159Z",
     "iopub.status.idle": "2023-02-08T10:18:40.381484Z",
     "shell.execute_reply": "2023-02-08T10:18:40.379495Z"
    },
    "papermill": {
     "duration": 0.17336,
     "end_time": "2023-02-08T10:18:40.388490",
     "exception": false,
     "start_time": "2023-02-08T10:18:40.215130",
     "status": "completed"
    },
    "tags": []
   },
   "outputs": [],
   "source": [
    "#an_nais\n",
    "\n",
    "users.an_nais.isna().sum() #10080\n",
    "users.an_nais.value_counts() \n",
    "users.an_nais.fillna(1986.0,inplace=True)\n",
    "#replace is with mode #the first 5 values of value_counts are close to each other\n"
   ]
  },
  {
   "cell_type": "code",
   "execution_count": 14,
   "id": "0c3ec33e",
   "metadata": {
    "execution": {
     "iopub.execute_input": "2023-02-08T10:18:40.455049Z",
     "iopub.status.busy": "2023-02-08T10:18:40.454057Z",
     "iopub.status.idle": "2023-02-08T10:18:40.493652Z",
     "shell.execute_reply": "2023-02-08T10:18:40.491087Z"
    },
    "papermill": {
     "duration": 0.069587,
     "end_time": "2023-02-08T10:18:40.500643",
     "exception": false,
     "start_time": "2023-02-08T10:18:40.431056",
     "status": "completed"
    },
    "tags": []
   },
   "outputs": [],
   "source": [
    "#Sex \n",
    "users.sexe.replace(to_replace=-1,value=1,inplace=True)"
   ]
  },
  {
   "cell_type": "markdown",
   "id": "ef8298e6",
   "metadata": {
    "papermill": {
     "duration": 0.046565,
     "end_time": "2023-02-08T10:18:40.610222",
     "exception": false,
     "start_time": "2023-02-08T10:18:40.563657",
     "status": "completed"
    },
    "tags": []
   },
   "source": [
    "### Fixing incoherency of 'secu' Variable\n",
    "Safety equipment until 2018 was in 2 variables: existence and use.\n",
    "\n",
    "From 2019, it is the use with up to 3 possible equipments for the same user\n",
    "(especially for motorcyclists whose helmet and gloves are mandatory).\n",
    "\n",
    "#secu1\n",
    "The character information indicates the presence and use of the safety equipment:\n",
    "-1 - No information\n",
    "0 - No equipment\n",
    "1 - Belt\n",
    "2 - Helmet\n",
    "3 - Children device\n",
    "4 - Reflective vest\n",
    "5 - Airbag (2WD/3WD)\n",
    "6 - Gloves (2WD/3WD)\n",
    "7 - Gloves + Airbag (2WD/3WD)\n",
    "8 - Non-determinable\n",
    "9 - Other\n",
    "\n",
    "#secu2\n",
    "The character information indicates the presence and use of the safety equipment\n",
    "\n",
    "#secu3\n",
    "The character information indicates the presence and use of safety equipment"
   ]
  },
  {
   "cell_type": "code",
   "execution_count": 15,
   "id": "2aa69a8c",
   "metadata": {
    "execution": {
     "iopub.execute_input": "2023-02-08T10:18:40.717821Z",
     "iopub.status.busy": "2023-02-08T10:18:40.715829Z",
     "iopub.status.idle": "2023-02-08T10:18:41.079713Z",
     "shell.execute_reply": "2023-02-08T10:18:41.076666Z"
    },
    "papermill": {
     "duration": 0.425488,
     "end_time": "2023-02-08T10:18:41.085720",
     "exception": false,
     "start_time": "2023-02-08T10:18:40.660232",
     "status": "completed"
    },
    "tags": []
   },
   "outputs": [],
   "source": [
    "#Security \n",
    "users.drop(columns='secu3',inplace=True)"
   ]
  },
  {
   "cell_type": "code",
   "execution_count": 16,
   "id": "54418bda",
   "metadata": {
    "execution": {
     "iopub.execute_input": "2023-02-08T10:18:41.173317Z",
     "iopub.status.busy": "2023-02-08T10:18:41.171320Z",
     "iopub.status.idle": "2023-02-08T10:18:41.205916Z",
     "shell.execute_reply": "2023-02-08T10:18:41.202911Z"
    },
    "papermill": {
     "duration": 0.083596,
     "end_time": "2023-02-08T10:18:41.211919",
     "exception": false,
     "start_time": "2023-02-08T10:18:41.128323",
     "status": "completed"
    },
    "tags": []
   },
   "outputs": [],
   "source": [
    "#secu has some missing values for older years , must fill with mode before continuing\n",
    "\n",
    "users.secu[:2142195].fillna(value=1,inplace=True)"
   ]
  },
  {
   "cell_type": "code",
   "execution_count": 17,
   "id": "3ed04b67",
   "metadata": {
    "execution": {
     "iopub.execute_input": "2023-02-08T10:18:41.288948Z",
     "iopub.status.busy": "2023-02-08T10:18:41.288948Z",
     "iopub.status.idle": "2023-02-08T10:18:41.745703Z",
     "shell.execute_reply": "2023-02-08T10:18:41.741708Z"
    },
    "papermill": {
     "duration": 0.499795,
     "end_time": "2023-02-08T10:18:41.750705",
     "exception": false,
     "start_time": "2023-02-08T10:18:41.250910",
     "status": "completed"
    },
    "tags": []
   },
   "outputs": [],
   "source": [
    "users['SecuA'] = ((users.secu - users.secu%10)/10) #Type of security Used\n",
    "users['SecuB']=   users.secu%10  # Was the security used or No\n",
    "\n",
    "#SecuA is not very important we will focus on secuB if the item was used or not to facilitate study"
   ]
  },
  {
   "cell_type": "code",
   "execution_count": 18,
   "id": "bad10971",
   "metadata": {
    "execution": {
     "iopub.execute_input": "2023-02-08T10:18:41.820266Z",
     "iopub.status.busy": "2023-02-08T10:18:41.819261Z",
     "iopub.status.idle": "2023-02-08T10:18:41.856258Z",
     "shell.execute_reply": "2023-02-08T10:18:41.853265Z"
    },
    "papermill": {
     "duration": 0.075548,
     "end_time": "2023-02-08T10:18:41.861275",
     "exception": false,
     "start_time": "2023-02-08T10:18:41.785727",
     "status": "completed"
    },
    "tags": []
   },
   "outputs": [],
   "source": [
    "# 0 is unknown change to others 9 \n",
    "users.SecuA.replace(to_replace=0,value=9,inplace=True)"
   ]
  },
  {
   "cell_type": "code",
   "execution_count": 19,
   "id": "0552ec3b",
   "metadata": {
    "execution": {
     "iopub.execute_input": "2023-02-08T10:18:41.937845Z",
     "iopub.status.busy": "2023-02-08T10:18:41.936842Z",
     "iopub.status.idle": "2023-02-08T10:18:41.983877Z",
     "shell.execute_reply": "2023-02-08T10:18:41.979871Z"
    },
    "papermill": {
     "duration": 0.091038,
     "end_time": "2023-02-08T10:18:41.989871",
     "exception": false,
     "start_time": "2023-02-08T10:18:41.898833",
     "status": "completed"
    },
    "tags": []
   },
   "outputs": [],
   "source": [
    "# 2-No 3-UnDeterminable 0-Unknown , change all to 0 not used\n",
    "users.SecuB.replace(to_replace=3,value=0,inplace=True)\n",
    "users.SecuB.replace(to_replace=2,value=0,inplace=True)"
   ]
  },
  {
   "cell_type": "markdown",
   "id": "3e6c07d2",
   "metadata": {
    "papermill": {
     "duration": 0.033004,
     "end_time": "2023-02-08T10:18:42.057424",
     "exception": false,
     "start_time": "2023-02-08T10:18:42.024420",
     "status": "completed"
    },
    "tags": []
   },
   "source": [
    "For Secu1-secu2 \n",
    "We will gather all usage for security variable with 1 value {1} , and if there is no safety we will use {0} , No need to take multiple security parameters (secu2) we will noly take into consideration 1 security variable for comparibility with earlier years."
   ]
  },
  {
   "cell_type": "code",
   "execution_count": 20,
   "id": "20c3b7c8",
   "metadata": {
    "execution": {
     "iopub.execute_input": "2023-02-08T10:18:42.143004Z",
     "iopub.status.busy": "2023-02-08T10:18:42.142015Z",
     "iopub.status.idle": "2023-02-08T10:18:42.267599Z",
     "shell.execute_reply": "2023-02-08T10:18:42.264600Z"
    },
    "papermill": {
     "duration": 0.169592,
     "end_time": "2023-02-08T10:18:42.272595",
     "exception": false,
     "start_time": "2023-02-08T10:18:42.103003",
     "status": "completed"
    },
    "tags": []
   },
   "outputs": [],
   "source": [
    "users.secu1.replace(to_replace=[2,3,4,5,6,7,8,9],value=1,inplace=True)\n",
    "users.secu1.replace(to_replace=[-1],value=0,inplace=True)"
   ]
  },
  {
   "cell_type": "code",
   "execution_count": 21,
   "id": "ef0b1a0f",
   "metadata": {
    "execution": {
     "iopub.execute_input": "2023-02-08T10:18:42.361173Z",
     "iopub.status.busy": "2023-02-08T10:18:42.358175Z",
     "iopub.status.idle": "2023-02-08T10:18:42.410776Z",
     "shell.execute_reply": "2023-02-08T10:18:42.407799Z"
    },
    "papermill": {
     "duration": 0.095605,
     "end_time": "2023-02-08T10:18:42.416774",
     "exception": false,
     "start_time": "2023-02-08T10:18:42.321169",
     "status": "completed"
    },
    "tags": []
   },
   "outputs": [
    {
     "data": {
      "text/plain": [
       "1.0    335524\n",
       "0.0     31901\n",
       "Name: secu1, dtype: int64"
      ]
     },
     "execution_count": 21,
     "metadata": {},
     "output_type": "execute_result"
    }
   ],
   "source": [
    "users.secu1.value_counts() "
   ]
  },
  {
   "cell_type": "code",
   "execution_count": 22,
   "id": "f7c43786",
   "metadata": {
    "execution": {
     "iopub.execute_input": "2023-02-08T10:18:42.504344Z",
     "iopub.status.busy": "2023-02-08T10:18:42.502361Z",
     "iopub.status.idle": "2023-02-08T10:18:42.585402Z",
     "shell.execute_reply": "2023-02-08T10:18:42.580376Z"
    },
    "papermill": {
     "duration": 0.135591,
     "end_time": "2023-02-08T10:18:42.592369",
     "exception": false,
     "start_time": "2023-02-08T10:18:42.456778",
     "status": "completed"
    },
    "tags": []
   },
   "outputs": [
    {
     "data": {
      "text/plain": [
       "1.0    1672237\n",
       "0.0     469958\n",
       "Name: SecuB, dtype: int64"
      ]
     },
     "execution_count": 22,
     "metadata": {},
     "output_type": "execute_result"
    }
   ],
   "source": [
    "users.SecuB.value_counts()"
   ]
  },
  {
   "cell_type": "markdown",
   "id": "8b44b020",
   "metadata": {
    "papermill": {
     "duration": 0.039024,
     "end_time": "2023-02-08T10:18:42.670953",
     "exception": false,
     "start_time": "2023-02-08T10:18:42.631929",
     "status": "completed"
    },
    "tags": []
   },
   "source": [
    "Now both secu1 and secuB are same format we need to merge them into 1 column (for all years)"
   ]
  },
  {
   "cell_type": "code",
   "execution_count": 23,
   "id": "1448a8cd",
   "metadata": {
    "execution": {
     "iopub.execute_input": "2023-02-08T10:18:42.754515Z",
     "iopub.status.busy": "2023-02-08T10:18:42.753498Z",
     "iopub.status.idle": "2023-02-08T10:18:42.818086Z",
     "shell.execute_reply": "2023-02-08T10:18:42.816082Z"
    },
    "papermill": {
     "duration": 0.109599,
     "end_time": "2023-02-08T10:18:42.822107",
     "exception": false,
     "start_time": "2023-02-08T10:18:42.712508",
     "status": "completed"
    },
    "tags": []
   },
   "outputs": [
    {
     "name": "stderr",
     "output_type": "stream",
     "text": [
      "C:\\Users\\kayla\\AppData\\Local\\Temp\\ipykernel_26852\\2364168227.py:3: SettingWithCopyWarning: \n",
      "A value is trying to be set on a copy of a slice from a DataFrame\n",
      "\n",
      "See the caveats in the documentation: https://pandas.pydata.org/pandas-docs/stable/user_guide/indexing.html#returning-a-view-versus-a-copy\n",
      "  users['Security'][:2142195] = users.SecuB[:2142195]\n",
      "C:\\Users\\kayla\\AppData\\Local\\Temp\\ipykernel_26852\\2364168227.py:4: SettingWithCopyWarning: \n",
      "A value is trying to be set on a copy of a slice from a DataFrame\n",
      "\n",
      "See the caveats in the documentation: https://pandas.pydata.org/pandas-docs/stable/user_guide/indexing.html#returning-a-view-versus-a-copy\n",
      "  users['Security'][2142196:] = users.secu1[2142196:]\n"
     ]
    }
   ],
   "source": [
    "#must add iloc\n",
    "users['Security']=0\n",
    "users['Security'][:2142195] = users.SecuB[:2142195]\n",
    "users['Security'][2142196:] = users.secu1[2142196:]"
   ]
  },
  {
   "cell_type": "code",
   "execution_count": 24,
   "id": "56c19429",
   "metadata": {
    "execution": {
     "iopub.execute_input": "2023-02-08T10:18:42.941657Z",
     "iopub.status.busy": "2023-02-08T10:18:42.939660Z",
     "iopub.status.idle": "2023-02-08T10:18:43.220462Z",
     "shell.execute_reply": "2023-02-08T10:18:43.212459Z"
    },
    "papermill": {
     "duration": 0.332356,
     "end_time": "2023-02-08T10:18:43.226474",
     "exception": false,
     "start_time": "2023-02-08T10:18:42.894118",
     "status": "completed"
    },
    "tags": []
   },
   "outputs": [],
   "source": [
    "#To drop unneeded columns\n",
    "users = users.drop(columns=['secu','secu1','secu2','SecuA','SecuB'])"
   ]
  },
  {
   "cell_type": "code",
   "execution_count": 25,
   "id": "8f624a0f",
   "metadata": {
    "execution": {
     "iopub.execute_input": "2023-02-08T10:18:43.308040Z",
     "iopub.status.busy": "2023-02-08T10:18:43.307050Z",
     "iopub.status.idle": "2023-02-08T10:18:44.956028Z",
     "shell.execute_reply": "2023-02-08T10:18:44.953023Z"
    },
    "papermill": {
     "duration": 1.699561,
     "end_time": "2023-02-08T10:18:44.963029",
     "exception": false,
     "start_time": "2023-02-08T10:18:43.263468",
     "status": "completed"
    },
    "tags": []
   },
   "outputs": [
    {
     "data": {
      "text/plain": [
       "Num_Acc         0.000000\n",
       "place           0.000000\n",
       "catu            0.000000\n",
       "grav            0.000000\n",
       "sexe            0.000000\n",
       "trajet          0.000000\n",
       "locp            0.000000\n",
       "actp            0.000000\n",
       "etatp           0.000000\n",
       "an_nais         0.000000\n",
       "num_veh         0.000000\n",
       "id_vehicule    85.359337\n",
       "Security        0.000000\n",
       "dtype: float64"
      ]
     },
     "execution_count": 25,
     "metadata": {},
     "output_type": "execute_result"
    }
   ],
   "source": [
    "na_percentage(users)"
   ]
  },
  {
   "cell_type": "markdown",
   "id": "b9cb0dc8",
   "metadata": {
    "papermill": {
     "duration": 0.032988,
     "end_time": "2023-02-08T10:18:45.049587",
     "exception": false,
     "start_time": "2023-02-08T10:18:45.016599",
     "status": "completed"
    },
    "tags": []
   },
   "source": [
    "### Translating the variable names from French to English"
   ]
  },
  {
   "cell_type": "code",
   "execution_count": 26,
   "id": "71f47dbb",
   "metadata": {
    "execution": {
     "iopub.execute_input": "2023-02-08T10:18:45.153166Z",
     "iopub.status.busy": "2023-02-08T10:18:45.152167Z",
     "iopub.status.idle": "2023-02-08T10:18:45.764265Z",
     "shell.execute_reply": "2023-02-08T10:18:45.762272Z"
    },
    "papermill": {
     "duration": 0.680643,
     "end_time": "2023-02-08T10:18:45.770263",
     "exception": false,
     "start_time": "2023-02-08T10:18:45.089620",
     "status": "completed"
    },
    "tags": []
   },
   "outputs": [],
   "source": [
    "users = users.rename(columns = {'catu' : 'User_category',\n",
    "                                'grav' : 'Severity' , #Severity of accident\n",
    "                                'sexe' : 'Sex' , #Sex of Driver\n",
    "                                'trajet' : 'Trajectory' , \n",
    "                                'locp' : 'LOCP' , #localisation of pedestrian\n",
    "                                'actp' : 'ACTP' , #action of pedestrian\n",
    "                                'etatp' : 'StateP' , #State of pedestrian during accident\n",
    "                                'an_nais' : 'YoB' , #Year of Birth\n",
    "                               })\n",
    "users.columns\n",
    "\n",
    "#change type to int\n",
    "users.place = users.place.astype(int)\n",
    "users.Trajectory = users.Trajectory.astype(int)\n",
    "users.LOCP = users.LOCP.astype(int)\n",
    "users.ACTP = users.ACTP.astype(int)\n",
    "users.StateP = users.StateP.astype(int)\n",
    "users.YoB = users.YoB.astype(int)"
   ]
  },
  {
   "cell_type": "markdown",
   "id": "aa633880",
   "metadata": {
    "papermill": {
     "duration": 0.034005,
     "end_time": "2023-02-08T10:18:45.855853",
     "exception": false,
     "start_time": "2023-02-08T10:18:45.821848",
     "status": "completed"
    },
    "tags": []
   },
   "source": [
    "## Places Dataset"
   ]
  },
  {
   "cell_type": "markdown",
   "id": "4d110b68",
   "metadata": {
    "papermill": {
     "duration": 0.024557,
     "end_time": "2023-02-08T10:18:45.921411",
     "exception": false,
     "start_time": "2023-02-08T10:18:45.896854",
     "status": "completed"
    },
    "tags": []
   },
   "source": [
    "### Translating the variable names from French to English"
   ]
  },
  {
   "cell_type": "code",
   "execution_count": 27,
   "id": "3fa39823",
   "metadata": {
    "execution": {
     "iopub.execute_input": "2023-02-08T10:18:46.019998Z",
     "iopub.status.busy": "2023-02-08T10:18:46.018007Z",
     "iopub.status.idle": "2023-02-08T10:18:46.520055Z",
     "shell.execute_reply": "2023-02-08T10:18:46.518063Z"
    },
    "papermill": {
     "duration": 0.571644,
     "end_time": "2023-02-08T10:18:46.527069",
     "exception": false,
     "start_time": "2023-02-08T10:18:45.955425",
     "status": "completed"
    },
    "tags": []
   },
   "outputs": [
    {
     "data": {
      "text/html": [
       "<div>\n",
       "<style scoped>\n",
       "    .dataframe tbody tr th:only-of-type {\n",
       "        vertical-align: middle;\n",
       "    }\n",
       "\n",
       "    .dataframe tbody tr th {\n",
       "        vertical-align: top;\n",
       "    }\n",
       "\n",
       "    .dataframe thead th {\n",
       "        text-align: right;\n",
       "    }\n",
       "</style>\n",
       "<table border=\"1\" class=\"dataframe\">\n",
       "  <thead>\n",
       "    <tr style=\"text-align: right;\">\n",
       "      <th></th>\n",
       "      <th>Num_Acc</th>\n",
       "      <th>Rd_Cat</th>\n",
       "      <th>Traf_Direct</th>\n",
       "      <th>Lanes</th>\n",
       "      <th>Landmark</th>\n",
       "      <th>Dist_to_Landmark</th>\n",
       "      <th>Add_Lanes</th>\n",
       "      <th>Rd_Prof</th>\n",
       "      <th>Rd_Plan</th>\n",
       "      <th>Gre_Verge</th>\n",
       "      <th>Rd_Width</th>\n",
       "      <th>Rd_Cond</th>\n",
       "      <th>Envinmt</th>\n",
       "      <th>Pos_Acc</th>\n",
       "    </tr>\n",
       "  </thead>\n",
       "  <tbody>\n",
       "    <tr>\n",
       "      <th>0</th>\n",
       "      <td>200500000001</td>\n",
       "      <td>3.0</td>\n",
       "      <td>2.0</td>\n",
       "      <td>2.0</td>\n",
       "      <td>1.0</td>\n",
       "      <td>430.0</td>\n",
       "      <td>0.0</td>\n",
       "      <td>1.0</td>\n",
       "      <td>1.0</td>\n",
       "      <td>0</td>\n",
       "      <td>63</td>\n",
       "      <td>1.0</td>\n",
       "      <td>0.0</td>\n",
       "      <td>1.0</td>\n",
       "    </tr>\n",
       "    <tr>\n",
       "      <th>1</th>\n",
       "      <td>200500000002</td>\n",
       "      <td>2.0</td>\n",
       "      <td>0.0</td>\n",
       "      <td>2.0</td>\n",
       "      <td>0.0</td>\n",
       "      <td>0.0</td>\n",
       "      <td>1.0</td>\n",
       "      <td>1.0</td>\n",
       "      <td>1.0</td>\n",
       "      <td>0</td>\n",
       "      <td>100</td>\n",
       "      <td>1.0</td>\n",
       "      <td>0.0</td>\n",
       "      <td>5.0</td>\n",
       "    </tr>\n",
       "    <tr>\n",
       "      <th>2</th>\n",
       "      <td>200500000003</td>\n",
       "      <td>2.0</td>\n",
       "      <td>0.0</td>\n",
       "      <td>0.0</td>\n",
       "      <td>0.0</td>\n",
       "      <td>0.0</td>\n",
       "      <td>1.0</td>\n",
       "      <td>1.0</td>\n",
       "      <td>1.0</td>\n",
       "      <td>0</td>\n",
       "      <td>0</td>\n",
       "      <td>2.0</td>\n",
       "      <td>0.0</td>\n",
       "      <td>5.0</td>\n",
       "    </tr>\n",
       "    <tr>\n",
       "      <th>3</th>\n",
       "      <td>200500000004</td>\n",
       "      <td>3.0</td>\n",
       "      <td>2.0</td>\n",
       "      <td>2.0</td>\n",
       "      <td>0.0</td>\n",
       "      <td>0.0</td>\n",
       "      <td>0.0</td>\n",
       "      <td>1.0</td>\n",
       "      <td>1.0</td>\n",
       "      <td>0</td>\n",
       "      <td>0</td>\n",
       "      <td>1.0</td>\n",
       "      <td>0.0</td>\n",
       "      <td>1.0</td>\n",
       "    </tr>\n",
       "    <tr>\n",
       "      <th>4</th>\n",
       "      <td>200500000005</td>\n",
       "      <td>3.0</td>\n",
       "      <td>2.0</td>\n",
       "      <td>2.0</td>\n",
       "      <td>24.0</td>\n",
       "      <td>630.0</td>\n",
       "      <td>0.0</td>\n",
       "      <td>1.0</td>\n",
       "      <td>3.0</td>\n",
       "      <td>0</td>\n",
       "      <td>59</td>\n",
       "      <td>2.0</td>\n",
       "      <td>0.0</td>\n",
       "      <td>3.0</td>\n",
       "    </tr>\n",
       "  </tbody>\n",
       "</table>\n",
       "</div>"
      ],
      "text/plain": [
       "        Num_Acc  Rd_Cat  Traf_Direct  Lanes Landmark Dist_to_Landmark  \\\n",
       "0  200500000001     3.0          2.0    2.0      1.0            430.0   \n",
       "1  200500000002     2.0          0.0    2.0      0.0              0.0   \n",
       "2  200500000003     2.0          0.0    0.0      0.0              0.0   \n",
       "3  200500000004     3.0          2.0    2.0      0.0              0.0   \n",
       "4  200500000005     3.0          2.0    2.0     24.0            630.0   \n",
       "\n",
       "   Add_Lanes  Rd_Prof  Rd_Plan Gre_Verge Rd_Width  Rd_Cond  Envinmt  Pos_Acc  \n",
       "0        0.0      1.0      1.0         0       63      1.0      0.0      1.0  \n",
       "1        1.0      1.0      1.0         0      100      1.0      0.0      5.0  \n",
       "2        1.0      1.0      1.0         0        0      2.0      0.0      5.0  \n",
       "3        0.0      1.0      1.0         0        0      1.0      0.0      1.0  \n",
       "4        0.0      1.0      3.0         0       59      2.0      0.0      3.0  "
      ]
     },
     "execution_count": 27,
     "metadata": {},
     "output_type": "execute_result"
    }
   ],
   "source": [
    "# Change french names against english names (Teamdecision)\n",
    "# Droped 'Unnamed: 0','v1','v2','vma', because they contained no information.\n",
    "\n",
    "places = places.drop(['v1','v2','vma','voie','env1'], axis = 1)\n",
    "places = places.rename(columns = {'catr' : 'Rd_Cat', 'circ' : 'Traf_Direct' , 'nbv' : 'Lanes' ,\n",
    "                           'pr' : 'Landmark' , 'pr1' : 'Dist_to_Landmark', 'vosp' : 'Add_Lanes', 'prof' : 'Rd_Prof' ,\n",
    "                          'plan' : 'Rd_Plan' , 'lartpc' : 'Gre_Verge' , 'larrout' : 'Rd_Width', 'surf' : 'Rd_Cond',\n",
    "                          'infra' : 'Envinmt' , 'situ' : 'Pos_Acc'})\n",
    "places.head()"
   ]
  },
  {
   "cell_type": "markdown",
   "id": "61fc0749",
   "metadata": {
    "papermill": {
     "duration": 0.037545,
     "end_time": "2023-02-08T10:18:46.625613",
     "exception": false,
     "start_time": "2023-02-08T10:18:46.588068",
     "status": "completed"
    },
    "tags": []
   },
   "source": [
    "### Change Nans against zeros"
   ]
  },
  {
   "cell_type": "markdown",
   "id": "e0b85e85",
   "metadata": {
    "papermill": {
     "duration": 0.034011,
     "end_time": "2023-02-08T10:18:46.692631",
     "exception": false,
     "start_time": "2023-02-08T10:18:46.658620",
     "status": "completed"
    },
    "tags": []
   },
   "source": [
    "Set most empty variables to Zero / Null, because its for all variables not in use and can be defined as not applicable.\n",
    "\n",
    "9 Variables have <= 1% missing information, so for those it should be fine to set the missing information just tu zero.\n",
    "In addition, the recorded data are not suitable for filling the NaNs with, for example, the mean value, since this is almost exclusively about describing states."
   ]
  },
  {
   "cell_type": "code",
   "execution_count": 28,
   "id": "06d11f5a",
   "metadata": {
    "execution": {
     "iopub.execute_input": "2023-02-08T10:18:46.760904Z",
     "iopub.status.busy": "2023-02-08T10:18:46.759895Z",
     "iopub.status.idle": "2023-02-08T10:18:48.747076Z",
     "shell.execute_reply": "2023-02-08T10:18:48.744934Z"
    },
    "lines_to_next_cell": 2,
    "papermill": {
     "duration": 2.031024,
     "end_time": "2023-02-08T10:18:48.754929",
     "exception": false,
     "start_time": "2023-02-08T10:18:46.723905",
     "status": "completed"
    },
    "tags": []
   },
   "outputs": [],
   "source": [
    "\n",
    "places['Rd_Cat'] = places['Rd_Cat'].fillna(0.0)\n",
    "places['Traf_Direct'] = places['Traf_Direct'].fillna(0.0)\n",
    "places['Lanes'] = places['Lanes'].fillna(0.0)\n",
    "places['Landmark'] = places['Landmark'].fillna(0.0)\n",
    "places['Dist_to_Landmark'] = places['Dist_to_Landmark'].fillna(0.0)\n",
    "places['Add_Lanes'] = places['Add_Lanes'].fillna(0.0)\n",
    "places['Rd_Prof'] = places['Rd_Prof'].fillna(0.0)\n",
    "places['Rd_Plan'] = places['Rd_Plan'].fillna(0.0)\n",
    "places['Gre_Verge'] = places['Gre_Verge'].fillna(0.0)\n",
    "places['Rd_Width'] = places['Rd_Width'].fillna(0.0)\n",
    "places['Rd_Cond'] = places['Rd_Cond'].fillna(0.0)\n",
    "places['Envinmt'] = places['Envinmt'].fillna(0.0)\n",
    "places['Pos_Acc'] = places['Pos_Acc'].fillna(0.0)"
   ]
  },
  {
   "cell_type": "code",
   "execution_count": 29,
   "id": "63e6c9b9",
   "metadata": {
    "execution": {
     "iopub.execute_input": "2023-02-08T10:18:48.846509Z",
     "iopub.status.busy": "2023-02-08T10:18:48.845508Z",
     "iopub.status.idle": "2023-02-08T10:18:51.322647Z",
     "shell.execute_reply": "2023-02-08T10:18:51.320651Z"
    },
    "papermill": {
     "duration": 2.523144,
     "end_time": "2023-02-08T10:18:51.326648",
     "exception": false,
     "start_time": "2023-02-08T10:18:48.803504",
     "status": "completed"
    },
    "tags": []
   },
   "outputs": [
    {
     "name": "stdout",
     "output_type": "stream",
     "text": [
      "Num_Acc             0\n",
      "Rd_Cat              0\n",
      "Traf_Direct         0\n",
      "Lanes               0\n",
      "Landmark            0\n",
      "Dist_to_Landmark    0\n",
      "Add_Lanes           0\n",
      "Rd_Prof             0\n",
      "Rd_Plan             0\n",
      "Gre_Verge           0\n",
      "Rd_Width            0\n",
      "Rd_Cond             0\n",
      "Envinmt             0\n",
      "Pos_Acc             0\n",
      "dtype: int64\n",
      "\n",
      "<class 'pandas.core.frame.DataFrame'>\n",
      "RangeIndex: 1121571 entries, 0 to 1121570\n",
      "Data columns (total 14 columns):\n",
      " #   Column            Non-Null Count    Dtype\n",
      "---  ------            --------------    -----\n",
      " 0   Num_Acc           1121571 non-null  int64\n",
      " 1   Rd_Cat            1121571 non-null  int32\n",
      " 2   Traf_Direct       1121571 non-null  int32\n",
      " 3   Lanes             1121571 non-null  int32\n",
      " 4   Landmark          1121571 non-null  int32\n",
      " 5   Dist_to_Landmark  1121571 non-null  int32\n",
      " 6   Add_Lanes         1121571 non-null  int32\n",
      " 7   Rd_Prof           1121571 non-null  int32\n",
      " 8   Rd_Plan           1121571 non-null  int32\n",
      " 9   Gre_Verge         1121571 non-null  int32\n",
      " 10  Rd_Width          1121571 non-null  int32\n",
      " 11  Rd_Cond           1121571 non-null  int32\n",
      " 12  Envinmt           1121571 non-null  int32\n",
      " 13  Pos_Acc           1121571 non-null  int32\n",
      "dtypes: int32(13), int64(1)\n",
      "memory usage: 64.2 MB\n",
      "None\n",
      "\n",
      "(1121571, 14)\n"
     ]
    }
   ],
   "source": [
    "# Convert object to float\n",
    "places['Landmark'] = pd.to_numeric(places['Landmark'],errors = 'coerce')\n",
    "places['Dist_to_Landmark'] = pd.to_numeric(places['Dist_to_Landmark'],errors = 'coerce')\n",
    "places['Gre_Verge'] = pd.to_numeric(places['Gre_Verge'],errors = 'coerce')\n",
    "places['Rd_Width'] = pd.to_numeric(places['Rd_Width'],errors = 'coerce')\n",
    "\n",
    "# replace empty cells with nans\n",
    "places.replace('', np.nan)\n",
    "places = places.copy()\n",
    "\n",
    "# fill nans with 0\n",
    "places['Landmark'] = places['Landmark'].fillna(0.0)\n",
    "places['Dist_to_Landmark'] = places['Dist_to_Landmark'].fillna(0.0)\n",
    "places['Gre_Verge'] = places['Gre_Verge'].fillna(0.0)\n",
    "places['Rd_Width'] = places['Rd_Width'].fillna(0.0)\n",
    "\n",
    "# Convert float to int\n",
    "places['Rd_Cat'] = places['Rd_Cat'].astype(int, errors = 'raise')\n",
    "places['Traf_Direct'] = places['Traf_Direct'].astype(int, errors = 'raise')\n",
    "places['Lanes'] = places['Lanes'].astype(int, errors = 'raise')\n",
    "places['Landmark'] = places['Landmark'].astype(int, errors = 'raise')\n",
    "places['Dist_to_Landmark'] = places['Dist_to_Landmark'].astype(int, errors = 'raise')\n",
    "places['Add_Lanes'] = places['Add_Lanes'].astype(int, errors = 'raise')\n",
    "places['Rd_Prof'] = places['Rd_Prof'].astype(int, errors = 'raise')\n",
    "places['Rd_Plan'] = places['Rd_Plan'].astype(int, errors = 'raise')\n",
    "places['Gre_Verge'] = places['Gre_Verge'].astype(int, errors = 'raise')\n",
    "places['Rd_Width'] = places['Rd_Width'].astype(int, errors = 'raise')\n",
    "places['Rd_Cond'] = places['Rd_Cond'].astype(int, errors = 'raise')\n",
    "places['Envinmt'] = places['Envinmt'].astype(int, errors = 'raise')\n",
    "places['Pos_Acc'] = places['Pos_Acc'].astype(int, errors = 'raise')\n",
    "\n",
    "print(places.isna().sum())\n",
    "print()\n",
    "print(places.info())\n",
    "print()\n",
    "print(places.shape)#it appears that there is a problem with the shape of the df (couldnt normalize) ValueError: Found array with dim 3. the normalize function expected <= 2.\n"
   ]
  },
  {
   "cell_type": "markdown",
   "id": "ccb89db9",
   "metadata": {
    "papermill": {
     "duration": 0.041604,
     "end_time": "2023-02-08T10:18:51.410251",
     "exception": false,
     "start_time": "2023-02-08T10:18:51.368647",
     "status": "completed"
    },
    "tags": []
   },
   "source": [
    "## Characteristics Dataset"
   ]
  },
  {
   "cell_type": "markdown",
   "id": "60631872",
   "metadata": {
    "papermill": {
     "duration": 0.038984,
     "end_time": "2023-02-08T10:18:51.479238",
     "exception": false,
     "start_time": "2023-02-08T10:18:51.440254",
     "status": "completed"
    },
    "tags": []
   },
   "source": [
    "### Translating the variable names from French to English"
   ]
  },
  {
   "cell_type": "code",
   "execution_count": 30,
   "id": "f2ba64ef",
   "metadata": {
    "execution": {
     "iopub.execute_input": "2023-02-08T10:18:51.566818Z",
     "iopub.status.busy": "2023-02-08T10:18:51.564825Z",
     "iopub.status.idle": "2023-02-08T10:18:51.604363Z",
     "shell.execute_reply": "2023-02-08T10:18:51.603846Z"
    },
    "papermill": {
     "duration": 0.089553,
     "end_time": "2023-02-08T10:18:51.607384",
     "exception": false,
     "start_time": "2023-02-08T10:18:51.517831",
     "status": "completed"
    },
    "tags": []
   },
   "outputs": [],
   "source": [
    "# Translation of the variable nacmes from French to English, also improving the names so that it becomes clearer, what they are about\n",
    "characteristics.rename(columns={'an': 'year', 'mois':'month', 'jour': 'day', 'hrmn':'hhmm', \n",
    "                                'lum': 'daylight', 'agg': 'built-up_area', 'int':'intersection_category', 'atm': 'atmospheric_conditions',\n",
    "                                'col': 'collision_category', 'com': 'municipality', 'adr':'adress', 'gps': 'gps_origin', 'lat': 'latitude',\n",
    "                                'long': 'longitude', 'dep': 'department'}, inplace=True)\n",
    "\n",
    "# Change the values for 'built-up_area' to make it more understandable, 1 means the accident happened in a built-up area and 0 means happened elsewhere. \n",
    "characteristics['built-up_area'].replace({1:0, 2:1}, inplace=True)"
   ]
  },
  {
   "cell_type": "markdown",
   "id": "5fdb0412",
   "metadata": {
    "papermill": {
     "duration": 0.060013,
     "end_time": "2023-02-08T10:18:51.697403",
     "exception": false,
     "start_time": "2023-02-08T10:18:51.637390",
     "status": "completed"
    },
    "tags": []
   },
   "source": [
    "### Fixing incoherent format of year variable"
   ]
  },
  {
   "cell_type": "code",
   "execution_count": 31,
   "id": "e2467024",
   "metadata": {
    "execution": {
     "iopub.execute_input": "2023-02-08T10:18:51.823517Z",
     "iopub.status.busy": "2023-02-08T10:18:51.822524Z",
     "iopub.status.idle": "2023-02-08T10:18:51.860524Z",
     "shell.execute_reply": "2023-02-08T10:18:51.856523Z"
    },
    "papermill": {
     "duration": 0.104607,
     "end_time": "2023-02-08T10:18:51.871551",
     "exception": false,
     "start_time": "2023-02-08T10:18:51.766944",
     "status": "completed"
    },
    "tags": []
   },
   "outputs": [
    {
     "data": {
      "text/plain": [
       "5       87026\n",
       "7       83850\n",
       "6       82993\n",
       "8       76767\n",
       "9       74409\n",
       "10      69379\n",
       "11      66974\n",
       "12      62250\n",
       "17      60701\n",
       "14      59854\n",
       "16      59432\n",
       "2019    58840\n",
       "15      58654\n",
       "13      58397\n",
       "18      57783\n",
       "2021    56518\n",
       "2020    47744\n",
       "Name: year, dtype: int64"
      ]
     },
     "execution_count": 31,
     "metadata": {},
     "output_type": "execute_result"
    }
   ],
   "source": [
    "characteristics['year'].value_counts()"
   ]
  },
  {
   "cell_type": "markdown",
   "id": "60a5c1be",
   "metadata": {
    "papermill": {
     "duration": 0.04501,
     "end_time": "2023-02-08T10:18:51.981087",
     "exception": false,
     "start_time": "2023-02-08T10:18:51.936077",
     "status": "completed"
    },
    "tags": []
   },
   "source": [
    "The year format is inconsistent. Until 2018, the year was relative to the year 2000, e.g. \"5\" for 2005. This changed, however, in 2019 which was labeled as 2019.\n",
    "We will change the year format to YYYY."
   ]
  },
  {
   "cell_type": "code",
   "execution_count": 32,
   "id": "d6e19db3",
   "metadata": {
    "execution": {
     "iopub.execute_input": "2023-02-08T10:18:52.055671Z",
     "iopub.status.busy": "2023-02-08T10:18:52.054667Z",
     "iopub.status.idle": "2023-02-08T10:18:52.175245Z",
     "shell.execute_reply": "2023-02-08T10:18:52.172235Z"
    },
    "papermill": {
     "duration": 0.161581,
     "end_time": "2023-02-08T10:18:52.180256",
     "exception": false,
     "start_time": "2023-02-08T10:18:52.018675",
     "status": "completed"
    },
    "tags": []
   },
   "outputs": [],
   "source": [
    "characteristics['year'].replace({5:2005, 6:2006, 7:2007, 8:2008, 9:2009, 10:2010, 11:2011,\n",
    "                                                         12:2012, 13:2013, 14:2014, 15:2015, 16:2016, 17:2017, 18:2018}, inplace=True)"
   ]
  },
  {
   "cell_type": "markdown",
   "id": "97859910",
   "metadata": {
    "papermill": {
     "duration": 0.038004,
     "end_time": "2023-02-08T10:18:52.263844",
     "exception": false,
     "start_time": "2023-02-08T10:18:52.225840",
     "status": "completed"
    },
    "tags": []
   },
   "source": [
    "### Fix inconsistent time format"
   ]
  },
  {
   "cell_type": "markdown",
   "id": "c96efe5c",
   "metadata": {
    "papermill": {
     "duration": 0.025571,
     "end_time": "2023-02-08T10:18:52.319411",
     "exception": false,
     "start_time": "2023-02-08T10:18:52.293840",
     "status": "completed"
    },
    "tags": []
   },
   "source": [
    "The time format inconsistent, sometimes it is hhmm, and sometimes hh:mm. We will therefore remove any \":\" from the column "
   ]
  },
  {
   "cell_type": "code",
   "execution_count": 33,
   "id": "8a5cc887",
   "metadata": {
    "execution": {
     "iopub.execute_input": "2023-02-08T10:18:52.423976Z",
     "iopub.status.busy": "2023-02-08T10:18:52.421979Z",
     "iopub.status.idle": "2023-02-08T10:18:54.724050Z",
     "shell.execute_reply": "2023-02-08T10:18:54.722062Z"
    },
    "lines_to_next_cell": 2,
    "papermill": {
     "duration": 2.381664,
     "end_time": "2023-02-08T10:18:54.731070",
     "exception": false,
     "start_time": "2023-02-08T10:18:52.349406",
     "status": "completed"
    },
    "tags": []
   },
   "outputs": [],
   "source": [
    "#remove ':' from hhmm\n",
    "characteristics['hhmm'] = characteristics['hhmm'].apply(lambda s: int(str(s).replace(':','')))"
   ]
  },
  {
   "cell_type": "markdown",
   "id": "124eae68",
   "metadata": {
    "papermill": {
     "duration": 0.037609,
     "end_time": "2023-02-08T10:18:54.809664",
     "exception": false,
     "start_time": "2023-02-08T10:18:54.772055",
     "status": "completed"
    },
    "tags": []
   },
   "source": [
    "### Get weekday and weekend feature"
   ]
  },
  {
   "cell_type": "code",
   "execution_count": 34,
   "id": "d65f9610",
   "metadata": {
    "execution": {
     "iopub.execute_input": "2023-02-08T10:18:54.907211Z",
     "iopub.status.busy": "2023-02-08T10:18:54.905680Z",
     "iopub.status.idle": "2023-02-08T10:18:55.025799Z",
     "shell.execute_reply": "2023-02-08T10:18:55.022801Z"
    },
    "papermill": {
     "duration": 0.166151,
     "end_time": "2023-02-08T10:18:55.028799",
     "exception": false,
     "start_time": "2023-02-08T10:18:54.862648",
     "status": "completed"
    },
    "tags": []
   },
   "outputs": [],
   "source": [
    "characteristics['date'] = pd.to_datetime({'year':characteristics['year'],\n",
    "                                                                 'month':dict_of_category_dfs['characteristics']['month'],\n",
    "                                                                 'day':dict_of_category_dfs['characteristics']['day']})"
   ]
  },
  {
   "cell_type": "code",
   "execution_count": 35,
   "id": "8ab00ee4",
   "metadata": {
    "execution": {
     "iopub.execute_input": "2023-02-08T10:18:55.111399Z",
     "iopub.status.busy": "2023-02-08T10:18:55.109382Z",
     "iopub.status.idle": "2023-02-08T10:18:58.168298Z",
     "shell.execute_reply": "2023-02-08T10:18:58.166298Z"
    },
    "papermill": {
     "duration": 3.100495,
     "end_time": "2023-02-08T10:18:58.173306",
     "exception": false,
     "start_time": "2023-02-08T10:18:55.072811",
     "status": "completed"
    },
    "tags": []
   },
   "outputs": [],
   "source": [
    "# New variable: weekday, integer from 0 to 6 representing the weekdays from monday to sunday.\n",
    "characteristics['day_of_week'] = dict_of_category_dfs['characteristics']['date'].apply(lambda x: x.day_of_week)\n",
    "\n",
    "# New binary variable: is_weekend, 0 for monday to friday and 1 for saturday and sunday\n",
    "characteristics['is_weekend'] = (dict_of_category_dfs['characteristics']['day_of_week'] > 4).astype('int')"
   ]
  },
  {
   "cell_type": "markdown",
   "id": "0875cfa7",
   "metadata": {
    "papermill": {
     "duration": 0.056937,
     "end_time": "2023-02-08T10:18:58.288792",
     "exception": false,
     "start_time": "2023-02-08T10:18:58.231855",
     "status": "completed"
    },
    "tags": []
   },
   "source": [
    "### Remove trailing zeroes from Department variable\n",
    "The Department codes are followed by a zero for the years 2005--2018, which has no practical use for us. We will therefore eliminate these trailing zeroes.\n",
    "Also, since 2019 all the data is saved as strings. We will convert everything to strings, as this is nominal data, we will not make any calculations with it."
   ]
  },
  {
   "cell_type": "code",
   "execution_count": 36,
   "id": "3423686e",
   "metadata": {
    "execution": {
     "iopub.execute_input": "2023-02-08T10:18:58.448903Z",
     "iopub.status.busy": "2023-02-08T10:18:58.446926Z",
     "iopub.status.idle": "2023-02-08T10:19:00.509648Z",
     "shell.execute_reply": "2023-02-08T10:19:00.506623Z"
    },
    "papermill": {
     "duration": 2.157888,
     "end_time": "2023-02-08T10:19:00.519215",
     "exception": false,
     "start_time": "2023-02-08T10:18:58.361327",
     "status": "completed"
    },
    "tags": []
   },
   "outputs": [],
   "source": [
    "def department_converter(dep):\n",
    "    # Takes in a department code as int and returns a string\n",
    "    # e.g. 750 will be '75' for Paris\n",
    "    # and 201 will be '2B'\n",
    "    if dep == 201:\n",
    "        return '2A'\n",
    "    elif dep == 202:\n",
    "        return '2B'\n",
    "    elif dep>970:\n",
    "        return str(dep)\n",
    "    else:\n",
    "        return str(dep).rstrip('0')\n",
    "\n",
    "characteristics.loc[(np.less(characteristics['year'],2019)),'department'] = \\\n",
    "    characteristics[(np.less(characteristics['year'],2019))]['department'].apply(department_converter)"
   ]
  },
  {
   "cell_type": "markdown",
   "id": "9ca95010",
   "metadata": {
    "papermill": {
     "duration": 0.027029,
     "end_time": "2023-02-08T10:19:00.609236",
     "exception": false,
     "start_time": "2023-02-08T10:19:00.582207",
     "status": "completed"
    },
    "tags": []
   },
   "source": [
    "### Remove leading zeros from department code\n",
    "The dataset from 2021 contains leading zeroes for the department codes 1 to 9. These have to be replaced."
   ]
  },
  {
   "cell_type": "code",
   "execution_count": 37,
   "id": "519c3819",
   "metadata": {
    "execution": {
     "iopub.execute_input": "2023-02-08T10:19:00.694773Z",
     "iopub.status.busy": "2023-02-08T10:19:00.691772Z",
     "iopub.status.idle": "2023-02-08T10:19:01.367878Z",
     "shell.execute_reply": "2023-02-08T10:19:01.364874Z"
    },
    "papermill": {
     "duration": 0.734122,
     "end_time": "2023-02-08T10:19:01.372886",
     "exception": false,
     "start_time": "2023-02-08T10:19:00.638764",
     "status": "completed"
    },
    "tags": []
   },
   "outputs": [],
   "source": [
    "characteristics['department'] = characteristics['department'].apply(lambda code: code.lstrip('0'))"
   ]
  },
  {
   "cell_type": "markdown",
   "id": "caf5d3d3",
   "metadata": {
    "papermill": {
     "duration": 0.027995,
     "end_time": "2023-02-08T10:19:01.445429",
     "exception": false,
     "start_time": "2023-02-08T10:19:01.417434",
     "status": "completed"
    },
    "tags": []
   },
   "source": [
    "### Fill missing values in atmospheric conditions variable"
   ]
  },
  {
   "cell_type": "code",
   "execution_count": 38,
   "id": "716ef7d8",
   "metadata": {
    "execution": {
     "iopub.execute_input": "2023-02-08T10:19:01.505436Z",
     "iopub.status.busy": "2023-02-08T10:19:01.504434Z",
     "iopub.status.idle": "2023-02-08T10:19:01.570995Z",
     "shell.execute_reply": "2023-02-08T10:19:01.568993Z"
    },
    "papermill": {
     "duration": 0.10155,
     "end_time": "2023-02-08T10:19:01.574993",
     "exception": false,
     "start_time": "2023-02-08T10:19:01.473443",
     "status": "completed"
    },
    "tags": []
   },
   "outputs": [],
   "source": [
    "characteristics['atmospheric_conditions'] = characteristics['atmospheric_conditions'].fillna(\n",
    "    characteristics['atmospheric_conditions'].mode()[0])"
   ]
  },
  {
   "cell_type": "markdown",
   "id": "7eff25f2",
   "metadata": {
    "papermill": {
     "duration": 0.024214,
     "end_time": "2023-02-08T10:19:01.628218",
     "exception": false,
     "start_time": "2023-02-08T10:19:01.604004",
     "status": "completed"
    },
    "tags": []
   },
   "source": [
    "### Fill missing values in collision category variable"
   ]
  },
  {
   "cell_type": "code",
   "execution_count": 39,
   "id": "6e520a03",
   "metadata": {
    "execution": {
     "iopub.execute_input": "2023-02-08T10:19:01.679210Z",
     "iopub.status.busy": "2023-02-08T10:19:01.678217Z",
     "iopub.status.idle": "2023-02-08T10:19:01.730804Z",
     "shell.execute_reply": "2023-02-08T10:19:01.727809Z"
    },
    "papermill": {
     "duration": 0.08157,
     "end_time": "2023-02-08T10:19:01.735808",
     "exception": false,
     "start_time": "2023-02-08T10:19:01.654238",
     "status": "completed"
    },
    "tags": []
   },
   "outputs": [],
   "source": [
    "characteristics['collision_category'] = characteristics['collision_category'].fillna(\n",
    "    characteristics['collision_category'].mode()[0])"
   ]
  },
  {
   "cell_type": "markdown",
   "id": "540f3a66",
   "metadata": {
    "papermill": {
     "duration": 0.080593,
     "end_time": "2023-02-08T10:19:01.888412",
     "exception": false,
     "start_time": "2023-02-08T10:19:01.807819",
     "status": "completed"
    },
    "tags": []
   },
   "source": [
    "## Vehicles dataset"
   ]
  },
  {
   "cell_type": "markdown",
   "id": "54046fbf",
   "metadata": {
    "papermill": {
     "duration": 0.062543,
     "end_time": "2023-02-08T10:19:02.025346",
     "exception": false,
     "start_time": "2023-02-08T10:19:01.962803",
     "status": "completed"
    },
    "tags": []
   },
   "source": [
    "### Translating the variable names from French to English"
   ]
  },
  {
   "cell_type": "code",
   "execution_count": 40,
   "id": "f98f87b1",
   "metadata": {
    "execution": {
     "iopub.execute_input": "2023-02-08T10:19:02.122889Z",
     "iopub.status.busy": "2023-02-08T10:19:02.120894Z",
     "iopub.status.idle": "2023-02-08T10:19:02.399060Z",
     "shell.execute_reply": "2023-02-08T10:19:02.395011Z"
    },
    "papermill": {
     "duration": 0.327711,
     "end_time": "2023-02-08T10:19:02.406049",
     "exception": false,
     "start_time": "2023-02-08T10:19:02.078338",
     "status": "completed"
    },
    "tags": []
   },
   "outputs": [
    {
     "data": {
      "text/plain": [
       "Index(['Num_Acc', 'direction', 'cat_veh', 'num_occupants', 'obstacle',\n",
       "       'obstacle_movable', 'initial_point', 'principal_maneuver', 'num_veh',\n",
       "       'id_veh', 'motor_veh'],\n",
       "      dtype='object')"
      ]
     },
     "execution_count": 40,
     "metadata": {},
     "output_type": "execute_result"
    }
   ],
   "source": [
    "vehicles = vehicles.rename(columns = {'id_vehicule' : 'id_veh' , 'num_veh' : 'num_veh' ,\n",
    "                           'senc' : 'direction' , 'catv' : 'cat_veh', 'obs' : 'obstacle', 'obsm' : 'obstacle_movable' ,\n",
    "                          'choc' : 'initial_point' , 'manv' : 'principal_maneuver' , 'motor' : 'motor_veh', 'occutc' : 'num_occupants'})\n",
    "vehicles.columns"
   ]
  },
  {
   "cell_type": "markdown",
   "id": "6c69c467",
   "metadata": {
    "papermill": {
     "duration": 0.033983,
     "end_time": "2023-02-08T10:19:02.487597",
     "exception": false,
     "start_time": "2023-02-08T10:19:02.453614",
     "status": "completed"
    },
    "tags": []
   },
   "source": [
    "### Check of the variables with the most missing values"
   ]
  },
  {
   "cell_type": "markdown",
   "id": "fa66e8a8",
   "metadata": {
    "papermill": {
     "duration": 0.029995,
     "end_time": "2023-02-08T10:19:02.548185",
     "exception": false,
     "start_time": "2023-02-08T10:19:02.518190",
     "status": "completed"
    },
    "tags": []
   },
   "source": [
    "Variable num_occupants is representing amount of passangers being victims of an accident when they used public transport system. Missing values are caused by not recording value 0 and keeping the cell empty. For this reason we decided to replace the missing values by 0."
   ]
  },
  {
   "cell_type": "code",
   "execution_count": 41,
   "id": "b69e5f1c",
   "metadata": {
    "execution": {
     "iopub.execute_input": "2023-02-08T10:19:02.603197Z",
     "iopub.status.busy": "2023-02-08T10:19:02.602192Z",
     "iopub.status.idle": "2023-02-08T10:19:02.714330Z",
     "shell.execute_reply": "2023-02-08T10:19:02.712791Z"
    },
    "papermill": {
     "duration": 0.143151,
     "end_time": "2023-02-08T10:19:02.720335",
     "exception": false,
     "start_time": "2023-02-08T10:19:02.577184",
     "status": "completed"
    },
    "tags": []
   },
   "outputs": [
    {
     "data": {
      "text/plain": [
       "0"
      ]
     },
     "execution_count": 41,
     "metadata": {},
     "output_type": "execute_result"
    }
   ],
   "source": [
    "vehicles[\"num_occupants\"] = vehicles[\"num_occupants\"].fillna(0)\n",
    "vehicles['num_occupants'].isna().sum()"
   ]
  },
  {
   "cell_type": "code",
   "execution_count": 42,
   "id": "f82c37bc",
   "metadata": {
    "execution": {
     "iopub.execute_input": "2023-02-08T10:19:02.805366Z",
     "iopub.status.busy": "2023-02-08T10:19:02.803362Z",
     "iopub.status.idle": "2023-02-08T10:19:02.855921Z",
     "shell.execute_reply": "2023-02-08T10:19:02.853924Z"
    },
    "papermill": {
     "duration": 0.098602,
     "end_time": "2023-02-08T10:19:02.861934",
     "exception": false,
     "start_time": "2023-02-08T10:19:02.763332",
     "status": "completed"
    },
    "tags": []
   },
   "outputs": [
    {
     "data": {
      "text/plain": [
       "0.0      1901517\n",
       "1.0         7079\n",
       "2.0         1033\n",
       "10.0         654\n",
       "3.0          544\n",
       "          ...   \n",
       "97.0           1\n",
       "73.0           1\n",
       "102.0          1\n",
       "82.0           1\n",
       "78.0           1\n",
       "Name: num_occupants, Length: 124, dtype: int64"
      ]
     },
     "execution_count": 42,
     "metadata": {},
     "output_type": "execute_result"
    }
   ],
   "source": [
    "vehicles['num_occupants'].value_counts()"
   ]
  },
  {
   "cell_type": "markdown",
   "id": "d9fd865e",
   "metadata": {
    "papermill": {
     "duration": 0.043534,
     "end_time": "2023-02-08T10:19:02.956479",
     "exception": false,
     "start_time": "2023-02-08T10:19:02.912945",
     "status": "completed"
    },
    "tags": []
   },
   "source": [
    "The variable motor_veh represents the type of the motorisation of the vehicle. There are 85 % missing values in this column. Some of the values of this variable don't specificate an exact type but are tracked as unspecified, unknown, or other. We have decided to drop this variable as it doesn't have any significant influence on the target variable. "
   ]
  },
  {
   "cell_type": "code",
   "execution_count": 43,
   "id": "f54ae698",
   "metadata": {
    "execution": {
     "iopub.execute_input": "2023-02-08T10:19:03.045079Z",
     "iopub.status.busy": "2023-02-08T10:19:03.043083Z",
     "iopub.status.idle": "2023-02-08T10:19:03.222294Z",
     "shell.execute_reply": "2023-02-08T10:19:03.219325Z"
    },
    "papermill": {
     "duration": 0.225785,
     "end_time": "2023-02-08T10:19:03.227294",
     "exception": false,
     "start_time": "2023-02-08T10:19:03.001509",
     "status": "completed"
    },
    "tags": []
   },
   "outputs": [],
   "source": [
    "vehicles = vehicles.drop(columns=['motor_veh'])"
   ]
  },
  {
   "cell_type": "markdown",
   "id": "9afe3a6f",
   "metadata": {
    "papermill": {
     "duration": 0.048485,
     "end_time": "2023-02-08T10:19:03.315797",
     "exception": false,
     "start_time": "2023-02-08T10:19:03.267312",
     "status": "completed"
    },
    "tags": []
   },
   "source": [
    "8 Variables have <= 1% missing information, so for those it should be fine to set the missing information just to zero."
   ]
  },
  {
   "cell_type": "code",
   "execution_count": 44,
   "id": "c462a9c8",
   "metadata": {
    "execution": {
     "iopub.execute_input": "2023-02-08T10:19:03.404818Z",
     "iopub.status.busy": "2023-02-08T10:19:03.402840Z",
     "iopub.status.idle": "2023-02-08T10:19:04.865171Z",
     "shell.execute_reply": "2023-02-08T10:19:04.863162Z"
    },
    "papermill": {
     "duration": 1.512353,
     "end_time": "2023-02-08T10:19:04.869160",
     "exception": false,
     "start_time": "2023-02-08T10:19:03.356807",
     "status": "completed"
    },
    "tags": []
   },
   "outputs": [
    {
     "data": {
      "text/plain": [
       "Num_Acc                     0\n",
       "direction                   0\n",
       "cat_veh                     0\n",
       "num_occupants               0\n",
       "obstacle                    0\n",
       "obstacle_movable            0\n",
       "initial_point               0\n",
       "principal_maneuver          0\n",
       "num_veh                     0\n",
       "id_veh                1635811\n",
       "dtype: int64"
      ]
     },
     "execution_count": 44,
     "metadata": {},
     "output_type": "execute_result"
    }
   ],
   "source": [
    "vehicles[['Num_Acc', 'direction', 'cat_veh', 'obstacle', 'obstacle_movable', 'initial_point', 'principal_maneuver']] = vehicles[['Num_Acc', 'direction', 'cat_veh', 'obstacle', 'obstacle_movable', 'initial_point', 'principal_maneuver']].fillna(0)\n",
    "vehicles.isna().sum()"
   ]
  },
  {
   "cell_type": "markdown",
   "id": "bbc60046",
   "metadata": {
    "papermill": {
     "duration": 0.061008,
     "end_time": "2023-02-08T10:19:04.977445",
     "exception": false,
     "start_time": "2023-02-08T10:19:04.916437",
     "status": "completed"
    },
    "tags": []
   },
   "source": [
    "# Merge all datasets"
   ]
  },
  {
   "cell_type": "markdown",
   "id": "2ab8d4c0",
   "metadata": {
    "papermill": {
     "duration": 0.066002,
     "end_time": "2023-02-08T10:19:05.099041",
     "exception": false,
     "start_time": "2023-02-08T10:19:05.033039",
     "status": "completed"
    },
    "tags": []
   },
   "source": [
    "## Ensure Correct Attribution of Users to Vehicles"
   ]
  },
  {
   "cell_type": "code",
   "execution_count": 45,
   "id": "2b0944b9",
   "metadata": {
    "execution": {
     "iopub.execute_input": "2023-02-08T10:19:05.319738Z",
     "iopub.status.busy": "2023-02-08T10:19:05.318737Z",
     "iopub.status.idle": "2023-02-08T10:19:07.177960Z",
     "shell.execute_reply": "2023-02-08T10:19:07.174961Z"
    },
    "papermill": {
     "duration": 2.036364,
     "end_time": "2023-02-08T10:19:07.182987",
     "exception": false,
     "start_time": "2023-02-08T10:19:05.146623",
     "status": "completed"
    },
    "tags": []
   },
   "outputs": [],
   "source": [
    "users['id_vehicule'].fillna(users['num_veh'], inplace=True)\n",
    "users.drop(columns=['num_veh'], inplace=True)\n",
    "users.rename(columns={'id_vehicule': 'id_veh'}, inplace=True)\n",
    "users.set_index(['Num_Acc', 'id_veh'], inplace=True)"
   ]
  },
  {
   "cell_type": "markdown",
   "id": "93ee6223",
   "metadata": {
    "papermill": {
     "duration": 0.028993,
     "end_time": "2023-02-08T10:19:07.264535",
     "exception": false,
     "start_time": "2023-02-08T10:19:07.235542",
     "status": "completed"
    },
    "tags": []
   },
   "source": [
    "## Left Join for further investigations\n",
    "We will continue working with the left join of the data, as the missing lines miss the most important variables anyway."
   ]
  },
  {
   "cell_type": "code",
   "execution_count": 46,
   "id": "8398230b",
   "metadata": {
    "execution": {
     "iopub.execute_input": "2023-02-08T10:19:07.341135Z",
     "iopub.status.busy": "2023-02-08T10:19:07.339127Z",
     "iopub.status.idle": "2023-02-08T10:19:20.626515Z",
     "shell.execute_reply": "2023-02-08T10:19:20.623515Z"
    },
    "papermill": {
     "duration": 13.335532,
     "end_time": "2023-02-08T10:19:20.633070",
     "exception": false,
     "start_time": "2023-02-08T10:19:07.297538",
     "status": "completed"
    },
    "tags": []
   },
   "outputs": [
    {
     "name": "stdout",
     "output_type": "stream",
     "text": [
      "place                      0.000000\n",
      "User_category              0.000000\n",
      "Severity                   0.000000\n",
      "Sex                        0.000000\n",
      "Trajectory                 0.000000\n",
      "LOCP                       0.000000\n",
      "ACTP                       0.000000\n",
      "StateP                     0.000000\n",
      "YoB                        0.000000\n",
      "Security                   0.000000\n",
      "Num_Acc                    0.000000\n",
      "direction                 85.359337\n",
      "cat_veh                   85.359337\n",
      "num_occupants             85.359337\n",
      "obstacle                  85.359337\n",
      "obstacle_movable          85.359337\n",
      "initial_point             85.359337\n",
      "principal_maneuver        85.359337\n",
      "num_veh                   85.359337\n",
      "id_veh                     0.000000\n",
      "year                       0.000000\n",
      "month                      0.000000\n",
      "day                        0.000000\n",
      "hhmm                       0.000000\n",
      "daylight                   0.000000\n",
      "built-up_area              0.000000\n",
      "intersection_category      0.000000\n",
      "atmospheric_conditions     0.000000\n",
      "collision_category         0.000000\n",
      "municipality               0.000239\n",
      "adress                    13.695579\n",
      "gps_origin                56.303823\n",
      "latitude                  42.472167\n",
      "longitude                 42.472566\n",
      "department                 0.000000\n",
      "date                       0.000000\n",
      "day_of_week                0.000000\n",
      "is_weekend                 0.000000\n",
      "Rd_Cat                     0.000000\n",
      "Traf_Direct                0.000000\n",
      "Lanes                      0.000000\n",
      "Landmark                   0.000000\n",
      "Dist_to_Landmark           0.000000\n",
      "Add_Lanes                  0.000000\n",
      "Rd_Prof                    0.000000\n",
      "Rd_Plan                    0.000000\n",
      "Gre_Verge                  0.000000\n",
      "Rd_Width                   0.000000\n",
      "Rd_Cond                    0.000000\n",
      "Envinmt                    0.000000\n",
      "Pos_Acc                    0.000000\n",
      "dtype: float64\n"
     ]
    }
   ],
   "source": [
    "df = users.merge(vehicles, how='left', left_index=True, right_on=['Num_Acc', 'id_veh']) \\\n",
    "     .merge(characteristics, how='left', on='Num_Acc') \\\n",
    "     .merge(places, how='left', on='Num_Acc')\n",
    "\n",
    "print(na_percentage(df))"
   ]
  },
  {
   "cell_type": "code",
   "execution_count": 47,
   "id": "7bf3e23a",
   "metadata": {
    "execution": {
     "iopub.execute_input": "2023-02-08T10:19:20.745690Z",
     "iopub.status.busy": "2023-02-08T10:19:20.743686Z",
     "iopub.status.idle": "2023-02-08T10:19:21.117077Z",
     "shell.execute_reply": "2023-02-08T10:19:21.114076Z"
    },
    "papermill": {
     "duration": 0.432017,
     "end_time": "2023-02-08T10:19:21.124085",
     "exception": false,
     "start_time": "2023-02-08T10:19:20.692068",
     "status": "completed"
    },
    "tags": []
   },
   "outputs": [],
   "source": [
    "del characteristics, places, vehicles, users, dict_of_category_dfs"
   ]
  },
  {
   "cell_type": "markdown",
   "id": "e856e5e7",
   "metadata": {
    "papermill": {
     "duration": 0.046015,
     "end_time": "2023-02-08T10:19:21.220835",
     "exception": false,
     "start_time": "2023-02-08T10:19:21.174820",
     "status": "completed"
    },
    "tags": []
   },
   "source": [
    "## One-Hot Encoding of Categorical Features"
   ]
  },
  {
   "cell_type": "code",
   "execution_count": 48,
   "id": "45ee075c",
   "metadata": {
    "execution": {
     "iopub.execute_input": "2023-02-08T10:19:21.326437Z",
     "iopub.status.busy": "2023-02-08T10:19:21.324419Z",
     "iopub.status.idle": "2023-02-08T10:19:30.498471Z",
     "shell.execute_reply": "2023-02-08T10:19:30.494468Z"
    },
    "papermill": {
     "duration": 9.235076,
     "end_time": "2023-02-08T10:19:30.505482",
     "exception": false,
     "start_time": "2023-02-08T10:19:21.270406",
     "status": "completed"
    },
    "tags": []
   },
   "outputs": [],
   "source": [
    "df = pd.get_dummies(df.sample(frac=0.1),columns=['daylight', 'built-up_area', 'intersection_category', \n",
    "       'atmospheric_conditions', 'collision_category', 'Rd_Cat',\n",
    "       'Traf_Direct', 'Add_Lanes', 'Rd_Prof', 'Rd_Plan', \n",
    "       'Rd_Cond', 'Envinmt', 'Pos_Acc', 'place', 'User_category',\n",
    "       'Sex', 'Trajectory', 'LOCP', 'ACTP', 'StateP', 'direction', \n",
    "       'cat_veh', 'obstacle', 'obstacle_movable', 'initial_point', 'principal_maneuver',\n",
    "       'department', 'Rd_Cat', 'Traf_Direct', 'Lanes', 'Landmark',\n",
    "       'Dist_to_Landmark', 'Add_Lanes', 'Rd_Prof', 'Rd_Plan', 'Gre_Verge',\n",
    "       'Rd_Width', 'Rd_Cond', 'Envinmt', 'Pos_Acc', 'place',\n",
    "       'User_category', 'Sex', 'Trajectory', 'LOCP', 'ACTP',\n",
    "       'StateP', 'YoB', 'Security', 'direction', 'cat_veh',\n",
    "       'num_occupants', 'obstacle', 'obstacle_movable', 'initial_point',\n",
    "       'principal_maneuver'])"
   ]
  },
  {
   "cell_type": "markdown",
   "id": "819d15a6",
   "metadata": {
    "papermill": {
     "duration": 0.064018,
     "end_time": "2023-02-08T10:19:30.633059",
     "exception": false,
     "start_time": "2023-02-08T10:19:30.569041",
     "status": "completed"
    },
    "tags": []
   },
   "source": [
    "# Export DataFrame to Pickle \n",
    "This step is necessary to be able to work with the data in another notebook."
   ]
  },
  {
   "cell_type": "code",
   "execution_count": 49,
   "id": "b8033430",
   "metadata": {
    "execution": {
     "iopub.execute_input": "2023-02-08T10:19:30.770176Z",
     "iopub.status.busy": "2023-02-08T10:19:30.766178Z",
     "iopub.status.idle": "2023-02-08T10:19:33.261556Z",
     "shell.execute_reply": "2023-02-08T10:19:33.259568Z"
    },
    "papermill": {
     "duration": 2.583941,
     "end_time": "2023-02-08T10:19:33.267558",
     "exception": false,
     "start_time": "2023-02-08T10:19:30.683617",
     "status": "completed"
    },
    "tags": []
   },
   "outputs": [],
   "source": [
    "df.to_pickle('../data/df.p')"
   ]
  },
  {
   "cell_type": "markdown",
   "id": "62c1fe0d",
   "metadata": {
    "papermill": {
     "duration": 0.039572,
     "end_time": "2023-02-08T10:19:33.361126",
     "exception": false,
     "start_time": "2023-02-08T10:19:33.321554",
     "status": "completed"
    },
    "tags": []
   },
   "source": [
    "The pickle file is too big to track on github, we will therefore create a second file which contains the output of the describe-method as well as the number of nans for each column and the dtypes of the DataFrame."
   ]
  },
  {
   "cell_type": "code",
   "execution_count": 50,
   "id": "fdc3b70a",
   "metadata": {
    "execution": {
     "iopub.execute_input": "2023-02-08T10:19:33.484704Z",
     "iopub.status.busy": "2023-02-08T10:19:33.483710Z",
     "iopub.status.idle": "2023-02-08T10:20:11.115785Z",
     "shell.execute_reply": "2023-02-08T10:20:11.113783Z"
    },
    "papermill": {
     "duration": 37.718681,
     "end_time": "2023-02-08T10:20:11.120795",
     "exception": false,
     "start_time": "2023-02-08T10:19:33.402114",
     "status": "completed"
    },
    "tags": []
   },
   "outputs": [],
   "source": [
    "df_check_info = pyfra.df_testing_info(df)\n",
    "df_check_info.to_csv('../data/df_check_info.csv')"
   ]
  }
 ],
 "metadata": {
  "jupytext": {
   "cell_metadata_filter": "-LanguageId",
   "formats": "ipynb,py:light",
   "main_language": "python",
   "notebook_metadata_filter": "-kernelspec"
  },
  "language_info": {
   "codemirror_mode": {
    "name": "ipython",
    "version": 3
   },
   "file_extension": ".py",
   "mimetype": "text/x-python",
   "name": "python",
   "nbconvert_exporter": "python",
   "pygments_lexer": "ipython3",
   "version": "3.10.9"
  },
  "papermill": {
   "default_parameters": {},
   "duration": 128.325469,
   "end_time": "2023-02-08T10:20:12.327935",
   "environment_variables": {},
   "exception": null,
   "input_path": "pyfra_nb_2.ipynb",
   "output_path": "pyfra_nb_2.ipynb",
   "parameters": {},
   "start_time": "2023-02-08T10:18:04.002466",
   "version": "2.4.0"
  }
 },
 "nbformat": 4,
 "nbformat_minor": 5
}