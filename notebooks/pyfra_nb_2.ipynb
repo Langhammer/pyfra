{
 "cells": [
  {
   "cell_type": "markdown",
   "id": "a96e628f",
   "metadata": {},
   "source": [
    "Notebook 2\n",
    "==============\n",
    "Data Cleaning and Feature Engineering"
   ]
  },
  {
   "cell_type": "code",
   "execution_count": null,
   "id": "3035a5ae",
   "metadata": {},
   "outputs": [],
   "source": [
    "import pandas as pd\n",
    "import numpy as np\n",
    "from matplotlib import pyplot as plt\n",
    "import pyfra\n",
    "import seaborn as sns"
   ]
  },
  {
   "cell_type": "markdown",
   "id": "caccb76e",
   "metadata": {},
   "source": [
    "# Data import & pulling\n",
    "\n",
    "We have imported the data and separated them into four different categories: characteristics,places,users,vehicles."
   ]
  },
  {
   "cell_type": "code",
   "execution_count": null,
   "id": "78854b1f",
   "metadata": {},
   "outputs": [],
   "source": [
    "french_categories = {'characteristics': 'caracteristiques', 'places':'lieux', 'users':'usagers', 'vehicles':'vehicules'}\n",
    "data_categories = french_categories.keys()\n",
    "categories_dict = dict(zip(data_categories, [0,0,0,0]))"
   ]
  },
  {
   "cell_type": "code",
   "execution_count": null,
   "id": "55b5775d",
   "metadata": {
    "lines_to_next_cell": 2
   },
   "outputs": [],
   "source": [
    "# Define the function that reads the raw data for the specified time range\n",
    "def read_csv_of_year(start_year, end_year, separators, name_separator='_'):\n",
    "    if len (separators)<4:\n",
    "        separators = [separators]*4\n",
    "        \n",
    "    df_dict = {}\n",
    "    for year in range(start_year,end_year+1):\n",
    "        this_year_str = str(year)\n",
    "        # Data Category\n",
    "        this_df_dict = {}        \n",
    "        for this_category, this_sep in zip(data_categories, separators):\n",
    "            # We need the French name of the category for the filename\n",
    "            this_french_category = french_categories[this_category]\n",
    "            this_file_path_and_name = '../data/'+this_year_str+'/' + this_french_category+name_separator+this_year_str+'.csv'\n",
    "            this_df_dict[this_category] = pd.read_csv(this_file_path_and_name, encoding='latin-1', sep=this_sep, low_memory=False)\n",
    "        df_dict[year] = this_df_dict\n",
    "    return df_dict\n",
    "\n",
    "# Import years\n",
    "df_dict = {}\n",
    "df_dict.update(read_csv_of_year(2005, 2008, separators=','))\n",
    "df_dict.update(read_csv_of_year(2009,2009, separators=['\\t', ',', ',', ',']))\n",
    "df_dict.update(read_csv_of_year(2010, 2016, separators=','))\n",
    "df_dict.update(read_csv_of_year(2017, 2018, separators=',', name_separator='-'))\n",
    "df_dict.update(read_csv_of_year(2019, 2021, separators=';', name_separator='-'))"
   ]
  },
  {
   "cell_type": "code",
   "execution_count": null,
   "id": "a3f55296",
   "metadata": {},
   "outputs": [],
   "source": [
    "dict_of_category_dfs = {}\n",
    "for this_category in data_categories:\n",
    "    dict_of_category_dfs[this_category] = pd.concat([df_dict[year][this_category] for year in range(2005,2022)], ignore_index=True)\n",
    "\n",
    "characteristics = dict_of_category_dfs['characteristics']\n",
    "places = dict_of_category_dfs['places']\n",
    "users = dict_of_category_dfs['users']\n",
    "vehicles = dict_of_category_dfs['vehicles']"
   ]
  },
  {
   "cell_type": "markdown",
   "id": "a9f0606c",
   "metadata": {},
   "source": [
    "# Data Cleaning\n",
    "We will perform some of the cleaning of the data on the individual datasets. Not all cleaning is possible before merging the datasets, so there will be a second round of cleaning."
   ]
  },
  {
   "cell_type": "markdown",
   "id": "bebb0868",
   "metadata": {},
   "source": [
    "## Calculate the percentage of missing values for each dataframe"
   ]
  },
  {
   "cell_type": "code",
   "execution_count": null,
   "id": "813d9d10",
   "metadata": {},
   "outputs": [],
   "source": [
    "def na_percentage(df):\n",
    "  return df.isna().sum() *100 / len(df)"
   ]
  },
  {
   "cell_type": "code",
   "execution_count": null,
   "id": "b9b41f57",
   "metadata": {},
   "outputs": [],
   "source": [
    "for this_category, df in dict_of_category_dfs.items():\n",
    "    print(this_category+'\\n', na_percentage(df),'\\n')"
   ]
  },
  {
   "cell_type": "markdown",
   "id": "16683c29",
   "metadata": {},
   "source": [
    "## Users Dataset\n",
    "\n",
    "Dropping unwanted columns: which are num_veh , id_vehicule, and Num_Acc"
   ]
  },
  {
   "cell_type": "code",
   "execution_count": null,
   "id": "27f35c19",
   "metadata": {},
   "outputs": [],
   "source": [
    "users = users.drop(columns=['num_veh','id_vehicule']) #Not needed #2509620 "
   ]
  },
  {
   "cell_type": "code",
   "execution_count": null,
   "id": "3b8369b0",
   "metadata": {},
   "outputs": [],
   "source": [
    "#Grav\n",
    "users.grav.replace(to_replace=-1,value=1,inplace=True)"
   ]
  },
  {
   "cell_type": "code",
   "execution_count": null,
   "id": "6c12d7bf",
   "metadata": {
    "lines_to_next_cell": 2
   },
   "outputs": [],
   "source": [
    "#Place\n",
    "\n",
    "users.place.value_counts()\n",
    "users.place.fillna(1,inplace=True) #replace is with mode\n",
    "users.place.replace(to_replace=-1,value=0,inplace=True) #-1 is unassigned , will put 0 unknown #Same result"
   ]
  },
  {
   "cell_type": "code",
   "execution_count": null,
   "id": "478ab684",
   "metadata": {},
   "outputs": [],
   "source": [
    "#Trajet\n",
    "\n",
    "users.trajet.replace(to_replace=-1,value=0,inplace=True) #-1 is unassigned , will put 0 unknown #Same result\n",
    "users.trajet.fillna(5,inplace=True) #replace is with mode"
   ]
  },
  {
   "cell_type": "code",
   "execution_count": null,
   "id": "7f178f1d",
   "metadata": {},
   "outputs": [],
   "source": [
    "#locp\n",
    "\n",
    "users.locp.replace(to_replace=-1,value=0,inplace=True) #-1 is unassigned , will put 0 unknown #Same result\n",
    "users.locp.value_counts()\n",
    "users.locp.fillna(0,inplace=True) #replace is with mode"
   ]
  },
  {
   "cell_type": "code",
   "execution_count": null,
   "id": "f3a94db7",
   "metadata": {},
   "outputs": [],
   "source": [
    "#actp\n",
    "\n",
    "users.actp.replace(to_replace=['B'],value=0,inplace=True)#-1,B is unassigned , will put 0 unknown #Same result\n",
    "users.actp.replace(to_replace=' -1',value=0,inplace=True)\n",
    "users.actp.replace(to_replace=['A'],value=8,inplace=True) #A is coming in/out of vehicule , will put 8 instead (int)\n",
    "users.actp.fillna(0,inplace=True) #replace is with mode\n",
    "\n",
    "users.actp.replace(to_replace='0',value=0,inplace=True)\n",
    "users.actp.replace(to_replace='1',value=1,inplace=True)\n",
    "users.actp.replace(to_replace='2',value=2,inplace=True)\n",
    "users.actp.replace(to_replace='3',value=3,inplace=True)\n",
    "users.actp.replace(to_replace='4',value=4,inplace=True)\n",
    "users.actp.replace(to_replace='5',value=5,inplace=True)\n",
    "users.actp.replace(to_replace='6',value=6,inplace=True)\n",
    "users.actp.replace(to_replace='7',value=7,inplace=True)\n",
    "users.actp.replace(to_replace='8',value=8,inplace=True)\n",
    "users.actp.replace(to_replace='9',value=9,inplace=True)"
   ]
  },
  {
   "cell_type": "code",
   "execution_count": null,
   "id": "919eb028",
   "metadata": {},
   "outputs": [],
   "source": [
    "#etatp\n",
    "\n",
    "users.etatp.replace(to_replace=-1,value=0,inplace=True) #-1, is unassigned , will put 0 unknown #Same result\n",
    "users.etatp.isna().sum() #119291\n",
    "users.etatp.value_counts() \n",
    "users.etatp.fillna(0,inplace=True) #replace is with mode"
   ]
  },
  {
   "cell_type": "code",
   "execution_count": null,
   "id": "29773f35",
   "metadata": {},
   "outputs": [],
   "source": [
    "#an_nais\n",
    "\n",
    "users.an_nais.isna().sum() #10080\n",
    "users.an_nais.value_counts() \n",
    "users.an_nais.fillna(1986.0,inplace=True)\n",
    "#replace is with mode #the first 5 values of value_counts are close to each other\n"
   ]
  },
  {
   "cell_type": "code",
   "execution_count": null,
   "id": "30f80aa4",
   "metadata": {},
   "outputs": [],
   "source": [
    "#Sex \n",
    "users.sexe.replace(to_replace=-1,value=1,inplace=True)"
   ]
  },
  {
   "cell_type": "markdown",
   "id": "5613e2d6",
   "metadata": {},
   "source": [
    "### Fixing incoherency of 'secu' Variable\n",
    "Safety equipment until 2018 was in 2 variables: existence and use.\n",
    "\n",
    "From 2019, it is the use with up to 3 possible equipments for the same user\n",
    "(especially for motorcyclists whose helmet and gloves are mandatory).\n",
    "\n",
    "#secu1\n",
    "The character information indicates the presence and use of the safety equipment:\n",
    "-1 - No information\n",
    "0 - No equipment\n",
    "1 - Belt\n",
    "2 - Helmet\n",
    "3 - Children device\n",
    "4 - Reflective vest\n",
    "5 - Airbag (2WD/3WD)\n",
    "6 - Gloves (2WD/3WD)\n",
    "7 - Gloves + Airbag (2WD/3WD)\n",
    "8 - Non-determinable\n",
    "9 - Other\n",
    "\n",
    "#secu2\n",
    "The character information indicates the presence and use of the safety equipment\n",
    "\n",
    "#secu3\n",
    "The character information indicates the presence and use of safety equipment"
   ]
  },
  {
   "cell_type": "code",
   "execution_count": null,
   "id": "ab21f974",
   "metadata": {},
   "outputs": [],
   "source": [
    "#Security \n",
    "users.drop(columns='secu3',inplace=True)"
   ]
  },
  {
   "cell_type": "code",
   "execution_count": null,
   "id": "4afdbf17",
   "metadata": {},
   "outputs": [],
   "source": [
    "users"
   ]
  },
  {
   "cell_type": "code",
   "execution_count": null,
   "id": "931cb2e2",
   "metadata": {},
   "outputs": [],
   "source": [
    "#secu has some missing values for older years , must fill with mode before continuing\n",
    "\n",
    "users.secu[:2142195].fillna(value=1,inplace=True)"
   ]
  },
  {
   "cell_type": "code",
   "execution_count": null,
   "id": "7575240b",
   "metadata": {},
   "outputs": [],
   "source": [
    "users['SecuA'] = ((users.secu - users.secu%10)/10) #Type of security Used\n",
    "users['SecuB']=   users.secu%10  # Was the security used or No\n",
    "\n",
    "#SecuA is not very important we will focus on secuB if the item was used or not to facilitate study"
   ]
  },
  {
   "cell_type": "code",
   "execution_count": null,
   "id": "14d5815c",
   "metadata": {},
   "outputs": [],
   "source": [
    "# 0 is unknown change to others 9 \n",
    "users.SecuA.replace(to_replace=0,value=9,inplace=True)"
   ]
  },
  {
   "cell_type": "code",
   "execution_count": null,
   "id": "641e5bcb",
   "metadata": {},
   "outputs": [],
   "source": [
    "# 2-No 3-UnDeterminable 0-Unknown , change all to 0 not used\n",
    "users.SecuB.replace(to_replace=3,value=0,inplace=True)\n",
    "users.SecuB.replace(to_replace=2,value=0,inplace=True)"
   ]
  },
  {
   "cell_type": "markdown",
   "id": "39c68042",
   "metadata": {},
   "source": [
    "For Secu1-secu2 \n",
    "We will gather all usage for security variable with 1 value {1} , and if there is no safety we will use {0} , No need to take multiple security parameters (secu2) we will noly take into consideration 1 security variable for comparibility with earlier years."
   ]
  },
  {
   "cell_type": "code",
   "execution_count": null,
   "id": "6004cdb5",
   "metadata": {},
   "outputs": [],
   "source": [
    "users.secu1.replace(to_replace=[2,3,4,5,6,7,8,9],value=1,inplace=True)\n",
    "users.secu1.replace(to_replace=[-1],value=0,inplace=True)"
   ]
  },
  {
   "cell_type": "code",
   "execution_count": null,
   "id": "b6308170",
   "metadata": {},
   "outputs": [],
   "source": [
    "users.secu1.value_counts() "
   ]
  },
  {
   "cell_type": "code",
   "execution_count": null,
   "id": "82d812df",
   "metadata": {},
   "outputs": [],
   "source": [
    "users.SecuB.value_counts()"
   ]
  },
  {
   "cell_type": "markdown",
   "id": "baf2205b",
   "metadata": {},
   "source": [
    "Now both secu1 and secuB are same format we need to merge them into 1 column (for all years)"
   ]
  },
  {
   "cell_type": "code",
   "execution_count": null,
   "id": "ce89c5ab",
   "metadata": {},
   "outputs": [],
   "source": [
    "#must add iloc\n",
    "users['Security']=0\n",
    "users['Security'][:2142195] = users.SecuB[:2142195]\n",
    "users['Security'][2142196:] = users.secu1[2142196:]"
   ]
  },
  {
   "cell_type": "code",
   "execution_count": null,
   "id": "e583e505",
   "metadata": {},
   "outputs": [],
   "source": [
    "#To drop unneeded columns\n",
    "users = users.drop(columns=['secu','secu1','secu2','SecuA','SecuB'])"
   ]
  },
  {
   "cell_type": "code",
   "execution_count": null,
   "id": "9858db04",
   "metadata": {},
   "outputs": [],
   "source": [
    "na_percentage(users)"
   ]
  },
  {
   "cell_type": "markdown",
   "id": "016bb06e",
   "metadata": {},
   "source": [
    "### Translating the variable names from French to English"
   ]
  },
  {
   "cell_type": "code",
   "execution_count": null,
   "id": "308b3dd9",
   "metadata": {},
   "outputs": [],
   "source": [
    "users = users.rename(columns = {'catu' : 'User_category',\n",
    "                                'grav' : 'Severity' , #Severity of accident\n",
    "                                'sexe' : 'Sex' , #Sex of Driver\n",
    "                                'trajet' : 'Trajectory' , \n",
    "                                'locp' : 'LOCP' , #localisation of pedestrian\n",
    "                                'actp' : 'ACTP' , #action of pedestrian\n",
    "                                'etatp' : 'StateP' , #State of pedestrian during accident\n",
    "                                'an_nais' : 'YoB' , #Year of Birth\n",
    "                               })\n",
    "users.columns\n",
    "\n",
    "#change type to int\n",
    "users.place = users.place.astype(int)\n",
    "users.Trajectory = users.Trajectory.astype(int)\n",
    "users.LOCP = users.LOCP.astype(int)\n",
    "users.ACTP = users.ACTP.astype(int)\n",
    "users.StateP = users.StateP.astype(int)\n",
    "users.YoB = users.YoB.astype(int)"
   ]
  },
  {
   "cell_type": "markdown",
   "id": "7b4e2cb6",
   "metadata": {},
   "source": [
    "## Places Dataset"
   ]
  },
  {
   "cell_type": "markdown",
   "id": "b2ea1c21",
   "metadata": {},
   "source": [
    "### Translating the variable names from French to English"
   ]
  },
  {
   "cell_type": "code",
   "execution_count": null,
   "id": "9a74ae90",
   "metadata": {},
   "outputs": [],
   "source": [
    "# Change french names against english names (Teamdecision)\n",
    "# Droped 'Unnamed: 0','v1','v2','vma', because they contained no information.\n",
    "\n",
    "places = places.drop(['v1','v2','vma','voie','env1'], axis = 1)\n",
    "places = places.rename(columns = {'catr' : 'Rd_Cat', 'circ' : 'Traf_Direct' , 'nbv' : 'Lanes' ,\n",
    "                           'pr' : 'Landmark' , 'pr1' : 'Dist_to_Landmark', 'vosp' : 'Add_Lanes', 'prof' : 'Rd_Prof' ,\n",
    "                          'plan' : 'Rd_Plan' , 'lartpc' : 'Gre_Verge' , 'larrout' : 'Rd_Width', 'surf' : 'Rd_Cond',\n",
    "                          'infra' : 'Envinmt' , 'situ' : 'Pos_Acc'})\n",
    "places.head()"
   ]
  },
  {
   "cell_type": "markdown",
   "id": "2744ae91",
   "metadata": {},
   "source": [
    "### Change Nans against zeros"
   ]
  },
  {
   "cell_type": "markdown",
   "id": "80731bdb",
   "metadata": {},
   "source": [
    "Set most empty variables to Zero / Null, because its for all variables not in use and can be defined as not applicable.\n",
    "\n",
    "9 Variables have <= 1% missing information, so for those it should be fine to set the missing information just tu zero.\n",
    "In addition, the recorded data are not suitable for filling the NaNs with, for example, the mean value, since this is almost exclusively about describing states."
   ]
  },
  {
   "cell_type": "code",
   "execution_count": null,
   "id": "671d7c45",
   "metadata": {
    "lines_to_next_cell": 2
   },
   "outputs": [],
   "source": [
    "\n",
    "places['Rd_Cat'] = places['Rd_Cat'].fillna(0.0)\n",
    "places['Traf_Direct'] = places['Traf_Direct'].fillna(0.0)\n",
    "places['Lanes'] = places['Lanes'].fillna(0.0)\n",
    "places['Landmark'] = places['Landmark'].fillna(0.0)\n",
    "places['Dist_to_Landmark'] = places['Dist_to_Landmark'].fillna(0.0)\n",
    "places['Add_Lanes'] = places['Add_Lanes'].fillna(0.0)\n",
    "places['Rd_Prof'] = places['Rd_Prof'].fillna(0.0)\n",
    "places['Rd_Plan'] = places['Rd_Plan'].fillna(0.0)\n",
    "places['Gre_Verge'] = places['Gre_Verge'].fillna(0.0)\n",
    "places['Rd_Width'] = places['Rd_Width'].fillna(0.0)\n",
    "places['Rd_Cond'] = places['Rd_Cond'].fillna(0.0)\n",
    "places['Envinmt'] = places['Envinmt'].fillna(0.0)\n",
    "places['Pos_Acc'] = places['Pos_Acc'].fillna(0.0)"
   ]
  },
  {
   "cell_type": "code",
   "execution_count": null,
   "id": "f06b0b79",
   "metadata": {},
   "outputs": [],
   "source": [
    "# Convert object to float\n",
    "places['Landmark'] = pd.to_numeric(places['Landmark'],errors = 'coerce')\n",
    "places['Dist_to_Landmark'] = pd.to_numeric(places['Dist_to_Landmark'],errors = 'coerce')\n",
    "places['Gre_Verge'] = pd.to_numeric(places['Gre_Verge'],errors = 'coerce')\n",
    "places['Rd_Width'] = pd.to_numeric(places['Rd_Width'],errors = 'coerce')\n",
    "\n",
    "# replace empty cells with nans\n",
    "places.replace('', np.nan)\n",
    "places = places.copy()\n",
    "\n",
    "# fill nans with 0\n",
    "places['Landmark'] = places['Landmark'].fillna(0.0)\n",
    "places['Dist_to_Landmark'] = places['Dist_to_Landmark'].fillna(0.0)\n",
    "places['Gre_Verge'] = places['Gre_Verge'].fillna(0.0)\n",
    "places['Rd_Width'] = places['Rd_Width'].fillna(0.0)\n",
    "\n",
    "# Convert float to int\n",
    "places['Rd_Cat'] = places['Rd_Cat'].astype(int, errors = 'raise')\n",
    "places['Traf_Direct'] = places['Traf_Direct'].astype(int, errors = 'raise')\n",
    "places['Lanes'] = places['Lanes'].astype(int, errors = 'raise')\n",
    "places['Landmark'] = places['Landmark'].astype(int, errors = 'raise')\n",
    "places['Dist_to_Landmark'] = places['Dist_to_Landmark'].astype(int, errors = 'raise')\n",
    "places['Add_Lanes'] = places['Add_Lanes'].astype(int, errors = 'raise')\n",
    "places['Rd_Prof'] = places['Rd_Prof'].astype(int, errors = 'raise')\n",
    "places['Rd_Plan'] = places['Rd_Plan'].astype(int, errors = 'raise')\n",
    "places['Gre_Verge'] = places['Gre_Verge'].astype(int, errors = 'raise')\n",
    "places['Rd_Width'] = places['Rd_Width'].astype(int, errors = 'raise')\n",
    "places['Rd_Cond'] = places['Rd_Cond'].astype(int, errors = 'raise')\n",
    "places['Envinmt'] = places['Envinmt'].astype(int, errors = 'raise')\n",
    "places['Pos_Acc'] = places['Pos_Acc'].astype(int, errors = 'raise')\n",
    "\n",
    "print(places.isna().sum())\n",
    "print()\n",
    "print(places.info())\n",
    "print()\n",
    "print(places.shape)#it appears that there is a problem with the shape of the df (couldnt normalize) ValueError: Found array with dim 3. the normalize function expected <= 2.\n"
   ]
  },
  {
   "cell_type": "markdown",
   "id": "9324b407",
   "metadata": {},
   "source": [
    "## Characteristics Dataset"
   ]
  },
  {
   "cell_type": "markdown",
   "id": "1aec9783",
   "metadata": {},
   "source": [
    "### Translating the variable names from French to English"
   ]
  },
  {
   "cell_type": "code",
   "execution_count": null,
   "id": "19b02621",
   "metadata": {},
   "outputs": [],
   "source": [
    "# Translation of the variable nacmes from French to English, also improving the names so that it becomes clearer, what they are about\n",
    "characteristics.rename(columns={'an': 'year', 'mois':'month', 'jour': 'day', 'hrmn':'hhmm', \n",
    "                                'lum': 'daylight', 'agg': 'built-up_area', 'int':'intersection_category', 'atm': 'atmospheric_conditions',\n",
    "                                'col': 'collision_category', 'com': 'municipality', 'adr':'adress', 'gps': 'gps_origin', 'lat': 'latitude',\n",
    "                                'long': 'longitude', 'dep': 'department'}, inplace=True)\n",
    "\n",
    "# Change the values for 'built-up_area' to make it more understandable, 1 means the accident happened in a built-up area and 0 means happened elsewhere. \n",
    "characteristics['built-up_area'].replace({1:0, 2:1}, inplace=True)"
   ]
  },
  {
   "cell_type": "markdown",
   "id": "97460921",
   "metadata": {},
   "source": [
    "### Fixing incoherent format of year variable"
   ]
  },
  {
   "cell_type": "code",
   "execution_count": null,
   "id": "4af7eca1",
   "metadata": {},
   "outputs": [],
   "source": [
    "characteristics['year'].value_counts()"
   ]
  },
  {
   "cell_type": "markdown",
   "id": "fc5ea57a",
   "metadata": {},
   "source": [
    "The year format is inconsistent. Until 2018, the year was relative to the year 2000, e.g. \"5\" for 2005. This changed, however, in 2019 which was labeled as 2019.\n",
    "We will change the year format to YYYY."
   ]
  },
  {
   "cell_type": "code",
   "execution_count": null,
   "id": "be85fcee",
   "metadata": {},
   "outputs": [],
   "source": [
    "characteristics['year'].replace({5:2005, 6:2006, 7:2007, 8:2008, 9:2009, 10:2010, 11:2011,\n",
    "                                                         12:2012, 13:2013, 14:2014, 15:2015, 16:2016, 17:2017, 18:2018}, inplace=True)"
   ]
  },
  {
   "cell_type": "markdown",
   "id": "528e67d9",
   "metadata": {},
   "source": [
    "### Fix inconsistent time format"
   ]
  },
  {
   "cell_type": "markdown",
   "id": "5045b6e6",
   "metadata": {},
   "source": [
    "The time format inconsistent, sometimes it is hhmm, and sometimes hh:mm. We will therefore remove any \":\" from the column "
   ]
  },
  {
   "cell_type": "code",
   "execution_count": null,
   "id": "fd543c6d",
   "metadata": {
    "lines_to_next_cell": 2
   },
   "outputs": [],
   "source": [
    "#remove ':' from hhmm\n",
    "characteristics['hhmm'] = characteristics['hhmm'].apply(lambda s: int(str(s).replace(':','')))"
   ]
  },
  {
   "cell_type": "markdown",
   "id": "4abb5e32",
   "metadata": {},
   "source": [
    "### Get weekday and weekend feature"
   ]
  },
  {
   "cell_type": "code",
   "execution_count": null,
   "id": "432e67ba",
   "metadata": {},
   "outputs": [],
   "source": [
    "characteristics['date'] = pd.to_datetime({'year':characteristics['year'],\n",
    "                                                                 'month':dict_of_category_dfs['characteristics']['month'],\n",
    "                                                                 'day':dict_of_category_dfs['characteristics']['day']})"
   ]
  },
  {
   "cell_type": "code",
   "execution_count": null,
   "id": "3ffc7a2e",
   "metadata": {},
   "outputs": [],
   "source": [
    "# New variable: weekday, integer from 0 to 6 representing the weekdays from monday to sunday.\n",
    "characteristics['day_of_week'] = dict_of_category_dfs['characteristics']['date'].apply(lambda x: x.day_of_week)\n",
    "\n",
    "# New binary variable: is_weekend, 0 for monday to friday and 1 for saturday and sunday\n",
    "characteristics['is_weekend'] = (dict_of_category_dfs['characteristics']['day_of_week'] > 4).astype('int')"
   ]
  },
  {
   "cell_type": "markdown",
   "id": "a0034192",
   "metadata": {},
   "source": [
    "### Remove trailing zeroes from Department variable\n",
    "The Department codes are followed by a zero for the years 2005--2018, which has no practical use for us. We will therefore eliminate these trailing zeroes.\n",
    "Also, since 2019 all the data is saved as strings. We will convert everything to strings, as this is nominal data, we will not make any calculations with it."
   ]
  },
  {
   "cell_type": "code",
   "execution_count": null,
   "id": "de6f97fc",
   "metadata": {},
   "outputs": [],
   "source": [
    "def department_converter(dep):\n",
    "    # Takes in a department code as int and returns a string\n",
    "    # e.g. 750 will be '75' for Paris\n",
    "    # and 201 will be '2B'\n",
    "    if dep == 201:\n",
    "        return '2A'\n",
    "    elif dep == 202:\n",
    "        return '2B'\n",
    "    elif dep>970:\n",
    "        return str(dep)\n",
    "    else:\n",
    "        return str(dep).rstrip('0')\n",
    "\n",
    "characteristics.loc[(np.less(characteristics['year'],2019)),'department'] = \\\n",
    "    characteristics[(np.less(characteristics['year'],2019))]['department'].apply(department_converter)"
   ]
  },
  {
   "cell_type": "markdown",
   "id": "ef978d55",
   "metadata": {},
   "source": [
    "### Remove leading zeros from department code\n",
    "The dataset from 2021 contains leading zeroes for the department codes 1 to 9. These have to be replaced."
   ]
  },
  {
   "cell_type": "code",
   "execution_count": null,
   "id": "2614d6fa",
   "metadata": {},
   "outputs": [],
   "source": [
    "characteristics['department'] = characteristics['department'].apply(lambda code: code.lstrip('0'))"
   ]
  },
  {
   "cell_type": "markdown",
   "id": "6d480a2d",
   "metadata": {},
   "source": [
    "### Fill missing values in atmospheric conditions variable"
   ]
  },
  {
   "cell_type": "code",
   "execution_count": null,
   "id": "391144bb",
   "metadata": {},
   "outputs": [],
   "source": [
    "characteristics['atmospheric_conditions'] = characteristics['atmospheric_conditions'].fillna(\n",
    "    characteristics['atmospheric_conditions'].mode()[0])"
   ]
  },
  {
   "cell_type": "markdown",
   "id": "8d897479",
   "metadata": {},
   "source": [
    "### Fill missing values in collision category variable"
   ]
  },
  {
   "cell_type": "code",
   "execution_count": null,
   "id": "44d9ca4d",
   "metadata": {},
   "outputs": [],
   "source": [
    "characteristics['collision_category'] = characteristics['collision_category'].fillna(\n",
    "    characteristics['collision_category'].mode()[0])"
   ]
  },
  {
   "cell_type": "markdown",
   "id": "168494d4",
   "metadata": {},
   "source": [
    "## Vehicles dataset"
   ]
  },
  {
   "cell_type": "markdown",
   "id": "866e43dd",
   "metadata": {},
   "source": [
    "### Translating the variable names from French to English"
   ]
  },
  {
   "cell_type": "code",
   "execution_count": null,
   "id": "4b8b7f56",
   "metadata": {},
   "outputs": [],
   "source": [
    "vehicles = vehicles.rename(columns = {'id_vehicule' : 'id_veh' , 'num_veh' : 'num_veh' ,\n",
    "                           'senc' : 'direction' , 'catv' : 'cat_veh', 'obs' : 'obstacle', 'obsm' : 'obstacle_movable' ,\n",
    "                          'choc' : 'initial_point' , 'manv' : 'principal_maneuver' , 'motor' : 'motor_veh', 'occutc' : 'num_occupants'})\n",
    "vehicles.columns"
   ]
  },
  {
   "cell_type": "markdown",
   "id": "bc8a2006",
   "metadata": {},
   "source": [
    "### Check of the variables with the most missing values"
   ]
  },
  {
   "cell_type": "markdown",
   "id": "55f44841",
   "metadata": {},
   "source": [
    "Variable num_occupants is representing amount of passangers being victims of an accident when they used public transport system. Missing values are caused by not recording value 0 and keeping the cell empty. For this reason we decided to replace the missing values by 0."
   ]
  },
  {
   "cell_type": "code",
   "execution_count": null,
   "id": "6bfb3194",
   "metadata": {},
   "outputs": [],
   "source": [
    "vehicles[\"num_occupants\"] = vehicles[\"num_occupants\"].fillna(0)\n",
    "vehicles['num_occupants'].isna().sum()"
   ]
  },
  {
   "cell_type": "code",
   "execution_count": null,
   "id": "ae8c162f",
   "metadata": {},
   "outputs": [],
   "source": [
    "vehicles['num_occupants'].value_counts()"
   ]
  },
  {
   "cell_type": "markdown",
   "id": "d522d43c",
   "metadata": {},
   "source": [
    "Variables motor_veh and id_veh represents type of the motorisation of the vehicle. There are 85% missing values in this column. Some of the values of this variable dont specificate exact type but are tracked as unspecified, unknown, other. We have decided to drop this variable as it doesnt have any significant influence on the target variable. "
   ]
  },
  {
   "cell_type": "code",
   "execution_count": null,
   "id": "0b0f0212",
   "metadata": {},
   "outputs": [],
   "source": [
    "vehicles = vehicles.drop(columns=['motor_veh','id_veh'])"
   ]
  },
  {
   "cell_type": "markdown",
   "id": "5fc1a9b5",
   "metadata": {},
   "source": [
    "8 Variables have <= 1% missing information, so for those it should be fine to set the missing information just to zero."
   ]
  },
  {
   "cell_type": "code",
   "execution_count": null,
   "id": "cf6d23d7",
   "metadata": {},
   "outputs": [],
   "source": [
    "vehicles[['Num_Acc', 'direction', 'cat_veh', 'obstacle', 'obstacle_movable', 'initial_point', 'principal_maneuver']] = vehicles[['Num_Acc', 'direction', 'cat_veh', 'obstacle', 'obstacle_movable', 'initial_point', 'principal_maneuver']].fillna(0)\n",
    "vehicles.isna().sum()"
   ]
  },
  {
   "cell_type": "markdown",
   "id": "6d0e6474",
   "metadata": {},
   "source": [
    "# Merge all datasets"
   ]
  },
  {
   "cell_type": "markdown",
   "id": "9182b498",
   "metadata": {},
   "source": [
    "## Compute the percentage of missing data"
   ]
  },
  {
   "cell_type": "code",
   "execution_count": null,
   "id": "b979de2a",
   "metadata": {},
   "outputs": [],
   "source": [
    "outer_df = characteristics.merge(right=places, how='outer').merge(users, how='outer').merge(vehicles, how='outer')"
   ]
  },
  {
   "cell_type": "code",
   "execution_count": null,
   "id": "f4b80090",
   "metadata": {},
   "outputs": [],
   "source": [
    "print(f'number of rows:........{outer_df.shape[0]}')\n",
    "print(f'number of variables:...{outer_df.shape[1]}')\n",
    "na_percentage(outer_df)"
   ]
  },
  {
   "cell_type": "markdown",
   "id": "fe2bc7a6",
   "metadata": {},
   "source": [
    "## Left Join for further investigations\n",
    "We will continue working with the left join of the data, as the missing lines miss the most important variables anyway."
   ]
  },
  {
   "cell_type": "code",
   "execution_count": null,
   "id": "43ea7b02",
   "metadata": {},
   "outputs": [],
   "source": [
    "df = characteristics.merge(right=places, how='left').merge(users, how='left').merge(vehicles, how='left')\n",
    "print(df.info())\n",
    "print(na_percentage(df))"
   ]
  },
  {
   "cell_type": "markdown",
   "id": "7b2d9566",
   "metadata": {},
   "source": [
    "## Correlation of the feature variables with the target"
   ]
  },
  {
   "cell_type": "code",
   "execution_count": null,
   "id": "05721a38",
   "metadata": {},
   "outputs": [],
   "source": [
    "cm=df.corr()\n",
    "cm[\"Severity\"].sort_values(ascending=False)[1:]"
   ]
  },
  {
   "cell_type": "markdown",
   "id": "bf6ecdee",
   "metadata": {},
   "source": [
    "The list shows the correlation between each variables and the target variable. Note: The decision whether a variable is important or not has to be based on the absolute value of the correlation."
   ]
  },
  {
   "cell_type": "markdown",
   "id": "ded33792",
   "metadata": {},
   "source": [
    "# Export DataFrame to Pickle \n",
    "This step is necessary to be able to work with the data in another notebook."
   ]
  },
  {
   "cell_type": "code",
   "execution_count": null,
   "id": "586f45e1",
   "metadata": {},
   "outputs": [],
   "source": [
    "df.to_pickle('../data/df.p')"
   ]
  },
  {
   "cell_type": "markdown",
   "id": "6e486231",
   "metadata": {},
   "source": [
    "The pickle file is too big to track on github, we will therefore create a second file which contains the output of the describe-method as well as the number of nans for each column and the dtypes of the DataFrame."
   ]
  },
  {
   "cell_type": "code",
   "execution_count": null,
   "id": "ea344fe8",
   "metadata": {},
   "outputs": [],
   "source": [
    "df_check_info = pyfra.df_testing_info(df)\n",
    "df_check_info.to_csv('../data/df_check_info.csv')"
   ]
  }
 ],
 "metadata": {
  "jupytext": {
   "cell_metadata_filter": "-LanguageId",
   "formats": "ipynb,py:light",
   "main_language": "python",
   "notebook_metadata_filter": "-kernelspec"
  }
 },
 "nbformat": 4,
 "nbformat_minor": 5
}
