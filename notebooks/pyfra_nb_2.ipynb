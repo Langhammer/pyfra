{
 "cells": [
  {
   "cell_type": "markdown",
   "id": "0a7e86eb",
   "metadata": {
    "papermill": {
     "duration": 0.037564,
     "end_time": "2023-02-15T12:05:18.196872",
     "exception": false,
     "start_time": "2023-02-15T12:05:18.159308",
     "status": "completed"
    },
    "tags": []
   },
   "source": [
    "Notebook 2\n",
    "==============\n",
    "Data Cleaning and Feature Engineering"
   ]
  },
  {
   "cell_type": "code",
   "execution_count": 1,
   "id": "32a86e86",
   "metadata": {
    "execution": {
     "iopub.execute_input": "2023-02-15T12:05:18.303451Z",
     "iopub.status.busy": "2023-02-15T12:05:18.302454Z",
     "iopub.status.idle": "2023-02-15T12:05:25.662643Z",
     "shell.execute_reply": "2023-02-15T12:05:25.659640Z"
    },
    "papermill": {
     "duration": 7.432801,
     "end_time": "2023-02-15T12:05:25.668669",
     "exception": false,
     "start_time": "2023-02-15T12:05:18.235868",
     "status": "completed"
    },
    "tags": []
   },
   "outputs": [],
   "source": [
    "import pandas as pd\n",
    "import numpy as np\n",
    "from matplotlib import pyplot as plt\n",
    "import pyfra\n",
    "import seaborn as sns"
   ]
  },
  {
   "cell_type": "markdown",
   "id": "d2c1026d",
   "metadata": {
    "papermill": {
     "duration": 0.044017,
     "end_time": "2023-02-15T12:05:25.750222",
     "exception": false,
     "start_time": "2023-02-15T12:05:25.706205",
     "status": "completed"
    },
    "tags": []
   },
   "source": [
    "# Data import & pulling\n",
    "\n",
    "We have imported the data and separated them into four different categories: characteristics,places,users,vehicles."
   ]
  },
  {
   "cell_type": "code",
   "execution_count": 2,
   "id": "53972b8f",
   "metadata": {
    "execution": {
     "iopub.execute_input": "2023-02-15T12:05:25.917076Z",
     "iopub.status.busy": "2023-02-15T12:05:25.916073Z",
     "iopub.status.idle": "2023-02-15T12:05:25.942074Z",
     "shell.execute_reply": "2023-02-15T12:05:25.941068Z"
    },
    "papermill": {
     "duration": 0.078567,
     "end_time": "2023-02-15T12:05:25.948088",
     "exception": false,
     "start_time": "2023-02-15T12:05:25.869521",
     "status": "completed"
    },
    "tags": []
   },
   "outputs": [],
   "source": [
    "french_categories = {'characteristics': 'caracteristiques', 'places':'lieux', 'users':'usagers', 'vehicles':'vehicules'}\n",
    "data_categories = french_categories.keys()\n",
    "categories_dict = dict(zip(data_categories, [0,0,0,0]))"
   ]
  },
  {
   "cell_type": "code",
   "execution_count": 3,
   "id": "75e4f240",
   "metadata": {
    "execution": {
     "iopub.execute_input": "2023-02-15T12:05:26.012627Z",
     "iopub.status.busy": "2023-02-15T12:05:26.011626Z",
     "iopub.status.idle": "2023-02-15T12:05:40.290412Z",
     "shell.execute_reply": "2023-02-15T12:05:40.289416Z"
    },
    "lines_to_next_cell": 2,
    "papermill": {
     "duration": 14.322879,
     "end_time": "2023-02-15T12:05:40.300975",
     "exception": false,
     "start_time": "2023-02-15T12:05:25.978096",
     "status": "completed"
    },
    "tags": []
   },
   "outputs": [],
   "source": [
    "# Define the function that reads the raw data for the specified time range\n",
    "def read_csv_of_year(start_year, end_year, separators, name_separator='_'):\n",
    "    if len (separators)<4:\n",
    "        separators = [separators]*4\n",
    "        \n",
    "    df_dict = {}\n",
    "    for year in range(start_year,end_year+1):\n",
    "        this_year_str = str(year)\n",
    "        # Data Category\n",
    "        this_df_dict = {}        \n",
    "        for this_category, this_sep in zip(data_categories, separators):\n",
    "            # We need the French name of the category for the filename\n",
    "            this_french_category = french_categories[this_category]\n",
    "            this_file_path_and_name = '../data/'+this_year_str+'/' + this_french_category+name_separator+this_year_str+'.csv'\n",
    "            this_df_dict[this_category] = pd.read_csv(this_file_path_and_name, encoding='latin-1', sep=this_sep, low_memory=False)\n",
    "        df_dict[year] = this_df_dict\n",
    "    return df_dict\n",
    "\n",
    "# Import years\n",
    "df_dict = {}\n",
    "df_dict.update(read_csv_of_year(2005, 2008, separators=','))\n",
    "df_dict.update(read_csv_of_year(2009,2009, separators=['\\t', ',', ',', ',']))\n",
    "df_dict.update(read_csv_of_year(2010, 2016, separators=','))\n",
    "df_dict.update(read_csv_of_year(2017, 2018, separators=',', name_separator='-'))\n",
    "df_dict.update(read_csv_of_year(2019, 2021, separators=';', name_separator='-'))"
   ]
  },
  {
   "cell_type": "code",
   "execution_count": 4,
   "id": "a5ac9517",
   "metadata": {
    "execution": {
     "iopub.execute_input": "2023-02-15T12:05:40.394204Z",
     "iopub.status.busy": "2023-02-15T12:05:40.391993Z",
     "iopub.status.idle": "2023-02-15T12:05:41.503053Z",
     "shell.execute_reply": "2023-02-15T12:05:41.501052Z"
    },
    "papermill": {
     "duration": 1.158089,
     "end_time": "2023-02-15T12:05:41.508052",
     "exception": false,
     "start_time": "2023-02-15T12:05:40.349963",
     "status": "completed"
    },
    "tags": []
   },
   "outputs": [],
   "source": [
    "dict_of_category_dfs = {}\n",
    "for this_category in data_categories:\n",
    "    dict_of_category_dfs[this_category] = pd.concat([df_dict[year][this_category] for year in range(2005,2022)], ignore_index=True)\n",
    "\n",
    "characteristics = dict_of_category_dfs['characteristics']\n",
    "places = dict_of_category_dfs['places']\n",
    "users = dict_of_category_dfs['users']\n",
    "vehicles = dict_of_category_dfs['vehicles']"
   ]
  },
  {
   "cell_type": "markdown",
   "id": "c320b605",
   "metadata": {
    "papermill": {
     "duration": 0.039022,
     "end_time": "2023-02-15T12:05:41.592079",
     "exception": false,
     "start_time": "2023-02-15T12:05:41.553057",
     "status": "completed"
    },
    "tags": []
   },
   "source": [
    "# Data Cleaning\n",
    "We will perform some of the cleaning of the data on the individual datasets. Not all cleaning is possible before merging the datasets, so there will be a second round of cleaning."
   ]
  },
  {
   "cell_type": "markdown",
   "id": "c2cee5bb",
   "metadata": {
    "papermill": {
     "duration": 0.022009,
     "end_time": "2023-02-15T12:05:41.656630",
     "exception": false,
     "start_time": "2023-02-15T12:05:41.634621",
     "status": "completed"
    },
    "tags": []
   },
   "source": [
    "## Calculate the percentage of missing values for each dataframe"
   ]
  },
  {
   "cell_type": "code",
   "execution_count": 5,
   "id": "7425ad94",
   "metadata": {
    "execution": {
     "iopub.execute_input": "2023-02-15T12:05:41.733193Z",
     "iopub.status.busy": "2023-02-15T12:05:41.732198Z",
     "iopub.status.idle": "2023-02-15T12:05:41.756215Z",
     "shell.execute_reply": "2023-02-15T12:05:41.753215Z"
    },
    "papermill": {
     "duration": 0.080564,
     "end_time": "2023-02-15T12:05:41.765208",
     "exception": false,
     "start_time": "2023-02-15T12:05:41.684644",
     "status": "completed"
    },
    "tags": []
   },
   "outputs": [],
   "source": [
    "def na_percentage(df):\n",
    "  return df.isna().sum() *100 / len(df)"
   ]
  },
  {
   "cell_type": "code",
   "execution_count": 6,
   "id": "d1758a60",
   "metadata": {
    "execution": {
     "iopub.execute_input": "2023-02-15T12:05:41.871776Z",
     "iopub.status.busy": "2023-02-15T12:05:41.870780Z",
     "iopub.status.idle": "2023-02-15T12:05:49.180411Z",
     "shell.execute_reply": "2023-02-15T12:05:49.178407Z"
    },
    "papermill": {
     "duration": 7.366634,
     "end_time": "2023-02-15T12:05:49.185413",
     "exception": false,
     "start_time": "2023-02-15T12:05:41.818779",
     "status": "completed"
    },
    "tags": []
   },
   "outputs": [
    {
     "name": "stdout",
     "output_type": "stream",
     "text": [
      "characteristics\n",
      " Num_Acc     0.000000\n",
      "an          0.000000\n",
      "mois        0.000000\n",
      "jour        0.000000\n",
      "hrmn        0.000000\n",
      "lum         0.000000\n",
      "agg         0.000000\n",
      "int         0.000000\n",
      "atm         0.006509\n",
      "col         0.001694\n",
      "com         0.000178\n",
      "adr        12.774581\n",
      "gps        57.198251\n",
      "lat        43.427300\n",
      "long       43.427656\n",
      "dep         0.000000\n",
      "dtype: float64 \n",
      "\n"
     ]
    },
    {
     "name": "stdout",
     "output_type": "stream",
     "text": [
      "places\n",
      " Num_Acc     0.000000\n",
      "catr        0.000089\n",
      "voie        9.556239\n",
      "v1         56.690481\n",
      "v2         95.419907\n",
      "circ        0.140339\n",
      "nbv         0.243498\n",
      "pr         42.394463\n",
      "pr1        42.556646\n",
      "vosp        0.246173\n",
      "prof        0.173774\n",
      "plan        0.203375\n",
      "lartpc     19.511203\n",
      "larrout    10.060977\n",
      "surf        0.171545\n",
      "infra       0.482181\n",
      "situ        0.443128\n",
      "env1       15.027314\n",
      "vma        85.457720\n",
      "dtype: float64 \n",
      "\n"
     ]
    },
    {
     "name": "stdout",
     "output_type": "stream",
     "text": [
      "users\n",
      " Num_Acc         0.000000\n",
      "place           4.906241\n",
      "catu            0.000000\n",
      "grav            0.000000\n",
      "sexe            0.000000\n",
      "trajet          0.019684\n",
      "secu           16.893474\n",
      "locp            2.245798\n",
      "actp            2.249823\n",
      "etatp           2.248069\n",
      "an_nais         0.218559\n",
      "num_veh         0.000000\n",
      "id_vehicule    85.359337\n",
      "secu1          85.359337\n",
      "secu2          85.359337\n",
      "secu3          85.359337\n",
      "dtype: float64 \n",
      "\n"
     ]
    },
    {
     "name": "stdout",
     "output_type": "stream",
     "text": [
      "vehicles\n",
      " Num_Acc         0.000000\n",
      "senc            0.014204\n",
      "catv            0.000000\n",
      "occutc         14.456823\n",
      "obs             0.052535\n",
      "obsm            0.040629\n",
      "choc            0.020732\n",
      "manv            0.024440\n",
      "num_veh         0.000000\n",
      "id_vehicule    85.425312\n",
      "motor          85.425312\n",
      "dtype: float64 \n",
      "\n"
     ]
    }
   ],
   "source": [
    "for this_category, df in dict_of_category_dfs.items():\n",
    "    print(this_category+'\\n', na_percentage(df),'\\n')"
   ]
  },
  {
   "cell_type": "markdown",
   "id": "b2cc1277",
   "metadata": {
    "papermill": {
     "duration": 0.052,
     "end_time": "2023-02-15T12:05:49.279995",
     "exception": false,
     "start_time": "2023-02-15T12:05:49.227995",
     "status": "completed"
    },
    "tags": []
   },
   "source": [
    "## Users Dataset"
   ]
  },
  {
   "cell_type": "code",
   "execution_count": 7,
   "id": "673377eb",
   "metadata": {
    "execution": {
     "iopub.execute_input": "2023-02-15T12:05:49.365578Z",
     "iopub.status.busy": "2023-02-15T12:05:49.363575Z",
     "iopub.status.idle": "2023-02-15T12:05:49.403168Z",
     "shell.execute_reply": "2023-02-15T12:05:49.400149Z"
    },
    "papermill": {
     "duration": 0.095595,
     "end_time": "2023-02-15T12:05:49.409176",
     "exception": false,
     "start_time": "2023-02-15T12:05:49.313581",
     "status": "completed"
    },
    "tags": []
   },
   "outputs": [],
   "source": [
    "#Grav\n",
    "users.grav.replace(to_replace=-1,value=1,inplace=True)"
   ]
  },
  {
   "cell_type": "code",
   "execution_count": 8,
   "id": "a42c5aac",
   "metadata": {
    "execution": {
     "iopub.execute_input": "2023-02-15T12:05:49.511756Z",
     "iopub.status.busy": "2023-02-15T12:05:49.508765Z",
     "iopub.status.idle": "2023-02-15T12:05:49.651203Z",
     "shell.execute_reply": "2023-02-15T12:05:49.649182Z"
    },
    "lines_to_next_cell": 2,
    "papermill": {
     "duration": 0.206014,
     "end_time": "2023-02-15T12:05:49.659192",
     "exception": false,
     "start_time": "2023-02-15T12:05:49.453178",
     "status": "completed"
    },
    "tags": []
   },
   "outputs": [],
   "source": [
    "#Place\n",
    "\n",
    "users.place.value_counts()\n",
    "users.place.fillna(1,inplace=True) #replace is with mode\n",
    "users.place.replace(to_replace=-1,value=0,inplace=True) #-1 is unassigned , will put 0 unknown #Same result"
   ]
  },
  {
   "cell_type": "code",
   "execution_count": 9,
   "id": "6ad819b3",
   "metadata": {
    "execution": {
     "iopub.execute_input": "2023-02-15T12:05:49.762770Z",
     "iopub.status.busy": "2023-02-15T12:05:49.759773Z",
     "iopub.status.idle": "2023-02-15T12:05:49.809346Z",
     "shell.execute_reply": "2023-02-15T12:05:49.806356Z"
    },
    "papermill": {
     "duration": 0.102555,
     "end_time": "2023-02-15T12:05:49.816334",
     "exception": false,
     "start_time": "2023-02-15T12:05:49.713779",
     "status": "completed"
    },
    "tags": []
   },
   "outputs": [],
   "source": [
    "#Trajet\n",
    "\n",
    "users.trajet.replace(to_replace=-1,value=0,inplace=True) #-1 is unassigned , will put 0 unknown #Same result\n",
    "users.trajet.fillna(5,inplace=True) #replace is with mode"
   ]
  },
  {
   "cell_type": "code",
   "execution_count": 10,
   "id": "e30b9a11",
   "metadata": {
    "execution": {
     "iopub.execute_input": "2023-02-15T12:05:49.935953Z",
     "iopub.status.busy": "2023-02-15T12:05:49.934948Z",
     "iopub.status.idle": "2023-02-15T12:05:50.012520Z",
     "shell.execute_reply": "2023-02-15T12:05:50.010505Z"
    },
    "papermill": {
     "duration": 0.148167,
     "end_time": "2023-02-15T12:05:50.019515",
     "exception": false,
     "start_time": "2023-02-15T12:05:49.871348",
     "status": "completed"
    },
    "tags": []
   },
   "outputs": [],
   "source": [
    "#locp\n",
    "\n",
    "users.locp.replace(to_replace=-1,value=0,inplace=True) #-1 is unassigned , will put 0 unknown #Same result\n",
    "users.locp.value_counts()\n",
    "users.locp.fillna(0,inplace=True) #replace is with mode"
   ]
  },
  {
   "cell_type": "code",
   "execution_count": 11,
   "id": "03de24f3",
   "metadata": {
    "execution": {
     "iopub.execute_input": "2023-02-15T12:05:50.130077Z",
     "iopub.status.busy": "2023-02-15T12:05:50.129078Z",
     "iopub.status.idle": "2023-02-15T12:06:00.342592Z",
     "shell.execute_reply": "2023-02-15T12:06:00.339605Z"
    },
    "papermill": {
     "duration": 10.274076,
     "end_time": "2023-02-15T12:06:00.349595",
     "exception": false,
     "start_time": "2023-02-15T12:05:50.075519",
     "status": "completed"
    },
    "tags": []
   },
   "outputs": [],
   "source": [
    "#actp\n",
    "\n",
    "users.actp.replace(to_replace=['B'],value=0,inplace=True)#-1,B is unassigned , will put 0 unknown #Same result\n",
    "users.actp.replace(to_replace=' -1',value=0,inplace=True)\n",
    "users.actp.replace(to_replace=['A'],value=8,inplace=True) #A is coming in/out of vehicule , will put 8 instead (int)\n",
    "users.actp.fillna(0,inplace=True) #replace is with mode\n",
    "\n",
    "users.actp.replace(to_replace='0',value=0,inplace=True)\n",
    "users.actp.replace(to_replace='1',value=1,inplace=True)\n",
    "users.actp.replace(to_replace='2',value=2,inplace=True)\n",
    "users.actp.replace(to_replace='3',value=3,inplace=True)\n",
    "users.actp.replace(to_replace='4',value=4,inplace=True)\n",
    "users.actp.replace(to_replace='5',value=5,inplace=True)\n",
    "users.actp.replace(to_replace='6',value=6,inplace=True)\n",
    "users.actp.replace(to_replace='7',value=7,inplace=True)\n",
    "users.actp.replace(to_replace='8',value=8,inplace=True)\n",
    "users.actp.replace(to_replace='9',value=9,inplace=True)"
   ]
  },
  {
   "cell_type": "code",
   "execution_count": 12,
   "id": "b78c455a",
   "metadata": {
    "execution": {
     "iopub.execute_input": "2023-02-15T12:06:00.427834Z",
     "iopub.status.busy": "2023-02-15T12:06:00.427834Z",
     "iopub.status.idle": "2023-02-15T12:06:00.547232Z",
     "shell.execute_reply": "2023-02-15T12:06:00.544225Z"
    },
    "papermill": {
     "duration": 0.161626,
     "end_time": "2023-02-15T12:06:00.551225",
     "exception": false,
     "start_time": "2023-02-15T12:06:00.389599",
     "status": "completed"
    },
    "tags": []
   },
   "outputs": [],
   "source": [
    "#etatp\n",
    "\n",
    "users.etatp.replace(to_replace=-1,value=0,inplace=True) #-1, is unassigned , will put 0 unknown #Same result\n",
    "users.etatp.isna().sum() #119291\n",
    "users.etatp.value_counts() \n",
    "users.etatp.fillna(0,inplace=True) #replace is with mode"
   ]
  },
  {
   "cell_type": "code",
   "execution_count": 13,
   "id": "282b1db3",
   "metadata": {
    "execution": {
     "iopub.execute_input": "2023-02-15T12:06:00.627808Z",
     "iopub.status.busy": "2023-02-15T12:06:00.626798Z",
     "iopub.status.idle": "2023-02-15T12:06:00.719382Z",
     "shell.execute_reply": "2023-02-15T12:06:00.716384Z"
    },
    "papermill": {
     "duration": 0.135132,
     "end_time": "2023-02-15T12:06:00.725372",
     "exception": false,
     "start_time": "2023-02-15T12:06:00.590240",
     "status": "completed"
    },
    "tags": []
   },
   "outputs": [],
   "source": [
    "#an_nais\n",
    "\n",
    "users.an_nais.isna().sum() #10080\n",
    "users.an_nais.value_counts() \n",
    "users.an_nais.fillna(1986.0,inplace=True)\n",
    "#replace is with mode #the first 5 values of value_counts are close to each other\n"
   ]
  },
  {
   "cell_type": "code",
   "execution_count": 14,
   "id": "2fba9e9d",
   "metadata": {
    "execution": {
     "iopub.execute_input": "2023-02-15T12:06:00.802401Z",
     "iopub.status.busy": "2023-02-15T12:06:00.801405Z",
     "iopub.status.idle": "2023-02-15T12:06:00.830956Z",
     "shell.execute_reply": "2023-02-15T12:06:00.829952Z"
    },
    "papermill": {
     "duration": 0.078586,
     "end_time": "2023-02-15T12:06:00.834957",
     "exception": false,
     "start_time": "2023-02-15T12:06:00.756371",
     "status": "completed"
    },
    "tags": []
   },
   "outputs": [],
   "source": [
    "#Sex \n",
    "users.sexe.replace(to_replace=-1,value=1,inplace=True)"
   ]
  },
  {
   "cell_type": "markdown",
   "id": "5c070ae8",
   "metadata": {
    "papermill": {
     "duration": 0.042547,
     "end_time": "2023-02-15T12:06:00.917506",
     "exception": false,
     "start_time": "2023-02-15T12:06:00.874959",
     "status": "completed"
    },
    "tags": []
   },
   "source": [
    "### Fixing incoherency of 'secu' Variable\n",
    "Safety equipment until 2018 was in 2 variables: existence and use.\n",
    "\n",
    "From 2019, it is the use with up to 3 possible equipments for the same user\n",
    "(especially for motorcyclists whose helmet and gloves are mandatory).\n",
    "\n",
    "#secu1\n",
    "The character information indicates the presence and use of the safety equipment:\n",
    "-1 - No information\n",
    "0 - No equipment\n",
    "1 - Belt\n",
    "2 - Helmet\n",
    "3 - Children device\n",
    "4 - Reflective vest\n",
    "5 - Airbag (2WD/3WD)\n",
    "6 - Gloves (2WD/3WD)\n",
    "7 - Gloves + Airbag (2WD/3WD)\n",
    "8 - Non-determinable\n",
    "9 - Other\n",
    "\n",
    "#secu2\n",
    "The character information indicates the presence and use of the safety equipment\n",
    "\n",
    "#secu3\n",
    "The character information indicates the presence and use of safety equipment"
   ]
  },
  {
   "cell_type": "code",
   "execution_count": 15,
   "id": "fa6e5f6b",
   "metadata": {
    "execution": {
     "iopub.execute_input": "2023-02-15T12:06:00.993547Z",
     "iopub.status.busy": "2023-02-15T12:06:00.992515Z",
     "iopub.status.idle": "2023-02-15T12:06:01.274630Z",
     "shell.execute_reply": "2023-02-15T12:06:01.272632Z"
    },
    "papermill": {
     "duration": 0.323131,
     "end_time": "2023-02-15T12:06:01.278632",
     "exception": false,
     "start_time": "2023-02-15T12:06:00.955501",
     "status": "completed"
    },
    "tags": []
   },
   "outputs": [],
   "source": [
    "#Security \n",
    "users.drop(columns='secu3',inplace=True)"
   ]
  },
  {
   "cell_type": "code",
   "execution_count": 16,
   "id": "5f23ccf4",
   "metadata": {
    "execution": {
     "iopub.execute_input": "2023-02-15T12:06:01.362186Z",
     "iopub.status.busy": "2023-02-15T12:06:01.361178Z",
     "iopub.status.idle": "2023-02-15T12:06:06.300261Z",
     "shell.execute_reply": "2023-02-15T12:06:06.298242Z"
    },
    "papermill": {
     "duration": 4.99309,
     "end_time": "2023-02-15T12:06:06.306261",
     "exception": false,
     "start_time": "2023-02-15T12:06:01.313171",
     "status": "completed"
    },
    "tags": []
   },
   "outputs": [],
   "source": [
    "#Searching for the exact index where the year 2019 starts to accuratly study secu factors\n",
    "X = users.loc[users['Num_Acc'].astype(str).str.startswith(\"2019\")].index[0]"
   ]
  },
  {
   "cell_type": "code",
   "execution_count": 17,
   "id": "cac54036",
   "metadata": {
    "execution": {
     "iopub.execute_input": "2023-02-15T12:06:06.390644Z",
     "iopub.status.busy": "2023-02-15T12:06:06.390104Z",
     "iopub.status.idle": "2023-02-15T12:06:06.424398Z",
     "shell.execute_reply": "2023-02-15T12:06:06.421381Z"
    },
    "papermill": {
     "duration": 0.079602,
     "end_time": "2023-02-15T12:06:06.433393",
     "exception": false,
     "start_time": "2023-02-15T12:06:06.353791",
     "status": "completed"
    },
    "tags": []
   },
   "outputs": [],
   "source": [
    "#secu has some missing values for older years , must fill with mode before continuing\n",
    "\n",
    "users.secu[:X].fillna(value=1,inplace=True)"
   ]
  },
  {
   "cell_type": "code",
   "execution_count": 18,
   "id": "9f910d08",
   "metadata": {
    "execution": {
     "iopub.execute_input": "2023-02-15T12:06:06.560437Z",
     "iopub.status.busy": "2023-02-15T12:06:06.559455Z",
     "iopub.status.idle": "2023-02-15T12:06:06.993069Z",
     "shell.execute_reply": "2023-02-15T12:06:06.991073Z"
    },
    "papermill": {
     "duration": 0.502689,
     "end_time": "2023-02-15T12:06:06.997071",
     "exception": false,
     "start_time": "2023-02-15T12:06:06.494382",
     "status": "completed"
    },
    "tags": []
   },
   "outputs": [],
   "source": [
    "users['SecuA'] = ((users.secu - users.secu%10)/10) #Type of security Used\n",
    "users['SecuB']=   users.secu%10  # Was the security used or No\n",
    "\n",
    "#SecuA is not very important we will focus on secuB if the item was used or not to facilitate study"
   ]
  },
  {
   "cell_type": "code",
   "execution_count": 19,
   "id": "154a3c7b",
   "metadata": {
    "execution": {
     "iopub.execute_input": "2023-02-15T12:06:07.071881Z",
     "iopub.status.busy": "2023-02-15T12:06:07.070881Z",
     "iopub.status.idle": "2023-02-15T12:06:07.103897Z",
     "shell.execute_reply": "2023-02-15T12:06:07.101880Z"
    },
    "papermill": {
     "duration": 0.089369,
     "end_time": "2023-02-15T12:06:07.109989",
     "exception": false,
     "start_time": "2023-02-15T12:06:07.020620",
     "status": "completed"
    },
    "tags": []
   },
   "outputs": [],
   "source": [
    "# 0 is unknown change to others 9 \n",
    "users.SecuA.replace(to_replace=0,value=9,inplace=True)"
   ]
  },
  {
   "cell_type": "code",
   "execution_count": 20,
   "id": "a1037d64",
   "metadata": {
    "execution": {
     "iopub.execute_input": "2023-02-15T12:06:07.199416Z",
     "iopub.status.busy": "2023-02-15T12:06:07.197423Z",
     "iopub.status.idle": "2023-02-15T12:06:07.261007Z",
     "shell.execute_reply": "2023-02-15T12:06:07.257999Z"
    },
    "papermill": {
     "duration": 0.112592,
     "end_time": "2023-02-15T12:06:07.272003",
     "exception": false,
     "start_time": "2023-02-15T12:06:07.159411",
     "status": "completed"
    },
    "tags": []
   },
   "outputs": [],
   "source": [
    "# 2-No 3-UnDeterminable 0-Unknown , change all to 0 not used\n",
    "users.SecuB.replace(to_replace=3,value=0,inplace=True)\n",
    "users.SecuB.replace(to_replace=2,value=0,inplace=True)"
   ]
  },
  {
   "cell_type": "markdown",
   "id": "918c9603",
   "metadata": {
    "papermill": {
     "duration": 0.062984,
     "end_time": "2023-02-15T12:06:07.392617",
     "exception": false,
     "start_time": "2023-02-15T12:06:07.329633",
     "status": "completed"
    },
    "tags": []
   },
   "source": [
    "For Secu1-secu2 \n",
    "We will gather all usage for security variable with 1 value {1} , and if there is no safety we will use {0} , No need to take multiple security parameters (secu2) we will noly take into consideration 1 security variable for comparibility with earlier years."
   ]
  },
  {
   "cell_type": "code",
   "execution_count": 21,
   "id": "5cbab9c7",
   "metadata": {
    "execution": {
     "iopub.execute_input": "2023-02-15T12:06:07.497035Z",
     "iopub.status.busy": "2023-02-15T12:06:07.495031Z",
     "iopub.status.idle": "2023-02-15T12:06:07.655231Z",
     "shell.execute_reply": "2023-02-15T12:06:07.651217Z"
    },
    "papermill": {
     "duration": 0.23318,
     "end_time": "2023-02-15T12:06:07.664218",
     "exception": false,
     "start_time": "2023-02-15T12:06:07.431038",
     "status": "completed"
    },
    "tags": []
   },
   "outputs": [],
   "source": [
    "users.secu1.replace(to_replace=[2,3,4,5,6,7,8,9],value=1,inplace=True)\n",
    "users.secu1.replace(to_replace=[-1],value=0,inplace=True)"
   ]
  },
  {
   "cell_type": "code",
   "execution_count": 22,
   "id": "c04195be",
   "metadata": {
    "execution": {
     "iopub.execute_input": "2023-02-15T12:06:07.793859Z",
     "iopub.status.busy": "2023-02-15T12:06:07.791826Z",
     "iopub.status.idle": "2023-02-15T12:06:07.870419Z",
     "shell.execute_reply": "2023-02-15T12:06:07.867405Z"
    },
    "papermill": {
     "duration": 0.15358,
     "end_time": "2023-02-15T12:06:07.875400",
     "exception": false,
     "start_time": "2023-02-15T12:06:07.721820",
     "status": "completed"
    },
    "tags": []
   },
   "outputs": [
    {
     "data": {
      "text/plain": [
       "1.0    335524\n",
       "0.0     31901\n",
       "Name: secu1, dtype: int64"
      ]
     },
     "execution_count": 22,
     "metadata": {},
     "output_type": "execute_result"
    }
   ],
   "source": [
    "users.secu1.value_counts() "
   ]
  },
  {
   "cell_type": "code",
   "execution_count": 23,
   "id": "c90a04e8",
   "metadata": {
    "execution": {
     "iopub.execute_input": "2023-02-15T12:06:08.021609Z",
     "iopub.status.busy": "2023-02-15T12:06:08.019615Z",
     "iopub.status.idle": "2023-02-15T12:06:08.122802Z",
     "shell.execute_reply": "2023-02-15T12:06:08.119805Z"
    },
    "papermill": {
     "duration": 0.186774,
     "end_time": "2023-02-15T12:06:08.130799",
     "exception": false,
     "start_time": "2023-02-15T12:06:07.944025",
     "status": "completed"
    },
    "tags": []
   },
   "outputs": [
    {
     "data": {
      "text/plain": [
       "1.0    1672237\n",
       "0.0     469958\n",
       "Name: SecuB, dtype: int64"
      ]
     },
     "execution_count": 23,
     "metadata": {},
     "output_type": "execute_result"
    }
   ],
   "source": [
    "users.SecuB.value_counts()"
   ]
  },
  {
   "cell_type": "markdown",
   "id": "f44355c6",
   "metadata": {
    "papermill": {
     "duration": 0.038567,
     "end_time": "2023-02-15T12:06:08.219359",
     "exception": false,
     "start_time": "2023-02-15T12:06:08.180792",
     "status": "completed"
    },
    "tags": []
   },
   "source": [
    "Now both secu1 and secuB are same format we need to merge them into 1 column (for all years)"
   ]
  },
  {
   "cell_type": "code",
   "execution_count": 24,
   "id": "3dd923fd",
   "metadata": {
    "execution": {
     "iopub.execute_input": "2023-02-15T12:06:08.286354Z",
     "iopub.status.busy": "2023-02-15T12:06:08.285355Z",
     "iopub.status.idle": "2023-02-15T12:06:08.345012Z",
     "shell.execute_reply": "2023-02-15T12:06:08.343003Z"
    },
    "papermill": {
     "duration": 0.101628,
     "end_time": "2023-02-15T12:06:08.350990",
     "exception": false,
     "start_time": "2023-02-15T12:06:08.249362",
     "status": "completed"
    },
    "tags": []
   },
   "outputs": [
    {
     "name": "stderr",
     "output_type": "stream",
     "text": [
      "C:\\Users\\kayla\\AppData\\Local\\Temp\\ipykernel_33980\\2256942316.py:3: SettingWithCopyWarning: \n",
      "A value is trying to be set on a copy of a slice from a DataFrame\n",
      "\n",
      "See the caveats in the documentation: https://pandas.pydata.org/pandas-docs/stable/user_guide/indexing.html#returning-a-view-versus-a-copy\n",
      "  users['Security'][:X] = users.SecuB[:X]\n",
      "C:\\Users\\kayla\\AppData\\Local\\Temp\\ipykernel_33980\\2256942316.py:4: SettingWithCopyWarning: \n",
      "A value is trying to be set on a copy of a slice from a DataFrame\n",
      "\n",
      "See the caveats in the documentation: https://pandas.pydata.org/pandas-docs/stable/user_guide/indexing.html#returning-a-view-versus-a-copy\n",
      "  users['Security'][X+1:] = users.secu1[X+1:]\n"
     ]
    }
   ],
   "source": [
    "#must add iloc\n",
    "users['Security']=0\n",
    "users['Security'][:X] = users.SecuB[:X]\n",
    "users['Security'][X+1:] = users.secu1[X+1:]"
   ]
  },
  {
   "cell_type": "code",
   "execution_count": 25,
   "id": "d39277d1",
   "metadata": {
    "execution": {
     "iopub.execute_input": "2023-02-15T12:06:08.460657Z",
     "iopub.status.busy": "2023-02-15T12:06:08.458654Z",
     "iopub.status.idle": "2023-02-15T12:06:08.472663Z",
     "shell.execute_reply": "2023-02-15T12:06:08.469666Z"
    },
    "papermill": {
     "duration": 0.074584,
     "end_time": "2023-02-15T12:06:08.480659",
     "exception": false,
     "start_time": "2023-02-15T12:06:08.406075",
     "status": "completed"
    },
    "tags": []
   },
   "outputs": [],
   "source": [
    "#To drop unneeded columns\n",
    "#copy this to begining of df 3 before modeling for df\n",
    "#users = users.drop(columns=['secu','secu1','secu2','SecuA','SecuB'])"
   ]
  },
  {
   "cell_type": "code",
   "execution_count": 26,
   "id": "05237b6f",
   "metadata": {
    "execution": {
     "iopub.execute_input": "2023-02-15T12:06:08.613267Z",
     "iopub.status.busy": "2023-02-15T12:06:08.612265Z",
     "iopub.status.idle": "2023-02-15T12:06:09.991350Z",
     "shell.execute_reply": "2023-02-15T12:06:09.989323Z"
    },
    "papermill": {
     "duration": 1.455094,
     "end_time": "2023-02-15T12:06:09.996343",
     "exception": false,
     "start_time": "2023-02-15T12:06:08.541249",
     "status": "completed"
    },
    "tags": []
   },
   "outputs": [
    {
     "data": {
      "text/plain": [
       "Num_Acc         0.000000\n",
       "place           0.000000\n",
       "catu            0.000000\n",
       "grav            0.000000\n",
       "sexe            0.000000\n",
       "trajet          0.000000\n",
       "secu           14.640663\n",
       "locp            0.000000\n",
       "actp            0.000000\n",
       "etatp           0.000000\n",
       "an_nais         0.000000\n",
       "num_veh         0.000000\n",
       "id_vehicule    85.359337\n",
       "secu1          85.359337\n",
       "secu2          85.359337\n",
       "SecuA          14.640663\n",
       "SecuB          14.640663\n",
       "Security        0.000000\n",
       "dtype: float64"
      ]
     },
     "execution_count": 26,
     "metadata": {},
     "output_type": "execute_result"
    }
   ],
   "source": [
    "na_percentage(users)"
   ]
  },
  {
   "cell_type": "markdown",
   "id": "2ef494d1",
   "metadata": {
    "papermill": {
     "duration": 0.059038,
     "end_time": "2023-02-15T12:06:10.110909",
     "exception": false,
     "start_time": "2023-02-15T12:06:10.051871",
     "status": "completed"
    },
    "tags": []
   },
   "source": [
    "### Translating the variable names from French to English"
   ]
  },
  {
   "cell_type": "code",
   "execution_count": 27,
   "id": "352d8109",
   "metadata": {
    "execution": {
     "iopub.execute_input": "2023-02-15T12:06:10.213477Z",
     "iopub.status.busy": "2023-02-15T12:06:10.212463Z",
     "iopub.status.idle": "2023-02-15T12:06:10.933087Z",
     "shell.execute_reply": "2023-02-15T12:06:10.931071Z"
    },
    "papermill": {
     "duration": 0.786617,
     "end_time": "2023-02-15T12:06:10.940075",
     "exception": false,
     "start_time": "2023-02-15T12:06:10.153458",
     "status": "completed"
    },
    "tags": []
   },
   "outputs": [],
   "source": [
    "users = users.rename(columns = {'catu' : 'User_category',\n",
    "                                'grav' : 'Severity' , #Severity of accident\n",
    "                                'sexe' : 'Sex' , #Sex of Driver\n",
    "                                'trajet' : 'Trajectory' , \n",
    "                                'locp' : 'LOCP' , #localisation of pedestrian\n",
    "                                'actp' : 'ACTP' , #action of pedestrian\n",
    "                                'etatp' : 'StateP' , #State of pedestrian during accident\n",
    "                                'an_nais' : 'YoB' , #Year of Birth\n",
    "                               })\n",
    "users.columns\n",
    "\n",
    "#change type to int\n",
    "users.place = users.place.astype(int)\n",
    "users.Trajectory = users.Trajectory.astype(int)\n",
    "users.LOCP = users.LOCP.astype(int)\n",
    "users.ACTP = users.ACTP.astype(int)\n",
    "users.StateP = users.StateP.astype(int)\n",
    "users.YoB = users.YoB.astype(int)"
   ]
  },
  {
   "cell_type": "markdown",
   "id": "be21c0d3",
   "metadata": {
    "papermill": {
     "duration": 0.053538,
     "end_time": "2023-02-15T12:06:11.060653",
     "exception": false,
     "start_time": "2023-02-15T12:06:11.007115",
     "status": "completed"
    },
    "tags": []
   },
   "source": [
    "## Places Dataset"
   ]
  },
  {
   "cell_type": "markdown",
   "id": "47f1c720",
   "metadata": {
    "papermill": {
     "duration": 0.068001,
     "end_time": "2023-02-15T12:06:11.194204",
     "exception": false,
     "start_time": "2023-02-15T12:06:11.126203",
     "status": "completed"
    },
    "tags": []
   },
   "source": [
    "### Dropping unwanted columns , which are v1 , v2, vma, voie, env1"
   ]
  },
  {
   "cell_type": "code",
   "execution_count": 28,
   "id": "8e563414",
   "metadata": {
    "execution": {
     "iopub.execute_input": "2023-02-15T12:06:11.332525Z",
     "iopub.status.busy": "2023-02-15T12:06:11.331537Z",
     "iopub.status.idle": "2023-02-15T12:06:11.497158Z",
     "shell.execute_reply": "2023-02-15T12:06:11.496152Z"
    },
    "papermill": {
     "duration": 0.236252,
     "end_time": "2023-02-15T12:06:11.504194",
     "exception": false,
     "start_time": "2023-02-15T12:06:11.267942",
     "status": "completed"
    },
    "tags": []
   },
   "outputs": [],
   "source": [
    "# Droped 'Unnamed: 0','v1','v2','vma', because they contained no information.\n",
    "\n",
    "places = places.drop(['v1','v2','vma','voie','env1'], axis = 1)"
   ]
  },
  {
   "cell_type": "markdown",
   "id": "9c9d9071",
   "metadata": {
    "papermill": {
     "duration": 0.061722,
     "end_time": "2023-02-15T12:06:11.633526",
     "exception": false,
     "start_time": "2023-02-15T12:06:11.571804",
     "status": "completed"
    },
    "tags": []
   },
   "source": [
    "### French to English Variables"
   ]
  },
  {
   "cell_type": "code",
   "execution_count": 29,
   "id": "c23f56d4",
   "metadata": {
    "execution": {
     "iopub.execute_input": "2023-02-15T12:06:11.702369Z",
     "iopub.status.busy": "2023-02-15T12:06:11.699389Z",
     "iopub.status.idle": "2023-02-15T12:06:12.158292Z",
     "shell.execute_reply": "2023-02-15T12:06:12.156271Z"
    },
    "lines_to_next_cell": 2,
    "papermill": {
     "duration": 0.495916,
     "end_time": "2023-02-15T12:06:12.164287",
     "exception": false,
     "start_time": "2023-02-15T12:06:11.668371",
     "status": "completed"
    },
    "tags": []
   },
   "outputs": [
    {
     "data": {
      "text/html": [
       "<div>\n",
       "<style scoped>\n",
       "    .dataframe tbody tr th:only-of-type {\n",
       "        vertical-align: middle;\n",
       "    }\n",
       "\n",
       "    .dataframe tbody tr th {\n",
       "        vertical-align: top;\n",
       "    }\n",
       "\n",
       "    .dataframe thead th {\n",
       "        text-align: right;\n",
       "    }\n",
       "</style>\n",
       "<table border=\"1\" class=\"dataframe\">\n",
       "  <thead>\n",
       "    <tr style=\"text-align: right;\">\n",
       "      <th></th>\n",
       "      <th>Num_Acc</th>\n",
       "      <th>Rd_Cat</th>\n",
       "      <th>Traf_Direct</th>\n",
       "      <th>Lanes</th>\n",
       "      <th>Landmark</th>\n",
       "      <th>Dist_to_Landmark</th>\n",
       "      <th>Add_Lanes</th>\n",
       "      <th>Rd_Prof</th>\n",
       "      <th>Rd_Plan</th>\n",
       "      <th>Gre_Verge</th>\n",
       "      <th>Rd_Width</th>\n",
       "      <th>Rd_Cond</th>\n",
       "      <th>Envinmt</th>\n",
       "      <th>Pos_Acc</th>\n",
       "    </tr>\n",
       "  </thead>\n",
       "  <tbody>\n",
       "    <tr>\n",
       "      <th>0</th>\n",
       "      <td>200500000001</td>\n",
       "      <td>3.0</td>\n",
       "      <td>2.0</td>\n",
       "      <td>2.0</td>\n",
       "      <td>1.0</td>\n",
       "      <td>430.0</td>\n",
       "      <td>0.0</td>\n",
       "      <td>1.0</td>\n",
       "      <td>1.0</td>\n",
       "      <td>0</td>\n",
       "      <td>63</td>\n",
       "      <td>1.0</td>\n",
       "      <td>0.0</td>\n",
       "      <td>1.0</td>\n",
       "    </tr>\n",
       "    <tr>\n",
       "      <th>1</th>\n",
       "      <td>200500000002</td>\n",
       "      <td>2.0</td>\n",
       "      <td>0.0</td>\n",
       "      <td>2.0</td>\n",
       "      <td>0.0</td>\n",
       "      <td>0.0</td>\n",
       "      <td>1.0</td>\n",
       "      <td>1.0</td>\n",
       "      <td>1.0</td>\n",
       "      <td>0</td>\n",
       "      <td>100</td>\n",
       "      <td>1.0</td>\n",
       "      <td>0.0</td>\n",
       "      <td>5.0</td>\n",
       "    </tr>\n",
       "    <tr>\n",
       "      <th>2</th>\n",
       "      <td>200500000003</td>\n",
       "      <td>2.0</td>\n",
       "      <td>0.0</td>\n",
       "      <td>0.0</td>\n",
       "      <td>0.0</td>\n",
       "      <td>0.0</td>\n",
       "      <td>1.0</td>\n",
       "      <td>1.0</td>\n",
       "      <td>1.0</td>\n",
       "      <td>0</td>\n",
       "      <td>0</td>\n",
       "      <td>2.0</td>\n",
       "      <td>0.0</td>\n",
       "      <td>5.0</td>\n",
       "    </tr>\n",
       "    <tr>\n",
       "      <th>3</th>\n",
       "      <td>200500000004</td>\n",
       "      <td>3.0</td>\n",
       "      <td>2.0</td>\n",
       "      <td>2.0</td>\n",
       "      <td>0.0</td>\n",
       "      <td>0.0</td>\n",
       "      <td>0.0</td>\n",
       "      <td>1.0</td>\n",
       "      <td>1.0</td>\n",
       "      <td>0</td>\n",
       "      <td>0</td>\n",
       "      <td>1.0</td>\n",
       "      <td>0.0</td>\n",
       "      <td>1.0</td>\n",
       "    </tr>\n",
       "    <tr>\n",
       "      <th>4</th>\n",
       "      <td>200500000005</td>\n",
       "      <td>3.0</td>\n",
       "      <td>2.0</td>\n",
       "      <td>2.0</td>\n",
       "      <td>24.0</td>\n",
       "      <td>630.0</td>\n",
       "      <td>0.0</td>\n",
       "      <td>1.0</td>\n",
       "      <td>3.0</td>\n",
       "      <td>0</td>\n",
       "      <td>59</td>\n",
       "      <td>2.0</td>\n",
       "      <td>0.0</td>\n",
       "      <td>3.0</td>\n",
       "    </tr>\n",
       "  </tbody>\n",
       "</table>\n",
       "</div>"
      ],
      "text/plain": [
       "        Num_Acc  Rd_Cat  Traf_Direct  Lanes Landmark Dist_to_Landmark  \\\n",
       "0  200500000001     3.0          2.0    2.0      1.0            430.0   \n",
       "1  200500000002     2.0          0.0    2.0      0.0              0.0   \n",
       "2  200500000003     2.0          0.0    0.0      0.0              0.0   \n",
       "3  200500000004     3.0          2.0    2.0      0.0              0.0   \n",
       "4  200500000005     3.0          2.0    2.0     24.0            630.0   \n",
       "\n",
       "   Add_Lanes  Rd_Prof  Rd_Plan Gre_Verge Rd_Width  Rd_Cond  Envinmt  Pos_Acc  \n",
       "0        0.0      1.0      1.0         0       63      1.0      0.0      1.0  \n",
       "1        1.0      1.0      1.0         0      100      1.0      0.0      5.0  \n",
       "2        1.0      1.0      1.0         0        0      2.0      0.0      5.0  \n",
       "3        0.0      1.0      1.0         0        0      1.0      0.0      1.0  \n",
       "4        0.0      1.0      3.0         0       59      2.0      0.0      3.0  "
      ]
     },
     "execution_count": 29,
     "metadata": {},
     "output_type": "execute_result"
    }
   ],
   "source": [
    "# Change french names against english names.\n",
    "\n",
    "places = places.rename(columns = {'catr' : 'Rd_Cat', 'circ' : 'Traf_Direct' , 'nbv' : 'Lanes' ,\n",
    "                           'pr' : 'Landmark' , 'pr1' : 'Dist_to_Landmark', 'vosp' : 'Add_Lanes', 'prof' : 'Rd_Prof' ,\n",
    "                          'plan' : 'Rd_Plan' , 'lartpc' : 'Gre_Verge' , 'larrout' : 'Rd_Width', 'surf' : 'Rd_Cond',\n",
    "                          'infra' : 'Envinmt' , 'situ' : 'Pos_Acc'})\n",
    "places.head()"
   ]
  },
  {
   "cell_type": "markdown",
   "id": "4e0ab23e",
   "metadata": {
    "papermill": {
     "duration": 0.050179,
     "end_time": "2023-02-15T12:06:12.274049",
     "exception": false,
     "start_time": "2023-02-15T12:06:12.223870",
     "status": "completed"
    },
    "tags": []
   },
   "source": [
    "### Changing Nans with Zeros"
   ]
  },
  {
   "cell_type": "code",
   "execution_count": 30,
   "id": "dc8fd25d",
   "metadata": {
    "execution": {
     "iopub.execute_input": "2023-02-15T12:06:12.419999Z",
     "iopub.status.busy": "2023-02-15T12:06:12.419480Z",
     "iopub.status.idle": "2023-02-15T12:06:12.820748Z",
     "shell.execute_reply": "2023-02-15T12:06:12.818179Z"
    },
    "papermill": {
     "duration": 0.485317,
     "end_time": "2023-02-15T12:06:12.826770",
     "exception": false,
     "start_time": "2023-02-15T12:06:12.341453",
     "status": "completed"
    },
    "tags": []
   },
   "outputs": [],
   "source": [
    "# There is no value = 0 assigned to information in the places data set. \n",
    "# Zeros are used in the cleaned data set as a feature to identify original Nans\n",
    "# and to keep the data set with as much information as possible.\n",
    "\n",
    "places = places.fillna({'Rd_Cat':0, 'Traf_Direct': 0, 'Lanes':0, 'Add_Lanes':0, 'Rd_Prof':0,'Rd_Plan':0,\n",
    "                        'Rd_Cond':0, 'Envinmt':0, 'Pos_Acc':0})"
   ]
  },
  {
   "cell_type": "markdown",
   "id": "a0c9eb4e",
   "metadata": {
    "papermill": {
     "duration": 0.046564,
     "end_time": "2023-02-15T12:06:12.929346",
     "exception": false,
     "start_time": "2023-02-15T12:06:12.882782",
     "status": "completed"
    },
    "tags": []
   },
   "source": [
    "### Changing needed \"object\" Variables to \"int\" Variables"
   ]
  },
  {
   "cell_type": "code",
   "execution_count": 31,
   "id": "0d7c39d7",
   "metadata": {
    "execution": {
     "iopub.execute_input": "2023-02-15T12:06:12.993342Z",
     "iopub.status.busy": "2023-02-15T12:06:12.992345Z",
     "iopub.status.idle": "2023-02-15T12:10:14.707388Z",
     "shell.execute_reply": "2023-02-15T12:10:14.705378Z"
    },
    "papermill": {
     "duration": 241.79106,
     "end_time": "2023-02-15T12:10:14.752408",
     "exception": false,
     "start_time": "2023-02-15T12:06:12.961348",
     "status": "completed"
    },
    "tags": []
   },
   "outputs": [
    {
     "name": "stdout",
     "output_type": "stream",
     "text": [
      "Num_Acc             0\n",
      "Rd_Cat              0\n",
      "Traf_Direct         0\n",
      "Lanes               0\n",
      "Landmark            0\n",
      "Dist_to_Landmark    0\n",
      "Add_Lanes           0\n",
      "Rd_Prof             0\n",
      "Rd_Plan             0\n",
      "Gre_Verge           0\n",
      "Rd_Width            0\n",
      "Rd_Cond             0\n",
      "Envinmt             0\n",
      "Pos_Acc             0\n",
      "dtype: int64\n",
      "\n",
      "<class 'pandas.core.frame.DataFrame'>\n",
      "RangeIndex: 1121571 entries, 0 to 1121570\n",
      "Data columns (total 14 columns):\n",
      " #   Column            Non-Null Count    Dtype\n",
      "---  ------            --------------    -----\n",
      " 0   Num_Acc           1121571 non-null  int64\n",
      " 1   Rd_Cat            1121571 non-null  int32\n",
      " 2   Traf_Direct       1121571 non-null  int32\n",
      " 3   Lanes             1121571 non-null  int32\n",
      " 4   Landmark          1121571 non-null  int32\n",
      " 5   Dist_to_Landmark  1121571 non-null  int32\n",
      " 6   Add_Lanes         1121571 non-null  int32\n",
      " 7   Rd_Prof           1121571 non-null  int32\n",
      " 8   Rd_Plan           1121571 non-null  int32\n",
      " 9   Gre_Verge         1121571 non-null  int32\n",
      " 10  Rd_Width          1121571 non-null  int32\n",
      " 11  Rd_Cond           1121571 non-null  int32\n",
      " 12  Envinmt           1121571 non-null  int32\n",
      " 13  Pos_Acc           1121571 non-null  int32\n",
      "dtypes: int32(13), int64(1)\n",
      "memory usage: 64.2 MB\n",
      "None\n",
      "\n",
      "(1121571, 14)\n"
     ]
    }
   ],
   "source": [
    "# Convert 'object' Variables to 'float' Variables\n",
    "\n",
    "object_list = ['Landmark', 'Dist_to_Landmark', 'Gre_Verge', 'Rd_Width']\n",
    "\n",
    "places[object_list] = places[object_list].apply(pd.to_numeric, errors='coerce', axis=1)\n",
    "\n",
    "# Replace empty cells with 'Nans'\n",
    "\n",
    "places.replace('', np.nan).copy()\n",
    "\n",
    "# Fill 'Nans' with 0\n",
    "\n",
    "places = places.fillna({'Landmark':0, 'Dist_to_Landmark': 0, 'Gre_Verge':0, 'Rd_Width':0})\n",
    "\n",
    "# Convert 'float' Variables to 'int' Variables\n",
    "\n",
    "float_list = ['Rd_Cat', 'Traf_Direct', 'Lanes', 'Landmark','Dist_to_Landmark', 'Add_Lanes', 'Rd_Prof', 'Rd_Plan',\n",
    "              'Gre_Verge', 'Rd_Width', 'Rd_Cond', 'Envinmt','Pos_Acc']\n",
    "\n",
    "places[float_list] = places[float_list].astype(int, errors = 'raise')\n",
    "\n",
    "print(places.isna().sum())\n",
    "print()\n",
    "print(places.info())\n",
    "print()\n",
    "print(places.shape)"
   ]
  },
  {
   "cell_type": "markdown",
   "id": "6f528860",
   "metadata": {
    "papermill": {
     "duration": 0.034011,
     "end_time": "2023-02-15T12:10:14.822957",
     "exception": false,
     "start_time": "2023-02-15T12:10:14.788946",
     "status": "completed"
    },
    "tags": []
   },
   "source": [
    "## Characteristics Dataset"
   ]
  },
  {
   "cell_type": "markdown",
   "id": "464f2481",
   "metadata": {
    "papermill": {
     "duration": 0.056003,
     "end_time": "2023-02-15T12:10:14.939504",
     "exception": false,
     "start_time": "2023-02-15T12:10:14.883501",
     "status": "completed"
    },
    "tags": []
   },
   "source": [
    "### Translating the variable names from French to English"
   ]
  },
  {
   "cell_type": "code",
   "execution_count": 32,
   "id": "a7cfbd0f",
   "metadata": {
    "execution": {
     "iopub.execute_input": "2023-02-15T12:10:15.041950Z",
     "iopub.status.busy": "2023-02-15T12:10:15.039950Z",
     "iopub.status.idle": "2023-02-15T12:10:15.102854Z",
     "shell.execute_reply": "2023-02-15T12:10:15.100801Z"
    },
    "papermill": {
     "duration": 0.11189,
     "end_time": "2023-02-15T12:10:15.107841",
     "exception": false,
     "start_time": "2023-02-15T12:10:14.995951",
     "status": "completed"
    },
    "tags": []
   },
   "outputs": [],
   "source": [
    "# Translation of the variable nacmes from French to English, also improving the names so that it becomes clearer, what they are about\n",
    "characteristics.rename(columns={'an': 'year', 'mois':'month', 'jour': 'day', 'hrmn':'hhmm', \n",
    "                                'lum': 'daylight', 'agg': 'built-up_area', 'int':'intersection_category', 'atm': 'atmospheric_conditions',\n",
    "                                'col': 'collision_category', 'com': 'municipality', 'adr':'adress', 'gps': 'gps_origin', 'lat': 'latitude',\n",
    "                                'long': 'longitude', 'dep': 'department'}, inplace=True)\n",
    "\n",
    "# Change the values for 'built-up_area' to make it more understandable, 1 means the accident happened in a built-up area and 0 means happened elsewhere. \n",
    "characteristics['built-up_area'].replace({1:0, 2:1}, inplace=True)"
   ]
  },
  {
   "cell_type": "markdown",
   "id": "80b0fa5a",
   "metadata": {
    "papermill": {
     "duration": 0.059,
     "end_time": "2023-02-15T12:10:15.226436",
     "exception": false,
     "start_time": "2023-02-15T12:10:15.167436",
     "status": "completed"
    },
    "tags": []
   },
   "source": [
    "### Fixing incoherent format of year variable"
   ]
  },
  {
   "cell_type": "code",
   "execution_count": 33,
   "id": "a0a3383c",
   "metadata": {
    "execution": {
     "iopub.execute_input": "2023-02-15T12:10:15.320773Z",
     "iopub.status.busy": "2023-02-15T12:10:15.319772Z",
     "iopub.status.idle": "2023-02-15T12:10:15.373194Z",
     "shell.execute_reply": "2023-02-15T12:10:15.371194Z"
    },
    "papermill": {
     "duration": 0.108423,
     "end_time": "2023-02-15T12:10:15.379190",
     "exception": false,
     "start_time": "2023-02-15T12:10:15.270767",
     "status": "completed"
    },
    "tags": []
   },
   "outputs": [
    {
     "data": {
      "text/plain": [
       "5       87026\n",
       "7       83850\n",
       "6       82993\n",
       "8       76767\n",
       "9       74409\n",
       "10      69379\n",
       "11      66974\n",
       "12      62250\n",
       "17      60701\n",
       "14      59854\n",
       "16      59432\n",
       "2019    58840\n",
       "15      58654\n",
       "13      58397\n",
       "18      57783\n",
       "2021    56518\n",
       "2020    47744\n",
       "Name: year, dtype: int64"
      ]
     },
     "execution_count": 33,
     "metadata": {},
     "output_type": "execute_result"
    }
   ],
   "source": [
    "characteristics['year'].value_counts()"
   ]
  },
  {
   "cell_type": "markdown",
   "id": "7d940bc8",
   "metadata": {
    "papermill": {
     "duration": 0.055548,
     "end_time": "2023-02-15T12:10:15.485762",
     "exception": false,
     "start_time": "2023-02-15T12:10:15.430214",
     "status": "completed"
    },
    "tags": []
   },
   "source": [
    "The year format is inconsistent. Until 2018, the year was relative to the year 2000, e.g. \"5\" for 2005. This changed, however, in 2019 which was labeled as 2019.\n",
    "We will change the year format to YYYY."
   ]
  },
  {
   "cell_type": "code",
   "execution_count": 34,
   "id": "a45c3db2",
   "metadata": {
    "execution": {
     "iopub.execute_input": "2023-02-15T12:10:15.604311Z",
     "iopub.status.busy": "2023-02-15T12:10:15.603311Z",
     "iopub.status.idle": "2023-02-15T12:10:15.691885Z",
     "shell.execute_reply": "2023-02-15T12:10:15.688885Z"
    },
    "papermill": {
     "duration": 0.156133,
     "end_time": "2023-02-15T12:10:15.696890",
     "exception": false,
     "start_time": "2023-02-15T12:10:15.540757",
     "status": "completed"
    },
    "tags": []
   },
   "outputs": [],
   "source": [
    "characteristics['year'].replace({5:2005, 6:2006, 7:2007, 8:2008, 9:2009, 10:2010, 11:2011,\n",
    "                                                         12:2012, 13:2013, 14:2014, 15:2015, 16:2016, 17:2017, 18:2018}, inplace=True)"
   ]
  },
  {
   "cell_type": "markdown",
   "id": "3b4df2a1",
   "metadata": {
    "papermill": {
     "duration": 0.038593,
     "end_time": "2023-02-15T12:10:15.782483",
     "exception": false,
     "start_time": "2023-02-15T12:10:15.743890",
     "status": "completed"
    },
    "tags": []
   },
   "source": [
    "### Fix inconsistent time format"
   ]
  },
  {
   "cell_type": "markdown",
   "id": "0ff6a834",
   "metadata": {
    "papermill": {
     "duration": 0.067685,
     "end_time": "2023-02-15T12:10:15.880149",
     "exception": false,
     "start_time": "2023-02-15T12:10:15.812464",
     "status": "completed"
    },
    "tags": []
   },
   "source": [
    "The time format inconsistent, sometimes it is hhmm, and sometimes hh:mm. We will therefore remove any \":\" from the column "
   ]
  },
  {
   "cell_type": "code",
   "execution_count": 35,
   "id": "01b4c7c7",
   "metadata": {
    "execution": {
     "iopub.execute_input": "2023-02-15T12:10:15.998425Z",
     "iopub.status.busy": "2023-02-15T12:10:15.997433Z",
     "iopub.status.idle": "2023-02-15T12:10:17.733298Z",
     "shell.execute_reply": "2023-02-15T12:10:17.730290Z"
    },
    "lines_to_next_cell": 2,
    "papermill": {
     "duration": 1.807127,
     "end_time": "2023-02-15T12:10:17.738287",
     "exception": false,
     "start_time": "2023-02-15T12:10:15.931160",
     "status": "completed"
    },
    "tags": []
   },
   "outputs": [],
   "source": [
    "#remove ':' from hhmm\n",
    "characteristics['hhmm'] = characteristics['hhmm'].apply(lambda s: int(str(s).replace(':','')))"
   ]
  },
  {
   "cell_type": "markdown",
   "id": "4f715f7f",
   "metadata": {
    "papermill": {
     "duration": 0.037983,
     "end_time": "2023-02-15T12:10:17.828586",
     "exception": false,
     "start_time": "2023-02-15T12:10:17.790603",
     "status": "completed"
    },
    "tags": []
   },
   "source": [
    "### Get weekday and weekend feature"
   ]
  },
  {
   "cell_type": "code",
   "execution_count": 36,
   "id": "26cca349",
   "metadata": {
    "execution": {
     "iopub.execute_input": "2023-02-15T12:10:17.887145Z",
     "iopub.status.busy": "2023-02-15T12:10:17.886145Z",
     "iopub.status.idle": "2023-02-15T12:10:18.048701Z",
     "shell.execute_reply": "2023-02-15T12:10:18.046692Z"
    },
    "papermill": {
     "duration": 0.1971,
     "end_time": "2023-02-15T12:10:18.055720",
     "exception": false,
     "start_time": "2023-02-15T12:10:17.858620",
     "status": "completed"
    },
    "tags": []
   },
   "outputs": [],
   "source": [
    "characteristics['date'] = pd.to_datetime({'year':characteristics['year'],\n",
    "                                                                 'month':dict_of_category_dfs['characteristics']['month'],\n",
    "                                                                 'day':dict_of_category_dfs['characteristics']['day']})"
   ]
  },
  {
   "cell_type": "code",
   "execution_count": 37,
   "id": "b25d465d",
   "metadata": {
    "execution": {
     "iopub.execute_input": "2023-02-15T12:10:18.170844Z",
     "iopub.status.busy": "2023-02-15T12:10:18.169845Z",
     "iopub.status.idle": "2023-02-15T12:10:21.371107Z",
     "shell.execute_reply": "2023-02-15T12:10:21.369084Z"
    },
    "papermill": {
     "duration": 3.263848,
     "end_time": "2023-02-15T12:10:21.376117",
     "exception": false,
     "start_time": "2023-02-15T12:10:18.112269",
     "status": "completed"
    },
    "tags": []
   },
   "outputs": [],
   "source": [
    "# New variable: weekday, integer from 0 to 6 representing the weekdays from monday to sunday.\n",
    "characteristics['day_of_week'] = dict_of_category_dfs['characteristics']['date'].apply(lambda x: x.day_of_week)\n",
    "\n",
    "# New binary variable: is_weekend, 0 for monday to friday and 1 for saturday and sunday\n",
    "characteristics['is_weekend'] = (dict_of_category_dfs['characteristics']['day_of_week'] > 4).astype('int')"
   ]
  },
  {
   "cell_type": "markdown",
   "id": "0720b941",
   "metadata": {
    "papermill": {
     "duration": 0.037007,
     "end_time": "2023-02-15T12:10:21.466121",
     "exception": false,
     "start_time": "2023-02-15T12:10:21.429114",
     "status": "completed"
    },
    "tags": []
   },
   "source": [
    "### Remove trailing zeroes from Department variable\n",
    "The Department codes are followed by a zero for the years 2005--2018, which has no practical use for us. We will therefore eliminate these trailing zeroes.\n",
    "Also, since 2019 all the data is saved as strings. We will convert everything to strings, as this is nominal data, we will not make any calculations with it."
   ]
  },
  {
   "cell_type": "code",
   "execution_count": 38,
   "id": "7a726064",
   "metadata": {
    "execution": {
     "iopub.execute_input": "2023-02-15T12:10:21.523656Z",
     "iopub.status.busy": "2023-02-15T12:10:21.523656Z",
     "iopub.status.idle": "2023-02-15T12:10:23.066209Z",
     "shell.execute_reply": "2023-02-15T12:10:23.064202Z"
    },
    "papermill": {
     "duration": 1.576077,
     "end_time": "2023-02-15T12:10:23.071736",
     "exception": false,
     "start_time": "2023-02-15T12:10:21.495659",
     "status": "completed"
    },
    "tags": []
   },
   "outputs": [],
   "source": [
    "def department_converter(dep):\n",
    "    # Takes in a department code as int and returns a string\n",
    "    # e.g. 750 will be '75' for Paris\n",
    "    # and 201 will be '2B'\n",
    "    if dep == 201:\n",
    "        return '2A'\n",
    "    elif dep == 202:\n",
    "        return '2B'\n",
    "    elif dep>970:\n",
    "        return str(dep)\n",
    "    else:\n",
    "        return str(dep).rstrip('0')\n",
    "\n",
    "characteristics.loc[(np.less(characteristics['year'],2019)),'department'] = \\\n",
    "    characteristics[(np.less(characteristics['year'],2019))]['department'].apply(department_converter)"
   ]
  },
  {
   "cell_type": "markdown",
   "id": "13c5591a",
   "metadata": {
    "papermill": {
     "duration": 0.049541,
     "end_time": "2023-02-15T12:10:23.177293",
     "exception": false,
     "start_time": "2023-02-15T12:10:23.127752",
     "status": "completed"
    },
    "tags": []
   },
   "source": [
    "### Remove leading zeros from department code\n",
    "The dataset from 2021 contains leading zeroes for the department codes 1 to 9. These have to be replaced."
   ]
  },
  {
   "cell_type": "code",
   "execution_count": 39,
   "id": "562928e7",
   "metadata": {
    "execution": {
     "iopub.execute_input": "2023-02-15T12:10:23.278742Z",
     "iopub.status.busy": "2023-02-15T12:10:23.277753Z",
     "iopub.status.idle": "2023-02-15T12:10:23.809517Z",
     "shell.execute_reply": "2023-02-15T12:10:23.808512Z"
    },
    "papermill": {
     "duration": 0.5963,
     "end_time": "2023-02-15T12:10:23.813513",
     "exception": false,
     "start_time": "2023-02-15T12:10:23.217213",
     "status": "completed"
    },
    "tags": []
   },
   "outputs": [],
   "source": [
    "characteristics['department'] = characteristics['department'].apply(lambda code: code.lstrip('0'))"
   ]
  },
  {
   "cell_type": "markdown",
   "id": "e164abc8",
   "metadata": {
    "papermill": {
     "duration": 0.02456,
     "end_time": "2023-02-15T12:10:23.874087",
     "exception": false,
     "start_time": "2023-02-15T12:10:23.849527",
     "status": "completed"
    },
    "tags": []
   },
   "source": [
    "### Fill missing values in atmospheric conditions variable"
   ]
  },
  {
   "cell_type": "code",
   "execution_count": 40,
   "id": "8cb45ee0",
   "metadata": {
    "execution": {
     "iopub.execute_input": "2023-02-15T12:10:23.999784Z",
     "iopub.status.busy": "2023-02-15T12:10:23.998781Z",
     "iopub.status.idle": "2023-02-15T12:10:24.077851Z",
     "shell.execute_reply": "2023-02-15T12:10:24.075853Z"
    },
    "papermill": {
     "duration": 0.148766,
     "end_time": "2023-02-15T12:10:24.083835",
     "exception": false,
     "start_time": "2023-02-15T12:10:23.935069",
     "status": "completed"
    },
    "tags": []
   },
   "outputs": [],
   "source": [
    "characteristics['atmospheric_conditions'] = characteristics['atmospheric_conditions'].fillna(\n",
    "    characteristics['atmospheric_conditions'].mode()[0])"
   ]
  },
  {
   "cell_type": "markdown",
   "id": "15b90a7e",
   "metadata": {
    "papermill": {
     "duration": 0.061586,
     "end_time": "2023-02-15T12:10:24.197432",
     "exception": false,
     "start_time": "2023-02-15T12:10:24.135846",
     "status": "completed"
    },
    "tags": []
   },
   "source": [
    "### Fill missing values in collision category variable"
   ]
  },
  {
   "cell_type": "code",
   "execution_count": 41,
   "id": "34ad401f",
   "metadata": {
    "execution": {
     "iopub.execute_input": "2023-02-15T12:10:24.324982Z",
     "iopub.status.busy": "2023-02-15T12:10:24.323989Z",
     "iopub.status.idle": "2023-02-15T12:10:24.394529Z",
     "shell.execute_reply": "2023-02-15T12:10:24.392521Z"
    },
    "papermill": {
     "duration": 0.141092,
     "end_time": "2023-02-15T12:10:24.399532",
     "exception": false,
     "start_time": "2023-02-15T12:10:24.258440",
     "status": "completed"
    },
    "tags": []
   },
   "outputs": [],
   "source": [
    "characteristics['collision_category'] = characteristics['collision_category'].fillna(\n",
    "    characteristics['collision_category'].mode()[0])"
   ]
  },
  {
   "cell_type": "markdown",
   "id": "588231bb",
   "metadata": {
    "papermill": {
     "duration": 0.034539,
     "end_time": "2023-02-15T12:10:24.476063",
     "exception": false,
     "start_time": "2023-02-15T12:10:24.441524",
     "status": "completed"
    },
    "tags": []
   },
   "source": [
    "## Vehicles dataset"
   ]
  },
  {
   "cell_type": "markdown",
   "id": "47a97863",
   "metadata": {
    "papermill": {
     "duration": 0.022996,
     "end_time": "2023-02-15T12:10:24.524054",
     "exception": false,
     "start_time": "2023-02-15T12:10:24.501058",
     "status": "completed"
    },
    "tags": []
   },
   "source": [
    "### Translating the variable names from French to English"
   ]
  },
  {
   "cell_type": "code",
   "execution_count": 42,
   "id": "6e747ca0",
   "metadata": {
    "execution": {
     "iopub.execute_input": "2023-02-15T12:10:24.631634Z",
     "iopub.status.busy": "2023-02-15T12:10:24.631634Z",
     "iopub.status.idle": "2023-02-15T12:10:24.868781Z",
     "shell.execute_reply": "2023-02-15T12:10:24.866727Z"
    },
    "papermill": {
     "duration": 0.293688,
     "end_time": "2023-02-15T12:10:24.874326",
     "exception": false,
     "start_time": "2023-02-15T12:10:24.580638",
     "status": "completed"
    },
    "tags": []
   },
   "outputs": [
    {
     "data": {
      "text/plain": [
       "Index(['Num_Acc', 'direction', 'cat_veh', 'num_occupants', 'obstacle',\n",
       "       'obstacle_movable', 'initial_point', 'principal_maneuver', 'num_veh',\n",
       "       'id_veh', 'motor_veh'],\n",
       "      dtype='object')"
      ]
     },
     "execution_count": 42,
     "metadata": {},
     "output_type": "execute_result"
    }
   ],
   "source": [
    "vehicles = vehicles.rename(columns = {'id_vehicule' : 'id_veh' , 'num_veh' : 'num_veh' ,\n",
    "                           'senc' : 'direction' , 'catv' : 'cat_veh', 'obs' : 'obstacle', 'obsm' : 'obstacle_movable' ,\n",
    "                          'choc' : 'initial_point' , 'manv' : 'principal_maneuver' , 'motor' : 'motor_veh', 'occutc' : 'num_occupants'})\n",
    "vehicles.columns"
   ]
  },
  {
   "cell_type": "markdown",
   "id": "a11e05e0",
   "metadata": {
    "papermill": {
     "duration": 0.043545,
     "end_time": "2023-02-15T12:10:24.972882",
     "exception": false,
     "start_time": "2023-02-15T12:10:24.929337",
     "status": "completed"
    },
    "tags": []
   },
   "source": [
    "### Check of the variables with the most missing values"
   ]
  },
  {
   "cell_type": "markdown",
   "id": "7e83b70f",
   "metadata": {
    "papermill": {
     "duration": 0.058563,
     "end_time": "2023-02-15T12:10:25.084453",
     "exception": false,
     "start_time": "2023-02-15T12:10:25.025890",
     "status": "completed"
    },
    "tags": []
   },
   "source": [
    "Variable num_occupants is representing amount of passangers being victims of an accident when they used public transport system. Missing values are caused by not recording value 0 and keeping the cell empty. For this reason we decided to replace the missing values by 0."
   ]
  },
  {
   "cell_type": "code",
   "execution_count": 43,
   "id": "566a912e",
   "metadata": {
    "execution": {
     "iopub.execute_input": "2023-02-15T12:10:25.182020Z",
     "iopub.status.busy": "2023-02-15T12:10:25.182020Z",
     "iopub.status.idle": "2023-02-15T12:10:25.281700Z",
     "shell.execute_reply": "2023-02-15T12:10:25.279695Z"
    },
    "papermill": {
     "duration": 0.148261,
     "end_time": "2023-02-15T12:10:25.287713",
     "exception": false,
     "start_time": "2023-02-15T12:10:25.139452",
     "status": "completed"
    },
    "tags": []
   },
   "outputs": [
    {
     "data": {
      "text/plain": [
       "0"
      ]
     },
     "execution_count": 43,
     "metadata": {},
     "output_type": "execute_result"
    }
   ],
   "source": [
    "vehicles[\"num_occupants\"] = vehicles[\"num_occupants\"].fillna(0)\n",
    "vehicles['num_occupants'].isna().sum()"
   ]
  },
  {
   "cell_type": "code",
   "execution_count": 44,
   "id": "737871e6",
   "metadata": {
    "execution": {
     "iopub.execute_input": "2023-02-15T12:10:25.405247Z",
     "iopub.status.busy": "2023-02-15T12:10:25.403245Z",
     "iopub.status.idle": "2023-02-15T12:10:25.471831Z",
     "shell.execute_reply": "2023-02-15T12:10:25.469788Z"
    },
    "papermill": {
     "duration": 0.131138,
     "end_time": "2023-02-15T12:10:25.476843",
     "exception": false,
     "start_time": "2023-02-15T12:10:25.345705",
     "status": "completed"
    },
    "tags": []
   },
   "outputs": [
    {
     "data": {
      "text/plain": [
       "0.0      1901517\n",
       "1.0         7079\n",
       "2.0         1033\n",
       "10.0         654\n",
       "3.0          544\n",
       "          ...   \n",
       "97.0           1\n",
       "73.0           1\n",
       "102.0          1\n",
       "82.0           1\n",
       "78.0           1\n",
       "Name: num_occupants, Length: 124, dtype: int64"
      ]
     },
     "execution_count": 44,
     "metadata": {},
     "output_type": "execute_result"
    }
   ],
   "source": [
    "vehicles['num_occupants'].value_counts()"
   ]
  },
  {
   "cell_type": "markdown",
   "id": "eac2db4f",
   "metadata": {
    "papermill": {
     "duration": 0.059553,
     "end_time": "2023-02-15T12:10:25.593385",
     "exception": false,
     "start_time": "2023-02-15T12:10:25.533832",
     "status": "completed"
    },
    "tags": []
   },
   "source": [
    "The variable motor_veh represents the type of the motorisation of the vehicle. There are 85 % missing values in this column. Some of the values of this variable don't specificate an exact type but are tracked as unspecified, unknown, or other. We have decided to drop this variable as it doesn't have any significant influence on the target variable. "
   ]
  },
  {
   "cell_type": "code",
   "execution_count": 45,
   "id": "88d15424",
   "metadata": {
    "execution": {
     "iopub.execute_input": "2023-02-15T12:10:25.706941Z",
     "iopub.status.busy": "2023-02-15T12:10:25.704942Z",
     "iopub.status.idle": "2023-02-15T12:10:25.882445Z",
     "shell.execute_reply": "2023-02-15T12:10:25.880395Z"
    },
    "papermill": {
     "duration": 0.246064,
     "end_time": "2023-02-15T12:10:25.887439",
     "exception": false,
     "start_time": "2023-02-15T12:10:25.641375",
     "status": "completed"
    },
    "tags": []
   },
   "outputs": [],
   "source": [
    "vehicles = vehicles.drop(columns=['motor_veh'])"
   ]
  },
  {
   "cell_type": "markdown",
   "id": "350677e3",
   "metadata": {
    "papermill": {
     "duration": 0.06059,
     "end_time": "2023-02-15T12:10:26.006038",
     "exception": false,
     "start_time": "2023-02-15T12:10:25.945448",
     "status": "completed"
    },
    "tags": []
   },
   "source": [
    "8 Variables have <= 1% missing information, so for those it should be fine to set the missing information just to zero."
   ]
  },
  {
   "cell_type": "code",
   "execution_count": 46,
   "id": "f2d83033",
   "metadata": {
    "execution": {
     "iopub.execute_input": "2023-02-15T12:10:26.082574Z",
     "iopub.status.busy": "2023-02-15T12:10:26.081584Z",
     "iopub.status.idle": "2023-02-15T12:10:27.369616Z",
     "shell.execute_reply": "2023-02-15T12:10:27.367525Z"
    },
    "papermill": {
     "duration": 1.325121,
     "end_time": "2023-02-15T12:10:27.374155",
     "exception": false,
     "start_time": "2023-02-15T12:10:26.049034",
     "status": "completed"
    },
    "tags": []
   },
   "outputs": [
    {
     "data": {
      "text/plain": [
       "Num_Acc                     0\n",
       "direction                   0\n",
       "cat_veh                     0\n",
       "num_occupants               0\n",
       "obstacle                    0\n",
       "obstacle_movable            0\n",
       "initial_point               0\n",
       "principal_maneuver          0\n",
       "num_veh                     0\n",
       "id_veh                1635811\n",
       "dtype: int64"
      ]
     },
     "execution_count": 46,
     "metadata": {},
     "output_type": "execute_result"
    }
   ],
   "source": [
    "vehicles[['Num_Acc', 'direction', 'cat_veh', 'obstacle', 'obstacle_movable', 'initial_point', 'principal_maneuver']] = vehicles[['Num_Acc', 'direction', 'cat_veh', 'obstacle', 'obstacle_movable', 'initial_point', 'principal_maneuver']].fillna(0)\n",
    "vehicles.isna().sum()"
   ]
  },
  {
   "cell_type": "markdown",
   "id": "a20e21a8",
   "metadata": {
    "papermill": {
     "duration": 0.057574,
     "end_time": "2023-02-15T12:10:27.486736",
     "exception": false,
     "start_time": "2023-02-15T12:10:27.429162",
     "status": "completed"
    },
    "tags": []
   },
   "source": [
    "# Merge all datasets"
   ]
  },
  {
   "cell_type": "markdown",
   "id": "80145b2c",
   "metadata": {
    "papermill": {
     "duration": 0.057457,
     "end_time": "2023-02-15T12:10:27.591254",
     "exception": false,
     "start_time": "2023-02-15T12:10:27.533797",
     "status": "completed"
    },
    "tags": []
   },
   "source": [
    "## Ensure Correct Attribution of Users to Vehicles"
   ]
  },
  {
   "cell_type": "code",
   "execution_count": 47,
   "id": "e94fe526",
   "metadata": {
    "execution": {
     "iopub.execute_input": "2023-02-15T12:10:27.723918Z",
     "iopub.status.busy": "2023-02-15T12:10:27.721956Z",
     "iopub.status.idle": "2023-02-15T12:10:29.597743Z",
     "shell.execute_reply": "2023-02-15T12:10:29.595695Z"
    },
    "papermill": {
     "duration": 1.947416,
     "end_time": "2023-02-15T12:10:29.602741",
     "exception": false,
     "start_time": "2023-02-15T12:10:27.655325",
     "status": "completed"
    },
    "tags": []
   },
   "outputs": [],
   "source": [
    "users['id_vehicule'].fillna(users['num_veh'], inplace=True)\n",
    "users.drop(columns=['num_veh'], inplace=True)\n",
    "users.rename(columns={'id_vehicule': 'id_veh'}, inplace=True)\n",
    "users.set_index(['Num_Acc', 'id_veh'], inplace=True)"
   ]
  },
  {
   "cell_type": "markdown",
   "id": "7b4678d3",
   "metadata": {
    "papermill": {
     "duration": 0.060423,
     "end_time": "2023-02-15T12:10:29.719189",
     "exception": false,
     "start_time": "2023-02-15T12:10:29.658766",
     "status": "completed"
    },
    "tags": []
   },
   "source": [
    "## Left Join for further investigations\n",
    "We will continue working with the left join of the data, as the missing lines miss the most important variables anyway."
   ]
  },
  {
   "cell_type": "code",
   "execution_count": 48,
   "id": "2b1d10fe",
   "metadata": {
    "execution": {
     "iopub.execute_input": "2023-02-15T12:10:29.842436Z",
     "iopub.status.busy": "2023-02-15T12:10:29.841438Z",
     "iopub.status.idle": "2023-02-15T12:10:41.554542Z",
     "shell.execute_reply": "2023-02-15T12:10:41.552480Z"
    },
    "papermill": {
     "duration": 11.783097,
     "end_time": "2023-02-15T12:10:41.559534",
     "exception": false,
     "start_time": "2023-02-15T12:10:29.776437",
     "status": "completed"
    },
    "tags": []
   },
   "outputs": [
    {
     "name": "stdout",
     "output_type": "stream",
     "text": [
      "place                      0.000000\n",
      "User_category              0.000000\n",
      "Severity                   0.000000\n",
      "Sex                        0.000000\n",
      "Trajectory                 0.000000\n",
      "secu                      14.640663\n",
      "LOCP                       0.000000\n",
      "ACTP                       0.000000\n",
      "StateP                     0.000000\n",
      "YoB                        0.000000\n",
      "secu1                     85.359337\n",
      "secu2                     85.359337\n",
      "SecuA                     14.640663\n",
      "SecuB                     14.640663\n",
      "Security                   0.000000\n",
      "Num_Acc                    0.000000\n",
      "direction                 85.359337\n",
      "cat_veh                   85.359337\n",
      "num_occupants             85.359337\n",
      "obstacle                  85.359337\n",
      "obstacle_movable          85.359337\n",
      "initial_point             85.359337\n",
      "principal_maneuver        85.359337\n",
      "num_veh                   85.359337\n",
      "id_veh                     0.000000\n",
      "year                       0.000000\n",
      "month                      0.000000\n",
      "day                        0.000000\n",
      "hhmm                       0.000000\n",
      "daylight                   0.000000\n",
      "built-up_area              0.000000\n",
      "intersection_category      0.000000\n",
      "atmospheric_conditions     0.000000\n",
      "collision_category         0.000000\n",
      "municipality               0.000239\n",
      "adress                    13.695579\n",
      "gps_origin                56.303823\n",
      "latitude                  42.472167\n",
      "longitude                 42.472566\n",
      "department                 0.000000\n",
      "date                       0.000000\n",
      "day_of_week                0.000000\n",
      "is_weekend                 0.000000\n",
      "Rd_Cat                     0.000000\n",
      "Traf_Direct                0.000000\n",
      "Lanes                      0.000000\n",
      "Landmark                   0.000000\n",
      "Dist_to_Landmark           0.000000\n",
      "Add_Lanes                  0.000000\n",
      "Rd_Prof                    0.000000\n",
      "Rd_Plan                    0.000000\n",
      "Gre_Verge                  0.000000\n",
      "Rd_Width                   0.000000\n",
      "Rd_Cond                    0.000000\n",
      "Envinmt                    0.000000\n",
      "Pos_Acc                    0.000000\n",
      "dtype: float64\n"
     ]
    }
   ],
   "source": [
    "df = users.merge(vehicles, how='left', left_index=True, right_on=['Num_Acc', 'id_veh']) \\\n",
    "     .merge(characteristics, how='left', on='Num_Acc') \\\n",
    "     .merge(places, how='left', on='Num_Acc')\n",
    "\n",
    "print(na_percentage(df))"
   ]
  },
  {
   "cell_type": "code",
   "execution_count": 49,
   "id": "2abe990f",
   "metadata": {
    "execution": {
     "iopub.execute_input": "2023-02-15T12:10:41.679083Z",
     "iopub.status.busy": "2023-02-15T12:10:41.678088Z",
     "iopub.status.idle": "2023-02-15T12:10:41.727124Z",
     "shell.execute_reply": "2023-02-15T12:10:41.725116Z"
    },
    "papermill": {
     "duration": 0.118039,
     "end_time": "2023-02-15T12:10:41.733117",
     "exception": false,
     "start_time": "2023-02-15T12:10:41.615078",
     "status": "completed"
    },
    "tags": []
   },
   "outputs": [],
   "source": [
    "df['Age'] = df['year'] - df['YoB']"
   ]
  },
  {
   "cell_type": "code",
   "execution_count": 50,
   "id": "7c65bda1",
   "metadata": {
    "execution": {
     "iopub.execute_input": "2023-02-15T12:10:41.835678Z",
     "iopub.status.busy": "2023-02-15T12:10:41.834671Z",
     "iopub.status.idle": "2023-02-15T12:10:42.204032Z",
     "shell.execute_reply": "2023-02-15T12:10:42.201006Z"
    },
    "papermill": {
     "duration": 0.421325,
     "end_time": "2023-02-15T12:10:42.210007",
     "exception": false,
     "start_time": "2023-02-15T12:10:41.788682",
     "status": "completed"
    },
    "tags": []
   },
   "outputs": [],
   "source": [
    "del characteristics, places, vehicles, users, dict_of_category_dfs"
   ]
  },
  {
   "cell_type": "markdown",
   "id": "489880b7",
   "metadata": {
    "papermill": {
     "duration": 0.059526,
     "end_time": "2023-02-15T12:10:42.326585",
     "exception": false,
     "start_time": "2023-02-15T12:10:42.267059",
     "status": "completed"
    },
    "tags": []
   },
   "source": [
    "## One-Hot Encoding of Categorical Features"
   ]
  },
  {
   "cell_type": "code",
   "execution_count": 51,
   "id": "5b222540",
   "metadata": {
    "execution": {
     "iopub.execute_input": "2023-02-15T12:10:42.458158Z",
     "iopub.status.busy": "2023-02-15T12:10:42.456183Z",
     "iopub.status.idle": "2023-02-15T12:10:45.590920Z",
     "shell.execute_reply": "2023-02-15T12:10:45.586920Z"
    },
    "papermill": {
     "duration": 3.20976,
     "end_time": "2023-02-15T12:10:45.597921",
     "exception": false,
     "start_time": "2023-02-15T12:10:42.388161",
     "status": "completed"
    },
    "tags": []
   },
   "outputs": [],
   "source": [
    "df = pd.get_dummies(df.sample(frac=0.1, random_state=23),\n",
    "       columns=['daylight', 'built-up_area', 'intersection_category', \n",
    "              'atmospheric_conditions', 'collision_category', 'department',\n",
    "              'Rd_Cat', 'Traf_Direct', 'Add_Lanes', 'Rd_Prof', 'Rd_Plan', \n",
    "              'Rd_Cond', 'Envinmt', 'Pos_Acc', 'place', \n",
    "              'User_category', 'Sex', 'Trajectory', 'LOCP', 'ACTP', \n",
    "              'StateP', 'direction', \n",
    "              'cat_veh', 'obstacle', 'obstacle_movable', 'initial_point', 'principal_maneuver'])"
   ]
  },
  {
   "cell_type": "markdown",
   "id": "5c30c680",
   "metadata": {
    "papermill": {
     "duration": 0.058611,
     "end_time": "2023-02-15T12:10:45.718549",
     "exception": false,
     "start_time": "2023-02-15T12:10:45.659938",
     "status": "completed"
    },
    "tags": []
   },
   "source": [
    "# Export DataFrame to Pickle \n",
    "This step is necessary to be able to work with the data in another notebook."
   ]
  },
  {
   "cell_type": "code",
   "execution_count": 52,
   "id": "498c0d53",
   "metadata": {
    "execution": {
     "iopub.execute_input": "2023-02-15T12:10:45.814125Z",
     "iopub.status.busy": "2023-02-15T12:10:45.813119Z",
     "iopub.status.idle": "2023-02-15T12:10:46.487201Z",
     "shell.execute_reply": "2023-02-15T12:10:46.485178Z"
    },
    "papermill": {
     "duration": 0.719625,
     "end_time": "2023-02-15T12:10:46.492194",
     "exception": false,
     "start_time": "2023-02-15T12:10:45.772569",
     "status": "completed"
    },
    "tags": []
   },
   "outputs": [],
   "source": [
    "df.to_pickle('../data/df.p')"
   ]
  },
  {
   "cell_type": "markdown",
   "id": "dcbad603",
   "metadata": {
    "papermill": {
     "duration": 0.056022,
     "end_time": "2023-02-15T12:10:46.581220",
     "exception": false,
     "start_time": "2023-02-15T12:10:46.525198",
     "status": "completed"
    },
    "tags": []
   },
   "source": [
    "The pickle file is too big to track on github, we will therefore create a second file which contains the output of the describe-method as well as the number of nans for each column and the dtypes of the DataFrame."
   ]
  },
  {
   "cell_type": "code",
   "execution_count": 53,
   "id": "bda6d1e1",
   "metadata": {
    "execution": {
     "iopub.execute_input": "2023-02-15T12:10:46.666826Z",
     "iopub.status.busy": "2023-02-15T12:10:46.665838Z",
     "iopub.status.idle": "2023-02-15T12:10:51.121074Z",
     "shell.execute_reply": "2023-02-15T12:10:51.118073Z"
    },
    "papermill": {
     "duration": 4.508319,
     "end_time": "2023-02-15T12:10:51.127072",
     "exception": false,
     "start_time": "2023-02-15T12:10:46.618753",
     "status": "completed"
    },
    "tags": []
   },
   "outputs": [],
   "source": [
    "df_check_info = pyfra.df_testing_info(df)\n",
    "df_check_info.to_csv('../data/df_check_info.csv')"
   ]
  }
 ],
 "metadata": {
  "jupytext": {
   "cell_metadata_filter": "-LanguageId",
   "formats": "ipynb,py:light",
   "main_language": "python",
   "notebook_metadata_filter": "-kernelspec"
  },
  "language_info": {
   "codemirror_mode": {
    "name": "ipython",
    "version": 3
   },
   "file_extension": ".py",
   "mimetype": "text/x-python",
   "name": "python",
   "nbconvert_exporter": "python",
   "pygments_lexer": "ipython3",
   "version": "3.10.9"
  },
  "papermill": {
   "default_parameters": {},
   "duration": 341.935439,
   "end_time": "2023-02-15T12:10:52.434019",
   "environment_variables": {},
   "exception": null,
   "input_path": "pyfra_nb_2.ipynb",
   "output_path": "pyfra_nb_2.ipynb",
   "parameters": {},
   "start_time": "2023-02-15T12:05:10.498580",
   "version": "2.4.0"
  }
 },
 "nbformat": 4,
 "nbformat_minor": 5
}