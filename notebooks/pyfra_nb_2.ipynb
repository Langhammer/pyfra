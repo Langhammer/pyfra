{
 "cells": [
  {
   "cell_type": "markdown",
   "id": "4f31c167",
   "metadata": {
    "papermill": {
     "duration": 0.024013,
     "end_time": "2023-02-03T11:33:13.785069",
     "exception": false,
     "start_time": "2023-02-03T11:33:13.761056",
     "status": "completed"
    },
    "tags": []
   },
   "source": [
    "Notebook 2\n",
    "==============\n",
    "Data Cleaning and Feature Engineering"
   ]
  },
  {
   "cell_type": "code",
   "execution_count": 1,
   "id": "c2bf4ed0",
   "metadata": {
    "execution": {
     "iopub.execute_input": "2023-02-03T11:33:13.852589Z",
     "iopub.status.busy": "2023-02-03T11:33:13.850593Z",
     "iopub.status.idle": "2023-02-03T11:33:17.769677Z",
     "shell.execute_reply": "2023-02-03T11:33:17.768658Z"
    },
    "papermill": {
     "duration": 3.964071,
     "end_time": "2023-02-03T11:33:17.772668",
     "exception": false,
     "start_time": "2023-02-03T11:33:13.808597",
     "status": "completed"
    },
    "tags": []
   },
   "outputs": [],
   "source": [
    "import pandas as pd\n",
    "import numpy as np\n",
    "from matplotlib import pyplot as plt\n",
    "import pyfra\n",
    "import seaborn as sns"
   ]
  },
  {
   "cell_type": "markdown",
   "id": "593873eb",
   "metadata": {
    "papermill": {
     "duration": 0.018003,
     "end_time": "2023-02-03T11:33:17.812255",
     "exception": false,
     "start_time": "2023-02-03T11:33:17.794252",
     "status": "completed"
    },
    "tags": []
   },
   "source": [
    "# Data import & pulling\n",
    "\n",
    "We have imported the data and separated them into four different categories: characteristics,places,users,vehicles."
   ]
  },
  {
   "cell_type": "code",
   "execution_count": 2,
   "id": "8c449746",
   "metadata": {
    "execution": {
     "iopub.execute_input": "2023-02-03T11:33:17.867250Z",
     "iopub.status.busy": "2023-02-03T11:33:17.866261Z",
     "iopub.status.idle": "2023-02-03T11:33:17.880994Z",
     "shell.execute_reply": "2023-02-03T11:33:17.877972Z"
    },
    "papermill": {
     "duration": 0.048814,
     "end_time": "2023-02-03T11:33:17.886074",
     "exception": false,
     "start_time": "2023-02-03T11:33:17.837260",
     "status": "completed"
    },
    "tags": []
   },
   "outputs": [],
   "source": [
    "french_categories = {'characteristics': 'caracteristiques', 'places':'lieux', 'users':'usagers', 'vehicles':'vehicules'}\n",
    "data_categories = french_categories.keys()\n",
    "categories_dict = dict(zip(data_categories, [0,0,0,0]))"
   ]
  },
  {
   "cell_type": "code",
   "execution_count": 3,
   "id": "94f18474",
   "metadata": {
    "execution": {
     "iopub.execute_input": "2023-02-03T11:33:17.932522Z",
     "iopub.status.busy": "2023-02-03T11:33:17.931519Z",
     "iopub.status.idle": "2023-02-03T11:33:27.473847Z",
     "shell.execute_reply": "2023-02-03T11:33:27.472844Z"
    },
    "lines_to_next_cell": 2,
    "papermill": {
     "duration": 9.56931,
     "end_time": "2023-02-03T11:33:27.477844",
     "exception": false,
     "start_time": "2023-02-03T11:33:17.908534",
     "status": "completed"
    },
    "tags": []
   },
   "outputs": [],
   "source": [
    "# Define the function that reads the raw data for the specified time range\n",
    "def read_csv_of_year(start_year, end_year, separators, name_separator='_'):\n",
    "    if len (separators)<4:\n",
    "        separators = [separators]*4\n",
    "        \n",
    "    df_dict = {}\n",
    "    for year in range(start_year,end_year+1):\n",
    "        this_year_str = str(year)\n",
    "        # Data Category\n",
    "        this_df_dict = {}        \n",
    "        for this_category, this_sep in zip(data_categories, separators):\n",
    "            # We need the French name of the category for the filename\n",
    "            this_french_category = french_categories[this_category]\n",
    "            this_file_path_and_name = '../data/'+this_year_str+'/' + this_french_category+name_separator+this_year_str+'.csv'\n",
    "            this_df_dict[this_category] = pd.read_csv(this_file_path_and_name, encoding='latin-1', sep=this_sep, low_memory=False)\n",
    "        df_dict[year] = this_df_dict\n",
    "    return df_dict\n",
    "\n",
    "# Import years\n",
    "df_dict = {}\n",
    "df_dict.update(read_csv_of_year(2005, 2008, separators=','))\n",
    "df_dict.update(read_csv_of_year(2009,2009, separators=['\\t', ',', ',', ',']))\n",
    "df_dict.update(read_csv_of_year(2010, 2016, separators=','))\n",
    "df_dict.update(read_csv_of_year(2017, 2018, separators=',', name_separator='-'))\n",
    "df_dict.update(read_csv_of_year(2019, 2021, separators=';', name_separator='-'))"
   ]
  },
  {
   "cell_type": "code",
   "execution_count": 4,
   "id": "dcd6034e",
   "metadata": {
    "execution": {
     "iopub.execute_input": "2023-02-03T11:33:27.534091Z",
     "iopub.status.busy": "2023-02-03T11:33:27.532087Z",
     "iopub.status.idle": "2023-02-03T11:33:28.208410Z",
     "shell.execute_reply": "2023-02-03T11:33:28.207411Z"
    },
    "papermill": {
     "duration": 0.708325,
     "end_time": "2023-02-03T11:33:28.212410",
     "exception": false,
     "start_time": "2023-02-03T11:33:27.504085",
     "status": "completed"
    },
    "tags": []
   },
   "outputs": [],
   "source": [
    "dict_of_category_dfs = {}\n",
    "for this_category in data_categories:\n",
    "    dict_of_category_dfs[this_category] = pd.concat([df_dict[year][this_category] for year in range(2005,2022)], ignore_index=True)\n",
    "\n",
    "characteristics = dict_of_category_dfs['characteristics']\n",
    "places = dict_of_category_dfs['places']\n",
    "users = dict_of_category_dfs['users']\n",
    "vehicles = dict_of_category_dfs['vehicles']"
   ]
  },
  {
   "cell_type": "markdown",
   "id": "fdc0baff",
   "metadata": {
    "papermill": {
     "duration": 0.022012,
     "end_time": "2023-02-03T11:33:28.256298",
     "exception": false,
     "start_time": "2023-02-03T11:33:28.234286",
     "status": "completed"
    },
    "tags": []
   },
   "source": [
    "# Data Cleaning\n",
    "We will perform some of the cleaning of the data on the individual datasets. Not all cleaning is possible before merging the datasets, so there will be a second round of cleaning."
   ]
  },
  {
   "cell_type": "markdown",
   "id": "92518a49",
   "metadata": {
    "papermill": {
     "duration": 0.028491,
     "end_time": "2023-02-03T11:33:28.309781",
     "exception": false,
     "start_time": "2023-02-03T11:33:28.281290",
     "status": "completed"
    },
    "tags": []
   },
   "source": [
    "## Calculate the percentage of missing values for each dataframe"
   ]
  },
  {
   "cell_type": "code",
   "execution_count": 5,
   "id": "ebd1e60f",
   "metadata": {
    "execution": {
     "iopub.execute_input": "2023-02-03T11:33:28.360771Z",
     "iopub.status.busy": "2023-02-03T11:33:28.359774Z",
     "iopub.status.idle": "2023-02-03T11:33:28.368775Z",
     "shell.execute_reply": "2023-02-03T11:33:28.366780Z"
    },
    "papermill": {
     "duration": 0.039999,
     "end_time": "2023-02-03T11:33:28.373777",
     "exception": false,
     "start_time": "2023-02-03T11:33:28.333778",
     "status": "completed"
    },
    "tags": []
   },
   "outputs": [],
   "source": [
    "def na_percentage(df):\n",
    "  return df.isna().sum() *100 / len(df)"
   ]
  },
  {
   "cell_type": "code",
   "execution_count": 6,
   "id": "ddb28605",
   "metadata": {
    "execution": {
     "iopub.execute_input": "2023-02-03T11:33:28.430475Z",
     "iopub.status.busy": "2023-02-03T11:33:28.429475Z",
     "iopub.status.idle": "2023-02-03T11:33:32.614523Z",
     "shell.execute_reply": "2023-02-03T11:33:32.610544Z"
    },
    "papermill": {
     "duration": 4.219733,
     "end_time": "2023-02-03T11:33:32.618523",
     "exception": false,
     "start_time": "2023-02-03T11:33:28.398790",
     "status": "completed"
    },
    "tags": []
   },
   "outputs": [
    {
     "name": "stdout",
     "output_type": "stream",
     "text": [
      "characteristics\n",
      " Num_Acc     0.000000\n",
      "an          0.000000\n",
      "mois        0.000000\n",
      "jour        0.000000\n",
      "hrmn        0.000000\n",
      "lum         0.000000\n",
      "agg         0.000000\n",
      "int         0.000000\n",
      "atm         0.006509\n",
      "col         0.001694\n",
      "com         0.000178\n",
      "adr        12.774581\n",
      "gps        57.198251\n",
      "lat        43.427300\n",
      "long       43.427656\n",
      "dep         0.000000\n",
      "dtype: float64 \n",
      "\n"
     ]
    },
    {
     "name": "stdout",
     "output_type": "stream",
     "text": [
      "places\n",
      " Num_Acc     0.000000\n",
      "catr        0.000089\n",
      "voie        9.556239\n",
      "v1         56.690481\n",
      "v2         95.419907\n",
      "circ        0.140339\n",
      "nbv         0.243498\n",
      "pr         42.394463\n",
      "pr1        42.556646\n",
      "vosp        0.246173\n",
      "prof        0.173774\n",
      "plan        0.203375\n",
      "lartpc     19.511203\n",
      "larrout    10.060977\n",
      "surf        0.171545\n",
      "infra       0.482181\n",
      "situ        0.443128\n",
      "env1       15.027314\n",
      "vma        85.457720\n",
      "dtype: float64 \n",
      "\n"
     ]
    },
    {
     "name": "stdout",
     "output_type": "stream",
     "text": [
      "users\n",
      " Num_Acc         0.000000\n",
      "place           4.906241\n",
      "catu            0.000000\n",
      "grav            0.000000\n",
      "sexe            0.000000\n",
      "trajet          0.019684\n",
      "secu           16.893474\n",
      "locp            2.245798\n",
      "actp            2.249823\n",
      "etatp           2.248069\n",
      "an_nais         0.218559\n",
      "num_veh         0.000000\n",
      "id_vehicule    85.359337\n",
      "secu1          85.359337\n",
      "secu2          85.359337\n",
      "secu3          85.359337\n",
      "dtype: float64 \n",
      "\n"
     ]
    },
    {
     "name": "stdout",
     "output_type": "stream",
     "text": [
      "vehicles\n",
      " Num_Acc         0.000000\n",
      "senc            0.014204\n",
      "catv            0.000000\n",
      "occutc         14.456823\n",
      "obs             0.052535\n",
      "obsm            0.040629\n",
      "choc            0.020732\n",
      "manv            0.024440\n",
      "num_veh         0.000000\n",
      "id_vehicule    85.425312\n",
      "motor          85.425312\n",
      "dtype: float64 \n",
      "\n"
     ]
    }
   ],
   "source": [
    "for this_category, df in dict_of_category_dfs.items():\n",
    "    print(this_category+'\\n', na_percentage(df),'\\n')"
   ]
  },
  {
   "cell_type": "markdown",
   "id": "0faad252",
   "metadata": {
    "papermill": {
     "duration": 0.025982,
     "end_time": "2023-02-03T11:33:32.671524",
     "exception": false,
     "start_time": "2023-02-03T11:33:32.645542",
     "status": "completed"
    },
    "tags": []
   },
   "source": [
    "## Users Dataset\n",
    "\n",
    "Dropping unwanted columns: which are num_veh , id_vehicule, and Num_Acc"
   ]
  },
  {
   "cell_type": "code",
   "execution_count": 7,
   "id": "69bdea66",
   "metadata": {
    "execution": {
     "iopub.execute_input": "2023-02-03T11:33:32.730727Z",
     "iopub.status.busy": "2023-02-03T11:33:32.730727Z",
     "iopub.status.idle": "2023-02-03T11:33:32.923283Z",
     "shell.execute_reply": "2023-02-03T11:33:32.921276Z"
    },
    "papermill": {
     "duration": 0.230741,
     "end_time": "2023-02-03T11:33:32.927278",
     "exception": false,
     "start_time": "2023-02-03T11:33:32.696537",
     "status": "completed"
    },
    "tags": []
   },
   "outputs": [],
   "source": [
    "users = users.drop(columns=['num_veh','id_vehicule']) #Not needed #2509620 "
   ]
  },
  {
   "cell_type": "code",
   "execution_count": 8,
   "id": "415ac57b",
   "metadata": {
    "execution": {
     "iopub.execute_input": "2023-02-03T11:33:32.970283Z",
     "iopub.status.busy": "2023-02-03T11:33:32.968287Z",
     "iopub.status.idle": "2023-02-03T11:33:33.003311Z",
     "shell.execute_reply": "2023-02-03T11:33:33.001313Z"
    },
    "papermill": {
     "duration": 0.059578,
     "end_time": "2023-02-03T11:33:33.006862",
     "exception": false,
     "start_time": "2023-02-03T11:33:32.947284",
     "status": "completed"
    },
    "tags": []
   },
   "outputs": [],
   "source": [
    "#Grav\n",
    "users.grav.replace(to_replace=-1,value=1,inplace=True)"
   ]
  },
  {
   "cell_type": "code",
   "execution_count": 9,
   "id": "8d35f917",
   "metadata": {
    "execution": {
     "iopub.execute_input": "2023-02-03T11:33:33.058872Z",
     "iopub.status.busy": "2023-02-03T11:33:33.057863Z",
     "iopub.status.idle": "2023-02-03T11:33:33.129434Z",
     "shell.execute_reply": "2023-02-03T11:33:33.127435Z"
    },
    "lines_to_next_cell": 2,
    "papermill": {
     "duration": 0.099559,
     "end_time": "2023-02-03T11:33:33.132432",
     "exception": false,
     "start_time": "2023-02-03T11:33:33.032873",
     "status": "completed"
    },
    "tags": []
   },
   "outputs": [],
   "source": [
    "#Place\n",
    "\n",
    "users.place.value_counts()\n",
    "users.place.fillna(1,inplace=True) #replace is with mode\n",
    "users.place.replace(to_replace=-1,value=0,inplace=True) #-1 is unassigned , will put 0 unknown #Same result"
   ]
  },
  {
   "cell_type": "code",
   "execution_count": 10,
   "id": "f67471c2",
   "metadata": {
    "execution": {
     "iopub.execute_input": "2023-02-03T11:33:33.176441Z",
     "iopub.status.busy": "2023-02-03T11:33:33.175444Z",
     "iopub.status.idle": "2023-02-03T11:33:33.207986Z",
     "shell.execute_reply": "2023-02-03T11:33:33.205963Z"
    },
    "papermill": {
     "duration": 0.057537,
     "end_time": "2023-02-03T11:33:33.210977",
     "exception": false,
     "start_time": "2023-02-03T11:33:33.153440",
     "status": "completed"
    },
    "tags": []
   },
   "outputs": [],
   "source": [
    "#Trajet\n",
    "\n",
    "users.trajet.replace(to_replace=-1,value=0,inplace=True) #-1 is unassigned , will put 0 unknown #Same result\n",
    "users.trajet.fillna(5,inplace=True) #replace is with mode"
   ]
  },
  {
   "cell_type": "code",
   "execution_count": 11,
   "id": "b7de6e61",
   "metadata": {
    "execution": {
     "iopub.execute_input": "2023-02-03T11:33:33.255983Z",
     "iopub.status.busy": "2023-02-03T11:33:33.253986Z",
     "iopub.status.idle": "2023-02-03T11:33:33.318127Z",
     "shell.execute_reply": "2023-02-03T11:33:33.316132Z"
    },
    "papermill": {
     "duration": 0.090154,
     "end_time": "2023-02-03T11:33:33.321135",
     "exception": false,
     "start_time": "2023-02-03T11:33:33.230981",
     "status": "completed"
    },
    "tags": []
   },
   "outputs": [],
   "source": [
    "#locp\n",
    "\n",
    "users.locp.replace(to_replace=-1,value=0,inplace=True) #-1 is unassigned , will put 0 unknown #Same result\n",
    "users.locp.value_counts()\n",
    "users.locp.fillna(0,inplace=True) #replace is with mode"
   ]
  },
  {
   "cell_type": "code",
   "execution_count": 12,
   "id": "07269637",
   "metadata": {
    "execution": {
     "iopub.execute_input": "2023-02-03T11:33:33.366127Z",
     "iopub.status.busy": "2023-02-03T11:33:33.365125Z",
     "iopub.status.idle": "2023-02-03T11:33:39.613734Z",
     "shell.execute_reply": "2023-02-03T11:33:39.611722Z"
    },
    "papermill": {
     "duration": 6.274606,
     "end_time": "2023-02-03T11:33:39.616729",
     "exception": false,
     "start_time": "2023-02-03T11:33:33.342123",
     "status": "completed"
    },
    "tags": []
   },
   "outputs": [],
   "source": [
    "#actp\n",
    "\n",
    "users.actp.replace(to_replace=['B'],value=0,inplace=True)#-1,B is unassigned , will put 0 unknown #Same result\n",
    "users.actp.replace(to_replace=' -1',value=0,inplace=True)\n",
    "users.actp.replace(to_replace=['A'],value=8,inplace=True) #A is coming in/out of vehicule , will put 8 instead (int)\n",
    "users.actp.fillna(0,inplace=True) #replace is with mode\n",
    "\n",
    "users.actp.replace(to_replace='0',value=0,inplace=True)\n",
    "users.actp.replace(to_replace='1',value=1,inplace=True)\n",
    "users.actp.replace(to_replace='2',value=2,inplace=True)\n",
    "users.actp.replace(to_replace='3',value=3,inplace=True)\n",
    "users.actp.replace(to_replace='4',value=4,inplace=True)\n",
    "users.actp.replace(to_replace='5',value=5,inplace=True)\n",
    "users.actp.replace(to_replace='6',value=6,inplace=True)\n",
    "users.actp.replace(to_replace='7',value=7,inplace=True)\n",
    "users.actp.replace(to_replace='8',value=8,inplace=True)\n",
    "users.actp.replace(to_replace='9',value=9,inplace=True)"
   ]
  },
  {
   "cell_type": "code",
   "execution_count": 13,
   "id": "ba1212cb",
   "metadata": {
    "execution": {
     "iopub.execute_input": "2023-02-03T11:33:39.681744Z",
     "iopub.status.busy": "2023-02-03T11:33:39.679745Z",
     "iopub.status.idle": "2023-02-03T11:33:39.755318Z",
     "shell.execute_reply": "2023-02-03T11:33:39.753315Z"
    },
    "papermill": {
     "duration": 0.111589,
     "end_time": "2023-02-03T11:33:39.760328",
     "exception": false,
     "start_time": "2023-02-03T11:33:39.648739",
     "status": "completed"
    },
    "tags": []
   },
   "outputs": [],
   "source": [
    "#etatp\n",
    "\n",
    "users.etatp.replace(to_replace=-1,value=0,inplace=True) #-1, is unassigned , will put 0 unknown #Same result\n",
    "users.etatp.isna().sum() #119291\n",
    "users.etatp.value_counts() \n",
    "users.etatp.fillna(0,inplace=True) #replace is with mode"
   ]
  },
  {
   "cell_type": "code",
   "execution_count": 14,
   "id": "18ca16ce",
   "metadata": {
    "execution": {
     "iopub.execute_input": "2023-02-03T11:33:39.841898Z",
     "iopub.status.busy": "2023-02-03T11:33:39.840896Z",
     "iopub.status.idle": "2023-02-03T11:33:39.944444Z",
     "shell.execute_reply": "2023-02-03T11:33:39.942453Z"
    },
    "papermill": {
     "duration": 0.1511,
     "end_time": "2023-02-03T11:33:39.949442",
     "exception": false,
     "start_time": "2023-02-03T11:33:39.798342",
     "status": "completed"
    },
    "tags": []
   },
   "outputs": [],
   "source": [
    "#an_nais\n",
    "\n",
    "users.an_nais.isna().sum() #10080\n",
    "users.an_nais.value_counts() \n",
    "users.an_nais.fillna(1986.0,inplace=True)\n",
    "#replace is with mode #the first 5 values of value_counts are close to each other\n"
   ]
  },
  {
   "cell_type": "code",
   "execution_count": 15,
   "id": "9ba2ad17",
   "metadata": {
    "execution": {
     "iopub.execute_input": "2023-02-03T11:33:40.017017Z",
     "iopub.status.busy": "2023-02-03T11:33:40.016019Z",
     "iopub.status.idle": "2023-02-03T11:33:40.039018Z",
     "shell.execute_reply": "2023-02-03T11:33:40.037018Z"
    },
    "papermill": {
     "duration": 0.05857,
     "end_time": "2023-02-03T11:33:40.044016",
     "exception": false,
     "start_time": "2023-02-03T11:33:39.985446",
     "status": "completed"
    },
    "tags": []
   },
   "outputs": [],
   "source": [
    "#Sex \n",
    "users.sexe.replace(to_replace=-1,value=1,inplace=True)"
   ]
  },
  {
   "cell_type": "markdown",
   "id": "ea08238c",
   "metadata": {
    "papermill": {
     "duration": 0.022022,
     "end_time": "2023-02-03T11:33:40.100037",
     "exception": false,
     "start_time": "2023-02-03T11:33:40.078015",
     "status": "completed"
    },
    "tags": []
   },
   "source": [
    "### Fixing incoherency of 'secu' Variable\n",
    "Safety equipment until 2018 was in 2 variables: existence and use.\n",
    "\n",
    "From 2019, it is the use with up to 3 possible equipments for the same user\n",
    "(especially for motorcyclists whose helmet and gloves are mandatory).\n",
    "\n",
    "#secu1\n",
    "The character information indicates the presence and use of the safety equipment:\n",
    "-1 - No information\n",
    "0 - No equipment\n",
    "1 - Belt\n",
    "2 - Helmet\n",
    "3 - Children device\n",
    "4 - Reflective vest\n",
    "5 - Airbag (2WD/3WD)\n",
    "6 - Gloves (2WD/3WD)\n",
    "7 - Gloves + Airbag (2WD/3WD)\n",
    "8 - Non-determinable\n",
    "9 - Other\n",
    "\n",
    "#secu2\n",
    "The character information indicates the presence and use of the safety equipment\n",
    "\n",
    "#secu3\n",
    "The character information indicates the presence and use of safety equipment"
   ]
  },
  {
   "cell_type": "code",
   "execution_count": 16,
   "id": "6071b6fb",
   "metadata": {
    "execution": {
     "iopub.execute_input": "2023-02-03T11:33:40.155556Z",
     "iopub.status.busy": "2023-02-03T11:33:40.154557Z",
     "iopub.status.idle": "2023-02-03T11:33:40.337447Z",
     "shell.execute_reply": "2023-02-03T11:33:40.336444Z"
    },
    "papermill": {
     "duration": 0.219874,
     "end_time": "2023-02-03T11:33:40.341439",
     "exception": false,
     "start_time": "2023-02-03T11:33:40.121565",
     "status": "completed"
    },
    "tags": []
   },
   "outputs": [],
   "source": [
    "#Security \n",
    "users.drop(columns='secu3',inplace=True)"
   ]
  },
  {
   "cell_type": "code",
   "execution_count": 17,
   "id": "33213a77",
   "metadata": {
    "execution": {
     "iopub.execute_input": "2023-02-03T11:33:40.390465Z",
     "iopub.status.busy": "2023-02-03T11:33:40.388445Z",
     "iopub.status.idle": "2023-02-03T11:33:40.449547Z",
     "shell.execute_reply": "2023-02-03T11:33:40.447546Z"
    },
    "papermill": {
     "duration": 0.089087,
     "end_time": "2023-02-03T11:33:40.452550",
     "exception": false,
     "start_time": "2023-02-03T11:33:40.363463",
     "status": "completed"
    },
    "tags": []
   },
   "outputs": [
    {
     "data": {
      "text/html": [
       "<div>\n",
       "<style scoped>\n",
       "    .dataframe tbody tr th:only-of-type {\n",
       "        vertical-align: middle;\n",
       "    }\n",
       "\n",
       "    .dataframe tbody tr th {\n",
       "        vertical-align: top;\n",
       "    }\n",
       "\n",
       "    .dataframe thead th {\n",
       "        text-align: right;\n",
       "    }\n",
       "</style>\n",
       "<table border=\"1\" class=\"dataframe\">\n",
       "  <thead>\n",
       "    <tr style=\"text-align: right;\">\n",
       "      <th></th>\n",
       "      <th>Num_Acc</th>\n",
       "      <th>place</th>\n",
       "      <th>catu</th>\n",
       "      <th>grav</th>\n",
       "      <th>sexe</th>\n",
       "      <th>trajet</th>\n",
       "      <th>secu</th>\n",
       "      <th>locp</th>\n",
       "      <th>actp</th>\n",
       "      <th>etatp</th>\n",
       "      <th>an_nais</th>\n",
       "      <th>secu1</th>\n",
       "      <th>secu2</th>\n",
       "    </tr>\n",
       "  </thead>\n",
       "  <tbody>\n",
       "    <tr>\n",
       "      <th>0</th>\n",
       "      <td>200500000001</td>\n",
       "      <td>1.0</td>\n",
       "      <td>1</td>\n",
       "      <td>4</td>\n",
       "      <td>1</td>\n",
       "      <td>1.0</td>\n",
       "      <td>11.0</td>\n",
       "      <td>0.0</td>\n",
       "      <td>0.0</td>\n",
       "      <td>0.0</td>\n",
       "      <td>1976.0</td>\n",
       "      <td>NaN</td>\n",
       "      <td>NaN</td>\n",
       "    </tr>\n",
       "    <tr>\n",
       "      <th>1</th>\n",
       "      <td>200500000001</td>\n",
       "      <td>1.0</td>\n",
       "      <td>1</td>\n",
       "      <td>3</td>\n",
       "      <td>2</td>\n",
       "      <td>3.0</td>\n",
       "      <td>11.0</td>\n",
       "      <td>0.0</td>\n",
       "      <td>0.0</td>\n",
       "      <td>0.0</td>\n",
       "      <td>1968.0</td>\n",
       "      <td>NaN</td>\n",
       "      <td>NaN</td>\n",
       "    </tr>\n",
       "    <tr>\n",
       "      <th>2</th>\n",
       "      <td>200500000001</td>\n",
       "      <td>2.0</td>\n",
       "      <td>2</td>\n",
       "      <td>1</td>\n",
       "      <td>1</td>\n",
       "      <td>0.0</td>\n",
       "      <td>11.0</td>\n",
       "      <td>0.0</td>\n",
       "      <td>0.0</td>\n",
       "      <td>0.0</td>\n",
       "      <td>1964.0</td>\n",
       "      <td>NaN</td>\n",
       "      <td>NaN</td>\n",
       "    </tr>\n",
       "    <tr>\n",
       "      <th>3</th>\n",
       "      <td>200500000001</td>\n",
       "      <td>4.0</td>\n",
       "      <td>2</td>\n",
       "      <td>1</td>\n",
       "      <td>1</td>\n",
       "      <td>0.0</td>\n",
       "      <td>31.0</td>\n",
       "      <td>0.0</td>\n",
       "      <td>0.0</td>\n",
       "      <td>0.0</td>\n",
       "      <td>2004.0</td>\n",
       "      <td>NaN</td>\n",
       "      <td>NaN</td>\n",
       "    </tr>\n",
       "    <tr>\n",
       "      <th>4</th>\n",
       "      <td>200500000001</td>\n",
       "      <td>5.0</td>\n",
       "      <td>2</td>\n",
       "      <td>1</td>\n",
       "      <td>1</td>\n",
       "      <td>0.0</td>\n",
       "      <td>11.0</td>\n",
       "      <td>0.0</td>\n",
       "      <td>0.0</td>\n",
       "      <td>0.0</td>\n",
       "      <td>1998.0</td>\n",
       "      <td>NaN</td>\n",
       "      <td>NaN</td>\n",
       "    </tr>\n",
       "    <tr>\n",
       "      <th>...</th>\n",
       "      <td>...</td>\n",
       "      <td>...</td>\n",
       "      <td>...</td>\n",
       "      <td>...</td>\n",
       "      <td>...</td>\n",
       "      <td>...</td>\n",
       "      <td>...</td>\n",
       "      <td>...</td>\n",
       "      <td>...</td>\n",
       "      <td>...</td>\n",
       "      <td>...</td>\n",
       "      <td>...</td>\n",
       "      <td>...</td>\n",
       "    </tr>\n",
       "    <tr>\n",
       "      <th>2509615</th>\n",
       "      <td>202100056516</td>\n",
       "      <td>1.0</td>\n",
       "      <td>1</td>\n",
       "      <td>4</td>\n",
       "      <td>1</td>\n",
       "      <td>0.0</td>\n",
       "      <td>NaN</td>\n",
       "      <td>0.0</td>\n",
       "      <td>0.0</td>\n",
       "      <td>0.0</td>\n",
       "      <td>1975.0</td>\n",
       "      <td>1.0</td>\n",
       "      <td>-1.0</td>\n",
       "    </tr>\n",
       "    <tr>\n",
       "      <th>2509616</th>\n",
       "      <td>202100056516</td>\n",
       "      <td>1.0</td>\n",
       "      <td>1</td>\n",
       "      <td>4</td>\n",
       "      <td>1</td>\n",
       "      <td>5.0</td>\n",
       "      <td>NaN</td>\n",
       "      <td>0.0</td>\n",
       "      <td>0.0</td>\n",
       "      <td>0.0</td>\n",
       "      <td>2002.0</td>\n",
       "      <td>1.0</td>\n",
       "      <td>-1.0</td>\n",
       "    </tr>\n",
       "    <tr>\n",
       "      <th>2509617</th>\n",
       "      <td>202100056517</td>\n",
       "      <td>1.0</td>\n",
       "      <td>1</td>\n",
       "      <td>3</td>\n",
       "      <td>1</td>\n",
       "      <td>0.0</td>\n",
       "      <td>NaN</td>\n",
       "      <td>0.0</td>\n",
       "      <td>0.0</td>\n",
       "      <td>0.0</td>\n",
       "      <td>1999.0</td>\n",
       "      <td>0.0</td>\n",
       "      <td>-1.0</td>\n",
       "    </tr>\n",
       "    <tr>\n",
       "      <th>2509618</th>\n",
       "      <td>202100056518</td>\n",
       "      <td>1.0</td>\n",
       "      <td>1</td>\n",
       "      <td>3</td>\n",
       "      <td>1</td>\n",
       "      <td>3.0</td>\n",
       "      <td>NaN</td>\n",
       "      <td>0.0</td>\n",
       "      <td>0.0</td>\n",
       "      <td>0.0</td>\n",
       "      <td>1968.0</td>\n",
       "      <td>1.0</td>\n",
       "      <td>0.0</td>\n",
       "    </tr>\n",
       "    <tr>\n",
       "      <th>2509619</th>\n",
       "      <td>202100056518</td>\n",
       "      <td>1.0</td>\n",
       "      <td>1</td>\n",
       "      <td>3</td>\n",
       "      <td>1</td>\n",
       "      <td>3.0</td>\n",
       "      <td>NaN</td>\n",
       "      <td>0.0</td>\n",
       "      <td>0.0</td>\n",
       "      <td>0.0</td>\n",
       "      <td>1985.0</td>\n",
       "      <td>1.0</td>\n",
       "      <td>0.0</td>\n",
       "    </tr>\n",
       "  </tbody>\n",
       "</table>\n",
       "<p>2509620 rows × 13 columns</p>\n",
       "</div>"
      ],
      "text/plain": [
       "              Num_Acc  place  catu  grav  sexe  trajet  secu  locp  actp  \\\n",
       "0        200500000001    1.0     1     4     1     1.0  11.0   0.0   0.0   \n",
       "1        200500000001    1.0     1     3     2     3.0  11.0   0.0   0.0   \n",
       "2        200500000001    2.0     2     1     1     0.0  11.0   0.0   0.0   \n",
       "3        200500000001    4.0     2     1     1     0.0  31.0   0.0   0.0   \n",
       "4        200500000001    5.0     2     1     1     0.0  11.0   0.0   0.0   \n",
       "...               ...    ...   ...   ...   ...     ...   ...   ...   ...   \n",
       "2509615  202100056516    1.0     1     4     1     0.0   NaN   0.0   0.0   \n",
       "2509616  202100056516    1.0     1     4     1     5.0   NaN   0.0   0.0   \n",
       "2509617  202100056517    1.0     1     3     1     0.0   NaN   0.0   0.0   \n",
       "2509618  202100056518    1.0     1     3     1     3.0   NaN   0.0   0.0   \n",
       "2509619  202100056518    1.0     1     3     1     3.0   NaN   0.0   0.0   \n",
       "\n",
       "         etatp  an_nais  secu1  secu2  \n",
       "0          0.0   1976.0    NaN    NaN  \n",
       "1          0.0   1968.0    NaN    NaN  \n",
       "2          0.0   1964.0    NaN    NaN  \n",
       "3          0.0   2004.0    NaN    NaN  \n",
       "4          0.0   1998.0    NaN    NaN  \n",
       "...        ...      ...    ...    ...  \n",
       "2509615    0.0   1975.0    1.0   -1.0  \n",
       "2509616    0.0   2002.0    1.0   -1.0  \n",
       "2509617    0.0   1999.0    0.0   -1.0  \n",
       "2509618    0.0   1968.0    1.0    0.0  \n",
       "2509619    0.0   1985.0    1.0    0.0  \n",
       "\n",
       "[2509620 rows x 13 columns]"
      ]
     },
     "execution_count": 17,
     "metadata": {},
     "output_type": "execute_result"
    }
   ],
   "source": [
    "users"
   ]
  },
  {
   "cell_type": "code",
   "execution_count": 18,
   "id": "904a93ca",
   "metadata": {
    "execution": {
     "iopub.execute_input": "2023-02-03T11:33:40.507574Z",
     "iopub.status.busy": "2023-02-03T11:33:40.506565Z",
     "iopub.status.idle": "2023-02-03T11:33:40.529102Z",
     "shell.execute_reply": "2023-02-03T11:33:40.527583Z"
    },
    "papermill": {
     "duration": 0.056548,
     "end_time": "2023-02-03T11:33:40.532102",
     "exception": false,
     "start_time": "2023-02-03T11:33:40.475554",
     "status": "completed"
    },
    "tags": []
   },
   "outputs": [],
   "source": [
    "#secu has some missing values for older years , must fill with mode before continuing\n",
    "\n",
    "users.secu[:2142195].fillna(value=1,inplace=True)"
   ]
  },
  {
   "cell_type": "code",
   "execution_count": 19,
   "id": "26ea183a",
   "metadata": {
    "execution": {
     "iopub.execute_input": "2023-02-03T11:33:40.577109Z",
     "iopub.status.busy": "2023-02-03T11:33:40.576114Z",
     "iopub.status.idle": "2023-02-03T11:33:40.872681Z",
     "shell.execute_reply": "2023-02-03T11:33:40.870680Z"
    },
    "papermill": {
     "duration": 0.322577,
     "end_time": "2023-02-03T11:33:40.875681",
     "exception": false,
     "start_time": "2023-02-03T11:33:40.553104",
     "status": "completed"
    },
    "tags": []
   },
   "outputs": [],
   "source": [
    "users['SecuA'] = ((users.secu - users.secu%10)/10) #Type of security Used\n",
    "users['SecuB']=   users.secu%10  # Was the security used or No\n",
    "\n",
    "#SecuA is not very important we will focus on secuB if the item was used or not to facilitate study"
   ]
  },
  {
   "cell_type": "code",
   "execution_count": 20,
   "id": "e79484b5",
   "metadata": {
    "execution": {
     "iopub.execute_input": "2023-02-03T11:33:40.938227Z",
     "iopub.status.busy": "2023-02-03T11:33:40.936388Z",
     "iopub.status.idle": "2023-02-03T11:33:40.966137Z",
     "shell.execute_reply": "2023-02-03T11:33:40.963742Z"
    },
    "papermill": {
     "duration": 0.062435,
     "end_time": "2023-02-03T11:33:40.969126",
     "exception": false,
     "start_time": "2023-02-03T11:33:40.906691",
     "status": "completed"
    },
    "tags": []
   },
   "outputs": [],
   "source": [
    "# 0 is unknown change to others 9 \n",
    "users.SecuA.replace(to_replace=0,value=9,inplace=True)"
   ]
  },
  {
   "cell_type": "code",
   "execution_count": 21,
   "id": "f944ceb1",
   "metadata": {
    "execution": {
     "iopub.execute_input": "2023-02-03T11:33:41.016716Z",
     "iopub.status.busy": "2023-02-03T11:33:41.015724Z",
     "iopub.status.idle": "2023-02-03T11:33:41.058780Z",
     "shell.execute_reply": "2023-02-03T11:33:41.057774Z"
    },
    "papermill": {
     "duration": 0.068657,
     "end_time": "2023-02-03T11:33:41.060784",
     "exception": false,
     "start_time": "2023-02-03T11:33:40.992127",
     "status": "completed"
    },
    "tags": []
   },
   "outputs": [],
   "source": [
    "# 2-No 3-UnDeterminable 0-Unknown , change all to 0 not used\n",
    "users.SecuB.replace(to_replace=3,value=0,inplace=True)\n",
    "users.SecuB.replace(to_replace=2,value=0,inplace=True)"
   ]
  },
  {
   "cell_type": "markdown",
   "id": "4a66c972",
   "metadata": {
    "papermill": {
     "duration": 0.022026,
     "end_time": "2023-02-03T11:33:41.103808",
     "exception": false,
     "start_time": "2023-02-03T11:33:41.081782",
     "status": "completed"
    },
    "tags": []
   },
   "source": [
    "For Secu1-secu2 \n",
    "We will gather all usage for security variable with 1 value {1} , and if there is no safety we will use {0} , No need to take multiple security parameters (secu2) we will noly take into consideration 1 security variable for comparibility with earlier years."
   ]
  },
  {
   "cell_type": "code",
   "execution_count": 22,
   "id": "ee40c747",
   "metadata": {
    "execution": {
     "iopub.execute_input": "2023-02-03T11:33:41.157353Z",
     "iopub.status.busy": "2023-02-03T11:33:41.157353Z",
     "iopub.status.idle": "2023-02-03T11:33:41.232908Z",
     "shell.execute_reply": "2023-02-03T11:33:41.231909Z"
    },
    "papermill": {
     "duration": 0.106557,
     "end_time": "2023-02-03T11:33:41.235901",
     "exception": false,
     "start_time": "2023-02-03T11:33:41.129344",
     "status": "completed"
    },
    "tags": []
   },
   "outputs": [],
   "source": [
    "users.secu1.replace(to_replace=[2,3,4,5,6,7,8,9],value=1,inplace=True)\n",
    "users.secu1.replace(to_replace=[-1],value=0,inplace=True)"
   ]
  },
  {
   "cell_type": "code",
   "execution_count": 23,
   "id": "486ed747",
   "metadata": {
    "execution": {
     "iopub.execute_input": "2023-02-03T11:33:41.280907Z",
     "iopub.status.busy": "2023-02-03T11:33:41.279902Z",
     "iopub.status.idle": "2023-02-03T11:33:41.311039Z",
     "shell.execute_reply": "2023-02-03T11:33:41.311039Z"
    },
    "papermill": {
     "duration": 0.057671,
     "end_time": "2023-02-03T11:33:41.315584",
     "exception": false,
     "start_time": "2023-02-03T11:33:41.257913",
     "status": "completed"
    },
    "tags": []
   },
   "outputs": [
    {
     "data": {
      "text/plain": [
       "1.0    335524\n",
       "0.0     31901\n",
       "Name: secu1, dtype: int64"
      ]
     },
     "execution_count": 23,
     "metadata": {},
     "output_type": "execute_result"
    }
   ],
   "source": [
    "users.secu1.value_counts() "
   ]
  },
  {
   "cell_type": "code",
   "execution_count": 24,
   "id": "2a0d1b16",
   "metadata": {
    "execution": {
     "iopub.execute_input": "2023-02-03T11:33:41.365585Z",
     "iopub.status.busy": "2023-02-03T11:33:41.364585Z",
     "iopub.status.idle": "2023-02-03T11:33:41.421295Z",
     "shell.execute_reply": "2023-02-03T11:33:41.420265Z"
    },
    "papermill": {
     "duration": 0.083711,
     "end_time": "2023-02-03T11:33:41.424287",
     "exception": false,
     "start_time": "2023-02-03T11:33:41.340576",
     "status": "completed"
    },
    "tags": []
   },
   "outputs": [
    {
     "data": {
      "text/plain": [
       "1.0    1672237\n",
       "0.0     469958\n",
       "Name: SecuB, dtype: int64"
      ]
     },
     "execution_count": 24,
     "metadata": {},
     "output_type": "execute_result"
    }
   ],
   "source": [
    "users.SecuB.value_counts()"
   ]
  },
  {
   "cell_type": "markdown",
   "id": "0519a0d5",
   "metadata": {
    "papermill": {
     "duration": 0.025001,
     "end_time": "2023-02-03T11:33:41.470303",
     "exception": false,
     "start_time": "2023-02-03T11:33:41.445302",
     "status": "completed"
    },
    "tags": []
   },
   "source": [
    "Now both secu1 and secuB are same format we need to merge them into 1 column (for all years)"
   ]
  },
  {
   "cell_type": "code",
   "execution_count": 25,
   "id": "a57741d9",
   "metadata": {
    "execution": {
     "iopub.execute_input": "2023-02-03T11:33:41.518836Z",
     "iopub.status.busy": "2023-02-03T11:33:41.517839Z",
     "iopub.status.idle": "2023-02-03T11:33:41.563153Z",
     "shell.execute_reply": "2023-02-03T11:33:41.562138Z"
    },
    "papermill": {
     "duration": 0.07286,
     "end_time": "2023-02-03T11:33:41.565149",
     "exception": false,
     "start_time": "2023-02-03T11:33:41.492289",
     "status": "completed"
    },
    "tags": []
   },
   "outputs": [
    {
     "name": "stderr",
     "output_type": "stream",
     "text": [
      "C:\\Users\\kayla\\AppData\\Local\\Temp\\ipykernel_16656\\2364168227.py:3: SettingWithCopyWarning: \n",
      "A value is trying to be set on a copy of a slice from a DataFrame\n",
      "\n",
      "See the caveats in the documentation: https://pandas.pydata.org/pandas-docs/stable/user_guide/indexing.html#returning-a-view-versus-a-copy\n",
      "  users['Security'][:2142195] = users.SecuB[:2142195]\n",
      "C:\\Users\\kayla\\AppData\\Local\\Temp\\ipykernel_16656\\2364168227.py:4: SettingWithCopyWarning: \n",
      "A value is trying to be set on a copy of a slice from a DataFrame\n",
      "\n",
      "See the caveats in the documentation: https://pandas.pydata.org/pandas-docs/stable/user_guide/indexing.html#returning-a-view-versus-a-copy\n",
      "  users['Security'][2142196:] = users.secu1[2142196:]\n"
     ]
    }
   ],
   "source": [
    "#must add iloc\n",
    "users['Security']=0\n",
    "users['Security'][:2142195] = users.SecuB[:2142195]\n",
    "users['Security'][2142196:] = users.secu1[2142196:]"
   ]
  },
  {
   "cell_type": "code",
   "execution_count": 26,
   "id": "b965a23c",
   "metadata": {
    "execution": {
     "iopub.execute_input": "2023-02-03T11:33:41.610158Z",
     "iopub.status.busy": "2023-02-03T11:33:41.609157Z",
     "iopub.status.idle": "2023-02-03T11:33:41.751958Z",
     "shell.execute_reply": "2023-02-03T11:33:41.749935Z"
    },
    "papermill": {
     "duration": 0.168785,
     "end_time": "2023-02-03T11:33:41.755944",
     "exception": false,
     "start_time": "2023-02-03T11:33:41.587159",
     "status": "completed"
    },
    "tags": []
   },
   "outputs": [],
   "source": [
    "#To drop unneeded columns\n",
    "users = users.drop(columns=['secu','secu1','secu2','SecuA','SecuB'])"
   ]
  },
  {
   "cell_type": "code",
   "execution_count": 27,
   "id": "5c924f3b",
   "metadata": {
    "execution": {
     "iopub.execute_input": "2023-02-03T11:33:41.801963Z",
     "iopub.status.busy": "2023-02-03T11:33:41.800963Z",
     "iopub.status.idle": "2023-02-03T11:33:41.874169Z",
     "shell.execute_reply": "2023-02-03T11:33:41.873157Z"
    },
    "papermill": {
     "duration": 0.100232,
     "end_time": "2023-02-03T11:33:41.878169",
     "exception": false,
     "start_time": "2023-02-03T11:33:41.777937",
     "status": "completed"
    },
    "tags": []
   },
   "outputs": [
    {
     "data": {
      "text/plain": [
       "Num_Acc     0.0\n",
       "place       0.0\n",
       "catu        0.0\n",
       "grav        0.0\n",
       "sexe        0.0\n",
       "trajet      0.0\n",
       "locp        0.0\n",
       "actp        0.0\n",
       "etatp       0.0\n",
       "an_nais     0.0\n",
       "Security    0.0\n",
       "dtype: float64"
      ]
     },
     "execution_count": 27,
     "metadata": {},
     "output_type": "execute_result"
    }
   ],
   "source": [
    "na_percentage(users)"
   ]
  },
  {
   "cell_type": "markdown",
   "id": "b7db86d3",
   "metadata": {
    "papermill": {
     "duration": 0.03153,
     "end_time": "2023-02-03T11:33:41.936725",
     "exception": false,
     "start_time": "2023-02-03T11:33:41.905195",
     "status": "completed"
    },
    "tags": []
   },
   "source": [
    "### Translating the variable names from French to English"
   ]
  },
  {
   "cell_type": "code",
   "execution_count": 28,
   "id": "078197fe",
   "metadata": {
    "execution": {
     "iopub.execute_input": "2023-02-03T11:33:42.009738Z",
     "iopub.status.busy": "2023-02-03T11:33:42.008734Z",
     "iopub.status.idle": "2023-02-03T11:33:42.483176Z",
     "shell.execute_reply": "2023-02-03T11:33:42.482162Z"
    },
    "papermill": {
     "duration": 0.519462,
     "end_time": "2023-02-03T11:33:42.488183",
     "exception": false,
     "start_time": "2023-02-03T11:33:41.968721",
     "status": "completed"
    },
    "tags": []
   },
   "outputs": [],
   "source": [
    "users = users.rename(columns = {'catu' : 'User_category',\n",
    "                                'grav' : 'Severity' , #Severity of accident\n",
    "                                'sexe' : 'Sex' , #Sex of Driver\n",
    "                                'trajet' : 'Trajectory' , \n",
    "                                'locp' : 'LOCP' , #localisation of pedestrian\n",
    "                                'actp' : 'ACTP' , #action of pedestrian\n",
    "                                'etatp' : 'StateP' , #State of pedestrian during accident\n",
    "                                'an_nais' : 'YoB' , #Year of Birth\n",
    "                               })\n",
    "users.columns\n",
    "\n",
    "#change type to int\n",
    "users.place = users.place.astype(int)\n",
    "users.Trajectory = users.Trajectory.astype(int)\n",
    "users.LOCP = users.LOCP.astype(int)\n",
    "users.ACTP = users.ACTP.astype(int)\n",
    "users.StateP = users.StateP.astype(int)\n",
    "users.YoB = users.YoB.astype(int)"
   ]
  },
  {
   "cell_type": "markdown",
   "id": "fc969a03",
   "metadata": {
    "papermill": {
     "duration": 0.033022,
     "end_time": "2023-02-03T11:33:42.551775",
     "exception": false,
     "start_time": "2023-02-03T11:33:42.518753",
     "status": "completed"
    },
    "tags": []
   },
   "source": [
    "## Places Dataset"
   ]
  },
  {
   "cell_type": "markdown",
   "id": "46204c01",
   "metadata": {
    "papermill": {
     "duration": 0.036548,
     "end_time": "2023-02-03T11:33:42.615302",
     "exception": false,
     "start_time": "2023-02-03T11:33:42.578754",
     "status": "completed"
    },
    "tags": []
   },
   "source": [
    "### Translating the variable names from French to English"
   ]
  },
  {
   "cell_type": "code",
   "execution_count": 29,
   "id": "95c446cd",
   "metadata": {
    "execution": {
     "iopub.execute_input": "2023-02-03T11:33:42.702331Z",
     "iopub.status.busy": "2023-02-03T11:33:42.700327Z",
     "iopub.status.idle": "2023-02-03T11:33:43.220778Z",
     "shell.execute_reply": "2023-02-03T11:33:43.218774Z"
    },
    "papermill": {
     "duration": 0.567465,
     "end_time": "2023-02-03T11:33:43.223769",
     "exception": false,
     "start_time": "2023-02-03T11:33:42.656304",
     "status": "completed"
    },
    "tags": []
   },
   "outputs": [
    {
     "data": {
      "text/html": [
       "<div>\n",
       "<style scoped>\n",
       "    .dataframe tbody tr th:only-of-type {\n",
       "        vertical-align: middle;\n",
       "    }\n",
       "\n",
       "    .dataframe tbody tr th {\n",
       "        vertical-align: top;\n",
       "    }\n",
       "\n",
       "    .dataframe thead th {\n",
       "        text-align: right;\n",
       "    }\n",
       "</style>\n",
       "<table border=\"1\" class=\"dataframe\">\n",
       "  <thead>\n",
       "    <tr style=\"text-align: right;\">\n",
       "      <th></th>\n",
       "      <th>Num_Acc</th>\n",
       "      <th>Rd_Cat</th>\n",
       "      <th>Traf_Direct</th>\n",
       "      <th>Lanes</th>\n",
       "      <th>Landmark</th>\n",
       "      <th>Dist_to_Landmark</th>\n",
       "      <th>Add_Lanes</th>\n",
       "      <th>Rd_Prof</th>\n",
       "      <th>Rd_Plan</th>\n",
       "      <th>Gre_Verge</th>\n",
       "      <th>Rd_Width</th>\n",
       "      <th>Rd_Cond</th>\n",
       "      <th>Envinmt</th>\n",
       "      <th>Pos_Acc</th>\n",
       "    </tr>\n",
       "  </thead>\n",
       "  <tbody>\n",
       "    <tr>\n",
       "      <th>0</th>\n",
       "      <td>200500000001</td>\n",
       "      <td>3.0</td>\n",
       "      <td>2.0</td>\n",
       "      <td>2.0</td>\n",
       "      <td>1.0</td>\n",
       "      <td>430.0</td>\n",
       "      <td>0.0</td>\n",
       "      <td>1.0</td>\n",
       "      <td>1.0</td>\n",
       "      <td>0</td>\n",
       "      <td>63</td>\n",
       "      <td>1.0</td>\n",
       "      <td>0.0</td>\n",
       "      <td>1.0</td>\n",
       "    </tr>\n",
       "    <tr>\n",
       "      <th>1</th>\n",
       "      <td>200500000002</td>\n",
       "      <td>2.0</td>\n",
       "      <td>0.0</td>\n",
       "      <td>2.0</td>\n",
       "      <td>0.0</td>\n",
       "      <td>0.0</td>\n",
       "      <td>1.0</td>\n",
       "      <td>1.0</td>\n",
       "      <td>1.0</td>\n",
       "      <td>0</td>\n",
       "      <td>100</td>\n",
       "      <td>1.0</td>\n",
       "      <td>0.0</td>\n",
       "      <td>5.0</td>\n",
       "    </tr>\n",
       "    <tr>\n",
       "      <th>2</th>\n",
       "      <td>200500000003</td>\n",
       "      <td>2.0</td>\n",
       "      <td>0.0</td>\n",
       "      <td>0.0</td>\n",
       "      <td>0.0</td>\n",
       "      <td>0.0</td>\n",
       "      <td>1.0</td>\n",
       "      <td>1.0</td>\n",
       "      <td>1.0</td>\n",
       "      <td>0</td>\n",
       "      <td>0</td>\n",
       "      <td>2.0</td>\n",
       "      <td>0.0</td>\n",
       "      <td>5.0</td>\n",
       "    </tr>\n",
       "    <tr>\n",
       "      <th>3</th>\n",
       "      <td>200500000004</td>\n",
       "      <td>3.0</td>\n",
       "      <td>2.0</td>\n",
       "      <td>2.0</td>\n",
       "      <td>0.0</td>\n",
       "      <td>0.0</td>\n",
       "      <td>0.0</td>\n",
       "      <td>1.0</td>\n",
       "      <td>1.0</td>\n",
       "      <td>0</td>\n",
       "      <td>0</td>\n",
       "      <td>1.0</td>\n",
       "      <td>0.0</td>\n",
       "      <td>1.0</td>\n",
       "    </tr>\n",
       "    <tr>\n",
       "      <th>4</th>\n",
       "      <td>200500000005</td>\n",
       "      <td>3.0</td>\n",
       "      <td>2.0</td>\n",
       "      <td>2.0</td>\n",
       "      <td>24.0</td>\n",
       "      <td>630.0</td>\n",
       "      <td>0.0</td>\n",
       "      <td>1.0</td>\n",
       "      <td>3.0</td>\n",
       "      <td>0</td>\n",
       "      <td>59</td>\n",
       "      <td>2.0</td>\n",
       "      <td>0.0</td>\n",
       "      <td>3.0</td>\n",
       "    </tr>\n",
       "  </tbody>\n",
       "</table>\n",
       "</div>"
      ],
      "text/plain": [
       "        Num_Acc  Rd_Cat  Traf_Direct  Lanes Landmark Dist_to_Landmark  \\\n",
       "0  200500000001     3.0          2.0    2.0      1.0            430.0   \n",
       "1  200500000002     2.0          0.0    2.0      0.0              0.0   \n",
       "2  200500000003     2.0          0.0    0.0      0.0              0.0   \n",
       "3  200500000004     3.0          2.0    2.0      0.0              0.0   \n",
       "4  200500000005     3.0          2.0    2.0     24.0            630.0   \n",
       "\n",
       "   Add_Lanes  Rd_Prof  Rd_Plan Gre_Verge Rd_Width  Rd_Cond  Envinmt  Pos_Acc  \n",
       "0        0.0      1.0      1.0         0       63      1.0      0.0      1.0  \n",
       "1        1.0      1.0      1.0         0      100      1.0      0.0      5.0  \n",
       "2        1.0      1.0      1.0         0        0      2.0      0.0      5.0  \n",
       "3        0.0      1.0      1.0         0        0      1.0      0.0      1.0  \n",
       "4        0.0      1.0      3.0         0       59      2.0      0.0      3.0  "
      ]
     },
     "execution_count": 29,
     "metadata": {},
     "output_type": "execute_result"
    }
   ],
   "source": [
    "# Change french names against english names (Teamdecision)\n",
    "# Droped 'Unnamed: 0','v1','v2','vma', because they contained no information.\n",
    "\n",
    "places = places.drop(['v1','v2','vma','voie','env1'], axis = 1)\n",
    "places = places.rename(columns = {'catr' : 'Rd_Cat', 'circ' : 'Traf_Direct' , 'nbv' : 'Lanes' ,\n",
    "                           'pr' : 'Landmark' , 'pr1' : 'Dist_to_Landmark', 'vosp' : 'Add_Lanes', 'prof' : 'Rd_Prof' ,\n",
    "                          'plan' : 'Rd_Plan' , 'lartpc' : 'Gre_Verge' , 'larrout' : 'Rd_Width', 'surf' : 'Rd_Cond',\n",
    "                          'infra' : 'Envinmt' , 'situ' : 'Pos_Acc'})\n",
    "places.head()"
   ]
  },
  {
   "cell_type": "markdown",
   "id": "ad9e01ed",
   "metadata": {
    "papermill": {
     "duration": 0.030994,
     "end_time": "2023-02-03T11:33:43.278774",
     "exception": false,
     "start_time": "2023-02-03T11:33:43.247780",
     "status": "completed"
    },
    "tags": []
   },
   "source": [
    "### Change Nans against zeros"
   ]
  },
  {
   "cell_type": "markdown",
   "id": "237df9e0",
   "metadata": {
    "papermill": {
     "duration": 0.027546,
     "end_time": "2023-02-03T11:33:43.338341",
     "exception": false,
     "start_time": "2023-02-03T11:33:43.310795",
     "status": "completed"
    },
    "tags": []
   },
   "source": [
    "Set most empty variables to Zero / Null, because its for all variables not in use and can be defined as not applicable.\n",
    "\n",
    "9 Variables have <= 1% missing information, so for those it should be fine to set the missing information just tu zero.\n",
    "In addition, the recorded data are not suitable for filling the NaNs with, for example, the mean value, since this is almost exclusively about describing states."
   ]
  },
  {
   "cell_type": "code",
   "execution_count": 30,
   "id": "10ce6473",
   "metadata": {
    "execution": {
     "iopub.execute_input": "2023-02-03T11:33:43.398350Z",
     "iopub.status.busy": "2023-02-03T11:33:43.397344Z",
     "iopub.status.idle": "2023-02-03T11:33:44.470161Z",
     "shell.execute_reply": "2023-02-03T11:33:44.468158Z"
    },
    "lines_to_next_cell": 2,
    "papermill": {
     "duration": 1.108814,
     "end_time": "2023-02-03T11:33:44.475159",
     "exception": false,
     "start_time": "2023-02-03T11:33:43.366345",
     "status": "completed"
    },
    "tags": []
   },
   "outputs": [],
   "source": [
    "\n",
    "places['Rd_Cat'] = places['Rd_Cat'].fillna(0.0)\n",
    "places['Traf_Direct'] = places['Traf_Direct'].fillna(0.0)\n",
    "places['Lanes'] = places['Lanes'].fillna(0.0)\n",
    "places['Landmark'] = places['Landmark'].fillna(0.0)\n",
    "places['Dist_to_Landmark'] = places['Dist_to_Landmark'].fillna(0.0)\n",
    "places['Add_Lanes'] = places['Add_Lanes'].fillna(0.0)\n",
    "places['Rd_Prof'] = places['Rd_Prof'].fillna(0.0)\n",
    "places['Rd_Plan'] = places['Rd_Plan'].fillna(0.0)\n",
    "places['Gre_Verge'] = places['Gre_Verge'].fillna(0.0)\n",
    "places['Rd_Width'] = places['Rd_Width'].fillna(0.0)\n",
    "places['Rd_Cond'] = places['Rd_Cond'].fillna(0.0)\n",
    "places['Envinmt'] = places['Envinmt'].fillna(0.0)\n",
    "places['Pos_Acc'] = places['Pos_Acc'].fillna(0.0)"
   ]
  },
  {
   "cell_type": "code",
   "execution_count": 31,
   "id": "0a4d6756",
   "metadata": {
    "execution": {
     "iopub.execute_input": "2023-02-03T11:33:44.543727Z",
     "iopub.status.busy": "2023-02-03T11:33:44.543727Z",
     "iopub.status.idle": "2023-02-03T11:33:46.203333Z",
     "shell.execute_reply": "2023-02-03T11:33:46.202322Z"
    },
    "papermill": {
     "duration": 1.697157,
     "end_time": "2023-02-03T11:33:46.206330",
     "exception": false,
     "start_time": "2023-02-03T11:33:44.509173",
     "status": "completed"
    },
    "tags": []
   },
   "outputs": [
    {
     "name": "stdout",
     "output_type": "stream",
     "text": [
      "Num_Acc             0\n",
      "Rd_Cat              0\n",
      "Traf_Direct         0\n",
      "Lanes               0\n",
      "Landmark            0\n",
      "Dist_to_Landmark    0\n",
      "Add_Lanes           0\n",
      "Rd_Prof             0\n",
      "Rd_Plan             0\n",
      "Gre_Verge           0\n",
      "Rd_Width            0\n",
      "Rd_Cond             0\n",
      "Envinmt             0\n",
      "Pos_Acc             0\n",
      "dtype: int64\n",
      "\n",
      "<class 'pandas.core.frame.DataFrame'>\n",
      "RangeIndex: 1121571 entries, 0 to 1121570\n",
      "Data columns (total 14 columns):\n",
      " #   Column            Non-Null Count    Dtype\n",
      "---  ------            --------------    -----\n",
      " 0   Num_Acc           1121571 non-null  int64\n",
      " 1   Rd_Cat            1121571 non-null  int32\n",
      " 2   Traf_Direct       1121571 non-null  int32\n",
      " 3   Lanes             1121571 non-null  int32\n",
      " 4   Landmark          1121571 non-null  int32\n",
      " 5   Dist_to_Landmark  1121571 non-null  int32\n",
      " 6   Add_Lanes         1121571 non-null  int32\n",
      " 7   Rd_Prof           1121571 non-null  int32\n",
      " 8   Rd_Plan           1121571 non-null  int32\n",
      " 9   Gre_Verge         1121571 non-null  int32\n",
      " 10  Rd_Width          1121571 non-null  int32\n",
      " 11  Rd_Cond           1121571 non-null  int32\n",
      " 12  Envinmt           1121571 non-null  int32\n",
      " 13  Pos_Acc           1121571 non-null  int32\n",
      "dtypes: int32(13), int64(1)\n",
      "memory usage: 64.2 MB\n",
      "None\n",
      "\n",
      "(1121571, 14)\n"
     ]
    }
   ],
   "source": [
    "# Convert object to float\n",
    "places['Landmark'] = pd.to_numeric(places['Landmark'],errors = 'coerce')\n",
    "places['Dist_to_Landmark'] = pd.to_numeric(places['Dist_to_Landmark'],errors = 'coerce')\n",
    "places['Gre_Verge'] = pd.to_numeric(places['Gre_Verge'],errors = 'coerce')\n",
    "places['Rd_Width'] = pd.to_numeric(places['Rd_Width'],errors = 'coerce')\n",
    "\n",
    "# replace empty cells with nans\n",
    "places.replace('', np.nan)\n",
    "places = places.copy()\n",
    "\n",
    "# fill nans with 0\n",
    "places['Landmark'] = places['Landmark'].fillna(0.0)\n",
    "places['Dist_to_Landmark'] = places['Dist_to_Landmark'].fillna(0.0)\n",
    "places['Gre_Verge'] = places['Gre_Verge'].fillna(0.0)\n",
    "places['Rd_Width'] = places['Rd_Width'].fillna(0.0)\n",
    "\n",
    "# Convert float to int\n",
    "places['Rd_Cat'] = places['Rd_Cat'].astype(int, errors = 'raise')\n",
    "places['Traf_Direct'] = places['Traf_Direct'].astype(int, errors = 'raise')\n",
    "places['Lanes'] = places['Lanes'].astype(int, errors = 'raise')\n",
    "places['Landmark'] = places['Landmark'].astype(int, errors = 'raise')\n",
    "places['Dist_to_Landmark'] = places['Dist_to_Landmark'].astype(int, errors = 'raise')\n",
    "places['Add_Lanes'] = places['Add_Lanes'].astype(int, errors = 'raise')\n",
    "places['Rd_Prof'] = places['Rd_Prof'].astype(int, errors = 'raise')\n",
    "places['Rd_Plan'] = places['Rd_Plan'].astype(int, errors = 'raise')\n",
    "places['Gre_Verge'] = places['Gre_Verge'].astype(int, errors = 'raise')\n",
    "places['Rd_Width'] = places['Rd_Width'].astype(int, errors = 'raise')\n",
    "places['Rd_Cond'] = places['Rd_Cond'].astype(int, errors = 'raise')\n",
    "places['Envinmt'] = places['Envinmt'].astype(int, errors = 'raise')\n",
    "places['Pos_Acc'] = places['Pos_Acc'].astype(int, errors = 'raise')\n",
    "\n",
    "print(places.isna().sum())\n",
    "print()\n",
    "print(places.info())\n",
    "print()\n",
    "print(places.shape)#it appears that there is a problem with the shape of the df (couldnt normalize) ValueError: Found array with dim 3. the normalize function expected <= 2.\n"
   ]
  },
  {
   "cell_type": "markdown",
   "id": "4ca2b176",
   "metadata": {
    "papermill": {
     "duration": 0.034001,
     "end_time": "2023-02-03T11:33:46.264869",
     "exception": false,
     "start_time": "2023-02-03T11:33:46.230868",
     "status": "completed"
    },
    "tags": []
   },
   "source": [
    "## Characteristics Dataset"
   ]
  },
  {
   "cell_type": "markdown",
   "id": "6a7353b7",
   "metadata": {
    "papermill": {
     "duration": 0.024449,
     "end_time": "2023-02-03T11:33:46.322396",
     "exception": false,
     "start_time": "2023-02-03T11:33:46.297947",
     "status": "completed"
    },
    "tags": []
   },
   "source": [
    "### Translating the variable names from French to English"
   ]
  },
  {
   "cell_type": "code",
   "execution_count": 32,
   "id": "2f656e62",
   "metadata": {
    "execution": {
     "iopub.execute_input": "2023-02-03T11:33:46.376396Z",
     "iopub.status.busy": "2023-02-03T11:33:46.375400Z",
     "iopub.status.idle": "2023-02-03T11:33:46.408470Z",
     "shell.execute_reply": "2023-02-03T11:33:46.406462Z"
    },
    "papermill": {
     "duration": 0.063063,
     "end_time": "2023-02-03T11:33:46.411462",
     "exception": false,
     "start_time": "2023-02-03T11:33:46.348399",
     "status": "completed"
    },
    "tags": []
   },
   "outputs": [],
   "source": [
    "# Translation of the variable nacmes from French to English, also improving the names so that it becomes clearer, what they are about\n",
    "characteristics.rename(columns={'an': 'year', 'mois':'month', 'jour': 'day', 'hrmn':'hhmm', \n",
    "                                'lum': 'daylight', 'agg': 'built-up_area', 'int':'intersection_category', 'atm': 'atmospheric_conditions',\n",
    "                                'col': 'collision_category', 'com': 'municipality', 'adr':'adress', 'gps': 'gps_origin', 'lat': 'latitude',\n",
    "                                'long': 'longitude', 'dep': 'department'}, inplace=True)\n",
    "\n",
    "# Change the values for 'built-up_area' to make it more understandable, 1 means the accident happened in a built-up area and 0 means happened elsewhere. \n",
    "characteristics['built-up_area'].replace({1:0, 2:1}, inplace=True)"
   ]
  },
  {
   "cell_type": "markdown",
   "id": "ca24b3ea",
   "metadata": {
    "papermill": {
     "duration": 0.021992,
     "end_time": "2023-02-03T11:33:46.457993",
     "exception": false,
     "start_time": "2023-02-03T11:33:46.436001",
     "status": "completed"
    },
    "tags": []
   },
   "source": [
    "### Fixing incoherent format of year variable"
   ]
  },
  {
   "cell_type": "code",
   "execution_count": 33,
   "id": "d3a754db",
   "metadata": {
    "execution": {
     "iopub.execute_input": "2023-02-03T11:33:46.512021Z",
     "iopub.status.busy": "2023-02-03T11:33:46.512021Z",
     "iopub.status.idle": "2023-02-03T11:33:46.533326Z",
     "shell.execute_reply": "2023-02-03T11:33:46.531334Z"
    },
    "papermill": {
     "duration": 0.056344,
     "end_time": "2023-02-03T11:33:46.537335",
     "exception": false,
     "start_time": "2023-02-03T11:33:46.480991",
     "status": "completed"
    },
    "tags": []
   },
   "outputs": [
    {
     "data": {
      "text/plain": [
       "5       87026\n",
       "7       83850\n",
       "6       82993\n",
       "8       76767\n",
       "9       74409\n",
       "10      69379\n",
       "11      66974\n",
       "12      62250\n",
       "17      60701\n",
       "14      59854\n",
       "16      59432\n",
       "2019    58840\n",
       "15      58654\n",
       "13      58397\n",
       "18      57783\n",
       "2021    56518\n",
       "2020    47744\n",
       "Name: year, dtype: int64"
      ]
     },
     "execution_count": 33,
     "metadata": {},
     "output_type": "execute_result"
    }
   ],
   "source": [
    "characteristics['year'].value_counts()"
   ]
  },
  {
   "cell_type": "markdown",
   "id": "569eb70e",
   "metadata": {
    "papermill": {
     "duration": 0.023007,
     "end_time": "2023-02-03T11:33:46.586332",
     "exception": false,
     "start_time": "2023-02-03T11:33:46.563325",
     "status": "completed"
    },
    "tags": []
   },
   "source": [
    "The year format is inconsistent. Until 2018, the year was relative to the year 2000, e.g. \"5\" for 2005. This changed, however, in 2019 which was labeled as 2019.\n",
    "We will change the year format to YYYY."
   ]
  },
  {
   "cell_type": "code",
   "execution_count": 34,
   "id": "84caeb91",
   "metadata": {
    "execution": {
     "iopub.execute_input": "2023-02-03T11:33:46.637865Z",
     "iopub.status.busy": "2023-02-03T11:33:46.636868Z",
     "iopub.status.idle": "2023-02-03T11:33:46.719226Z",
     "shell.execute_reply": "2023-02-03T11:33:46.717181Z"
    },
    "papermill": {
     "duration": 0.112885,
     "end_time": "2023-02-03T11:33:46.722230",
     "exception": false,
     "start_time": "2023-02-03T11:33:46.609345",
     "status": "completed"
    },
    "tags": []
   },
   "outputs": [],
   "source": [
    "characteristics['year'].replace({5:2005, 6:2006, 7:2007, 8:2008, 9:2009, 10:2010, 11:2011,\n",
    "                                                         12:2012, 13:2013, 14:2014, 15:2015, 16:2016, 17:2017, 18:2018}, inplace=True)"
   ]
  },
  {
   "cell_type": "markdown",
   "id": "59e4263b",
   "metadata": {
    "papermill": {
     "duration": 0.023996,
     "end_time": "2023-02-03T11:33:46.772234",
     "exception": false,
     "start_time": "2023-02-03T11:33:46.748238",
     "status": "completed"
    },
    "tags": []
   },
   "source": [
    "### Fix inconsistent time format"
   ]
  },
  {
   "cell_type": "markdown",
   "id": "b8087ec2",
   "metadata": {
    "papermill": {
     "duration": 0.024119,
     "end_time": "2023-02-03T11:33:46.821352",
     "exception": false,
     "start_time": "2023-02-03T11:33:46.797233",
     "status": "completed"
    },
    "tags": []
   },
   "source": [
    "The time format inconsistent, sometimes it is hhmm, and sometimes hh:mm. We will therefore remove any \":\" from the column "
   ]
  },
  {
   "cell_type": "code",
   "execution_count": 35,
   "id": "5b715ea5",
   "metadata": {
    "execution": {
     "iopub.execute_input": "2023-02-03T11:33:46.877346Z",
     "iopub.status.busy": "2023-02-03T11:33:46.876352Z",
     "iopub.status.idle": "2023-02-03T11:33:48.162633Z",
     "shell.execute_reply": "2023-02-03T11:33:48.161627Z"
    },
    "lines_to_next_cell": 2,
    "papermill": {
     "duration": 1.319281,
     "end_time": "2023-02-03T11:33:48.165626",
     "exception": false,
     "start_time": "2023-02-03T11:33:46.846345",
     "status": "completed"
    },
    "tags": []
   },
   "outputs": [],
   "source": [
    "#remove ':' from hhmm\n",
    "characteristics['hhmm'] = characteristics['hhmm'].apply(lambda s: int(str(s).replace(':','')))"
   ]
  },
  {
   "cell_type": "markdown",
   "id": "190f360b",
   "metadata": {
    "papermill": {
     "duration": 0.02802,
     "end_time": "2023-02-03T11:33:48.215653",
     "exception": false,
     "start_time": "2023-02-03T11:33:48.187633",
     "status": "completed"
    },
    "tags": []
   },
   "source": [
    "### Get weekday and weekend feature"
   ]
  },
  {
   "cell_type": "code",
   "execution_count": 36,
   "id": "45d2445c",
   "metadata": {
    "execution": {
     "iopub.execute_input": "2023-02-03T11:33:48.268763Z",
     "iopub.status.busy": "2023-02-03T11:33:48.267762Z",
     "iopub.status.idle": "2023-02-03T11:33:48.370101Z",
     "shell.execute_reply": "2023-02-03T11:33:48.367769Z"
    },
    "papermill": {
     "duration": 0.134347,
     "end_time": "2023-02-03T11:33:48.374132",
     "exception": false,
     "start_time": "2023-02-03T11:33:48.239785",
     "status": "completed"
    },
    "tags": []
   },
   "outputs": [],
   "source": [
    "characteristics['date'] = pd.to_datetime({'year':characteristics['year'],\n",
    "                                                                 'month':dict_of_category_dfs['characteristics']['month'],\n",
    "                                                                 'day':dict_of_category_dfs['characteristics']['day']})"
   ]
  },
  {
   "cell_type": "code",
   "execution_count": 37,
   "id": "2c326fab",
   "metadata": {
    "execution": {
     "iopub.execute_input": "2023-02-03T11:33:48.431681Z",
     "iopub.status.busy": "2023-02-03T11:33:48.430678Z",
     "iopub.status.idle": "2023-02-03T11:33:50.179189Z",
     "shell.execute_reply": "2023-02-03T11:33:50.178180Z"
    },
    "papermill": {
     "duration": 1.781063,
     "end_time": "2023-02-03T11:33:50.182192",
     "exception": false,
     "start_time": "2023-02-03T11:33:48.401129",
     "status": "completed"
    },
    "tags": []
   },
   "outputs": [],
   "source": [
    "# New variable: weekday, integer from 0 to 6 representing the weekdays from monday to sunday.\n",
    "characteristics['day_of_week'] = dict_of_category_dfs['characteristics']['date'].apply(lambda x: x.day_of_week)\n",
    "\n",
    "# New binary variable: is_weekend, 0 for monday to friday and 1 for saturday and sunday\n",
    "characteristics['is_weekend'] = (dict_of_category_dfs['characteristics']['day_of_week'] > 4).astype('int')"
   ]
  },
  {
   "cell_type": "markdown",
   "id": "3e51d486",
   "metadata": {
    "papermill": {
     "duration": 0.022515,
     "end_time": "2023-02-03T11:33:50.228725",
     "exception": false,
     "start_time": "2023-02-03T11:33:50.206210",
     "status": "completed"
    },
    "tags": []
   },
   "source": [
    "### Remove trailing zeroes from Department variable\n",
    "The Department codes are followed by a zero for the years 2005--2018, which has no practical use for us. We will therefore eliminate these trailing zeroes.\n",
    "Also, since 2019 all the data is saved as strings. We will convert everything to strings, as this is nominal data, we will not make any calculations with it."
   ]
  },
  {
   "cell_type": "code",
   "execution_count": 38,
   "id": "ba06343f",
   "metadata": {
    "execution": {
     "iopub.execute_input": "2023-02-03T11:33:50.283267Z",
     "iopub.status.busy": "2023-02-03T11:33:50.282273Z",
     "iopub.status.idle": "2023-02-03T11:33:51.605886Z",
     "shell.execute_reply": "2023-02-03T11:33:51.604440Z"
    },
    "papermill": {
     "duration": 1.35188,
     "end_time": "2023-02-03T11:33:51.609147",
     "exception": false,
     "start_time": "2023-02-03T11:33:50.257267",
     "status": "completed"
    },
    "tags": []
   },
   "outputs": [],
   "source": [
    "def department_converter(dep):\n",
    "    # Takes in a department code as int and returns a string\n",
    "    # e.g. 750 will be '75' for Paris\n",
    "    # and 201 will be '2B'\n",
    "    if dep == 201:\n",
    "        return '2A'\n",
    "    elif dep == 202:\n",
    "        return '2B'\n",
    "    elif dep>970:\n",
    "        return str(dep)\n",
    "    else:\n",
    "        return str(dep).rstrip('0')\n",
    "\n",
    "characteristics.loc[(np.less(characteristics['year'],2019)),'department'] = \\\n",
    "    characteristics[(np.less(characteristics['year'],2019))]['department'].apply(department_converter)"
   ]
  },
  {
   "cell_type": "markdown",
   "id": "6855b8e3",
   "metadata": {
    "papermill": {
     "duration": 0.024991,
     "end_time": "2023-02-03T11:33:51.662227",
     "exception": false,
     "start_time": "2023-02-03T11:33:51.637236",
     "status": "completed"
    },
    "tags": []
   },
   "source": [
    "### Remove leading zeros from department code\n",
    "The dataset from 2021 contains leading zeroes for the department codes 1 to 9. These have to be replaced."
   ]
  },
  {
   "cell_type": "code",
   "execution_count": 39,
   "id": "645b0ff7",
   "metadata": {
    "execution": {
     "iopub.execute_input": "2023-02-03T11:33:51.719232Z",
     "iopub.status.busy": "2023-02-03T11:33:51.718233Z",
     "iopub.status.idle": "2023-02-03T11:33:52.093384Z",
     "shell.execute_reply": "2023-02-03T11:33:52.092369Z"
    },
    "papermill": {
     "duration": 0.411146,
     "end_time": "2023-02-03T11:33:52.098380",
     "exception": false,
     "start_time": "2023-02-03T11:33:51.687234",
     "status": "completed"
    },
    "tags": []
   },
   "outputs": [],
   "source": [
    "characteristics['department'] = characteristics['department'].apply(lambda code: code.lstrip('0'))"
   ]
  },
  {
   "cell_type": "markdown",
   "id": "5283a64a",
   "metadata": {
    "papermill": {
     "duration": 0.023,
     "end_time": "2023-02-03T11:33:52.147547",
     "exception": false,
     "start_time": "2023-02-03T11:33:52.124547",
     "status": "completed"
    },
    "tags": []
   },
   "source": [
    "### Fill missing values in atmospheric conditions variable"
   ]
  },
  {
   "cell_type": "code",
   "execution_count": 40,
   "id": "afde552b",
   "metadata": {
    "execution": {
     "iopub.execute_input": "2023-02-03T11:33:52.197541Z",
     "iopub.status.busy": "2023-02-03T11:33:52.197541Z",
     "iopub.status.idle": "2023-02-03T11:33:52.251565Z",
     "shell.execute_reply": "2023-02-03T11:33:52.249556Z"
    },
    "papermill": {
     "duration": 0.083027,
     "end_time": "2023-02-03T11:33:52.253566",
     "exception": false,
     "start_time": "2023-02-03T11:33:52.170539",
     "status": "completed"
    },
    "tags": []
   },
   "outputs": [],
   "source": [
    "characteristics['atmospheric_conditions'] = characteristics['atmospheric_conditions'].fillna(\n",
    "    characteristics['atmospheric_conditions'].mode()[0])"
   ]
  },
  {
   "cell_type": "markdown",
   "id": "97aa1494",
   "metadata": {
    "papermill": {
     "duration": 0.022997,
     "end_time": "2023-02-03T11:33:52.300566",
     "exception": false,
     "start_time": "2023-02-03T11:33:52.277569",
     "status": "completed"
    },
    "tags": []
   },
   "source": [
    "### Fill missing values in collision category variable"
   ]
  },
  {
   "cell_type": "code",
   "execution_count": 41,
   "id": "23c89201",
   "metadata": {
    "execution": {
     "iopub.execute_input": "2023-02-03T11:33:52.353875Z",
     "iopub.status.busy": "2023-02-03T11:33:52.352877Z",
     "iopub.status.idle": "2023-02-03T11:33:52.408984Z",
     "shell.execute_reply": "2023-02-03T11:33:52.407975Z"
    },
    "papermill": {
     "duration": 0.087102,
     "end_time": "2023-02-03T11:33:52.411984",
     "exception": false,
     "start_time": "2023-02-03T11:33:52.324882",
     "status": "completed"
    },
    "tags": []
   },
   "outputs": [],
   "source": [
    "characteristics['collision_category'] = characteristics['collision_category'].fillna(\n",
    "    characteristics['collision_category'].mode()[0])"
   ]
  },
  {
   "cell_type": "markdown",
   "id": "cbce1ebc",
   "metadata": {
    "papermill": {
     "duration": 0.025,
     "end_time": "2023-02-03T11:33:52.462511",
     "exception": false,
     "start_time": "2023-02-03T11:33:52.437511",
     "status": "completed"
    },
    "tags": []
   },
   "source": [
    "## Vehicles dataset"
   ]
  },
  {
   "cell_type": "markdown",
   "id": "4b8fd3a8",
   "metadata": {
    "papermill": {
     "duration": 0.028521,
     "end_time": "2023-02-03T11:33:52.523058",
     "exception": false,
     "start_time": "2023-02-03T11:33:52.494537",
     "status": "completed"
    },
    "tags": []
   },
   "source": [
    "### Translating the variable names from French to English"
   ]
  },
  {
   "cell_type": "code",
   "execution_count": 42,
   "id": "06f9d9ac",
   "metadata": {
    "execution": {
     "iopub.execute_input": "2023-02-03T11:33:52.584062Z",
     "iopub.status.busy": "2023-02-03T11:33:52.583071Z",
     "iopub.status.idle": "2023-02-03T11:33:52.800038Z",
     "shell.execute_reply": "2023-02-03T11:33:52.799016Z"
    },
    "papermill": {
     "duration": 0.251978,
     "end_time": "2023-02-03T11:33:52.803045",
     "exception": false,
     "start_time": "2023-02-03T11:33:52.551067",
     "status": "completed"
    },
    "tags": []
   },
   "outputs": [
    {
     "data": {
      "text/plain": [
       "Index(['Num_Acc', 'direction', 'cat_veh', 'num_occupants', 'obstacle',\n",
       "       'obstacle_movable', 'initial_point', 'principal_maneuver', 'num_veh',\n",
       "       'id_veh', 'motor_veh'],\n",
       "      dtype='object')"
      ]
     },
     "execution_count": 42,
     "metadata": {},
     "output_type": "execute_result"
    }
   ],
   "source": [
    "vehicles = vehicles.rename(columns = {'id_vehicule' : 'id_veh' , 'num_veh' : 'num_veh' ,\n",
    "                           'senc' : 'direction' , 'catv' : 'cat_veh', 'obs' : 'obstacle', 'obsm' : 'obstacle_movable' ,\n",
    "                          'choc' : 'initial_point' , 'manv' : 'principal_maneuver' , 'motor' : 'motor_veh', 'occutc' : 'num_occupants'})\n",
    "vehicles.columns"
   ]
  },
  {
   "cell_type": "markdown",
   "id": "a0a3f132",
   "metadata": {
    "papermill": {
     "duration": 0.033001,
     "end_time": "2023-02-03T11:33:52.860579",
     "exception": false,
     "start_time": "2023-02-03T11:33:52.827578",
     "status": "completed"
    },
    "tags": []
   },
   "source": [
    "### Check of the variables with the most missing values"
   ]
  },
  {
   "cell_type": "markdown",
   "id": "f4211405",
   "metadata": {
    "papermill": {
     "duration": 0.028034,
     "end_time": "2023-02-03T11:33:52.918608",
     "exception": false,
     "start_time": "2023-02-03T11:33:52.890574",
     "status": "completed"
    },
    "tags": []
   },
   "source": [
    "Variable num_occupants is representing amount of passangers being victims of an accident when they used public transport system. Missing values are caused by not recording value 0 and keeping the cell empty. For this reason we decided to replace the missing values by 0."
   ]
  },
  {
   "cell_type": "code",
   "execution_count": 43,
   "id": "a4ea4973",
   "metadata": {
    "execution": {
     "iopub.execute_input": "2023-02-03T11:33:52.980120Z",
     "iopub.status.busy": "2023-02-03T11:33:52.979122Z",
     "iopub.status.idle": "2023-02-03T11:33:53.064596Z",
     "shell.execute_reply": "2023-02-03T11:33:53.063747Z"
    },
    "papermill": {
     "duration": 0.117485,
     "end_time": "2023-02-03T11:33:53.067592",
     "exception": false,
     "start_time": "2023-02-03T11:33:52.950107",
     "status": "completed"
    },
    "tags": []
   },
   "outputs": [
    {
     "data": {
      "text/plain": [
       "0"
      ]
     },
     "execution_count": 43,
     "metadata": {},
     "output_type": "execute_result"
    }
   ],
   "source": [
    "vehicles[\"num_occupants\"] = vehicles[\"num_occupants\"].fillna(0)\n",
    "vehicles['num_occupants'].isna().sum()"
   ]
  },
  {
   "cell_type": "code",
   "execution_count": 44,
   "id": "89424485",
   "metadata": {
    "execution": {
     "iopub.execute_input": "2023-02-03T11:33:53.119607Z",
     "iopub.status.busy": "2023-02-03T11:33:53.118611Z",
     "iopub.status.idle": "2023-02-03T11:33:53.156820Z",
     "shell.execute_reply": "2023-02-03T11:33:53.155816Z"
    },
    "papermill": {
     "duration": 0.068229,
     "end_time": "2023-02-03T11:33:53.159821",
     "exception": false,
     "start_time": "2023-02-03T11:33:53.091592",
     "status": "completed"
    },
    "tags": []
   },
   "outputs": [
    {
     "data": {
      "text/plain": [
       "0.0      1901517\n",
       "1.0         7079\n",
       "2.0         1033\n",
       "10.0         654\n",
       "3.0          544\n",
       "          ...   \n",
       "97.0           1\n",
       "73.0           1\n",
       "102.0          1\n",
       "82.0           1\n",
       "78.0           1\n",
       "Name: num_occupants, Length: 124, dtype: int64"
      ]
     },
     "execution_count": 44,
     "metadata": {},
     "output_type": "execute_result"
    }
   ],
   "source": [
    "vehicles['num_occupants'].value_counts()"
   ]
  },
  {
   "cell_type": "markdown",
   "id": "19ec6fdf",
   "metadata": {
    "papermill": {
     "duration": 0.027005,
     "end_time": "2023-02-03T11:33:53.215829",
     "exception": false,
     "start_time": "2023-02-03T11:33:53.188824",
     "status": "completed"
    },
    "tags": []
   },
   "source": [
    "Variables motor_veh and id_veh represents type of the motorisation of the vehicle. There are 85% missing values in this column. Some of the values of this variable dont specificate exact type but are tracked as unspecified, unknown, other. We have decided to drop this variable as it doesnt have any significant influence on the target variable. "
   ]
  },
  {
   "cell_type": "code",
   "execution_count": 45,
   "id": "67779ced",
   "metadata": {
    "execution": {
     "iopub.execute_input": "2023-02-03T11:33:53.268148Z",
     "iopub.status.busy": "2023-02-03T11:33:53.267157Z",
     "iopub.status.idle": "2023-02-03T11:33:53.394838Z",
     "shell.execute_reply": "2023-02-03T11:33:53.392836Z"
    },
    "papermill": {
     "duration": 0.158683,
     "end_time": "2023-02-03T11:33:53.398830",
     "exception": false,
     "start_time": "2023-02-03T11:33:53.240147",
     "status": "completed"
    },
    "tags": []
   },
   "outputs": [],
   "source": [
    "vehicles = vehicles.drop(columns=['motor_veh','id_veh'])"
   ]
  },
  {
   "cell_type": "markdown",
   "id": "3501aaa0",
   "metadata": {
    "papermill": {
     "duration": 0.026001,
     "end_time": "2023-02-03T11:33:53.448304",
     "exception": false,
     "start_time": "2023-02-03T11:33:53.422303",
     "status": "completed"
    },
    "tags": []
   },
   "source": [
    "8 Variables have <= 1% missing information, so for those it should be fine to set the missing information just to zero."
   ]
  },
  {
   "cell_type": "code",
   "execution_count": 46,
   "id": "8ffcc949",
   "metadata": {
    "execution": {
     "iopub.execute_input": "2023-02-03T11:33:53.507357Z",
     "iopub.status.busy": "2023-02-03T11:33:53.506312Z",
     "iopub.status.idle": "2023-02-03T11:33:54.131293Z",
     "shell.execute_reply": "2023-02-03T11:33:54.129290Z"
    },
    "papermill": {
     "duration": 0.656876,
     "end_time": "2023-02-03T11:33:54.134289",
     "exception": false,
     "start_time": "2023-02-03T11:33:53.477413",
     "status": "completed"
    },
    "tags": []
   },
   "outputs": [
    {
     "data": {
      "text/plain": [
       "Num_Acc               0\n",
       "direction             0\n",
       "cat_veh               0\n",
       "num_occupants         0\n",
       "obstacle              0\n",
       "obstacle_movable      0\n",
       "initial_point         0\n",
       "principal_maneuver    0\n",
       "num_veh               0\n",
       "dtype: int64"
      ]
     },
     "execution_count": 46,
     "metadata": {},
     "output_type": "execute_result"
    }
   ],
   "source": [
    "vehicles[['Num_Acc', 'direction', 'cat_veh', 'obstacle', 'obstacle_movable', 'initial_point', 'principal_maneuver']] = vehicles[['Num_Acc', 'direction', 'cat_veh', 'obstacle', 'obstacle_movable', 'initial_point', 'principal_maneuver']].fillna(0)\n",
    "vehicles.isna().sum()"
   ]
  },
  {
   "cell_type": "markdown",
   "id": "7563ad29",
   "metadata": {
    "papermill": {
     "duration": 0.022994,
     "end_time": "2023-02-03T11:33:54.185294",
     "exception": false,
     "start_time": "2023-02-03T11:33:54.162300",
     "status": "completed"
    },
    "tags": []
   },
   "source": [
    "# Merge all datasets"
   ]
  },
  {
   "cell_type": "markdown",
   "id": "7da93579",
   "metadata": {
    "papermill": {
     "duration": 0.025539,
     "end_time": "2023-02-03T11:33:54.236845",
     "exception": false,
     "start_time": "2023-02-03T11:33:54.211306",
     "status": "completed"
    },
    "tags": []
   },
   "source": [
    "## Compute the percentage of missing data"
   ]
  },
  {
   "cell_type": "code",
   "execution_count": 47,
   "id": "f5c8aa46",
   "metadata": {
    "execution": {
     "iopub.execute_input": "2023-02-03T11:33:54.292830Z",
     "iopub.status.busy": "2023-02-03T11:33:54.292830Z",
     "iopub.status.idle": "2023-02-03T11:34:00.166405Z",
     "shell.execute_reply": "2023-02-03T11:34:00.164405Z"
    },
    "papermill": {
     "duration": 5.909615,
     "end_time": "2023-02-03T11:34:00.171454",
     "exception": false,
     "start_time": "2023-02-03T11:33:54.261839",
     "status": "completed"
    },
    "tags": []
   },
   "outputs": [],
   "source": [
    "outer_df = characteristics.merge(right=places, how='outer').merge(users, how='outer').merge(vehicles, how='outer')"
   ]
  },
  {
   "cell_type": "code",
   "execution_count": 48,
   "id": "97d9a8ee",
   "metadata": {
    "execution": {
     "iopub.execute_input": "2023-02-03T11:34:00.264702Z",
     "iopub.status.busy": "2023-02-03T11:34:00.263701Z",
     "iopub.status.idle": "2023-02-03T11:34:07.481123Z",
     "shell.execute_reply": "2023-02-03T11:34:07.480121Z"
    },
    "papermill": {
     "duration": 7.263702,
     "end_time": "2023-02-03T11:34:07.484122",
     "exception": false,
     "start_time": "2023-02-03T11:34:00.220420",
     "status": "completed"
    },
    "tags": []
   },
   "outputs": [
    {
     "name": "stdout",
     "output_type": "stream",
     "text": [
      "number of rows:........4763230\n",
      "number of variables:...50\n"
     ]
    },
    {
     "data": {
      "text/plain": [
       "Num_Acc                    0.000000\n",
       "year                       0.000000\n",
       "month                      0.000000\n",
       "day                        0.000000\n",
       "hhmm                       0.000000\n",
       "daylight                   0.000000\n",
       "built-up_area              0.000000\n",
       "intersection_category      0.000000\n",
       "atmospheric_conditions     0.000000\n",
       "collision_category         0.000000\n",
       "municipality               0.000336\n",
       "adress                    14.200448\n",
       "gps_origin                56.132162\n",
       "latitude                  42.305830\n",
       "longitude                 42.306250\n",
       "department                 0.000000\n",
       "date                       0.000000\n",
       "day_of_week                0.000000\n",
       "is_weekend                 0.000000\n",
       "Rd_Cat                     0.000000\n",
       "Traf_Direct                0.000000\n",
       "Lanes                      0.000000\n",
       "Landmark                   0.000000\n",
       "Dist_to_Landmark           0.000000\n",
       "Add_Lanes                  0.000000\n",
       "Rd_Prof                    0.000000\n",
       "Rd_Plan                    0.000000\n",
       "Gre_Verge                  0.000000\n",
       "Rd_Width                   0.000000\n",
       "Rd_Cond                    0.000000\n",
       "Envinmt                    0.000000\n",
       "Pos_Acc                    0.000000\n",
       "place                      0.000000\n",
       "User_category              0.000000\n",
       "Severity                   0.000000\n",
       "Sex                        0.000000\n",
       "Trajectory                 0.000000\n",
       "LOCP                       0.000000\n",
       "ACTP                       0.000000\n",
       "StateP                     0.000000\n",
       "YoB                        0.000000\n",
       "Security                   0.000000\n",
       "direction                  0.000000\n",
       "cat_veh                    0.000000\n",
       "num_occupants              0.000000\n",
       "obstacle                   0.000000\n",
       "obstacle_movable           0.000000\n",
       "initial_point              0.000000\n",
       "principal_maneuver         0.000000\n",
       "num_veh                    0.000000\n",
       "dtype: float64"
      ]
     },
     "execution_count": 48,
     "metadata": {},
     "output_type": "execute_result"
    }
   ],
   "source": [
    "print(f'number of rows:........{outer_df.shape[0]}')\n",
    "print(f'number of variables:...{outer_df.shape[1]}')\n",
    "na_percentage(outer_df)"
   ]
  },
  {
   "cell_type": "markdown",
   "id": "4e3a5487",
   "metadata": {
    "papermill": {
     "duration": 0.023537,
     "end_time": "2023-02-03T11:34:07.533670",
     "exception": false,
     "start_time": "2023-02-03T11:34:07.510133",
     "status": "completed"
    },
    "tags": []
   },
   "source": [
    "## Left Join for further investigations\n",
    "We will continue working with the left join of the data, as the missing lines miss the most important variables anyway."
   ]
  },
  {
   "cell_type": "code",
   "execution_count": 49,
   "id": "2fc3798c",
   "metadata": {
    "execution": {
     "iopub.execute_input": "2023-02-03T11:34:07.587664Z",
     "iopub.status.busy": "2023-02-03T11:34:07.586673Z",
     "iopub.status.idle": "2023-02-03T11:34:24.504027Z",
     "shell.execute_reply": "2023-02-03T11:34:24.503013Z"
    },
    "papermill": {
     "duration": 16.948333,
     "end_time": "2023-02-03T11:34:24.508017",
     "exception": false,
     "start_time": "2023-02-03T11:34:07.559684",
     "status": "completed"
    },
    "tags": []
   },
   "outputs": [
    {
     "name": "stdout",
     "output_type": "stream",
     "text": [
      "<class 'pandas.core.frame.DataFrame'>\n",
      "Int64Index: 4763230 entries, 0 to 4763229\n",
      "Data columns (total 50 columns):\n",
      " #   Column                  Dtype         \n",
      "---  ------                  -----         \n",
      " 0   Num_Acc                 int64         \n",
      " 1   year                    int64         \n",
      " 2   month                   int64         \n",
      " 3   day                     int64         \n",
      " 4   hhmm                    int64         \n",
      " 5   daylight                int64         \n",
      " 6   built-up_area           int64         \n",
      " 7   intersection_category   int64         \n",
      " 8   atmospheric_conditions  float64       \n",
      " 9   collision_category      float64       \n",
      " 10  municipality            object        \n",
      " 11  adress                  object        \n",
      " 12  gps_origin              object        \n",
      " 13  latitude                object        \n",
      " 14  longitude               object        \n",
      " 15  department              object        \n",
      " 16  date                    datetime64[ns]\n",
      " 17  day_of_week             int64         \n",
      " 18  is_weekend              int32         \n",
      " 19  Rd_Cat                  int32         \n",
      " 20  Traf_Direct             int32         \n",
      " 21  Lanes                   int32         \n",
      " 22  Landmark                int32         \n",
      " 23  Dist_to_Landmark        int32         \n",
      " 24  Add_Lanes               int32         \n",
      " 25  Rd_Prof                 int32         \n",
      " 26  Rd_Plan                 int32         \n",
      " 27  Gre_Verge               int32         \n",
      " 28  Rd_Width                int32         \n",
      " 29  Rd_Cond                 int32         \n",
      " 30  Envinmt                 int32         \n",
      " 31  Pos_Acc                 int32         \n",
      " 32  place                   int32         \n",
      " 33  User_category           int64         \n",
      " 34  Severity                int64         \n",
      " 35  Sex                     int64         \n",
      " 36  Trajectory              int32         \n",
      " 37  LOCP                    int32         \n",
      " 38  ACTP                    int32         \n",
      " 39  StateP                  int32         \n",
      " 40  YoB                     int32         \n",
      " 41  Security                int64         \n",
      " 42  direction               float64       \n",
      " 43  cat_veh                 int64         \n",
      " 44  num_occupants           float64       \n",
      " 45  obstacle                float64       \n",
      " 46  obstacle_movable        float64       \n",
      " 47  initial_point           float64       \n",
      " 48  principal_maneuver      float64       \n",
      " 49  num_veh                 object        \n",
      "dtypes: datetime64[ns](1), float64(8), int32(20), int64(14), object(7)\n",
      "memory usage: 1.5+ GB\n",
      "None\n"
     ]
    },
    {
     "name": "stdout",
     "output_type": "stream",
     "text": [
      "Num_Acc                    0.000000\n",
      "year                       0.000000\n",
      "month                      0.000000\n",
      "day                        0.000000\n",
      "hhmm                       0.000000\n",
      "daylight                   0.000000\n",
      "built-up_area              0.000000\n",
      "intersection_category      0.000000\n",
      "atmospheric_conditions     0.000000\n",
      "collision_category         0.000000\n",
      "municipality               0.000336\n",
      "adress                    14.200448\n",
      "gps_origin                56.132162\n",
      "latitude                  42.305830\n",
      "longitude                 42.306250\n",
      "department                 0.000000\n",
      "date                       0.000000\n",
      "day_of_week                0.000000\n",
      "is_weekend                 0.000000\n",
      "Rd_Cat                     0.000000\n",
      "Traf_Direct                0.000000\n",
      "Lanes                      0.000000\n",
      "Landmark                   0.000000\n",
      "Dist_to_Landmark           0.000000\n",
      "Add_Lanes                  0.000000\n",
      "Rd_Prof                    0.000000\n",
      "Rd_Plan                    0.000000\n",
      "Gre_Verge                  0.000000\n",
      "Rd_Width                   0.000000\n",
      "Rd_Cond                    0.000000\n",
      "Envinmt                    0.000000\n",
      "Pos_Acc                    0.000000\n",
      "place                      0.000000\n",
      "User_category              0.000000\n",
      "Severity                   0.000000\n",
      "Sex                        0.000000\n",
      "Trajectory                 0.000000\n",
      "LOCP                       0.000000\n",
      "ACTP                       0.000000\n",
      "StateP                     0.000000\n",
      "YoB                        0.000000\n",
      "Security                   0.000000\n",
      "direction                  0.000000\n",
      "cat_veh                    0.000000\n",
      "num_occupants              0.000000\n",
      "obstacle                   0.000000\n",
      "obstacle_movable           0.000000\n",
      "initial_point              0.000000\n",
      "principal_maneuver         0.000000\n",
      "num_veh                    0.000000\n",
      "dtype: float64\n"
     ]
    }
   ],
   "source": [
    "df = characteristics.merge(right=places, how='left').merge(users, how='left').merge(vehicles, how='left')\n",
    "print(df.info())\n",
    "print(na_percentage(df))"
   ]
  },
  {
   "cell_type": "markdown",
   "id": "d68243ee",
   "metadata": {
    "papermill": {
     "duration": 0.027256,
     "end_time": "2023-02-03T11:34:24.570289",
     "exception": false,
     "start_time": "2023-02-03T11:34:24.543033",
     "status": "completed"
    },
    "tags": []
   },
   "source": [
    "## Correlation of the feature variables with the target"
   ]
  },
  {
   "cell_type": "code",
   "execution_count": 50,
   "id": "9a57f215",
   "metadata": {
    "execution": {
     "iopub.execute_input": "2023-02-03T11:34:24.635423Z",
     "iopub.status.busy": "2023-02-03T11:34:24.634320Z",
     "iopub.status.idle": "2023-02-03T11:34:45.501552Z",
     "shell.execute_reply": "2023-02-03T11:34:45.496556Z"
    },
    "papermill": {
     "duration": 20.907241,
     "end_time": "2023-02-03T11:34:45.509519",
     "exception": false,
     "start_time": "2023-02-03T11:34:24.602278",
     "status": "completed"
    },
    "tags": []
   },
   "outputs": [
    {
     "name": "stderr",
     "output_type": "stream",
     "text": [
      "C:\\Users\\kayla\\AppData\\Local\\Temp\\ipykernel_16656\\3770494046.py:1: FutureWarning: The default value of numeric_only in DataFrame.corr is deprecated. In a future version, it will default to False. Select only valid columns or specify the value of numeric_only to silence this warning.\n",
      "  cm=df.corr()\n"
     ]
    },
    {
     "data": {
      "text/plain": [
       "User_category             0.203119\n",
       "StateP                    0.147429\n",
       "ACTP                      0.143357\n",
       "LOCP                      0.142972\n",
       "Sex                       0.101969\n",
       "YoB                       0.100717\n",
       "place                     0.078687\n",
       "obstacle                  0.062497\n",
       "Rd_Cat                    0.034756\n",
       "Pos_Acc                   0.028925\n",
       "daylight                  0.027997\n",
       "built-up_area             0.021544\n",
       "collision_category        0.019927\n",
       "Rd_Plan                   0.019036\n",
       "is_weekend                0.009012\n",
       "direction                 0.007623\n",
       "Rd_Cond                   0.006172\n",
       "day_of_week               0.004734\n",
       "cat_veh                   0.003973\n",
       "Num_Acc                   0.002645\n",
       "year                      0.002645\n",
       "intersection_category     0.002267\n",
       "Rd_Prof                   0.001582\n",
       "day                       0.000327\n",
       "Landmark                  0.000044\n",
       "Add_Lanes                -0.001454\n",
       "month                    -0.001969\n",
       "num_occupants            -0.003095\n",
       "Envinmt                  -0.003566\n",
       "atmospheric_conditions   -0.004386\n",
       "principal_maneuver       -0.010182\n",
       "Lanes                    -0.010330\n",
       "Gre_Verge                -0.012584\n",
       "hhmm                     -0.013168\n",
       "Rd_Width                 -0.015995\n",
       "Traf_Direct              -0.020037\n",
       "initial_point            -0.021247\n",
       "Dist_to_Landmark         -0.024880\n",
       "Trajectory               -0.034785\n",
       "obstacle_movable         -0.042330\n",
       "Security                 -0.063417\n",
       "Name: Severity, dtype: float64"
      ]
     },
     "execution_count": 50,
     "metadata": {},
     "output_type": "execute_result"
    }
   ],
   "source": [
    "cm=df.corr()\n",
    "cm[\"Severity\"].sort_values(ascending=False)[1:]"
   ]
  },
  {
   "cell_type": "markdown",
   "id": "d7276dbd",
   "metadata": {
    "papermill": {
     "duration": 0.05998,
     "end_time": "2023-02-03T11:34:45.629110",
     "exception": false,
     "start_time": "2023-02-03T11:34:45.569130",
     "status": "completed"
    },
    "tags": []
   },
   "source": [
    "The list shows the correlation between each variables and the target variable. Note: The decision whether a variable is important or not has to be based on the absolute value of the correlation."
   ]
  },
  {
   "cell_type": "markdown",
   "id": "84ba5cc2",
   "metadata": {
    "papermill": {
     "duration": 0.039997,
     "end_time": "2023-02-03T11:34:45.713651",
     "exception": false,
     "start_time": "2023-02-03T11:34:45.673654",
     "status": "completed"
    },
    "tags": []
   },
   "source": [
    "# Export DataFrame to Pickle \n",
    "This step is necessary to be able to work with the data in another notebook."
   ]
  },
  {
   "cell_type": "code",
   "execution_count": 51,
   "id": "9e938b54",
   "metadata": {
    "execution": {
     "iopub.execute_input": "2023-02-03T11:34:45.792868Z",
     "iopub.status.busy": "2023-02-03T11:34:45.791874Z",
     "iopub.status.idle": "2023-02-03T11:34:50.914901Z",
     "shell.execute_reply": "2023-02-03T11:34:50.912902Z"
    },
    "papermill": {
     "duration": 5.165236,
     "end_time": "2023-02-03T11:34:50.918908",
     "exception": false,
     "start_time": "2023-02-03T11:34:45.753672",
     "status": "completed"
    },
    "tags": []
   },
   "outputs": [],
   "source": [
    "df.to_pickle('../data/df.p')"
   ]
  },
  {
   "cell_type": "markdown",
   "id": "610b6b91",
   "metadata": {
    "papermill": {
     "duration": 0.028456,
     "end_time": "2023-02-03T11:34:50.978358",
     "exception": false,
     "start_time": "2023-02-03T11:34:50.949902",
     "status": "completed"
    },
    "tags": []
   },
   "source": [
    "The pickle file is too big to track on github, we will therefore create a second file which contains the output of the describe-method as well as the number of nans for each column and the dtypes of the DataFrame."
   ]
  },
  {
   "cell_type": "code",
   "execution_count": 52,
   "id": "11597780",
   "metadata": {
    "execution": {
     "iopub.execute_input": "2023-02-03T11:34:51.052362Z",
     "iopub.status.busy": "2023-02-03T11:34:51.051365Z",
     "iopub.status.idle": "2023-02-03T11:35:01.630738Z",
     "shell.execute_reply": "2023-02-03T11:35:01.628742Z"
    },
    "papermill": {
     "duration": 10.619373,
     "end_time": "2023-02-03T11:35:01.634731",
     "exception": false,
     "start_time": "2023-02-03T11:34:51.015358",
     "status": "completed"
    },
    "tags": []
   },
   "outputs": [],
   "source": [
    "df_check_info = pyfra.df_testing_info(df)\n",
    "df_check_info.to_csv('../data/df_check_info.csv')"
   ]
  }
 ],
 "metadata": {
  "jupytext": {
   "cell_metadata_filter": "-LanguageId",
   "formats": "ipynb,py:light",
   "main_language": "python",
   "notebook_metadata_filter": "-kernelspec"
  },
  "language_info": {
   "codemirror_mode": {
    "name": "ipython",
    "version": 3
   },
   "file_extension": ".py",
   "mimetype": "text/x-python",
   "name": "python",
   "nbconvert_exporter": "python",
   "pygments_lexer": "ipython3",
   "version": "3.10.9"
  },
  "papermill": {
   "default_parameters": {},
   "duration": 114.695715,
   "end_time": "2023-02-03T11:35:04.318605",
   "environment_variables": {},
   "exception": null,
   "input_path": "pyfra_nb_2.ipynb",
   "output_path": "pyfra_nb_2.ipynb",
   "parameters": {},
   "start_time": "2023-02-03T11:33:09.622890",
   "version": "2.4.0"
  }
 },
 "nbformat": 4,
 "nbformat_minor": 5
}